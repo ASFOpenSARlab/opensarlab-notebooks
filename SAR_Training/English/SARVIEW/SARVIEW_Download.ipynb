{
 "cells": [
  {
   "cell_type": "markdown",
   "id": "fc1b77c8-23b3-43bc-8e04-9d8613a3eb1b",
   "metadata": {},
   "source": [
    "## SARVIEW get info and download to specific files"
   ]
  },
  {
   "cell_type": "markdown",
   "id": "e07da7aa-a486-40b5-b6a2-2fbc45fb169e",
   "metadata": {},
   "source": [
    "This helper notebook will introduce you on how to use the SARVIEW. Furthermore, it will also allow you to move the SARVIEW python file without using the CLI."
   ]
  },
  {
   "cell_type": "code",
   "execution_count": null,
   "id": "3df79b48-fe21-417c-a96a-cd30c846ca10",
   "metadata": {},
   "outputs": [],
   "source": [
    "import url_widget as url_w\n",
    "notebookUrl = url_w.URLWidget()\n",
    "display(notebookUrl)"
   ]
  },
  {
   "cell_type": "code",
   "execution_count": null,
   "id": "ac4c9068-8df8-469a-98d2-09823546b9bc",
   "metadata": {},
   "outputs": [],
   "source": [
    "from IPython.display import Markdown\n",
    "from IPython.display import display\n",
    "\n",
    "notebookUrl = notebookUrl.value\n",
    "user = !echo $JUPYTERHUB_USER\n",
    "env = !echo $CONDA_PREFIX\n",
    "if env[0] == '':\n",
    "    env[0] = 'Python 3 (base)'\n",
    "if env[0] != '/home/jovyan/.local/envs/rtc_analysis':\n",
    "    display(Markdown(f'<text style=color:red><strong>WARNING:</strong></text>'))\n",
    "    display(Markdown(f'<text style=color:red>This notebook should be run using the \"rtc_analysis\" conda environment.</text>'))\n",
    "    display(Markdown(f'<text style=color:red>It is currently using the \"{env[0].split(\"/\")[-1]}\" environment.</text>'))\n",
    "    display(Markdown(f'<text style=color:red>Select the \"rtc_analysis\" from the \"Change Kernel\" submenu of the \"Kernel\" menu.</text>'))\n",
    "    display(Markdown(f'<text style=color:red>If the \"rtc_analysis\" environment is not present, use <a href=\"{notebookUrl.split(\"/user\")[0]}/user/{user[0]}/notebooks/conda_environments/Create_OSL_Conda_Environments.ipynb\"> Create_OSL_Conda_Environments.ipynb </a> to create it.</text>'))\n",
    "    display(Markdown(f'<text style=color:red>Note that you must restart your server after creating a new environment before it is usable by notebooks.</text>'))"
   ]
  },
  {
   "cell_type": "code",
   "execution_count": null,
   "id": "c40fb72f-0732-4188-ab47-93b4e96b9a6c",
   "metadata": {},
   "outputs": [],
   "source": [
    "from ipyfilechooser import FileChooser\n",
    "from pathlib import Path\n",
    "import opensarlab_lib as asfn\n",
    "from hyp3_sdk import Batch, HyP3"
   ]
  },
  {
   "cell_type": "markdown",
   "id": "a5d137db-db86-4501-86b0-96b8b0b0b30c",
   "metadata": {},
   "source": [
    "## 1. Login"
   ]
  },
  {
   "cell_type": "markdown",
   "id": "5de9b8d6-b593-4987-a80c-9f4a84284bd9",
   "metadata": {},
   "source": [
    "Go to [ASF Search website](https://search.asf.alaska.edu/#/). Once you are at the website, login (or make an account)."
   ]
  },
  {
   "cell_type": "markdown",
   "id": "80bb4b69-2757-45e1-9b1f-396747121013",
   "metadata": {},
   "source": [
    "## 2. Pick an Event"
   ]
  },
  {
   "cell_type": "markdown",
   "id": "a1bbc5ce-379b-450d-95d5-e1393368b7f9",
   "metadata": {},
   "source": [
    "Once you log in, choose *Event* from top left-hand corner. \n",
    "![1 - choose sarview](SARVIEW_img/1_event.PNG)\n",
    "\n",
    "You will notice many symbols on maps. Choose any that suffice your need.\n",
    "![2 - map symbol](SARVIEW_img/2_map_legend.PNG)\n",
    "\n",
    "Once you pick the symbol, you notice that there are more options at the bottom.\n",
    "![3 - panel](SARVIEW_img/3_SARVIEWS_panel.PNG)"
   ]
  },
  {
   "cell_type": "markdown",
   "id": "54177760-0ee6-4854-a374-a9b7fef8f739",
   "metadata": {},
   "source": [
    "## 3. Select your items"
   ]
  },
  {
   "cell_type": "markdown",
   "id": "3f65ed1f-922e-4810-9ad6-08b8cb98d1de",
   "metadata": {},
   "source": [
    "Select the images that you wish to keep. You can do this by:\n",
    "1. Clicking shopping cart mark located at the right of image you are interested (marked as 1 on image).\n",
    "2. Then clicking *Downloads* located on top right-hand corner (marked as 2 on image).\n",
    "![4 - select](SARVIEW_img/4_select.PNG)"
   ]
  },
  {
   "cell_type": "markdown",
   "id": "1108f413-5c2c-4bb5-b0e4-99d249108a0f",
   "metadata": {},
   "source": [
    "## 4. Download Python File"
   ]
  },
  {
   "cell_type": "markdown",
   "id": "0f3e06ee-2599-4d23-a592-768a099043f0",
   "metadata": {},
   "source": [
    "It will prompt you a panel that lets you download the python file. Click *Data Download* and then choose *Download Python Script (.py)*.\n",
    "![5 - download](SARVIEW_img/5_download.PNG)"
   ]
  },
  {
   "cell_type": "markdown",
   "id": "6f7a1e69-84f1-4a1e-98a9-7d8a0d41ee34",
   "metadata": {},
   "source": [
    "## 5. Upload to OpenSAR"
   ]
  },
  {
   "cell_type": "markdown",
   "id": "1170c01b-8dea-468d-b912-1303a13826e8",
   "metadata": {},
   "source": [
    "When you successfully downloaded your python file, upload them to OpenSAR lab. You can do this by pressing up-arrow button located on top left-hand corner of OpenSAR lab.\n",
    "\n",
    "![6 - upload](SARVIEW_img/6_upload.PNG)\n",
    "\n",
    "It will prompt you to select file that you wish to upload. Select the python file that you just downloaded.\n",
    "\n",
    "![7 - choose script](SARVIEW_img/7_choose_script.PNG)"
   ]
  },
  {
   "cell_type": "markdown",
   "id": "8b25ef5e-77fd-47af-9bfa-004dd3a6831d",
   "metadata": {},
   "source": [
    "## 6. Run the Python File"
   ]
  },
  {
   "cell_type": "markdown",
   "id": "0a54549f-80df-4374-b4bf-fa8be697f952",
   "metadata": {},
   "source": [
    "Make sure you know where you uploaded your python file:"
   ]
  },
  {
   "cell_type": "code",
   "execution_count": null,
   "id": "f042d003-6752-4517-9d79-7a62fa5dc6f0",
   "metadata": {},
   "outputs": [],
   "source": [
    "print(\"Do you know where your python script is located?\")\n",
    "\n",
    "option = asfn.select_parameter(['yes', 'no'], '')\n",
    "display(option)"
   ]
  },
  {
   "cell_type": "code",
   "execution_count": null,
   "id": "16f3771a-ee52-4c19-b2c7-8e7df935f543",
   "metadata": {},
   "outputs": [],
   "source": [
    "res = option.value"
   ]
  },
  {
   "cell_type": "markdown",
   "id": "a1a70cd8-7ff0-4b5e-9f80-b5127605ce29",
   "metadata": {},
   "source": [
    "If you happen to forget where you uploaded the python script, run below cell and it will output the path to your python files.\n",
    "\n",
    "**NB: Use this as a last resort as it may take a while to find location of your python file.**"
   ]
  },
  {
   "cell_type": "code",
   "execution_count": null,
   "id": "16cbf07c-2318-4cc3-8494-5c11bdf766e9",
   "metadata": {},
   "outputs": [],
   "source": [
    "if res == 'no':\n",
    "    rt = Path('/home/jovyan')\n",
    "    py_files = list(rt.rglob('[!.]*/download-*.py'))\n",
    "\n",
    "    print(\"Please choose the file you are looking for: \")\n",
    "    option = asfn.select_parameter(py_files, '')\n",
    "    display(option)"
   ]
  },
  {
   "cell_type": "code",
   "execution_count": null,
   "id": "54b5d256-87a9-4d4b-8f7a-420a8c4b53df",
   "metadata": {},
   "outputs": [],
   "source": [
    "if res == 'no':\n",
    "    scriptPath = py_files[py_files.index(option.value)]\n",
    "    print(scriptPath)"
   ]
  },
  {
   "cell_type": "markdown",
   "id": "949e2be1-466f-462c-8b58-e0993d181743",
   "metadata": {},
   "source": [
    "Right-click your python file and select *Copy Path* option to obtain path to your python script:\n",
    "\n",
    "![8 - copy path](SARVIEW_img/8_copy_path.PNG)"
   ]
  },
  {
   "cell_type": "code",
   "execution_count": null,
   "id": "58633ae3-f31e-46ed-b1d9-430f81a0540f",
   "metadata": {},
   "outputs": [],
   "source": [
    "if res == 'yes':\n",
    "    scriptPath = input('Enter the path to your python script: ')\n",
    "    scriptPath = Path('/home/jovyan/')/scriptPath"
   ]
  },
  {
   "cell_type": "markdown",
   "id": "65dd1b90-3190-44c1-9422-3a64caa98999",
   "metadata": {},
   "source": [
    "At this point, you should know where you uploaded your python script to OpenSAR. If you wish to move your python file to some other directory, you can do so with cells below.\n",
    "\n",
    "*NB: Since you're choosing destination directory, make sure your output for next cell is green.* "
   ]
  },
  {
   "cell_type": "code",
   "execution_count": null,
   "id": "a006abad-25c4-4f1d-b345-fd1271ae810f",
   "metadata": {},
   "outputs": [],
   "source": [
    "print(\"Would you like to move your python script to somewhere else?\")\n",
    "\n",
    "option = asfn.select_parameter(['yes', 'no'], '')\n",
    "display(option)"
   ]
  },
  {
   "cell_type": "code",
   "execution_count": null,
   "id": "afc8317a-87f5-4c8d-90da-c6f54aeb543b",
   "metadata": {},
   "outputs": [],
   "source": [
    "res = option.value"
   ]
  },
  {
   "cell_type": "code",
   "execution_count": null,
   "id": "84b5e388-9ad2-4ef5-8f30-d8d5461292fa",
   "metadata": {},
   "outputs": [],
   "source": [
    "if res == 'yes':\n",
    "    print(\"Please choose a directory that you wish to move to. Make sure you don't have any file extension (i.e. output color should be green)\")\n",
    "\n",
    "    fc = FileChooser('/home/jovyan/notebooks/SAR_Training/English')\n",
    "    display(fc)"
   ]
  },
  {
   "cell_type": "code",
   "execution_count": null,
   "id": "4944ed5d-27f3-4a89-a8b4-4d14b251195a",
   "metadata": {},
   "outputs": [],
   "source": [
    "if res == 'yes':\n",
    "    fc_path = Path(fc.selected_path)\n",
    "\n",
    "    ! mv {scriptPath} {fc_path}\n",
    "    scriptPath = fc_path/f'{scriptPath.stem}.py'"
   ]
  },
  {
   "cell_type": "markdown",
   "id": "0ca6c5f0-99f9-42ef-94c0-477aa4bb0994",
   "metadata": {},
   "source": [
    "**NB: When you move item to different directory via this notebook, you may not see the change immedieately. You may refresh this page to see that the script has moved.**"
   ]
  },
  {
   "cell_type": "code",
   "execution_count": null,
   "id": "e227e4e9-a137-4985-ae64-9246b6965b19",
   "metadata": {},
   "outputs": [],
   "source": [
    "print('Your directory path is: ', scriptPath)\n",
    "\n",
    "if Path(scriptPath).exists():\n",
    "    print('Python file you chose exists.')\n",
    "else:\n",
    "    print('Python file you chose does not exist. Please verify your path to make sure you have valid script.')"
   ]
  },
  {
   "cell_type": "markdown",
   "id": "13bde6e7-e1ce-4e8b-b358-03234b4b6dc1",
   "metadata": {},
   "source": [
    "## 7. Download Data"
   ]
  },
  {
   "cell_type": "markdown",
   "id": "c5ed4c90-0ace-4a11-ad69-20eb3dbc3808",
   "metadata": {},
   "source": [
    "Now that you know where your python file is, you can start downloading data from your python script. "
   ]
  },
  {
   "cell_type": "markdown",
   "id": "ee1dfa49-13fc-4cbe-91b2-9ec3e115a951",
   "metadata": {},
   "source": [
    "**Select a location on where you would like to store your data. Make sure the result is colored in green.**\n",
    "\n",
    "*NB: If you want to store in same place as this notebook, press `Select` twice.*"
   ]
  },
  {
   "cell_type": "code",
   "execution_count": null,
   "id": "06d5d01e-cb66-41e5-ab3b-ea1c34233308",
   "metadata": {},
   "outputs": [],
   "source": [
    "fc = FileChooser(f'{Path.cwd()}')\n",
    "display(fc)"
   ]
  },
  {
   "cell_type": "markdown",
   "id": "264ef468-8f43-4de0-949b-2f03aa2da600",
   "metadata": {},
   "source": [
    "**Enter a name of directory you wish to make. (Optional)**"
   ]
  },
  {
   "cell_type": "code",
   "execution_count": null,
   "id": "4a6896a0-0a34-47a3-b4e3-9de92fd2d2db",
   "metadata": {},
   "outputs": [],
   "source": [
    "download_path = Path(fc.selected_path)\n",
    "\n",
    "print(\"Would you like to make directory to store your downloaded data?\")\n",
    "\n",
    "option = asfn.select_parameter(['yes', 'no'], '')\n",
    "display(option)"
   ]
  },
  {
   "cell_type": "code",
   "execution_count": null,
   "id": "fc8f7b4c-7360-4240-bd12-61d50ed3820c",
   "metadata": {},
   "outputs": [],
   "source": [
    "res = option.value"
   ]
  },
  {
   "cell_type": "code",
   "execution_count": null,
   "id": "c19346fb-2629-4acf-95c1-c3c8222e9a1a",
   "metadata": {},
   "outputs": [],
   "source": [
    "if res == 'yes':\n",
    "    print('Warning: Please avoid using spaces and/or special characters other than underscores and hyphen.')\n",
    "    new_dir = input('Enter a name for your new directory: ')\n",
    "\n",
    "    download_path = Path(fc.selected_path)/new_dir"
   ]
  },
  {
   "cell_type": "markdown",
   "id": "59cfe9a0-3042-4585-8f74-b3aa3c8f91c4",
   "metadata": {},
   "source": [
    "**Check if you already have directories with same name**"
   ]
  },
  {
   "cell_type": "code",
   "execution_count": null,
   "id": "2b5ac9a8-9b5d-42e7-93dd-443bbb251d41",
   "metadata": {},
   "outputs": [],
   "source": [
    "if res == 'yes':\n",
    "    if download_path.exists():\n",
    "        print(\"Directory with same name exists. Would you like to empty this one or make new directory with different name?\")\n",
    "        option = asfn.select_parameter(['Make new directory with different name.', 'Empty current directory.'], '')\n",
    "        display(option)"
   ]
  },
  {
   "cell_type": "code",
   "execution_count": null,
   "id": "a2c50e72-e43d-4506-a366-54ffdcac6599",
   "metadata": {},
   "outputs": [],
   "source": [
    "if res == 'yes':\n",
    "    if download_path.exists():\n",
    "        if 'Empty' in option.value:\n",
    "            !rm -rf {download_path}\n",
    "        else:\n",
    "            new_dir = input('Enter a name for your new directory: ')\n",
    "            download_path = Path(fc.selected_path)/new_dir"
   ]
  },
  {
   "cell_type": "code",
   "execution_count": null,
   "id": "dc4a313f-7efe-48e3-9b5f-49e06b4ee241",
   "metadata": {},
   "outputs": [],
   "source": [
    "if res == 'yes':\n",
    "    !mkdir {download_path}"
   ]
  },
  {
   "cell_type": "markdown",
   "id": "6f75e87a-2669-4bca-a40b-ecb033fa0cf3",
   "metadata": {},
   "source": [
    "**Authenticate and download SARVIEW data.**"
   ]
  },
  {
   "cell_type": "code",
   "execution_count": null,
   "id": "9da4ddf1-5d9e-4137-916a-a87488a7b286",
   "metadata": {},
   "outputs": [],
   "source": [
    "%run -i {scriptPath}"
   ]
  },
  {
   "cell_type": "markdown",
   "id": "30633541-e2a3-4936-bf60-ce426889a549",
   "metadata": {},
   "source": [
    "**Move the downloaded data to directory you just made.**\n",
    "\n",
    "*NB:* It will download to current directory if you did not make a directory."
   ]
  },
  {
   "cell_type": "code",
   "execution_count": null,
   "id": "7e84664a-8479-4fb1-a9fc-58f37d80b04b",
   "metadata": {},
   "outputs": [],
   "source": [
    "downloaded_zips = Path.cwd().glob('S*.zip')\n",
    "\n",
    "for d in downloaded_zips:\n",
    "    !mv {d} {download_path}"
   ]
  },
  {
   "cell_type": "markdown",
   "id": "417c6458-4d39-4d71-8c82-84b5d7a3f593",
   "metadata": {},
   "source": [
    "**Run below to get path to directory that contains data that you just downloaded.**"
   ]
  },
  {
   "cell_type": "code",
   "execution_count": null,
   "id": "b9f0dabf-01b3-45f4-9ab3-83f74384575f",
   "metadata": {},
   "outputs": [],
   "source": [
    "print(download_path)"
   ]
  }
 ],
 "metadata": {
  "kernelspec": {
   "display_name": "rtc_analysis",
   "language": "python",
   "name": "conda-env-.local-rtc_analysis-py"
  },
  "language_info": {
   "codemirror_mode": {
    "name": "ipython",
    "version": 3
   },
   "file_extension": ".py",
   "mimetype": "text/x-python",
   "name": "python",
   "nbconvert_exporter": "python",
   "pygments_lexer": "ipython3",
   "version": "3.9.10"
  }
 },
 "nbformat": 4,
 "nbformat_minor": 5
}
