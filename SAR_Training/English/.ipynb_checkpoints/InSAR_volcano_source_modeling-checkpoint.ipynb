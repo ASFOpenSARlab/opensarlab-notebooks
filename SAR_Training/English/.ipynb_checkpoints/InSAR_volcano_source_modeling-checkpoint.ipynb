{
 "cells": [
  {
   "cell_type": "markdown",
   "metadata": {},
   "source": [
    "<img src=\"NotebookAddons/blackboard-banner.jpg\" width=\"100%\" />\n",
    "<font face=\"Calibri\">\n",
    "<br>\n",
    "\n",
    "<font size=\"5\"> <b>Volcano Source Modeling Using InSAR</b> </font>\n",
    "\n",
    "<br>\n",
    "<font size=\"4\"> <b> Franz J Meyer; University of Alaska Fairbanks </b> <br>\n",
    "</font>\n",
    "\n",
    "<img style=\"padding: 7px\" src=\"NotebookAddons/UAFLogo_A_647.png\" width=\"170\" align=\"right\" /> <font size=\"3\"> This notebook will introduce you to the intersection between Radar Remote Sensing and Inverse Modeling. Radar Remote Sensing can provide us with geodetic observations of surface deformation. Inverse Modeling helps us understand the physical causes behind an observed deformation. \n",
    "    \n",
    "To illuminate the handoff from geodesy to geophysics, this notebook will show how to use InSAR observations to determine the most likely parameters of a volcanic magma source underneath Okmok volcano, Alaska. We will use a Mogi source model to describe the physics behind deformation at Okmok. We will again use our **Jupyter Notebook** framework implemented within the Amazon Web Services (AWS) cloud to work on this exercise. <br><br>\n",
    "\n",
    "This notebook will introduce the following data analysis concepts:\n",
    "\n",
    "- A Mogi Source Model describing volcanic source geometry and physics\n",
    "- How to use the \"grid search\" method to perform a pseudo-inversion of a Mogi source model \n",
    "- How to solve for the best fitting source parameters using modeling with InSAR data\n",
    "</font>\n",
    "<br>\n",
    "<font size=\"3\">To download, please select the following options in the main menu of the notebook interface:\n",
    "<br>\n",
    "<ol type=\"1\">\n",
    "  <li><font color='rgba(200,0,0,0.2)'> <b> Save your notebook with all of its content</b></font> by selecting <i> File / Save and Checkpoint </i> </li>\n",
    "  <li><font color='rgba(200,0,0,0.2)'> <b>To export in Notebook format</b></font>, click on <i>File / Download as / Notebook (.ipynb)</i></li>\n",
    "  <li><font color='rgba(200,0,0,0.2)'> <b>To export in PDF format</b></font>, click on <i>File / Download as / PDF vs LaTeX (.pdf) </i></li>\n",
    "</ol>\n",
    "\n",
    "</font>\n",
    "\n",
    "</font>"
   ]
  },
  {
   "cell_type": "markdown",
   "metadata": {},
   "source": [
    "<hr>\n",
    "<font face=\"Calibri\" size=\"5\" color=\"red\"> <b>Important Note about JupyterHub</b> </font>\n",
    "<br><br>\n",
    "<font face=\"Calibri\" size=\"3\"> <b>Your JupyterHub server will automatically shutdown when left idle for more than 1 hour. Your notebooks will not be lost but you will have to restart their kernels and re-run them from the beginning. You will not be able to seamlessly continue running a partially run notebook.</b> </font>\n"
   ]
  },
  {
   "cell_type": "markdown",
   "metadata": {},
   "source": [
    "<hr>\n",
    "<font face=\"Calibri\">\n",
    "\n",
    "<font size=\"5\"> <b> 0. Importing Relevant Python Packages </b> </font>\n",
    "\n",
    "<font size=\"3\"> First step in any notebook is to import the required Python libraries into the Jupyter environment. In this notebooks we use the following scientific libraries:\n",
    "<ol type=\"1\">\n",
    "    <li> <b><a href=\"http://www.numpy.org/\" target=\"_blank\">NumPy</a></b> is one of the principal packages for scientific applications of Python. It is intended for processing large multidimensional arrays. </li>\n",
    "    <li> <b><a href=\"https://matplotlib.org/index.html\" target=\"_blank\">Matplotlib</a></b> is a low-level library for creating two-dimensional diagrams and graphs. With its help, you can build diverse charts, from histograms and scatterplots to non-Cartesian coordinates graphs. </li>\n",
    "</font>\n",
    "<br>\n",
    "<font face=\"Calibri\" size=\"3\">The first step is to <b>import all required python modules:</b></font>"
   ]
  },
  {
   "cell_type": "code",
   "execution_count": null,
   "metadata": {},
   "outputs": [],
   "source": [
    "import os # for chdir, getcwd, path.basename, path.exists\n",
    "import subprocess # for check_call\n",
    "\n",
    "import matplotlib.pylab as plt # for add_subplot, cm.jet, colorbar, figure, grid, imshow, rcParams.update, savefig,\n",
    "                               # set_bad, set_clim, set_title, set_xlabel, set_ylabel\n",
    "import numpy as np # for arange, arctan, concatenate, cos, fromfile, isnan, ma.masked_value, min, pi, power, reshape,\n",
    "                   # sqrt, square, sin, sum, tile, transpose, where, zeros     \n",
    "\n",
    "from asf_notebook import path_exists\n",
    "from asf_notebook import new_directory"
   ]
  },
  {
   "cell_type": "markdown",
   "metadata": {},
   "source": [
    "<font face=\"Calibri\" size=\"3\"><b>set up matplotlib plotting</b> inside the notebook:</font>"
   ]
  },
  {
   "cell_type": "code",
   "execution_count": null,
   "metadata": {},
   "outputs": [],
   "source": [
    "%matplotlib inline"
   ]
  },
  {
   "cell_type": "markdown",
   "metadata": {},
   "source": [
    "<hr>\n",
    "<font face=\"Calibri\">\n",
    "\n",
    "<font size=\"5\"> <b> 1. InSAR at Okmok Volcano, Alaska </b> </font>  \n",
    "\n",
    "<img style=\"padding: 7px\" src=\"NotebookAddons/Lab6-OkmokdefoGPS.JPG\" width=\"550\" align=\"right\" /><font size=\"3\"> Okmok is one of the more active volcanoes in Alaska’s Aleutian Chain. Its last (known) eruption was in the summer of 2008. Okmok is interesting from an InSAR perspective as it inflates and deflates heavily as magma moves around in its magmatic source located roughly 2.5 km underneath the surface. To learn more about Okmok volcano and its eruptive history, please visit the very informative site of the <a href=\"https://avo.alaska.edu/volcanoes/activity.php?volcname=Okmok&eruptionid=604&page=basic\" target=\"_blank\">Alaska Volcano Observatory</a>.\n",
    "\n",
    "This notebook uses a pair of C-band ERS-2 SAR images acquired on Aug 18, 2000 and Jul 19, 2002 to analyze the properties of a volcanic source that was responsible for an inflation of Okmok volcano of more than 3 cm near its summit. The figure to the right shows the Okmok surface deformation as measured by GPS data from field campaigns conducted in 2000 and 2002. The plots show that the deformation measured at the site is consistent with that created by an inflating point (Mogi) source.<br> \n",
    "\n",
    "<b>The primary goal of the problem set is to estimate values for four unknown model parameters describing a source process beneath a volcano.</b> The notebook uses real InSAR data from Okmok volcano, so you should get some sense for how remote sensing can be used to infer physical processes at volcanoes. We will assume that the source can be modeled as an inflating point source (a so-called Mogi source; see <a href=\"https://radar.community.uaf.edu/files/2019/03/2019-Lecture14_UsingInSARinGeophysics.pdf\" target=\"_blank\">Lecture 14</a>) and will use a grid-search method for finding the source model parameters (3D source location and volume of magma influx) that best describe our InSAR-observed surface deformation.\n",
    "</font>\n",
    "</font>"
   ]
  },
  {
   "cell_type": "markdown",
   "metadata": {},
   "source": [
    "<hr>\n",
    "<font face=\"Calibri\" size=\"5\"> <b> 2. Download and Plot the Observed Deformation Map </b>  \n",
    "    \n",
    "<font face=\"Calibri\" size=\"4\"> <b> 2.1 Download Data from AWS S3 Storage Bucket</b><br>\n",
    "<font size=\"3\"> We are using a deformation map created from C-band ERS-2 SAR images acquired on Aug 18, 2000 and Jul 19, 2002. The deformation map is <b>available to you on the Class AWS S3 data storage bucket:</b> </font>"
   ]
  },
  {
   "cell_type": "markdown",
   "metadata": {},
   "source": [
    "<font face=\"Calibri\" size=\"3\"><b>Create a working directory for this analysis and change into it.</b></font>"
   ]
  },
  {
   "cell_type": "code",
   "execution_count": null,
   "metadata": {},
   "outputs": [],
   "source": [
    "path = \"/home/jovyan/notebooks/SAR_Training/English/data_InSAR_volcano_source_modeling\"\n",
    "new_directory(path)\n",
    "os.chdir(path)\n",
    "print(f\"Current working directory: {os.getcwd()}\")"
   ]
  },
  {
   "cell_type": "markdown",
   "metadata": {},
   "source": [
    "<font face=\"Calibri\" size=\"3\"><b>Download the deformation map from the AWS-S3 bucket:</b></font>"
   ]
  },
  {
   "cell_type": "code",
   "execution_count": null,
   "metadata": {},
   "outputs": [],
   "source": [
    "deformation_map_path = 's3://asf-jupyter-data/E451_20000818_20020719.unw'\n",
    "deformation_map = os.path.basename(deformation_map_path)\n",
    "subprocess.check_call(['aws', 's3', 'cp',  deformation_map_path, deformation_map])"
   ]
  },
  {
   "cell_type": "markdown",
   "metadata": {},
   "source": [
    "<font face=\"Calibri\" size=\"3\"><b>Define some variables:</b></font>"
   ]
  },
  {
   "cell_type": "code",
   "execution_count": null,
   "metadata": {},
   "outputs": [],
   "source": [
    "sample = 1100\n",
    "line = 980\n",
    "posting = 40.0\n",
    "half_wave = 28.3"
   ]
  },
  {
   "cell_type": "markdown",
   "metadata": {},
   "source": [
    "<font face=\"Calibri\" size=\"3\"><b>Read the dataset into the notebook</b>, storing our observed deformation map in the variable <i>\"observed_deformation_map\"</i>: </font>"
   ]
  },
  {
   "cell_type": "code",
   "execution_count": null,
   "metadata": {},
   "outputs": [],
   "source": [
    "if path_exists(deformation_map):\n",
    "    with open (deformation_map, 'rb') as f:    \n",
    "        coh = np.fromfile(f, dtype='>f', count=-1)\n",
    "    observed_deformation_map = np.reshape(coh, (line, sample))"
   ]
  },
  {
   "cell_type": "markdown",
   "metadata": {},
   "source": [
    "<font face=\"Calibri\" size=\"3\"><b>Change the units to cm and replace all nans with 0</b></font>"
   ]
  },
  {
   "cell_type": "code",
   "execution_count": null,
   "metadata": {},
   "outputs": [],
   "source": [
    "observed_deformation_map = observed_deformation_map*half_wave/2.0/np.pi\n",
    "where_are_NaNs = np.isnan(observed_deformation_map)\n",
    "observed_deformation_map[where_are_NaNs] = 0"
   ]
  },
  {
   "cell_type": "markdown",
   "metadata": {},
   "source": [
    "<font face=\"Calibri\" size=\"3\"> <b>Create a mask</b> that removes invalid samples (low coherence) from the deformation map: </font>"
   ]
  },
  {
   "cell_type": "code",
   "execution_count": null,
   "metadata": {},
   "outputs": [],
   "source": [
    "observed_deformation_map_m = np.ma.masked_where(observed_deformation_map==0, observed_deformation_map)"
   ]
  },
  {
   "cell_type": "markdown",
   "metadata": {},
   "source": [
    "<hr>\n",
    "<font face=\"Calibri\" size=\"4\"> <b> 2.2 Visualize The Deformation Map </b>  \n",
    "\n",
    "<font size=\"3\"> We will visualize the deformation map both in units of [cm] and as a rewrapped interferogram.</font>\n",
    "<br><br>\n",
    "<font size=\"3\"><b>Write a function that calculates the bounding box.</b></font>"
   ]
  },
  {
   "cell_type": "code",
   "execution_count": null,
   "metadata": {},
   "outputs": [],
   "source": [
    "def extents(vector_component):\n",
    "        delta = vector_component[1] - vector_component[0]\n",
    "        return [vector_component[0] - delta/2, vector_component[-1] + delta/2]"
   ]
  },
  {
   "cell_type": "markdown",
   "metadata": {},
   "source": [
    "<font face=\"Calibri\" size=\"3\"><b>Create a directory in which to store the plots we are about to make, and move into it:</b></font> "
   ]
  },
  {
   "cell_type": "code",
   "execution_count": null,
   "metadata": {},
   "outputs": [],
   "source": [
    "os.chdir(path)\n",
    "product_path = 'plots'\n",
    "new_directory(product_path)\n",
    "if path_exists(product_path) and os.getcwd() != f\"{path}/{product_path}\":\n",
    "    os.chdir(product_path)\n",
    "print(f\"Current working directory: {os.getcwd()}\")"
   ]
  },
  {
   "cell_type": "markdown",
   "metadata": {},
   "source": [
    "<font size=\"3\"><b>Write a plotting function</b>:</font>"
   ]
  },
  {
   "cell_type": "code",
   "execution_count": null,
   "metadata": {},
   "outputs": [],
   "source": [
    "def plot_model(infile, line, sample, posting, output_filename=None, dpi=72):\n",
    "    # Calculate the bounding box\n",
    "    extent_xvec = extents((np.arange(1, sample*posting, posting)) / 1000)\n",
    "    extent_yvec = extents((np.arange(1, line*posting, posting)) / 1000)\n",
    "    extent_xy = extent_xvec + extent_yvec\n",
    "    \n",
    "    plt.rcParams.update({'font.size': 14})\n",
    "    inwrapped = (infile/10 + np.pi) % (2*np.pi) - np.pi\n",
    "    cmap = plt.cm.jet\n",
    "    cmap.set_bad('white', 1.)\n",
    "    \n",
    "    # Plot displacement\n",
    "    fig = plt.figure(figsize=(16, 8))\n",
    "    ax1 = fig.add_subplot(1, 2, 1)\n",
    "    im = ax1.imshow(infile, interpolation='nearest', cmap=cmap, extent=extent_xy, origin='upper')\n",
    "    cbar = ax1.figure.colorbar(im, ax=ax1, orientation='horizontal')\n",
    "    ax1.set_title(\"Displacement in look direction [mm]\")\n",
    "    ax1.set_xlabel(\"Easting [km]\")\n",
    "    ax1.set_ylabel(\"Northing [km]\")\n",
    "    plt.grid()\n",
    "    \n",
    "    # Plot interferogram\n",
    "    im.set_clim(-30, 30)\n",
    "    ax2 = fig.add_subplot(1, 2, 2)\n",
    "    im = ax2.imshow(inwrapped, interpolation='nearest', cmap=cmap, extent=extent_xy, origin='upper')\n",
    "    cbar = ax2.figure.colorbar(im, ax=ax2, orientation='horizontal')\n",
    "    ax2.set_title(\"Interferogram phase [rad]\")\n",
    "    ax2.set_xlabel(\"Easting [km]\")\n",
    "    ax2.set_ylabel(\"Northing [km]\")\n",
    "    plt.grid()\n",
    "    \n",
    "    if output_filename:\n",
    "        plt.savefig(output_filename, dpi=dpi)"
   ]
  },
  {
   "cell_type": "markdown",
   "metadata": {},
   "source": [
    "<font face=\"Calibri\" size=\"3\">Call plot_model() to <b>plot our observed deformation map:</b> </font>"
   ]
  },
  {
   "cell_type": "code",
   "execution_count": null,
   "metadata": {},
   "outputs": [],
   "source": [
    "plot_model(observed_deformation_map_m, line, sample, posting, output_filename='Okmok-inflation-observation.png', dpi=200)"
   ]
  },
  {
   "cell_type": "markdown",
   "metadata": {},
   "source": [
    "<hr>\n",
    "<font face=\"Calibri\" size=\"5\"> <b> 3. The Mogi Source Model and InSAR</b>  \n",
    "    \n",
    "<font face=\"Calibri\" size=\"4\"> <b> 3.1 The Mogi Equations</b><br>\n",
    "<font size=\"3\"> The Mogi model provides the 3D ground displacement, $u(x,y,z)$, due to an inflating source at location $(x_s,y_s,z_s)$ with volume change $V$:\n",
    "\n",
    "\\begin{equation}\n",
    "u(x,y,z)=\\frac{1}{\\pi}(1-\\nu)\\cdot V\\Big(\\frac{x-x_s}{r(x,y,z)^3},\\frac{y-y_s}{r(x,y,z)^3},\\frac{z-z_s}{r(x,y,z)^3}\\Big)\n",
    "\\end{equation}\n",
    "<br>\n",
    "\\begin{equation}\n",
    "r(x,y,z)=\\sqrt{(x-x_s)^2+(y-y_s)^2+(z-z_s)^2}\n",
    "\\end{equation}\n",
    "\n",
    "where $r$ is the distance from the Mogi source to $(x,y,z)$, and $\\nu$ is the Poisson's ratio of the halfspace. The Poisson ratio describes how rocks react when put under stress (e.g., pressure). It is affected by temperature, the quantity of liquid to solid, and the composition of the soil material. <b>In our problem, we will assume that $\\nu$ is fixed</b>. \n",
    " </font>"
   ]
  },
  {
   "cell_type": "markdown",
   "metadata": {},
   "source": [
    "<hr>\n",
    "<font face=\"Calibri\" size=\"4\"> <b> 3.2 Projecting Mogi Deformation to InSAR Line-of-Sight</b><br>\n",
    "<font size=\"3\"> In our example, the $x$-axis points east, $y$ points north, and $z$ points up. However, in the code the input values for $z$ are assumed to be depth, such that the Mogi source is at depth $z_s > 0$. The observed interferogram is already corrected for the effect of topography, so the observations can be considered to be at $z = 0$.\n",
    "    \n",
    "<img style=\"padding: 7px\" src=\"NotebookAddons/Lab6-LOSprojection.JPG\" width=\"650\" align=\"center\" />\n",
    "The satellite “sees” a projection of the 3D ground displacement, $u$, onto the look vector, $\\hat{L}$, which points from the satellite to the target. Therefore, we are actually interested in the (signed magnitude of the) projection of $u$ onto $\\hat{L}$ (right). This is given by\n",
    "\n",
    "\\begin{array}{lcl} proj_{\\hat{L}}u & = & (u^T\\hat{L})\\hat{L} \\\\ u^T\\hat{L} & = & u \\cdot \\hat{L} = |u||\\hat{L}|cos(\\alpha) = |u|cos(\\alpha) \\\\ & = & u_x\\hat{L}_x+ u_y\\hat{L}_y + u_z\\hat{L}_z \\end{array}\n",
    "\n",
    "where the look vector is given by $\\hat{L}=(sin(l) \\cdot cos(t), -sin(l) \\cdot sin(t), -cos(l))$, where $l$ is the look angle measured from the nadir direction and $t$ is the satellite track angle measured clockwise from geographic north. All vectors are represented in an east-north-up basis.\n",
    "\n",
    "Our forward model takes a Mogi source, $(x_s,y_s,z_s,V)$, and computes the look displacement at any given $(x, y, z)$ point. If we represent the <i>i</i>th point on our surface grid by $x_i = (x_i,y_i,z_i)$ the the displacement vector is $u_i = u(x_i, y_i, z_i)$, and the look displacement is\n",
    "\n",
    "\\begin{equation}\n",
    "d_i = u_i \\cdot \\hat{L}\n",
    "\\end{equation}\n",
    "\n",
    "<br>\n",
    "<hr>\n",
    "<font size=\"4\"> <b> 3.3 Defining the Mogi Forward Model</b><br></font>\n",
    "<font size=\"3\">We can now represent the Mogi <i>forward problem</i> as \n",
    "\n",
    "\\begin{equation}\n",
    "g(m) = d\n",
    "\\end{equation}\n",
    "\n",
    "where $g(·)$ describes the forward model in the very first equation in this notebook, $m$ is the (unknown) Mogi model, and $d$ is the predicted interferogram. The following code cells calculate the Mogi forward model according to the equations given above:\n",
    "\n",
    "</font>\n"
   ]
  },
  {
   "cell_type": "markdown",
   "metadata": {},
   "source": [
    "<font face=\"Calibri\" size=\"3\"><b>Write a function to calculate a forward model for a Mogi source.</b> </font>"
   ]
  },
  {
   "cell_type": "code",
   "execution_count": null,
   "metadata": {},
   "outputs": [],
   "source": [
    "def calc_forward_model_mogi(n1, e1, depth, delta_volume, northing, easting, plook):\n",
    "    \n",
    "    # This geophysical coefficient is needed to describe how pressure relates to volume change\n",
    "    displacement_coefficient = (1e6*delta_volume*3)/(np.pi*4)\n",
    "    \n",
    "    # Calculating the horizontal distance from every point in the deformation map to the x/y source location\n",
    "    d_mat = np.sqrt(np.square(northing-n1) + np.square(easting-e1))\n",
    "    \n",
    "    # denominator of displacement field for mogi source\n",
    "    tmp_hyp = np.power(np.square(d_mat) + np.square(depth),1.5)\n",
    "    \n",
    "    # horizontal displacement\n",
    "    horizontal_displacement = displacement_coefficient * d_mat / tmp_hyp\n",
    "    \n",
    "    # vertical displacement\n",
    "    vertical_displacement = displacement_coefficient * depth / tmp_hyp\n",
    "    \n",
    "    # azimuthal angle\n",
    "    azimuth = np.arctan2((easting-e1), (northing-n1))\n",
    "    \n",
    "    # compute north and east displacement from horizontal displacement and azimuth angle\n",
    "    east_displacement = np.sin(azimuth) * horizontal_displacement\n",
    "    north_displacement = np.cos(azimuth) * horizontal_displacement\n",
    "    \n",
    "    # project displacement field onto look vector\n",
    "    temp = np.concatenate((east_displacement, north_displacement, vertical_displacement), axis=1)\n",
    "    delta_range = temp.dot(np.transpose([plook]))\n",
    "    delta_range = -1.0 * delta_range\n",
    "    return delta_range"
   ]
  },
  {
   "cell_type": "markdown",
   "metadata": {},
   "source": [
    "<font face=\"Calibri\" size=\"3\"><b>Write a function to create simulated deformation data based on Mogi Source Model parameters:</b> </font>"
   ]
  },
  {
   "cell_type": "code",
   "execution_count": null,
   "metadata": {},
   "outputs": [],
   "source": [
    "def deformation_data_from_mogi(x, y, z, volume, iplot, imask):\n",
    "    # Organizing model parameters\n",
    "    bvc = [x, y, z, volume, 0, 0, 0, 0]\n",
    "    bvc = np.transpose(bvc)\n",
    "    \n",
    "    # Setting acquisition parameters\n",
    "    track =  -13.3*np.pi / 180.0\n",
    "    look  = 23.0*np.pi / 180.0\n",
    "    plook = [-np.sin(look)*np.cos(track), np.sin(look)*np.sin(track), np.cos(look)]\n",
    "    \n",
    "    # Defining easting and northing vectors\n",
    "    northing = np.arange(0, (line)*posting, posting) / 1000\n",
    "    easting = np.arange(0, (sample)*posting, posting) / 1000\n",
    "    northing_mat = np.tile(northing, (sample, 1))\n",
    "    easting_mat = np.transpose(np.tile(easting, (line, 1)))\n",
    "    northing_vec = np.reshape(northing_mat, (line*sample, 1))\n",
    "    easting_vec = np.reshape(easting_mat, (line*sample, 1))\n",
    "    \n",
    "    # Handing coordinates and model parameters over to the rngchg_mogi function\n",
    "    calc_range = calc_forward_model_mogi(bvc[1], bvc[0], bvc[2], bvc[3], northing_vec, easting_vec, plook)\n",
    "    \n",
    "    # Reshaping surface deformation data derived via calc_forward_model_mogi()\n",
    "    surface_deformation = np.reshape(calc_range, (sample,line))\n",
    "    \n",
    "    # return rotated surface deformation\n",
    "    return np.transpose(np.fliplr(surface_deformation))"
   ]
  },
  {
   "cell_type": "markdown",
   "metadata": {},
   "source": [
    "<hr>\n",
    "<font face=\"Calibri\" size=\"4\"> <b> 3.4 Plotting The Mogi Forward Model</b><br></font>\n",
    "<font face=\"Calibri\" size=\"3\">The cell below plots several Mogi forward models by varying some of the four main Mogi modeling parameters $(x_s,y_s,z_s,V)$.\n",
    "    \n",
    "The examples below fix the <i>depth</i> parameter to $z_s = 2.58 km$ and the <i>volume</i> change parameter to $volume = 0.0034 km^3$. We then vary the <i>easting</i> and <i>northing</i> parameters $x_s$ and $y_s$ to demonstrate how the model predictions vary when model parameters are changed.</font>\n",
    "<br><br>\n",
    "<font face=\"Calibri\" size=\"3\"><b>Run the first example:</b> </font>"
   ]
  },
  {
   "cell_type": "code",
   "execution_count": null,
   "metadata": {
    "scrolled": false
   },
   "outputs": [],
   "source": [
    "plt.rcParams.update({'font.size': 14})\n",
    "extent_x = extents((np.arange(1, sample*posting, posting))/1000)\n",
    "extent_y = extents((np.arange(1, line*posting, posting))/1000)\n",
    "extent_xy = extent_x + extent_y\n",
    "xs = np.arange(18, 24.2, 0.4)\n",
    "ys = np.arange(20, 24.2, 0.4)\n",
    "\n",
    "zs = 2.58;\n",
    "volume = 0.0034;\n",
    "xa = [0, 7, 15]\n",
    "ya = [0 ,5, 10]\n",
    "\n",
    "fig = plt.figure(figsize=(18, 18))\n",
    "cmap = plt.cm.jet\n",
    "subplot_index = 1\n",
    "\n",
    "for k in xa:\n",
    "    for l in ya: \n",
    "        ax = fig.add_subplot(3, 3, subplot_index)\n",
    "        predicted_deformation_map = deformation_data_from_mogi(xs[k], ys[l], zs, volume, 0, 0)\n",
    "        predicted_deformation_map_m = np.ma.masked_where(observed_deformation_map==0, predicted_deformation_map)\n",
    "        im = ax.imshow(predicted_deformation_map_m, cmap=cmap, extent=extent_xy)\n",
    "        cbar = ax.figure.colorbar(im, ax=ax, orientation='horizontal')\n",
    "        plt.grid()\n",
    "        im.set_clim(-30, 30)\n",
    "        ax.plot(xs[k],ys[l], 'k*', markersize=25, markerfacecolor='w')\n",
    "        ax.set_title('Source: X=%4.2fkm; Y=%4.2fkm' % (xs[k], ys[l]))\n",
    "        ax.set_xlabel(\"Easting [km]\")\n",
    "        ax.set_ylabel(\"Northing [km]\")\n",
    "        subplot_index += 1\n",
    "        \n",
    "plt.savefig('Model-samples-3by3.png', dpi=200, transparent='false')"
   ]
  },
  {
   "cell_type": "markdown",
   "metadata": {},
   "source": [
    "<hr>\n",
    "<font face=\"Calibri\" size=\"5\"> <b> 4. Solving the [Pseudo]-Inverse Model</b><br></font>\n",
    "<font face=\"Calibri\" size=\"3\"> The inverse problem seeks to determine the optimal parameters $(\\hat{x_s},\\hat{y_s},\\hat{z_s},\\hat{V})$ of the Mogi model $m$ by minimizing the <i>misfit</i> between predictions, $g(m)$, and observations $d^{obs}$ according to\n",
    "    \n",
    "\\begin{equation}\n",
    "\\sum{\\Big[g(m) - d^{obs}\\Big]^2}\n",
    "\\end{equation}\n",
    "\n",
    "This equation describes misfit using the <i>method of least-squares</i>, a standard approach to approximate the solution of an overdetermined equation system. We will use a <i>grid-search</i> approach to find the set of model parameters that minimize the the misfit function. The approach is composed of the following processing steps: \n",
    "<ol>\n",
    "<li>Loop through the mogi model parameters,</li> \n",
    "<li>Calculate the forward model for each set of parameters,</li> \n",
    "<li>Calculate the misfit $\\sum{[g(m) - d^{obs}]^2}$, and</li> \n",
    "<li>Find the parameter set that minimizes this misfit.</li>\n",
    "</ol>\n",
    "</font>"
   ]
  },
  {
   "cell_type": "markdown",
   "metadata": {},
   "source": [
    "<hr>\n",
    "<font face=\"Calibri\" size=\"4\"> <b> 4.1 Experimenting with Misfit</b></font>\n",
    "<br><br>\n",
    "<font face=\"Calibri\" size=\"3\">Let's <b>look at the misfit $\\sum{[g(m) - d^{obs}]^2}$ for a number of different model parameter sets $(x_s,y_s,z_s,V)$:</b> \n",
    "\n",
    "</font>"
   ]
  },
  {
   "cell_type": "code",
   "execution_count": null,
   "metadata": {},
   "outputs": [],
   "source": [
    "plt.rcParams.update({'font.size': 14})\n",
    "extent_x = extents((np.arange(1, sample*posting, posting))/1000)\n",
    "extent_y = extents((np.arange(1, line*posting, posting))/1000)\n",
    "extent_xy = extent_x + extent_y\n",
    "xs = np.arange(18, 24.2, 0.4)\n",
    "ys = np.arange(20, 24.2, 0.4)\n",
    "\n",
    "zs = 2.58;\n",
    "volume = 0.0034;\n",
    "xa = [0, 7, 15]\n",
    "ya = [0 ,5, 10]\n",
    "\n",
    "fig = plt.figure(figsize=(18, 18))\n",
    "cmap = plt.cm.jet\n",
    "subplot_index = 1\n",
    "\n",
    "for k in xa:\n",
    "    for l in ya: \n",
    "        ax = fig.add_subplot(3, 3, subplot_index)\n",
    "        predicted_deformation_map = deformation_data_from_mogi(xs[k], ys[l], zs, volume, 0, 0)\n",
    "        predicted_deformation_map_m = np.ma.masked_where(observed_deformation_map==0, predicted_deformation_map)\n",
    "        im = ax.imshow(observed_deformation_map_m-predicted_deformation_map_m, cmap=cmap, extent=extent_xy)\n",
    "        cbar = ax.figure.colorbar(im, ax=ax, orientation='horizontal')\n",
    "        plt.grid()\n",
    "        im.set_clim(-30, 30)\n",
    "        ax.plot(xs[k], ys[l], 'k*', markersize=25, markerfacecolor='w')\n",
    "        ax.set_title('Source: X=%4.2fkm; Y=%4.2fkm' % (xs[k], ys[l]))\n",
    "        ax.set_xlabel(\"Easting [km]\")\n",
    "        ax.set_ylabel(\"Northing [km]\")\n",
    "        subplot_index += 1\n",
    "plt.savefig('Misfit-samples-3by3.png', dpi=200, transparent='false')"
   ]
  },
  {
   "cell_type": "markdown",
   "metadata": {},
   "source": [
    "<hr>\n",
    "<font face=\"Calibri\" size=\"4\"> <b> 4.2 Running Grid-Search to Find Best Fitting Model Parameters $(\\hat{x}_s,\\hat{y}_s)$</b><br></font>\n",
    "<font face=\"Calibri\" size=\"3\">The following code cell runs a grid-search approach to find the best fitting Mogi source parameters for the 2000-2002 deformation event at Okmok. To keep things simple, we will fix the depth $z_s$ and volume change $V$ parameters close to their \"true\" values and search only for the correct east/north source location ($x_s,y_s$).</font>\n",
    "<br><br>\n",
    "<font face=\"Calibri\" size=\"3\"><b>Write a script using the grid-search approach in Python:</b></font>"
   ]
  },
  {
   "cell_type": "code",
   "execution_count": null,
   "metadata": {},
   "outputs": [],
   "source": [
    "# FIX Z AND dV, SEARCH OVER X AND Y\n",
    "\n",
    "# Setting up search parameters\n",
    "xs = np.arange(19, 22.2, 0.2)\n",
    "ys = np.arange(21, 23.2, 0.2)\n",
    "zs = 2.58;\n",
    "volume = 0.0034;\n",
    "\n",
    "nx = xs.size\n",
    "ny = ys.size\n",
    "ng = nx * ny;\n",
    "\n",
    "print(f\"fixed z = {zs}km, dV = {volume}, searching over (x,y)\")\n",
    "\n",
    "misfit = np.zeros((nx, ny))\n",
    "subplot_index = 0\n",
    "\n",
    "# Commence grid-search for best model parameters\n",
    "for k, xv in enumerate(xs):\n",
    "    for l, yv in enumerate(ys):\n",
    "        subplot_index += 1\n",
    "        predicted_deformation_map = deformation_data_from_mogi(xs[k], ys[l], zs, volume, 0, 0)\n",
    "        predicted_deformation_map_m = np.ma.masked_where(observed_deformation_map==0, predicted_deformation_map)\n",
    "        misfit[k,l] = np.sum(np.square(observed_deformation_map_m - predicted_deformation_map_m))\n",
    "    print(f\"Source {subplot_index:3d}/{ng:3d} is x = {xs[k]:.2f} km, y = {ys[l]:.2f} km\")\n",
    "\n",
    "# Searching for the minimum in the misfit matrix\n",
    "mmf = np.where(misfit == np.min(misfit))\n",
    "print(f\"\\n----------------------------------------------------------------\")\n",
    "print('Best fitting Mogi Source located at: X = %5.2f km; Y = %5.2f km' % (xs[mmf[0]], ys[mmf[1]]))\n",
    "print(f\"----------------------------------------------------------------\")"
   ]
  },
  {
   "cell_type": "markdown",
   "metadata": {},
   "source": [
    "<hr>\n",
    "<font face=\"Calibri\" size=\"4\"> <b> 4.3 Plot and Inspect the Misfit Function</b><br></font>\n",
    "<font face=\"Calibri\" size=\"3\">The code cell below plots the misfit function ($\\sum{[g(m) - d^{obs}]^2}$) describing the fit of different Mogi source parameterizations to the observed InSAR data. You should notice a clear minimum in the misfit plot at the location of the best fitting source location estimated above. \n",
    "    \n",
    "You may notice that, even for the best fitting solution, the misfit does not become zero. This could be due to other signals in the InSAR data (e.g., atmospheric effects or residual topography). Alternatively, it could also indicate that the observed deformation doesn't fully comply with Mogi theory. \n",
    "</font>\n",
    "<br><br>\n",
    "<font face=\"Calibri\" size=\"3\"><b>Plot the misfit function ($\\sum{[g(m) - d^{obs}]^2}$):</b></font>"
   ]
  },
  {
   "cell_type": "code",
   "execution_count": null,
   "metadata": {},
   "outputs": [],
   "source": [
    "plt.rcParams.update({'font.size': 18})\n",
    "extent_xy = extents(xs) + extents(ys)\n",
    "fig = plt.figure(figsize=(10, 10))\n",
    "cmap = plt.cm.jet\n",
    "ax1 = fig.add_subplot(1, 1 ,1)\n",
    "im = ax1.imshow(np.transpose(misfit), origin='lower', cmap=cmap, extent=extent_xy)\n",
    "# USE THIS COMMAND TO CHANGE COLOR SCALING: im.set_clim(-30, 30)\n",
    "ax1.set_aspect('auto')\n",
    "cbar = ax1.figure.colorbar(im, ax=ax1, orientation='horizontal')\n",
    "ax1.plot(xs[mmf[0]], ys[mmf[1]], 'k*', markersize=25, markerfacecolor='w')\n",
    "ax1.set_title(\"Misfit Function for Mogi-Source Approximation\")\n",
    "ax1.set_xlabel(\"Easting [km]\")\n",
    "ax1.set_ylabel(\"Northing [km]\")\n",
    "plt.savefig('Misfit-function.png', dpi=200, transparent='false')"
   ]
  },
  {
   "cell_type": "markdown",
   "metadata": {},
   "source": [
    "<hr>\n",
    "<font face=\"Calibri\" size=\"4\"> <b> 4.4 Plot Best-Fitting Mogi Forward Model and Compare to Observations</b><br></font>\n",
    "<font face=\"Calibri\" size=\"3\">With the best-fitting model parameters defined, you can now analyze how well the model fits the InSAR-observed surface deformation. The best way to do that is to look at both the observed and predicted deformation maps and compare their spatial patterns. Additionally, we will also plot the residuals (<i>observed_deformation_map</i> - <i>observed_deformation_map</i>) to determine if there are additional signals in the data that are not modeled using Mogi theory. \n",
    "</font>\n",
    "<br><br>\n",
    "<font face=\"Calibri\" size=\"3\"><b>Compare the observed and predicted deformation maps:</b></font>"
   ]
  },
  {
   "cell_type": "code",
   "execution_count": null,
   "metadata": {
    "scrolled": false
   },
   "outputs": [],
   "source": [
    "# Calculate predicted deformation map for best-fitting Mogi parameters:\n",
    "predicted_deformation_map = deformation_data_from_mogi(xs[mmf[0]], ys[mmf[1]], zs, volume, 0, 0)\n",
    "\n",
    "# Mask the predicted deformation map to remove pixels incoherent in the observations:\n",
    "predicted_deformation_map_m = np.ma.masked_where(observed_deformation_map==0, predicted_deformation_map)\n",
    "\n",
    "# Plot observed deformation map\n",
    "plot_model(observed_deformation_map_m, line, sample, posting)\n",
    "\n",
    "# Plot simulated deformation map\n",
    "plot_model(predicted_deformation_map_m, line, sample, posting)\n",
    "\n",
    "plt.savefig('BestFittingMogiDefo.png', dpi=200, transparent='false')\n",
    "\n",
    "# Plot simulated deformation map without mask applied\n",
    "plot_model(predicted_deformation_map, line, sample, posting)"
   ]
  },
  {
   "cell_type": "markdown",
   "metadata": {},
   "source": [
    "<font face=\"Calibri\" size=\"3\"><b>Determine if there are additional signals in the data that are not modeled using Mogi theory:</b></font>"
   ]
  },
  {
   "cell_type": "code",
   "execution_count": null,
   "metadata": {
    "scrolled": false
   },
   "outputs": [],
   "source": [
    "# Plot residual between observed and predicted deformation maps\n",
    "plot_model(observed_deformation_map_m-predicted_deformation_map_m, line, sample, posting)\n",
    "plt.savefig('Residuals-ObsMinusMogi.png', dpi=200, transparent='false')"
   ]
  },
  {
   "cell_type": "markdown",
   "metadata": {},
   "source": [
    "<font face=\"Calibri\" size=\"2\"> <i>GEOS 657 Microwave Remote Sensing - Version 1.0 - March 2019 </i>\n",
    "</font>"
   ]
  }
 ],
 "metadata": {
  "kernelspec": {
   "display_name": "Python 3",
   "language": "python",
   "name": "python3"
  },
  "language_info": {
   "codemirror_mode": {
    "name": "ipython",
    "version": 3
   },
   "file_extension": ".py",
   "mimetype": "text/x-python",
   "name": "python",
   "nbconvert_exporter": "python",
   "pygments_lexer": "ipython3",
   "version": "3.7.3"
  }
 },
 "nbformat": 4,
 "nbformat_minor": 2
}
