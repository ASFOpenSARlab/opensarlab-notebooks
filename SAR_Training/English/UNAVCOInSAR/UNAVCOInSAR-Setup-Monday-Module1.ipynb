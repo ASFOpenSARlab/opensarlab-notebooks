{
 "cells": [
  {
   "cell_type": "markdown",
   "metadata": {},
   "source": [
    "![UNAVCO Banner](UNAVCO-Banner.jpg)\n",
    "\n",
    "## **Setting Up Monday | Module #1 of UNAVCO InSAR Course**\n",
    "\n",
    "### **Instructors:**\n",
    "G. Funning<sup>1</sup> <br>\n",
    "<sup>1</sup>University of California, Riverside\n",
    "\n",
    "\n",
    "This notebook sets up some of the notebooks for UNAVCO InSAR Course **Module 1: Geophysical Modeling with InSAR/GNSS/Geodetic Data**. Relevant notebooks are pulled from the instructor's GitHub repository.\n",
    "    \n",
    "This first module of the UNAVCO InSAR Course will provide you with information needed to understand how geophysical processes affect surface deformation and what that deformation looks like in InSAR and GNSS observations. The module will conclude in a data processing exercise that can be found [here](./UNAVCOInSAR-Monday-HW2.ipynb). <br>\n",
    "\n",
    "---"
   ]
  },
  {
   "cell_type": "markdown",
   "metadata": {
    "heading_collapsed": true
   },
   "source": [
    "# 1. Import Necessary Notebooks and Other Materials from Github"
   ]
  },
  {
   "cell_type": "markdown",
   "metadata": {
    "hidden": true
   },
   "source": [
    "\n",
    "We are using ```git clone``` to copy the necessary information from GitHub. We will be cloning materials that cover the following topics:\n",
    "  \n",
    "- Interpreting InSAR [more information [here](https://github.com/geniusinaction/interpretingInSAR)]\n",
    "- Prepare InSAR Data [more information [here](https://github.com/geniusinaction/prepareInSARdata)]\n",
    "- The Okada Model in Python [more information [here](https://github.com/geniusinaction/okapy)]"
   ]
  },
  {
   "cell_type": "code",
   "execution_count": null,
   "metadata": {
    "hidden": true,
    "scrolled": true
   },
   "outputs": [],
   "source": [
    "from pathlib import Path\n",
    "\n",
    "path = Path(\"/home/jovyan/notebooks/SAR_Training/English/UNAVCOInSAR/Module1\")\n",
    "\n",
    "if not path.exists():\n",
    "    path.mkdir()\n",
    "    \n",
    "!git clone https://github.com/geniusinaction/interpretingInSAR.git  --depth 1 $path/InterpretingInSAR\n",
    "\n",
    "!git clone https://github.com/geniusinaction/prepareInSARdata.git --depth 1 $path/prepareInSARdata\n",
    "\n",
    "!git clone https://github.com/geniusinaction/okapy.git --depth 1 $path/okapy"
   ]
  },
  {
   "cell_type": "markdown",
   "metadata": {},
   "source": [
    "# 2. (Optional) Remove Environments"
   ]
  },
  {
   "cell_type": "markdown",
   "metadata": {},
   "source": [
    "To remove the envrionments you created, uncomment and run the cell below:\n",
    "\n",
    "WARNING: MAKE SURE TO SAVE ITEMS YOU WISH TO KEEP BEFORE RUNNING THIS CELL"
   ]
  },
  {
   "cell_type": "code",
   "execution_count": null,
   "metadata": {},
   "outputs": [],
   "source": [
    "# from shutil import rmtree\n",
    "\n",
    "# if path.exists():\n",
    "#     rmtree(path)"
   ]
  },
  {
   "cell_type": "markdown",
   "metadata": {
    "heading_collapsed": true
   },
   "source": [
    "# 3. Version Log"
   ]
  },
  {
   "cell_type": "markdown",
   "metadata": {
    "hidden": true
   },
   "source": [
    "*Version 1.1 - Rui Kawahara; 11/15/2021*\n",
    "\n",
    "*Recent Changes:*\n",
    "- *Used `pathlib` instead of `asfn` library to create directory*\n",
    "- *Added optional cell to remove files generated*\n",
    "- *`html` -> `os`*\n",
    "\n",
    "\n",
    "*Version 1.0 - Franz J Meyer; 8/06/2020*\n",
    "\n",
    "*Recent Changes:*\n",
    "- *First version of notebook*"
   ]
  }
 ],
 "metadata": {
  "kernelspec": {
   "display_name": "rtc_analysis [conda env:.local-rtc_analysis]",
   "language": "python",
   "name": "conda-env-.local-rtc_analysis-py"
  },
  "language_info": {
   "codemirror_mode": {
    "name": "ipython",
    "version": 3
   },
   "file_extension": ".py",
   "mimetype": "text/x-python",
   "name": "python",
   "nbconvert_exporter": "python",
   "pygments_lexer": "ipython3",
   "version": "3.9.16"
  }
 },
 "nbformat": 4,
 "nbformat_minor": 4
}
