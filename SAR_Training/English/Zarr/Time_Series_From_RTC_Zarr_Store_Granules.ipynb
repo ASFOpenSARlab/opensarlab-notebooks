{
 "cells": [
  {
   "cell_type": "markdown",
   "metadata": {
    "hide_input": false
   },
   "source": [
    "![OpenSARlab notebook banner](NotebookAddons/blackboard-banner.png)\n",
    "\n",
    "# Exploring SAR Data and SAR Time Series Analysis using Jupyter Notebooks\n",
    "\n",
    "### Franz J Meyer; University of Alaska Fairbanks, Josef Kellndorfer; [Earth Big Data, LLC](http://earthbigdata.com/), Alex Lewandowski; Alaska Satellite Facility\n",
    "\n",
    "<img src=\"NotebookAddons/UAFLogo_A_647.png\" width=\"170\" align=\"right\" />\n",
    "\n",
    "This notebook will introduce you to the analysis of deep multi-temporal SAR image data stacks in the framework of *Jupyter Notebooks*. The Jupyter Notebook environment is easy to launch in any web browser for interactive data exploration with provided or new training data. Notebooks are comprised of text written in a combination of executable python code and markdown formatting including latex style mathematical equations. Another advantage of Jupyter Notebooks is that they can easily be expanded, changed, and shared with new data sets or newly available time series steps. Therefore, they provide an excellent basis for collaborative and repeatable data analysis.\n",
    "\n",
    "**We introduce the following data analysis concepts:**\n",
    "\n",
    "- How to load your **Zarr-store** SAR data into Jupyter Notebooks and create a time series stack \n",
    "- How to apply calibration constants to covert initial digital number (DN) data into calibrated radar cross section information.\n",
    "- How to subset images and create a time series of your subset data.\n",
    "- How to explore the time-series information in SAR data stacks for environmental analysis."
   ]
  },
  {
   "cell_type": "markdown",
   "metadata": {},
   "source": [
    "---\n",
    "**Important Note about JupyterHub**\n",
    "\n",
    "Your JupyterHub server will automatically shutdown when left idle for more than 1 hour. Your notebooks will not be lost but you will have to restart their kernels and re-run them from the beginning. You will not be able to seamlessly continue running a partially run notebook."
   ]
  },
  {
   "cell_type": "code",
   "execution_count": 1,
   "metadata": {},
   "outputs": [
    {
     "data": {
      "application/vnd.jupyter.widget-view+json": {
       "model_id": "cb1cf0de890c479281ce2023977fda0b",
       "version_major": 2,
       "version_minor": 0
      },
      "text/plain": [
       "URLWidget()"
      ]
     },
     "metadata": {},
     "output_type": "display_data"
    }
   ],
   "source": [
    "import url_widget as url_w\n",
    "notebookUrl = url_w.URLWidget()\n",
    "display(notebookUrl)"
   ]
  },
  {
   "cell_type": "code",
   "execution_count": 2,
   "metadata": {
    "pycharm": {
     "name": "#%%\n"
    }
   },
   "outputs": [],
   "source": [
    "from IPython.display import Markdown\n",
    "from IPython.display import display\n",
    "\n",
    "notebookUrl = notebookUrl.value\n",
    "user = !echo $JUPYTERHUB_USER\n",
    "env = !echo $CONDA_PREFIX\n",
    "if env[0] == '':\n",
    "    env[0] = 'Python 3 (base)'\n",
    "if env[0] != '/home/jovyan/.local/envs/rtc_analysis':\n",
    "    display(Markdown(f'<text style=color:red><strong>WARNING:</strong></text>'))\n",
    "    display(Markdown(f'<text style=color:red>This notebook should be run using the \"rtc_analysis\" conda environment.</text>'))\n",
    "    display(Markdown(f'<text style=color:red>It is currently using the \"{env[0].split(\"/\")[-1]}\" environment.</text>'))\n",
    "    display(Markdown(f'<text style=color:red>Select the \"rtc_analysis\" from the \"Change Kernel\" submenu of the \"Kernel\" menu.</text>'))\n",
    "    display(Markdown(f'<text style=color:red>If the \"rtc_analysis\" environment is not present, use <a href=\"{notebookUrl.split(\"/user\")[0]}/user/{user[0]}/notebooks/conda_environments/Create_OSL_Conda_Environments.ipynb\"> Create_OSL_Conda_Environments.ipynb </a> to create it.</text>'))\n",
    "    display(Markdown(f'<text style=color:red>Note that you must restart your server after creating a new environment before it is usable by notebooks.</text>'))"
   ]
  },
  {
   "cell_type": "markdown",
   "metadata": {},
   "source": [
    "---\n",
    "## 0. Importing Relevant Python Packages\n",
    "\n",
    "In this notebook we will use the following scientific libraries:\n",
    "\n",
    "- [Pandas](https://pandas.pydata.org/) is a Python library that provides high-level data structures and a vast variety of tools for analysis. The great feature of this package is the ability to translate rather complex operations with data into one or two commands. Pandas contains many built-in methods for filtering and combining data, as well as the time-series functionality.\n",
    "- [GDAL](https://www.gdal.org/) is a software library for reading and writing raster and vector geospatial data formats. It includes a collection of programs tailored for geospatial data processing. Most modern GIS systems (such as ArcGIS or QGIS) use GDAL in the background.\n",
    "- [NumPy](http://www.numpy.org/) is one of the principal packages for scientific applications of Python. It is intended for processing large multidimensional arrays and matrices, and an extensive collection of high-level mathematical functions and implemented methods makes it possible to perform various operations with these objects. \n",
    "- [Matplotlib](https://matplotlib.org/index.html) is a low-level library for creating two-dimensional diagrams and graphs. With its help, you can build diverse charts, from histograms and scatterplots to non-Cartesian coordinates graphs. Moreover, many popular plotting libraries are designed to work in conjunction with matplotlib.\n",
    "- [SciPy](https://www.scipy.org/about.html) is a library that provides functions for numerical integration, interpolation, optimization, linear algebra and statistics.\n",
    "\n",
    "**Our first step is to import them:**"
   ]
  },
  {
   "cell_type": "code",
   "execution_count": 3,
   "metadata": {},
   "outputs": [],
   "source": [
    "# %%capture\n",
    "\n",
    "# TODO Add s3fs, xarray, and zarr to rtc_analysis_env.yml\n",
    "try:\n",
    "    import s3fs\n",
    "except:\n",
    "    !mamba install -c conda-forge -q s3fs --yes\n",
    "    import s3fs\n",
    "try:\n",
    "    import xarray as xr\n",
    "except:\n",
    "    !mamba install -c conda-forge -q xarray --yes\n",
    "    import xarray as xr\n",
    "try:\n",
    "    import zarr\n",
    "except:\n",
    "    # After installing zarr, you have to refresh your browser window \n",
    "    # and restart the notebook kernel before this notebook will run\n",
    "    !mamba install -c conda-forge -q zarr --yes\n",
    "    import zarr\n",
    "\n",
    "from pathlib import Path\n",
    "import json # for loads\n",
    "import math # for ceil\n",
    "\n",
    "import dask\n",
    "import pandas as pd # for DatetimeIndex\n",
    "import pyproj\n",
    "from osgeo import gdal # for Info\n",
    "import numpy as np \n",
    "import scipy.signal\n",
    "\n",
    "%matplotlib inline\n",
    "import matplotlib.pylab as plb # for figure, grid, rcParams, savefig\n",
    "import matplotlib.pyplot as plt\n",
    "from matplotlib import animation\n",
    "from matplotlib import rc\n",
    "\n",
    "from ipyfilechooser import FileChooser\n",
    "\n",
    "from IPython.display import HTML\n",
    "\n",
    "import opensarlab_lib as asfn\n",
    "# asfn.jupytertheme_matplotlib_format()"
   ]
  },
  {
   "cell_type": "markdown",
   "metadata": {},
   "source": [
    "---\n",
    "## 1. Load Your Prepared Data Stack Into the Notebook\n",
    "\n",
    "This notebook assumes that you've prepared your own data stack of **RTC image products** over your personal area of interest. This can be done using the **Prepare_Data_Stack_Hyp3** and **Subset_Data_Stack notebooks**.\n",
    "    \n",
    "This notebook expects [Radiometric Terrain Corrected](https://media.asf.alaska.edu/uploads/RTC/rtc_atbd_v1.2_final.pdf) (RTC) image products as input, so be sure to select an RTC process when creating the subscription for your input data within HyP3. Prefer a **unique orbit geometry** (ascending or descending) to keep geometric differences between images low. \n",
    "\n",
    "**Select the Polarization of the data to use for the time series:**"
   ]
  },
  {
   "cell_type": "code",
   "execution_count": 4,
   "metadata": {},
   "outputs": [
    {
     "name": "stdout",
     "output_type": "stream",
     "text": [
      "Select a polarity for the time-series data:\n"
     ]
    },
    {
     "data": {
      "application/vnd.jupyter.widget-view+json": {
       "model_id": "91a2de0ece4a4e0ca2ea9388e03b0ea0",
       "version_major": 2,
       "version_minor": 0
      },
      "text/plain": [
       "RadioButtons(layout=Layout(min_width='800px'), options=('VV', 'VH'), value='VV')"
      ]
     },
     "metadata": {},
     "output_type": "display_data"
    }
   ],
   "source": [
    "print('Select a polarity for the time-series data:')\n",
    "pol_select = asfn.select_parameter(['VV', 'VH'], '')\n",
    "display(pol_select)"
   ]
  },
  {
   "cell_type": "markdown",
   "metadata": {},
   "source": [
    "**Open a Zarr Store containing `VV` and/or `VH` RTC Data**\n",
    "\n",
    "TODO: Replace hard-coded S3 path with an input field for S3 path to any public Zarr Store"
   ]
  },
  {
   "cell_type": "code",
   "execution_count": 5,
   "metadata": {},
   "outputs": [
    {
     "name": "stdout",
     "output_type": "stream",
     "text": [
      "Zarr Store Groups:\n",
      "\n",
      "S1A_IW_20170402T235525_DVP_RTC30_G_gpuned_9C40_VV\n",
      "S1A_IW_20170414T235525_DVP_RTC30_G_gpuned_C9FE_VV\n",
      "S1A_IW_20170426T235525_DVP_RTC30_G_gpuned_6648_VV\n",
      "S1A_IW_20170508T235526_DVP_RTC30_G_gpuned_38D4_VV\n",
      "S1A_IW_20170520T235527_DVP_RTC30_G_gpuned_C174_VV\n",
      "S1A_IW_20170601T235528_DVP_RTC30_G_gpuned_9A6A_VV\n",
      "S1A_IW_20170731T235531_DVP_RTC30_G_gpuned_8285_VV\n",
      "S1A_IW_20170812T235532_DVP_RTC30_G_gpuned_E6B5_VV\n",
      "S1A_IW_20170824T235532_DVP_RTC30_G_gpuned_60E1_VV\n",
      "S1A_IW_20170905T235533_DVP_RTC30_G_gpuned_7E34_VV\n",
      "S1A_IW_20170917T235533_DVP_RTC30_G_gpuned_E674_VV\n",
      "S1A_IW_20170929T235533_DVP_RTC30_G_gpuned_9E2E_VV\n"
     ]
    }
   ],
   "source": [
    "# Create S3FileSystem object and map it to the S3 bucket and directory holding the zarr-stores\n",
    "s3_path = \"s3://asf-jupyter-data-west/zarr_test/bangladesh\"\n",
    "s3 = s3fs.S3FileSystem(anon=True)\n",
    "store = s3fs.S3Map(root=s3_path, s3=s3, check=False)\n",
    "\n",
    "pol = pol_select.value\n",
    "\n",
    "# Create a list of groups (zarr-speak for the directories holding the zarr-stores)\n",
    "groups = [g['name'].split('/')[-1] for g in s3.listdir(s3_path) if g['StorageClass'] == 'DIRECTORY']\n",
    "if len(groups) < 1:\n",
    "    print(\"Found no zarr-stores at provided S3 path\")\n",
    "groups = [g for g in groups if pol in g or pol.lower() in g]\n",
    "if len(groups) < 1:\n",
    "    print(f\"Found no zarr stores in the {pol} polarity\")\n",
    "    \n",
    "# Open each zarr-store and assign it to a variable named for its group\n",
    "for g in groups:\n",
    "    exec(f\"{g} = xr.open_zarr(store=store, consolidated=True, group='{g}')\")\n",
    "\n",
    "print(\"Zarr Store Groups:\\n\")\n",
    "for g in groups:\n",
    "    print(g)\n",
    "    \n",
    "datasets = [globals()[g] for g in groups]"
   ]
  },
  {
   "cell_type": "code",
   "execution_count": 6,
   "metadata": {},
   "outputs": [
    {
     "data": {
      "text/html": [
       "<div><svg style=\"position: absolute; width: 0; height: 0; overflow: hidden\">\n",
       "<defs>\n",
       "<symbol id=\"icon-database\" viewBox=\"0 0 32 32\">\n",
       "<path d=\"M16 0c-8.837 0-16 2.239-16 5v4c0 2.761 7.163 5 16 5s16-2.239 16-5v-4c0-2.761-7.163-5-16-5z\"></path>\n",
       "<path d=\"M16 17c-8.837 0-16-2.239-16-5v6c0 2.761 7.163 5 16 5s16-2.239 16-5v-6c0 2.761-7.163 5-16 5z\"></path>\n",
       "<path d=\"M16 26c-8.837 0-16-2.239-16-5v6c0 2.761 7.163 5 16 5s16-2.239 16-5v-6c0 2.761-7.163 5-16 5z\"></path>\n",
       "</symbol>\n",
       "<symbol id=\"icon-file-text2\" viewBox=\"0 0 32 32\">\n",
       "<path d=\"M28.681 7.159c-0.694-0.947-1.662-2.053-2.724-3.116s-2.169-2.030-3.116-2.724c-1.612-1.182-2.393-1.319-2.841-1.319h-15.5c-1.378 0-2.5 1.121-2.5 2.5v27c0 1.378 1.122 2.5 2.5 2.5h23c1.378 0 2.5-1.122 2.5-2.5v-19.5c0-0.448-0.137-1.23-1.319-2.841zM24.543 5.457c0.959 0.959 1.712 1.825 2.268 2.543h-4.811v-4.811c0.718 0.556 1.584 1.309 2.543 2.268zM28 29.5c0 0.271-0.229 0.5-0.5 0.5h-23c-0.271 0-0.5-0.229-0.5-0.5v-27c0-0.271 0.229-0.5 0.5-0.5 0 0 15.499-0 15.5 0v7c0 0.552 0.448 1 1 1h7v19.5z\"></path>\n",
       "<path d=\"M23 26h-14c-0.552 0-1-0.448-1-1s0.448-1 1-1h14c0.552 0 1 0.448 1 1s-0.448 1-1 1z\"></path>\n",
       "<path d=\"M23 22h-14c-0.552 0-1-0.448-1-1s0.448-1 1-1h14c0.552 0 1 0.448 1 1s-0.448 1-1 1z\"></path>\n",
       "<path d=\"M23 18h-14c-0.552 0-1-0.448-1-1s0.448-1 1-1h14c0.552 0 1 0.448 1 1s-0.448 1-1 1z\"></path>\n",
       "</symbol>\n",
       "</defs>\n",
       "</svg>\n",
       "<style>/* CSS stylesheet for displaying xarray objects in jupyterlab.\n",
       " *\n",
       " */\n",
       "\n",
       ":root {\n",
       "  --xr-font-color0: var(--jp-content-font-color0, rgba(0, 0, 0, 1));\n",
       "  --xr-font-color2: var(--jp-content-font-color2, rgba(0, 0, 0, 0.54));\n",
       "  --xr-font-color3: var(--jp-content-font-color3, rgba(0, 0, 0, 0.38));\n",
       "  --xr-border-color: var(--jp-border-color2, #e0e0e0);\n",
       "  --xr-disabled-color: var(--jp-layout-color3, #bdbdbd);\n",
       "  --xr-background-color: var(--jp-layout-color0, white);\n",
       "  --xr-background-color-row-even: var(--jp-layout-color1, white);\n",
       "  --xr-background-color-row-odd: var(--jp-layout-color2, #eeeeee);\n",
       "}\n",
       "\n",
       "html[theme=dark],\n",
       "body.vscode-dark {\n",
       "  --xr-font-color0: rgba(255, 255, 255, 1);\n",
       "  --xr-font-color2: rgba(255, 255, 255, 0.54);\n",
       "  --xr-font-color3: rgba(255, 255, 255, 0.38);\n",
       "  --xr-border-color: #1F1F1F;\n",
       "  --xr-disabled-color: #515151;\n",
       "  --xr-background-color: #111111;\n",
       "  --xr-background-color-row-even: #111111;\n",
       "  --xr-background-color-row-odd: #313131;\n",
       "}\n",
       "\n",
       ".xr-wrap {\n",
       "  display: block !important;\n",
       "  min-width: 300px;\n",
       "  max-width: 700px;\n",
       "}\n",
       "\n",
       ".xr-text-repr-fallback {\n",
       "  /* fallback to plain text repr when CSS is not injected (untrusted notebook) */\n",
       "  display: none;\n",
       "}\n",
       "\n",
       ".xr-header {\n",
       "  padding-top: 6px;\n",
       "  padding-bottom: 6px;\n",
       "  margin-bottom: 4px;\n",
       "  border-bottom: solid 1px var(--xr-border-color);\n",
       "}\n",
       "\n",
       ".xr-header > div,\n",
       ".xr-header > ul {\n",
       "  display: inline;\n",
       "  margin-top: 0;\n",
       "  margin-bottom: 0;\n",
       "}\n",
       "\n",
       ".xr-obj-type,\n",
       ".xr-array-name {\n",
       "  margin-left: 2px;\n",
       "  margin-right: 10px;\n",
       "}\n",
       "\n",
       ".xr-obj-type {\n",
       "  color: var(--xr-font-color2);\n",
       "}\n",
       "\n",
       ".xr-sections {\n",
       "  padding-left: 0 !important;\n",
       "  display: grid;\n",
       "  grid-template-columns: 150px auto auto 1fr 20px 20px;\n",
       "}\n",
       "\n",
       ".xr-section-item {\n",
       "  display: contents;\n",
       "}\n",
       "\n",
       ".xr-section-item input {\n",
       "  display: none;\n",
       "}\n",
       "\n",
       ".xr-section-item input + label {\n",
       "  color: var(--xr-disabled-color);\n",
       "}\n",
       "\n",
       ".xr-section-item input:enabled + label {\n",
       "  cursor: pointer;\n",
       "  color: var(--xr-font-color2);\n",
       "}\n",
       "\n",
       ".xr-section-item input:enabled + label:hover {\n",
       "  color: var(--xr-font-color0);\n",
       "}\n",
       "\n",
       ".xr-section-summary {\n",
       "  grid-column: 1;\n",
       "  color: var(--xr-font-color2);\n",
       "  font-weight: 500;\n",
       "}\n",
       "\n",
       ".xr-section-summary > span {\n",
       "  display: inline-block;\n",
       "  padding-left: 0.5em;\n",
       "}\n",
       "\n",
       ".xr-section-summary-in:disabled + label {\n",
       "  color: var(--xr-font-color2);\n",
       "}\n",
       "\n",
       ".xr-section-summary-in + label:before {\n",
       "  display: inline-block;\n",
       "  content: '►';\n",
       "  font-size: 11px;\n",
       "  width: 15px;\n",
       "  text-align: center;\n",
       "}\n",
       "\n",
       ".xr-section-summary-in:disabled + label:before {\n",
       "  color: var(--xr-disabled-color);\n",
       "}\n",
       "\n",
       ".xr-section-summary-in:checked + label:before {\n",
       "  content: '▼';\n",
       "}\n",
       "\n",
       ".xr-section-summary-in:checked + label > span {\n",
       "  display: none;\n",
       "}\n",
       "\n",
       ".xr-section-summary,\n",
       ".xr-section-inline-details {\n",
       "  padding-top: 4px;\n",
       "  padding-bottom: 4px;\n",
       "}\n",
       "\n",
       ".xr-section-inline-details {\n",
       "  grid-column: 2 / -1;\n",
       "}\n",
       "\n",
       ".xr-section-details {\n",
       "  display: none;\n",
       "  grid-column: 1 / -1;\n",
       "  margin-bottom: 5px;\n",
       "}\n",
       "\n",
       ".xr-section-summary-in:checked ~ .xr-section-details {\n",
       "  display: contents;\n",
       "}\n",
       "\n",
       ".xr-array-wrap {\n",
       "  grid-column: 1 / -1;\n",
       "  display: grid;\n",
       "  grid-template-columns: 20px auto;\n",
       "}\n",
       "\n",
       ".xr-array-wrap > label {\n",
       "  grid-column: 1;\n",
       "  vertical-align: top;\n",
       "}\n",
       "\n",
       ".xr-preview {\n",
       "  color: var(--xr-font-color3);\n",
       "}\n",
       "\n",
       ".xr-array-preview,\n",
       ".xr-array-data {\n",
       "  padding: 0 5px !important;\n",
       "  grid-column: 2;\n",
       "}\n",
       "\n",
       ".xr-array-data,\n",
       ".xr-array-in:checked ~ .xr-array-preview {\n",
       "  display: none;\n",
       "}\n",
       "\n",
       ".xr-array-in:checked ~ .xr-array-data,\n",
       ".xr-array-preview {\n",
       "  display: inline-block;\n",
       "}\n",
       "\n",
       ".xr-dim-list {\n",
       "  display: inline-block !important;\n",
       "  list-style: none;\n",
       "  padding: 0 !important;\n",
       "  margin: 0;\n",
       "}\n",
       "\n",
       ".xr-dim-list li {\n",
       "  display: inline-block;\n",
       "  padding: 0;\n",
       "  margin: 0;\n",
       "}\n",
       "\n",
       ".xr-dim-list:before {\n",
       "  content: '(';\n",
       "}\n",
       "\n",
       ".xr-dim-list:after {\n",
       "  content: ')';\n",
       "}\n",
       "\n",
       ".xr-dim-list li:not(:last-child):after {\n",
       "  content: ',';\n",
       "  padding-right: 5px;\n",
       "}\n",
       "\n",
       ".xr-has-index {\n",
       "  font-weight: bold;\n",
       "}\n",
       "\n",
       ".xr-var-list,\n",
       ".xr-var-item {\n",
       "  display: contents;\n",
       "}\n",
       "\n",
       ".xr-var-item > div,\n",
       ".xr-var-item label,\n",
       ".xr-var-item > .xr-var-name span {\n",
       "  background-color: var(--xr-background-color-row-even);\n",
       "  margin-bottom: 0;\n",
       "}\n",
       "\n",
       ".xr-var-item > .xr-var-name:hover span {\n",
       "  padding-right: 5px;\n",
       "}\n",
       "\n",
       ".xr-var-list > li:nth-child(odd) > div,\n",
       ".xr-var-list > li:nth-child(odd) > label,\n",
       ".xr-var-list > li:nth-child(odd) > .xr-var-name span {\n",
       "  background-color: var(--xr-background-color-row-odd);\n",
       "}\n",
       "\n",
       ".xr-var-name {\n",
       "  grid-column: 1;\n",
       "}\n",
       "\n",
       ".xr-var-dims {\n",
       "  grid-column: 2;\n",
       "}\n",
       "\n",
       ".xr-var-dtype {\n",
       "  grid-column: 3;\n",
       "  text-align: right;\n",
       "  color: var(--xr-font-color2);\n",
       "}\n",
       "\n",
       ".xr-var-preview {\n",
       "  grid-column: 4;\n",
       "}\n",
       "\n",
       ".xr-var-name,\n",
       ".xr-var-dims,\n",
       ".xr-var-dtype,\n",
       ".xr-preview,\n",
       ".xr-attrs dt {\n",
       "  white-space: nowrap;\n",
       "  overflow: hidden;\n",
       "  text-overflow: ellipsis;\n",
       "  padding-right: 10px;\n",
       "}\n",
       "\n",
       ".xr-var-name:hover,\n",
       ".xr-var-dims:hover,\n",
       ".xr-var-dtype:hover,\n",
       ".xr-attrs dt:hover {\n",
       "  overflow: visible;\n",
       "  width: auto;\n",
       "  z-index: 1;\n",
       "}\n",
       "\n",
       ".xr-var-attrs,\n",
       ".xr-var-data {\n",
       "  display: none;\n",
       "  background-color: var(--xr-background-color) !important;\n",
       "  padding-bottom: 5px !important;\n",
       "}\n",
       "\n",
       ".xr-var-attrs-in:checked ~ .xr-var-attrs,\n",
       ".xr-var-data-in:checked ~ .xr-var-data {\n",
       "  display: block;\n",
       "}\n",
       "\n",
       ".xr-var-data > table {\n",
       "  float: right;\n",
       "}\n",
       "\n",
       ".xr-var-name span,\n",
       ".xr-var-data,\n",
       ".xr-attrs {\n",
       "  padding-left: 25px !important;\n",
       "}\n",
       "\n",
       ".xr-attrs,\n",
       ".xr-var-attrs,\n",
       ".xr-var-data {\n",
       "  grid-column: 1 / -1;\n",
       "}\n",
       "\n",
       "dl.xr-attrs {\n",
       "  padding: 0;\n",
       "  margin: 0;\n",
       "  display: grid;\n",
       "  grid-template-columns: 125px auto;\n",
       "}\n",
       "\n",
       ".xr-attrs dt,\n",
       ".xr-attrs dd {\n",
       "  padding: 0;\n",
       "  margin: 0;\n",
       "  float: left;\n",
       "  padding-right: 10px;\n",
       "  width: auto;\n",
       "}\n",
       "\n",
       ".xr-attrs dt {\n",
       "  font-weight: normal;\n",
       "  grid-column: 1;\n",
       "}\n",
       "\n",
       ".xr-attrs dt:hover span {\n",
       "  display: inline-block;\n",
       "  background: var(--xr-background-color);\n",
       "  padding-right: 10px;\n",
       "}\n",
       "\n",
       ".xr-attrs dd {\n",
       "  grid-column: 2;\n",
       "  white-space: pre-wrap;\n",
       "  word-break: break-all;\n",
       "}\n",
       "\n",
       ".xr-icon-database,\n",
       ".xr-icon-file-text2 {\n",
       "  display: inline-block;\n",
       "  vertical-align: middle;\n",
       "  width: 1em;\n",
       "  height: 1.5em !important;\n",
       "  stroke-width: 0;\n",
       "  stroke: currentColor;\n",
       "  fill: currentColor;\n",
       "}\n",
       "</style><pre class='xr-text-repr-fallback'>&lt;xarray.Dataset&gt;\n",
       "Dimensions:               (y: 7783, x: 9674)\n",
       "Coordinates:\n",
       "  * x                     (x) float64 5.694e+04 5.697e+04 ... 3.471e+05\n",
       "  * y                     (y) float64 2.825e+06 2.825e+06 ... 2.592e+06\n",
       "Data variables:\n",
       "    backscatter           (y, x) float32 dask.array&lt;chunksize=(487, 605), meta=np.ndarray&gt;\n",
       "    radiation_frequency   float64 ...\n",
       "    radiation_wavelength  float64 ...\n",
       "    transverse_mercator   float64 ...\n",
       "Attributes: (12/20)\n",
       "    Conventions:             CF-1.8\n",
       "    acquisition_time:        2022-03-12 23:55:25\n",
       "    description:             This is SAR RTC data in VV polarization\n",
       "    epsg:                    32646\n",
       "    fill_value:              0.0\n",
       "    institution:             Alaska Sattelite Facility (ASF)\n",
       "    ...                      ...\n",
       "    sensor_band_identifier:  C\n",
       "    source:                  SAR observation\n",
       "    title:                   SAR RTC\n",
       "    transverse_mercator:     transverse_mercator\n",
       "    x_spacing:               30.0\n",
       "    y_spacing:               -30.0</pre><div class='xr-wrap' style='display:none'><div class='xr-header'><div class='xr-obj-type'>xarray.Dataset</div></div><ul class='xr-sections'><li class='xr-section-item'><input id='section-f0e58f72-eb89-4da2-98ad-15bf920d1e97' class='xr-section-summary-in' type='checkbox' disabled ><label for='section-f0e58f72-eb89-4da2-98ad-15bf920d1e97' class='xr-section-summary'  title='Expand/collapse section'>Dimensions:</label><div class='xr-section-inline-details'><ul class='xr-dim-list'><li><span class='xr-has-index'>y</span>: 7783</li><li><span class='xr-has-index'>x</span>: 9674</li></ul></div><div class='xr-section-details'></div></li><li class='xr-section-item'><input id='section-a41cb1ce-1e96-4eff-a952-565e86bd0d4d' class='xr-section-summary-in' type='checkbox'  checked><label for='section-a41cb1ce-1e96-4eff-a952-565e86bd0d4d' class='xr-section-summary' >Coordinates: <span>(2)</span></label><div class='xr-section-inline-details'></div><div class='xr-section-details'><ul class='xr-var-list'><li class='xr-var-item'><div class='xr-var-name'><span class='xr-has-index'>x</span></div><div class='xr-var-dims'>(x)</div><div class='xr-var-dtype'>float64</div><div class='xr-var-preview xr-preview'>5.694e+04 5.697e+04 ... 3.471e+05</div><input id='attrs-82151202-301c-492b-a4cf-d82c5da13603' class='xr-var-attrs-in' type='checkbox' ><label for='attrs-82151202-301c-492b-a4cf-d82c5da13603' title='Show/Hide attributes'><svg class='icon xr-icon-file-text2'><use xlink:href='#icon-file-text2'></use></svg></label><input id='data-e924c5e9-0a04-4320-9376-6f284f90d124' class='xr-var-data-in' type='checkbox'><label for='data-e924c5e9-0a04-4320-9376-6f284f90d124' title='Show/Hide data repr'><svg class='icon xr-icon-database'><use xlink:href='#icon-database'></use></svg></label><div class='xr-var-attrs'><dl class='xr-attrs'><dt><span>axis :</span></dt><dd>X</dd><dt><span>long_name :</span></dt><dd>Easting</dd><dt><span>standard_name :</span></dt><dd>projection_x_coordinate</dd><dt><span>units :</span></dt><dd>m</dd></dl></div><div class='xr-var-data'><pre>array([ 56940.,  56970.,  57000., ..., 347070., 347100., 347130.])</pre></div></li><li class='xr-var-item'><div class='xr-var-name'><span class='xr-has-index'>y</span></div><div class='xr-var-dims'>(y)</div><div class='xr-var-dtype'>float64</div><div class='xr-var-preview xr-preview'>2.825e+06 2.825e+06 ... 2.592e+06</div><input id='attrs-158a1ae2-2f77-450e-b9cf-94d024525d59' class='xr-var-attrs-in' type='checkbox' ><label for='attrs-158a1ae2-2f77-450e-b9cf-94d024525d59' title='Show/Hide attributes'><svg class='icon xr-icon-file-text2'><use xlink:href='#icon-file-text2'></use></svg></label><input id='data-4f5f6c0d-fed8-4287-8f79-d7631e8bc069' class='xr-var-data-in' type='checkbox'><label for='data-4f5f6c0d-fed8-4287-8f79-d7631e8bc069' title='Show/Hide data repr'><svg class='icon xr-icon-database'><use xlink:href='#icon-database'></use></svg></label><div class='xr-var-attrs'><dl class='xr-attrs'><dt><span>axis :</span></dt><dd>Y</dd><dt><span>long_name :</span></dt><dd>Northing</dd><dt><span>standard_name :</span></dt><dd>projection_y_coordinate</dd><dt><span>units :</span></dt><dd>m</dd></dl></div><div class='xr-var-data'><pre>array([2825220., 2825190., 2825160., ..., 2591820., 2591790., 2591760.])</pre></div></li></ul></div></li><li class='xr-section-item'><input id='section-fc97dd31-a678-48c5-8cbb-3105f5cbe810' class='xr-section-summary-in' type='checkbox'  checked><label for='section-fc97dd31-a678-48c5-8cbb-3105f5cbe810' class='xr-section-summary' >Data variables: <span>(4)</span></label><div class='xr-section-inline-details'></div><div class='xr-section-details'><ul class='xr-var-list'><li class='xr-var-item'><div class='xr-var-name'><span>backscatter</span></div><div class='xr-var-dims'>(y, x)</div><div class='xr-var-dtype'>float32</div><div class='xr-var-preview xr-preview'>dask.array&lt;chunksize=(487, 605), meta=np.ndarray&gt;</div><input id='attrs-04830ad9-99ec-441d-ab06-fed789205574' class='xr-var-attrs-in' type='checkbox' ><label for='attrs-04830ad9-99ec-441d-ab06-fed789205574' title='Show/Hide attributes'><svg class='icon xr-icon-file-text2'><use xlink:href='#icon-file-text2'></use></svg></label><input id='data-8d0cf948-f288-47ce-ae18-0fb334b0885e' class='xr-var-data-in' type='checkbox'><label for='data-8d0cf948-f288-47ce-ae18-0fb334b0885e' title='Show/Hide data repr'><svg class='icon xr-icon-database'><use xlink:href='#icon-database'></use></svg></label><div class='xr-var-attrs'><dl class='xr-attrs'><dt><span>grid_mapping :</span></dt><dd>transverse_mercator</dd><dt><span>units :</span></dt><dd>gamma0 power</dd></dl></div><div class='xr-var-data'><table>\n",
       "    <tr>\n",
       "        <td>\n",
       "            <table>\n",
       "                <thead>\n",
       "                    <tr>\n",
       "                        <td> </td>\n",
       "                        <th> Array </th>\n",
       "                        <th> Chunk </th>\n",
       "                    </tr>\n",
       "                </thead>\n",
       "                <tbody>\n",
       "                    \n",
       "                    <tr>\n",
       "                        <th> Bytes </th>\n",
       "                        <td> 287.22 MiB </td>\n",
       "                        <td> 1.12 MiB </td>\n",
       "                    </tr>\n",
       "                    \n",
       "                    <tr>\n",
       "                        <th> Shape </th>\n",
       "                        <td> (7783, 9674) </td>\n",
       "                        <td> (487, 605) </td>\n",
       "                    </tr>\n",
       "                    <tr>\n",
       "                        <th> Count </th>\n",
       "                        <td> 257 Tasks </td>\n",
       "                        <td> 256 Chunks </td>\n",
       "                    </tr>\n",
       "                    <tr>\n",
       "                    <th> Type </th>\n",
       "                    <td> float32 </td>\n",
       "                    <td> numpy.ndarray </td>\n",
       "                    </tr>\n",
       "                </tbody>\n",
       "            </table>\n",
       "        </td>\n",
       "        <td>\n",
       "        <svg width=\"170\" height=\"146\" style=\"stroke:rgb(0,0,0);stroke-width:1\" >\n",
       "\n",
       "  <!-- Horizontal lines -->\n",
       "  <line x1=\"0\" y1=\"0\" x2=\"120\" y2=\"0\" style=\"stroke-width:2\" />\n",
       "  <line x1=\"0\" y1=\"6\" x2=\"120\" y2=\"6\" />\n",
       "  <line x1=\"0\" y1=\"12\" x2=\"120\" y2=\"12\" />\n",
       "  <line x1=\"0\" y1=\"18\" x2=\"120\" y2=\"18\" />\n",
       "  <line x1=\"0\" y1=\"24\" x2=\"120\" y2=\"24\" />\n",
       "  <line x1=\"0\" y1=\"30\" x2=\"120\" y2=\"30\" />\n",
       "  <line x1=\"0\" y1=\"36\" x2=\"120\" y2=\"36\" />\n",
       "  <line x1=\"0\" y1=\"42\" x2=\"120\" y2=\"42\" />\n",
       "  <line x1=\"0\" y1=\"48\" x2=\"120\" y2=\"48\" />\n",
       "  <line x1=\"0\" y1=\"54\" x2=\"120\" y2=\"54\" />\n",
       "  <line x1=\"0\" y1=\"60\" x2=\"120\" y2=\"60\" />\n",
       "  <line x1=\"0\" y1=\"66\" x2=\"120\" y2=\"66\" />\n",
       "  <line x1=\"0\" y1=\"72\" x2=\"120\" y2=\"72\" />\n",
       "  <line x1=\"0\" y1=\"78\" x2=\"120\" y2=\"78\" />\n",
       "  <line x1=\"0\" y1=\"84\" x2=\"120\" y2=\"84\" />\n",
       "  <line x1=\"0\" y1=\"90\" x2=\"120\" y2=\"90\" />\n",
       "  <line x1=\"0\" y1=\"96\" x2=\"120\" y2=\"96\" style=\"stroke-width:2\" />\n",
       "\n",
       "  <!-- Vertical lines -->\n",
       "  <line x1=\"0\" y1=\"0\" x2=\"0\" y2=\"96\" style=\"stroke-width:2\" />\n",
       "  <line x1=\"7\" y1=\"0\" x2=\"7\" y2=\"96\" />\n",
       "  <line x1=\"15\" y1=\"0\" x2=\"15\" y2=\"96\" />\n",
       "  <line x1=\"22\" y1=\"0\" x2=\"22\" y2=\"96\" />\n",
       "  <line x1=\"30\" y1=\"0\" x2=\"30\" y2=\"96\" />\n",
       "  <line x1=\"37\" y1=\"0\" x2=\"37\" y2=\"96\" />\n",
       "  <line x1=\"45\" y1=\"0\" x2=\"45\" y2=\"96\" />\n",
       "  <line x1=\"52\" y1=\"0\" x2=\"52\" y2=\"96\" />\n",
       "  <line x1=\"60\" y1=\"0\" x2=\"60\" y2=\"96\" />\n",
       "  <line x1=\"67\" y1=\"0\" x2=\"67\" y2=\"96\" />\n",
       "  <line x1=\"75\" y1=\"0\" x2=\"75\" y2=\"96\" />\n",
       "  <line x1=\"82\" y1=\"0\" x2=\"82\" y2=\"96\" />\n",
       "  <line x1=\"90\" y1=\"0\" x2=\"90\" y2=\"96\" />\n",
       "  <line x1=\"97\" y1=\"0\" x2=\"97\" y2=\"96\" />\n",
       "  <line x1=\"105\" y1=\"0\" x2=\"105\" y2=\"96\" />\n",
       "  <line x1=\"112\" y1=\"0\" x2=\"112\" y2=\"96\" />\n",
       "  <line x1=\"120\" y1=\"0\" x2=\"120\" y2=\"96\" style=\"stroke-width:2\" />\n",
       "\n",
       "  <!-- Colored Rectangle -->\n",
       "  <polygon points=\"0.0,0.0 120.0,0.0 120.0,96.54331197022948 0.0,96.54331197022948\" style=\"fill:#ECB172A0;stroke-width:0\"/>\n",
       "\n",
       "  <!-- Text -->\n",
       "  <text x=\"60.000000\" y=\"116.543312\" font-size=\"1.0rem\" font-weight=\"100\" text-anchor=\"middle\" >9674</text>\n",
       "  <text x=\"140.000000\" y=\"48.271656\" font-size=\"1.0rem\" font-weight=\"100\" text-anchor=\"middle\" transform=\"rotate(-90,140.000000,48.271656)\">7783</text>\n",
       "</svg>\n",
       "        </td>\n",
       "    </tr>\n",
       "</table></div></li><li class='xr-var-item'><div class='xr-var-name'><span>radiation_frequency</span></div><div class='xr-var-dims'>()</div><div class='xr-var-dtype'>float64</div><div class='xr-var-preview xr-preview'>...</div><input id='attrs-485ac253-07ae-44d2-875d-01e2254662ea' class='xr-var-attrs-in' type='checkbox' ><label for='attrs-485ac253-07ae-44d2-875d-01e2254662ea' title='Show/Hide attributes'><svg class='icon xr-icon-file-text2'><use xlink:href='#icon-file-text2'></use></svg></label><input id='data-d53ace63-6bbb-406d-9e8c-9c9ccbfb3a57' class='xr-var-data-in' type='checkbox'><label for='data-d53ace63-6bbb-406d-9e8c-9c9ccbfb3a57' title='Show/Hide data repr'><svg class='icon xr-icon-database'><use xlink:href='#icon-database'></use></svg></label><div class='xr-var-attrs'><dl class='xr-attrs'><dt><span>radiation_frequency_unit :</span></dt><dd>GHz</dd></dl></div><div class='xr-var-data'><pre>array(nan)</pre></div></li><li class='xr-var-item'><div class='xr-var-name'><span>radiation_wavelength</span></div><div class='xr-var-dims'>()</div><div class='xr-var-dtype'>float64</div><div class='xr-var-preview xr-preview'>...</div><input id='attrs-50c21c54-4860-4904-a2ef-cec6dc341e0a' class='xr-var-attrs-in' type='checkbox' ><label for='attrs-50c21c54-4860-4904-a2ef-cec6dc341e0a' title='Show/Hide attributes'><svg class='icon xr-icon-file-text2'><use xlink:href='#icon-file-text2'></use></svg></label><input id='data-aa726389-6410-486c-9159-a57a1667a7c8' class='xr-var-data-in' type='checkbox'><label for='data-aa726389-6410-486c-9159-a57a1667a7c8' title='Show/Hide data repr'><svg class='icon xr-icon-database'><use xlink:href='#icon-database'></use></svg></label><div class='xr-var-attrs'><dl class='xr-attrs'><dt><span>radiation_wavelength_unit :</span></dt><dd>m</dd></dl></div><div class='xr-var-data'><pre>array(nan)</pre></div></li><li class='xr-var-item'><div class='xr-var-name'><span>transverse_mercator</span></div><div class='xr-var-dims'>()</div><div class='xr-var-dtype'>float64</div><div class='xr-var-preview xr-preview'>...</div><input id='attrs-e8b8d323-db22-4acf-82ea-29873a922efe' class='xr-var-attrs-in' type='checkbox' ><label for='attrs-e8b8d323-db22-4acf-82ea-29873a922efe' title='Show/Hide attributes'><svg class='icon xr-icon-file-text2'><use xlink:href='#icon-file-text2'></use></svg></label><input id='data-d985b376-bc71-44d4-b6ad-385a3b29083a' class='xr-var-data-in' type='checkbox'><label for='data-d985b376-bc71-44d4-b6ad-385a3b29083a' title='Show/Hide data repr'><svg class='icon xr-icon-database'><use xlink:href='#icon-database'></use></svg></label><div class='xr-var-attrs'><dl class='xr-attrs'><dt><span>crs_wkt :</span></dt><dd>transverse_mercator</dd><dt><span>false_easting :</span></dt><dd>500000.0</dd><dt><span>false_northing :</span></dt><dd>0.0</dd><dt><span>geographic_coordinate_system_name :</span></dt><dd>WGS 84</dd><dt><span>grid_mapping_name :</span></dt><dd>WGS 84 / UTM zone 46N</dd><dt><span>horizontal_datum_name :</span></dt><dd>WGS_1984</dd><dt><span>inverse_flattening :</span></dt><dd>298.257223563</dd><dt><span>latitude_of_projection_origin :</span></dt><dd>0.0</dd><dt><span>longitude_of_central_meridian :</span></dt><dd>93.0</dd><dt><span>longitude_of_prime_meridian :</span></dt><dd>0.0</dd><dt><span>projected_coordinate_system_name :</span></dt><dd>WGS 84 / UTM zone 46N</dd><dt><span>projection_x_coordinate :</span></dt><dd>x</dd><dt><span>projection_y_coordinate :</span></dt><dd>y</dd><dt><span>reference_ellipsoid_name :</span></dt><dd>WGS_1984</dd><dt><span>scale_factor_at_centeral_meridian :</span></dt><dd>0.9996</dd><dt><span>semi_major_axis :</span></dt><dd>6378137.0</dd><dt><span>units :</span></dt><dd>Meters</dd></dl></div><div class='xr-var-data'><pre>array(nan)</pre></div></li></ul></div></li><li class='xr-section-item'><input id='section-cbe3f194-dc8c-4a9e-b623-f3112fc8dc6a' class='xr-section-summary-in' type='checkbox'  ><label for='section-cbe3f194-dc8c-4a9e-b623-f3112fc8dc6a' class='xr-section-summary' >Attributes: <span>(20)</span></label><div class='xr-section-inline-details'></div><div class='xr-section-details'><dl class='xr-attrs'><dt><span>Conventions :</span></dt><dd>CF-1.8</dd><dt><span>acquisition_time :</span></dt><dd>2022-03-12 23:55:25</dd><dt><span>description :</span></dt><dd>This is SAR RTC data in VV polarization</dd><dt><span>epsg :</span></dt><dd>32646</dd><dt><span>fill_value :</span></dt><dd>0.0</dd><dt><span>institution :</span></dt><dd>Alaska Sattelite Facility (ASF)</dd><dt><span>long_name :</span></dt><dd>SAR RTC VV</dd><dt><span>platform :</span></dt><dd>S1</dd><dt><span>polarization :</span></dt><dd>VV</dd><dt><span>product_name :</span></dt><dd>S1A_IW_20170601T235528_DVP_RTC30_G_gpuned_9A6A_VV.tif</dd><dt><span>product_type :</span></dt><dd>RTC</dd><dt><span>radiation_frequency :</span></dt><dd>5.405405405405405</dd><dt><span>radiation_wavelength :</span></dt><dd>0.05550000000000001</dd><dt><span>references :</span></dt><dd>asf.alaska.edu</dd><dt><span>sensor_band_identifier :</span></dt><dd>C</dd><dt><span>source :</span></dt><dd>SAR observation</dd><dt><span>title :</span></dt><dd>SAR RTC</dd><dt><span>transverse_mercator :</span></dt><dd>transverse_mercator</dd><dt><span>x_spacing :</span></dt><dd>30.0</dd><dt><span>y_spacing :</span></dt><dd>-30.0</dd></dl></div></li></ul></div></div>"
      ],
      "text/plain": [
       "<xarray.Dataset>\n",
       "Dimensions:               (y: 7783, x: 9674)\n",
       "Coordinates:\n",
       "  * x                     (x) float64 5.694e+04 5.697e+04 ... 3.471e+05\n",
       "  * y                     (y) float64 2.825e+06 2.825e+06 ... 2.592e+06\n",
       "Data variables:\n",
       "    backscatter           (y, x) float32 dask.array<chunksize=(487, 605), meta=np.ndarray>\n",
       "    radiation_frequency   float64 ...\n",
       "    radiation_wavelength  float64 ...\n",
       "    transverse_mercator   float64 ...\n",
       "Attributes: (12/20)\n",
       "    Conventions:             CF-1.8\n",
       "    acquisition_time:        2022-03-12 23:55:25\n",
       "    description:             This is SAR RTC data in VV polarization\n",
       "    epsg:                    32646\n",
       "    fill_value:              0.0\n",
       "    institution:             Alaska Sattelite Facility (ASF)\n",
       "    ...                      ...\n",
       "    sensor_band_identifier:  C\n",
       "    source:                  SAR observation\n",
       "    title:                   SAR RTC\n",
       "    transverse_mercator:     transverse_mercator\n",
       "    x_spacing:               30.0\n",
       "    y_spacing:               -30.0"
      ]
     },
     "execution_count": 6,
     "metadata": {},
     "output_type": "execute_result"
    }
   ],
   "source": [
    "S1A_IW_20170601T235528_DVP_RTC30_G_gpuned_9A6A_VV"
   ]
  },
  {
   "cell_type": "markdown",
   "metadata": {},
   "source": [
    "**Select or create a directory in which to store your output files:**"
   ]
  },
  {
   "cell_type": "code",
   "execution_count": null,
   "metadata": {},
   "outputs": [],
   "source": [
    "while True:\n",
    "    print(f\"Current working directory: {Path.cwd()}\")\n",
    "    data_dir = Path(input(f\"\\nPlease enter the name of a directory in which to store output from this analysis.\"))\n",
    "    if data_dir == Path('.'):\n",
    "        continue\n",
    "    if data_dir.is_dir():\n",
    "        contents = data_dir.glob('*')\n",
    "        if len(list(contents)) > 0:\n",
    "            choice = asfn.handle_old_data(data_dir)\n",
    "            if choice == 1:\n",
    "                if data_dir.exists():\n",
    "                    shutil.rmtree(data_dir)\n",
    "                data_dir.mkdir()\n",
    "                break\n",
    "            elif choice == 2:\n",
    "                break\n",
    "            else:\n",
    "                clear_output()\n",
    "                continue\n",
    "        else:\n",
    "            break\n",
    "    else:\n",
    "        data_dir.mkdir()\n",
    "        break"
   ]
  },
  {
   "cell_type": "code",
   "execution_count": null,
   "metadata": {},
   "outputs": [],
   "source": [
    "product_path = Path.cwd()/data_dir\n",
    "print(product_path)"
   ]
  },
  {
   "cell_type": "markdown",
   "metadata": {},
   "source": [
    "**create a dictionary mapping data acquisition dates to group names (dataset directories in Zarr store):**"
   ]
  },
  {
   "cell_type": "code",
   "execution_count": null,
   "metadata": {},
   "outputs": [],
   "source": [
    "dates = [asfn.date_from_product_name(g).split('T')[0] for g in groups]\n",
    "print(dates)"
   ]
  },
  {
   "cell_type": "markdown",
   "metadata": {},
   "source": [
    "**Gather the upper-left and lower-right corner coordinates of the data stack:**"
   ]
  },
  {
   "cell_type": "code",
   "execution_count": null,
   "metadata": {},
   "outputs": [],
   "source": [
    "# TODO add to opensarlab-lib\n",
    "\n",
    "def get_corners_xr_ds(ds: xr.core.dataset.Dataset):\n",
    "    x = ds.coords['x']\n",
    "    y = ds.coords['y']\n",
    "    return {\n",
    "        'ul': [int(x[0].compute()), int(y[0].compute())],\n",
    "        'lr': [int(x[len(x)-1].compute()), int(y[len(y)-1].compute())]\n",
    "    }"
   ]
  },
  {
   "cell_type": "code",
   "execution_count": null,
   "metadata": {},
   "outputs": [],
   "source": [
    "coords = get_corners_xr_ds(datasets[0])\n",
    "print(coords)"
   ]
  },
  {
   "cell_type": "markdown",
   "metadata": {},
   "source": [
    "**Grab the stack's UTM zone.** Note that any UTM zone conflicts should already have been handled in the Prepare_Data_Stack_Hyp3 notebook."
   ]
  },
  {
   "cell_type": "code",
   "execution_count": null,
   "metadata": {},
   "outputs": [],
   "source": [
    "utm = datasets[0].epsg\n",
    "print(f\"UTM Zone: {utm}\")"
   ]
  },
  {
   "cell_type": "markdown",
   "metadata": {},
   "source": [
    "**Select an Area of Interest**\n",
    "\n",
    "Note, the amount of data you can analyze in this notebook is limited by the amount of available memory, which is why we must subset full-granule sized data sets."
   ]
  },
  {
   "cell_type": "code",
   "execution_count": null,
   "metadata": {},
   "outputs": [],
   "source": [
    "# TODO update AOI_Selector in opensarlab-lib\n",
    "\n",
    "from typing import Optional, Union\n",
    "\n",
    "import matplotlib\n",
    "import matplotlib.pyplot as plt\n",
    "from matplotlib.widgets import RectangleSelector\n",
    "import matplotlib.patches as patches\n",
    "\n",
    "class AOI_Selector:\n",
    "    \"\"\"\n",
    "    Creates an interactive matplotlib plot allowing users\n",
    "    to select an area-of-interest with a bounding box\n",
    "    \"\"\"\n",
    "\n",
    "    def __init__(self, image: np.ndarray,\n",
    "                 fig_xsize: Optional[Union[float, int]] = None, fig_ysize: Optional[Union[float, int]] = None,\n",
    "                 cmap: Optional[matplotlib.colors.LinearSegmentedColormap] = plt.cm.gist_gray,\n",
    "                 vmin: Optional[Union[float, int]] = None, vmax: Optional[Union[float, int]] = None\n",
    "                 ):\n",
    "        self.image = image\n",
    "        self.x1 = None\n",
    "        self.y1 = None\n",
    "        self.x2 = None\n",
    "        self.y2 = None\n",
    "        if not vmin:\n",
    "            self.vmin = np.percentile(self.image.flatten(), 5)\n",
    "        else:\n",
    "            self.vmin = vmin\n",
    "        if not vmax:\n",
    "            self.vmax = np.percentile(self.image.flatten(), 95)\n",
    "        else:\n",
    "            self.vmax = vmax\n",
    "        if fig_xsize and fig_ysize:\n",
    "            self.fig, self.current_ax = plt.subplots(figsize=(fig_xsize, fig_ysize))\n",
    "        else:\n",
    "            self.fig, self.current_ax = plt.subplots()\n",
    "        self.fig.suptitle('Area-Of-Interest Selector', fontsize=16)\n",
    "        self.current_ax.imshow(self.image, cmap=cmap, vmin=self.vmin, vmax=self.vmax)\n",
    "\n",
    "        def toggle_selector(event: matplotlib.backend_bases.Event):\n",
    "            \"\"\"\n",
    "            Takes: a key press event\n",
    "            Toggles the selector off if the Pan or Zoom tools are selected.\n",
    "            Toggles the selector on if the Pan and Zoom tools are deselected.\n",
    "            \"\"\"\n",
    "            if event.key in ['Q', 'q'] and toggle_selector.RS.active:\n",
    "                toggle_selector.RS.set_active(False)\n",
    "            if event.key in ['A', 'a'] and not toggle_selector.RS.active:\n",
    "                toggle_selector.RS.set_active(True)\n",
    "\n",
    "        toggle_selector.RS = RectangleSelector(self.current_ax, self.line_select_callback,\n",
    "                                               useblit=True,\n",
    "                                               button=[1, 3],  # don't use middle button\n",
    "                                               minspanx=0, minspany=0,\n",
    "                                               spancoords='pixels',\n",
    "                                               props=dict(facecolor='red', edgecolor='yellow',\n",
    "                                                              alpha=0.3, fill=True),\n",
    "                                               interactive=True)\n",
    "        plt.connect('key_press_event', toggle_selector)\n",
    "\n",
    "    def line_select_callback(self,\n",
    "                             eclick: matplotlib.backend_bases.Event,\n",
    "                             erelease: matplotlib.backend_bases.Event):\n",
    "        \"\"\"\n",
    "        Takes: An eclick and erelease event\n",
    "        Sets self.x1, self.x2, self.y1, and self.y2 from selection corner coordinates\n",
    "        \"\"\"\n",
    "\n",
    "        self.x1, self.y1 = eclick.xdata, eclick.ydata\n",
    "        self.x2, self.y2 = erelease.xdata, erelease.ydata"
   ]
  },
  {
   "cell_type": "code",
   "execution_count": null,
   "metadata": {},
   "outputs": [],
   "source": [
    "%matplotlib widget\n",
    "aoi = AOI_Selector(datasets[0].backscatter.data, fig_xsize=10, fig_ysize=10)"
   ]
  },
  {
   "cell_type": "code",
   "execution_count": null,
   "metadata": {},
   "outputs": [],
   "source": [
    "geotrans = (coords['ul'][0], datasets[0].x_spacing, 0.0, coords['ul'][1], 0.0, datasets[0].y_spacing)\n",
    "projlatlon = pyproj.Proj('EPSG:4326') # WGS84\n",
    "projimg = pyproj.Proj(f'EPSG:{utm}')"
   ]
  },
  {
   "cell_type": "code",
   "execution_count": null,
   "metadata": {},
   "outputs": [],
   "source": [
    "# TODO: rename geolocation_from_plot_coord() and add to opensarlab-lib\n",
    "\n",
    "def geolocation(x, y, geotrans,latlon=True):\n",
    "    ref_x = geotrans[0]+x*geotrans[1]\n",
    "    ref_y = geotrans[3]+y*geotrans[5]\n",
    "    if latlon:\n",
    "        ref_y, ref_x = pyproj.transform(projimg, projlatlon, ref_x, ref_y)\n",
    "    return [ref_x, ref_y]"
   ]
  },
  {
   "cell_type": "code",
   "execution_count": null,
   "metadata": {},
   "outputs": [],
   "source": [
    "try:\n",
    "    aoi_coords = {\n",
    "        'ul': geolocation(aoi.x1, aoi.y1, geotrans, latlon=False), \n",
    "        'lr': geolocation(aoi.x2, aoi.y2, geotrans, latlon=False)\n",
    "    }\n",
    "    print(f\"aoi_coords in EPSG {utm}: {aoi_coords}\")\n",
    "except TypeError:\n",
    "    print('TypeError')\n",
    "    display(Markdown(f'<text style=color:red>This error occurs if an AOI was not selected.</text>'))\n",
    "    display(Markdown(f'<text style=color:red>Note that the square tool icon in the AOI selector menu is <b>NOT</b> the selection tool. It is the zoom tool.</text>'))\n",
    "    display(Markdown(f'<text style=color:red>Read the tips above the AOI selector carefully.</text>'))"
   ]
  },
  {
   "cell_type": "markdown",
   "metadata": {},
   "source": [
    "---\n",
    "**Create an xarray.DataSet.stack of your AOI containing all the DataSets:**"
   ]
  },
  {
   "cell_type": "code",
   "execution_count": null,
   "metadata": {},
   "outputs": [],
   "source": [
    "stack = datasets[0]\n",
    "stack = stack.drop_vars('backscatter') # remove 2d array, to be replaced with 3d stack\n",
    "del stack.attrs['product_name'] # remove since dataset will hold data from multiple products \n",
    "stack = stack.assign_coords(date=dates)\n",
    "stack.date.attrs['axis'] = \"D\" \n",
    "stack.date.attrs['units'] = f\"date in format YYMMDD\"\n",
    "stack.date.attrs['calendar'] = \"proleptic_gregorian\"\n",
    "stack.date.attrs['long_name'] = \"Date\"\n",
    "\n",
    "# 1st stab at subsetting by coords\n",
    "stack = stack.sel(x=slice(aoi_coords['ul'][0], aoi_coords['lr'][0]), \n",
    "                  y=slice(aoi_coords['ul'][1], aoi_coords['lr'][1]))\n",
    "subset = [d.sel(x=slice(aoi_coords['ul'][0], aoi_coords['lr'][0]), y=slice(aoi_coords['ul'][1], aoi_coords['lr'][1])) for d in datasets]\n",
    "\n",
    "# there may be a cleaner way to do this with xarray.Dataset.to_stacked_array\n",
    "xarr3d = xr.concat([d.backscatter for d in subset], dim=stack.date)\n",
    "stack['backscatter'] = xarr3d"
   ]
  },
  {
   "cell_type": "markdown",
   "metadata": {},
   "source": [
    "**Take a look at the stacked `backscatter` DataArray**"
   ]
  },
  {
   "cell_type": "markdown",
   "metadata": {},
   "source": [
    "---\n",
    "## 3. Now You Can Work With Your Data\n",
    "\n",
    "Now you are ready to perform time series analysis on your data stack\n",
    "\n",
    "---\n",
    "### 3.1 Open Your Data Stack and Visualize Some Layers\n",
    "\n",
    "**Print the bands, pixels, and lines:**"
   ]
  },
  {
   "cell_type": "code",
   "execution_count": null,
   "metadata": {},
   "outputs": [],
   "source": [
    "print(f\"Number of  bands: {len(stack.backscatter)}\")\n",
    "print(f\"Number of pixels: {len(stack.backscatter[0].coords['x'])}\")\n",
    "print(f\"Number of  lines: {len(stack.backscatter[0].coords['y'])}\")"
   ]
  },
  {
   "cell_type": "markdown",
   "metadata": {
    "tags": []
   },
   "source": [
    "**View the stacked Dataset**\n",
    "\n",
    "Notice the:\n",
    "- `backscatter` 3D DataArray containing x, y, and time dimensions\n",
    "- The original attributes are still present (except for product_name)"
   ]
  },
  {
   "cell_type": "code",
   "execution_count": null,
   "metadata": {
    "tags": []
   },
   "outputs": [],
   "source": [
    "stack"
   ]
  },
  {
   "cell_type": "code",
   "execution_count": null,
   "metadata": {
    "tags": []
   },
   "outputs": [],
   "source": [
    "stack.backscatter"
   ]
  },
  {
   "cell_type": "markdown",
   "metadata": {},
   "source": [
    "**Plot images and histograms for bands 1 and 2:**\n",
    "\n",
    "Note: Depending the histograms plotted by this cell, you may wish to adjust vmax when calling imshow() on ax1 and ax3. Increase the vmax value if the histogram cuts off much of the end of the peak, making your image too bright to see features well. Decrease vmax if the histogram extends much beyond the end of the peak, which will make your image appear dark."
   ]
  },
  {
   "cell_type": "code",
   "execution_count": null,
   "metadata": {},
   "outputs": [],
   "source": [
    "# TODO: Add to opensarlab-lib\n",
    "\n",
    "import datetime\n",
    "def datetime_from_hyp3_dt_str(date_str):\n",
    "    return datetime.datetime(int(date_str[0:4]),int(date_str[4:6]),int(date_str[6:8]),\n",
    "                    int(date_str[9:11]),int(date_str[11:13]),int(date_str[13:15]),0)\n",
    "\n",
    "def date_from_hyp3_dt_str(date_str):\n",
    "    return datetime.date(int(date_str[0:4]),int(date_str[4:6]),int(date_str[6:8]))"
   ]
  },
  {
   "cell_type": "code",
   "execution_count": null,
   "metadata": {
    "tags": []
   },
   "outputs": [],
   "source": [
    "# Setup the pyplot plots\n",
    "%matplotlib inline\n",
    "fig = plb.figure(figsize=(18,10)) # Initialize figure with a size\n",
    "ax1 = fig.add_subplot(221)  # 221 determines: 2 rows, 2 plots, first plot\n",
    "ax2 = fig.add_subplot(222)  # 222 determines: 2 rows, 2 plots, second plot\n",
    "ax3 = fig.add_subplot(223)  # 223 determines: 2 rows, 2 plots, third plot\n",
    "ax4 = fig.add_subplot(224)  # 224 determines: 2 rows, 2 plots, fourth plot\n",
    "\n",
    "# Plot the band 1 image\n",
    "band_number = 1\n",
    "raster = stack.backscatter[band_number-1].data\n",
    "date = date_from_hyp3_dt_str(str(int(stack.date[band_number-1])))\n",
    "vmin = np.percentile(raster.flatten().compute(), 5)\n",
    "vmax = np.percentile(raster.flatten().compute(), 95)\n",
    "ax1.imshow(raster, cmap='gray', vmin=vmin, vmax=vmax) # see note above regarding vmax adjustments\n",
    "ax1.set_title(f'Image Band {band_number} {date}')\n",
    "\n",
    "# Flatten the band 1 image into a 1 dimensional vector and plot the histogram:\n",
    "h = ax2.hist(raster.flatten().compute(), bins=200, range=(vmin,vmax)) ###############\n",
    "ax2.xaxis.set_label_text('Amplitude? (Uncalibrated DN Values)')\n",
    "ax2.set_title(f'Histogram Band {band_number} {date}')\n",
    "\n",
    "# # Plot the band 2 image\n",
    "band_number = 2\n",
    "raster = stack.backscatter[band_number-1].data\n",
    "date = date_from_hyp3_dt_str(str(int(stack.date[band_number-1])))\n",
    "vmin = np.percentile(raster.flatten().compute(), 5)\n",
    "vmax = np.percentile(raster.flatten().compute(), 95)\n",
    "ax3.imshow(raster, cmap='gray', vmin=vmin, vmax=vmax) # see note above regarding vmax adjustments\n",
    "ax3.set_title(f'Image Band {band_number} {date}')\n",
    "\n",
    "# Flatten the band 2 image into a 1 dimensional vector and plot the histogram:\n",
    "h = ax4.hist(raster.flatten().compute(), bins=200, range=(vmin,vmax))\n",
    "ax4.xaxis.set_label_text('Amplitude? (Uncalibrated DN Values)')\n",
    "ax4.set_title(f'Histogram Band {band_number} {date}')"
   ]
  },
  {
   "cell_type": "markdown",
   "metadata": {},
   "source": [
    "---\n",
    "### 3.3 Calibration and Data Conversion between dB and Power Scales\n",
    "\n",
    "**Note, that if your data were generated by HyP3, this step is not necessary!** HyP3 performs the full data calibration and provides you with calibrated data in power scale.\n",
    "    \n",
    "If, your data is from a different source, however, calibration may be necessary to ensure that image gray values correspond to proper radar cross section information. \n",
    "\n",
    "Calibration coefficients for SAR data are often defined in the decibel (dB) scale due to the high dynamic range of the imaging system. For the L-band ALOS PALSAR data at hand, the conversion from uncalibrated DN values to calibrated radar cross section values in dB scale is performed by applying a standard **calibration factor of -83 dB**. \n",
    "\n",
    "$\\gamma^0_{dB} = 20 \\cdot log10(DN) -83$\n",
    "\n",
    "The data at hand are radiometrically terrain corrected images, which are often expressed as terrain flattened $\\gamma^0$ backscattering coefficients. For forest and land cover monitoring applications $\\gamma^o$ is the preferred metric.\n",
    "\n",
    "**To apply the calibration constant for your data and export in *dB* scale, uncomment the following code cell:**"
   ]
  },
  {
   "cell_type": "code",
   "execution_count": null,
   "metadata": {},
   "outputs": [],
   "source": [
    " # caldB=20*np.log10(stack.backscatter)-83"
   ]
  },
  {
   "cell_type": "markdown",
   "metadata": {},
   "source": [
    "While **dB**-scaled images are often \"visually pleasing\", they are often not a good basis for mathematical operations on data. For instance, when we compute the mean of observations, it makes a difference whether we do that in power or dB scale. Since dB scale is a logarithmic scale, we cannot simply average data in that scale. \n",
    "    \n",
    "Please note that the **correct scale** in which operations need to be performed **is the power scale.** This is critical, e.g. when speckle filters are applied, spatial operations like block averaging are performed, or time series are analyzed.\n",
    "\n",
    "To **convert from dB to power**, apply: $\\gamma^o_{pwr} = 10^{\\frac{\\gamma^o_{dB}}{10}}$"
   ]
  },
  {
   "cell_type": "code",
   "execution_count": null,
   "metadata": {},
   "outputs": [],
   "source": [
    "# calPwr=np.power(10.,caldB/10.)"
   ]
  },
  {
   "cell_type": "markdown",
   "metadata": {},
   "source": [
    "---\n",
    "### 3.4 Create a Time Series Animation\n",
    "\n",
    "Now we are ready to create a time series animation from the calibrated SAR data.\n",
    "\n",
    "**First, create a raster from band 0 and a raster stack from all the images:**"
   ]
  },
  {
   "cell_type": "markdown",
   "metadata": {},
   "source": [
    "**Create a masked raster stack:**"
   ]
  },
  {
   "cell_type": "code",
   "execution_count": null,
   "metadata": {},
   "outputs": [],
   "source": [
    "rs2 = stack.backscatter.where(stack.backscatter != 0).to_masked_array()"
   ]
  },
  {
   "cell_type": "markdown",
   "metadata": {},
   "source": [
    "**Generate a matplotlib time-series animation:**"
   ]
  },
  {
   "cell_type": "code",
   "execution_count": null,
   "metadata": {
    "tags": []
   },
   "outputs": [],
   "source": [
    "%%capture \n",
    "import dask\n",
    "fig = plt.figure(figsize=(14, 8))\n",
    "ax = fig.subplots()\n",
    "ax.axis('off')\n",
    "vmin = np.percentile(stack.backscatter[0].data.flatten().compute(), 5)\n",
    "vmax = np.percentile(stack.backscatter[0].data.flatten().compute(), 95)\n",
    "r0dB = 20 * np.log10(stack.backscatter[0]) - 83\n",
    "date = date_from_hyp3_dt_str(str(int(stack.date[0])))\n",
    "im = ax.imshow(stack.backscatter[0], cmap='gray', vmin=vmin, vmax=vmax)\n",
    "ax.set_title(f\"{date}\")\n",
    "\n",
    "def animate(i):\n",
    "    date = date_from_hyp3_dt_str(str(int(stack.date[i])))\n",
    "    ax.set_title(f\"{date}\")\n",
    "    im.set_data(stack.backscatter[i])\n",
    "\n",
    "# Interval is given in milliseconds\n",
    "ani = animation.FuncAnimation(fig, animate, frames=stack.backscatter.shape[0], interval=400)"
   ]
  },
  {
   "cell_type": "markdown",
   "metadata": {},
   "source": [
    "**Configure matplotlib's RC settings for the animation:**"
   ]
  },
  {
   "cell_type": "code",
   "execution_count": null,
   "metadata": {},
   "outputs": [],
   "source": [
    "rc('animation', embed_limit=40971520.0)  # We need to increase the limit maybe to show the entire animation"
   ]
  },
  {
   "cell_type": "markdown",
   "metadata": {},
   "source": [
    "**Create a javascript animation of the time-series running inline in the notebook:**"
   ]
  },
  {
   "cell_type": "code",
   "execution_count": null,
   "metadata": {},
   "outputs": [],
   "source": [
    "HTML(ani.to_jshtml())"
   ]
  },
  {
   "cell_type": "markdown",
   "metadata": {},
   "source": [
    "**Delete the dummy png** that was saved to the current working directory while generating the javascript animation in the last code cell."
   ]
  },
  {
   "cell_type": "code",
   "execution_count": null,
   "metadata": {
    "hide_input": false
   },
   "outputs": [],
   "source": [
    "try:\n",
    "    product_path/Path('None0000000.png').unlink()\n",
    "except FileNotFoundError:\n",
    "    pass"
   ]
  },
  {
   "cell_type": "code",
   "execution_count": null,
   "metadata": {},
   "outputs": [],
   "source": [
    "\n",
    "# nc_path = product_path/\"stack.nc4\"\n",
    "# s3_path = \"s3://asf-jupyter-data-west/zarr_test/bangladesh_vh_stack\"\n",
    "\n",
    "# s3 = s3fs.S3FileSystem(anon=True)\n",
    "\n",
    "\n",
    "# ds = xr.open_dataset(nc_path)\n",
    "# store = s3fs.S3Map(root=s3_path, s3=s3, check=False)\n",
    "# compressor = zarr.Blosc(cname='zstd', clevel=3)\n",
    "# encoding = {vname: {'compressor': compressor} for vname in ds.data_vars}\n",
    "# try:\n",
    "#     ds.to_zarr(store=store, encoding=encoding, consolidated=True, group=nc_path.stem)\n",
    "# except:\n",
    "#     # TODO do something to handle existing S3 objects with same key\n",
    "#     raise"
   ]
  },
  {
   "cell_type": "markdown",
   "metadata": {},
   "source": [
    "**Save the animation (animation.gif):**"
   ]
  },
  {
   "cell_type": "code",
   "execution_count": null,
   "metadata": {},
   "outputs": [],
   "source": [
    "ani.save(f\"{product_path}/animation.gif\", writer='pillow', fps=2)"
   ]
  },
  {
   "cell_type": "markdown",
   "metadata": {},
   "source": [
    "---\n",
    "### 3.5 Plot the Time Series of Means Calculated Across the Subset\n",
    "\n",
    "To create the time series of means, we will go through the following steps:\n",
    "1. Ensure that you use the data in **power scale** ($\\gamma^o_{pwr}$) for your mean calculations.\n",
    "1. compute means.\n",
    "1. convert the resulting mean values into dB scale for visualization.\n",
    "1. plot time series of means.\n",
    "\n",
    "**Compute the means:**"
   ]
  },
  {
   "cell_type": "code",
   "execution_count": null,
   "metadata": {},
   "outputs": [],
   "source": [
    "rs_means_pwr = np.mean(rs2, axis=(1, 2))"
   ]
  },
  {
   "cell_type": "markdown",
   "metadata": {},
   "source": [
    "**Convert resulting mean value time-series to dB scale for visualization:**"
   ]
  },
  {
   "cell_type": "code",
   "execution_count": null,
   "metadata": {},
   "outputs": [],
   "source": [
    "rs_means_dB = 10.*np.log10(rs_means_pwr)"
   ]
  },
  {
   "cell_type": "markdown",
   "metadata": {},
   "source": [
    "**Plot and save the time series of means (RCSoverTime.png):**"
   ]
  },
  {
   "cell_type": "code",
   "execution_count": null,
   "metadata": {},
   "outputs": [],
   "source": [
    "try:\n",
    "    plt.rcParams.update({'font.size': 14})\n",
    "    fig = plt.figure(figsize=(16, 4))\n",
    "    ax1 = fig.subplots()\n",
    "    window_length = len(rs_means_pwr)-1\n",
    "    if window_length % 2 == 0:\n",
    "        window_length -= 1\n",
    "    polyorder = math.ceil(window_length*0.1)\n",
    "    yhat = scipy.signal.savgol_filter(rs_means_pwr, window_length, polyorder) \n",
    "    ax1.plot([date_from_hyp3_dt_str(d) for d in dates], yhat, color='red', marker='o', markerfacecolor='white', linewidth=3, markersize=6)\n",
    "    ax1.plot([date_from_hyp3_dt_str(d) for d in dates], rs_means_pwr, color='gray', linewidth=0.5)\n",
    "    plt.grid()\n",
    "    ax1.set_xlabel('Date')\n",
    "    ax1.set_ylabel('$\\overline{\\gamma^o}$ [power]')\n",
    "    plt.savefig(f\"{product_path}/RCSoverTime.png\", dpi=72, transparent='true')\n",
    "except ValueError as e:\n",
    "    print(f\"Error: polyorder: {polyorder} >= window_length: {window_length}\")\n",
    "    raise"
   ]
  },
  {
   "cell_type": "markdown",
   "metadata": {},
   "source": [
    "---\n",
    "### 3.6 Calculate Coefficient of Variance\n",
    "\n",
    "The coefficient of variance describes how much the $\\sigma_{0}$ or $\\gamma_{0}$ measurements in a pixel vary over time. Hence, the coefficient of variance can indicate different vegetation cover and soil moisture regimes in your area.\n",
    "\n",
    "**Write a function to convert our plots into GeoTiffs:**"
   ]
  },
  {
   "cell_type": "code",
   "execution_count": null,
   "metadata": {},
   "outputs": [],
   "source": [
    "def geotiff_from_plot(source_image, out_filename, extent, utm, cmap=None, vmin=None, vmax=None, interpolation=None, dpi=300):\n",
    "    assert \".\" not in out_filename, 'Error: Do not include the file extension in out_filename'\n",
    "    assert type(extent) == list and len(extent) == 2 and len(extent[0]) == 2 and len(\n",
    "        extent[1]) == 2, 'Error: extent must be a list in the form [[upper_left_x, upper_left_y], [lower_right_x, lower_right_y]]'\n",
    "    \n",
    "    plt.figure()\n",
    "    plt.axis('off')\n",
    "    plt.imshow(source_image, cmap=cmap, vmin=vmin, vmax=vmax, interpolation=interpolation)\n",
    "    temp = f\"{out_filename}_temp.png\"\n",
    "    plt.savefig(temp, dpi=dpi, transparent='true', bbox_inches='tight', pad_inches=0)\n",
    "\n",
    "    cmd = f\"gdal_translate -of Gtiff -a_ullr {extent[0][0]} {extent[0][1]} {extent[1][0]} {extent[1][1]} -a_srs EPSG:{utm} {temp} {out_filename}.tiff\"\n",
    "    !{cmd}\n",
    "    try:\n",
    "        Path(temp).unlink()\n",
    "    except FileNotFoundError:\n",
    "        pass"
   ]
  },
  {
   "cell_type": "markdown",
   "metadata": {},
   "source": [
    "**Plot the Coefficient of Variance Map and save it as a png (Coeffvar.png):**"
   ]
  },
  {
   "cell_type": "code",
   "execution_count": null,
   "metadata": {
    "tags": []
   },
   "outputs": [],
   "source": [
    "test = np.var(stack.backscatter, 0)\n",
    "mtest = stack.backscatter.where(stack.backscatter != 0).mean()\n",
    "coeffvar = test/(mtest+0.001)\n",
    "\n",
    "plt.rcParams.update({'font.size': 14})\n",
    "fig = plt.figure(figsize=(13, 10))\n",
    "ax = fig.subplots()\n",
    "ax.axis('off')\n",
    "vmin = np.percentile(coeffvar.data.flatten(), 5)\n",
    "vmax = np.percentile(coeffvar.data.flatten(), 95)\n",
    "ax.set_title('Coefficient of Variance Map')\n",
    "im = ax.imshow(coeffvar, cmap='jet', vmin=vmin, vmax=vmax)\n",
    "fig.colorbar(im, ax=ax)\n",
    "plt.savefig(f\"{product_path}/Coeffvar.png\", dpi=300, transparent='true')                                                                                                                                                               "
   ]
  },
  {
   "cell_type": "markdown",
   "metadata": {},
   "source": [
    "**Save the coefficient of variance map as a GeoTiff (Coeffvar.tiff):**"
   ]
  },
  {
   "cell_type": "code",
   "execution_count": null,
   "metadata": {},
   "outputs": [],
   "source": [
    "%%capture\n",
    "geotiff_from_plot(coeffvar, f\"{product_path}/Coeffvar\", [coords['ul'], coords['lr']], utm, cmap='jet', vmin=vmin, vmax=vmax)"
   ]
  },
  {
   "cell_type": "markdown",
   "metadata": {},
   "source": [
    "---\n",
    "### 3.7 Threshold Coefficient of Variance Map\n",
    "\n",
    "This is an example how to threshold the derived coefficient of variance map. This can be useful, e.g., to detect areas of active agriculture.\n",
    "\n",
    "**Plot and save the coefficient of variance histogram and CDF (thresh_coeff_var_histogram.png):**"
   ]
  },
  {
   "cell_type": "code",
   "execution_count": null,
   "metadata": {
    "tags": []
   },
   "outputs": [],
   "source": [
    "plt.rcParams.update({'font.size': 14})\n",
    "fig = plt.figure(figsize=(14, 6)) # Initialize figure with a size\n",
    "ax1 = fig.add_subplot(121)  # 121 determines: 2 rows, 2 plots, first plot\n",
    "ax2 = fig.add_subplot(122)\n",
    "# Second plot: Histogram\n",
    "# IMPORTANT: To get a histogram, we first need to *flatten* \n",
    "# the two-dimensional image into a one-dimensional vector.\n",
    "flat_coeffvar = xr.DataArray(coeffvar.data.flatten())\n",
    "h = ax1.hist(flat_coeffvar, bins=200, range=(0, 0.03))\n",
    "ax1.xaxis.set_label_text('Coefficient of Variation')\n",
    "ax1.set_title('Coeffvar Histogram')\n",
    "plt.grid()\n",
    "n, bins, patches = ax2.hist(flat_coeffvar, bins=200, range=(0, 0.03), cumulative='True', density='True', histtype='step', label='Empirical')\n",
    "ax2.xaxis.set_label_text('Coefficient of Variation')\n",
    "ax2.set_title('Coeffvar CDF')\n",
    "plt.grid()\n",
    "plt.savefig(f\"{product_path}/thresh_coeff_var_histogram.png\", dpi=72, transparent='true')"
   ]
  },
  {
   "cell_type": "markdown",
   "metadata": {},
   "source": [
    "**Plot the Threshold Coefficient of Variance Map and save it as a png (Coeffvarthresh.png):**"
   ]
  },
  {
   "cell_type": "code",
   "execution_count": null,
   "metadata": {},
   "outputs": [],
   "source": [
    "plt.rcParams.update({'font.size': 14})\n",
    "outind = np.where(n > 0.80)\n",
    "threshind = np.min(outind)\n",
    "thresh = bins[threshind]\n",
    "coeffvarthresh = np.copy(coeffvar)\n",
    "coeffvarthresh[coeffvarthresh < thresh] = 0\n",
    "coeffvarthresh[coeffvarthresh > 0.1] = 0\n",
    "fig = plt.figure(figsize=(13, 10))\n",
    "ax = fig.subplots()\n",
    "ax.axis('off')\n",
    "vmin = np.percentile(flat_coeffvar, 5)\n",
    "vmax = np.percentile(flat_coeffvar, 95)\n",
    "ax.set_title(r'Thresholded Coeffvar Map [$\\alpha=95%$]')\n",
    "im = ax.imshow(coeffvarthresh, cmap='jet', vmin=vmin, vmax=vmax)\n",
    "bar = fig.colorbar(im, ax=ax)\n",
    "plt.savefig(f\"{product_path}/Coeffvarthresh.png\", dpi=300, transparent='true')"
   ]
  },
  {
   "cell_type": "markdown",
   "metadata": {},
   "source": [
    "**Save the Threshold Coefficient of Variance Map as a GeoTiff (Coeffvarthresh.tiff):**"
   ]
  },
  {
   "cell_type": "code",
   "execution_count": null,
   "metadata": {},
   "outputs": [],
   "source": [
    "%%capture\n",
    "geotiff_from_plot(coeffvarthresh, f\"{product_path}/Coeffvarthresh\", [coords['ul'], coords['lr']], utm, cmap='jet', vmin=vmin, vmax=vmax)"
   ]
  },
  {
   "cell_type": "markdown",
   "metadata": {},
   "source": [
    "*Time_Series_From_Zarr_Stack.ipynb - Version 0.1.0 - February 2022*"
   ]
  }
 ],
 "metadata": {
  "kernelspec": {
   "display_name": "rtc_analysis",
   "language": "python",
   "name": "conda-env-.local-rtc_analysis-py"
  },
  "language_info": {
   "codemirror_mode": {
    "name": "ipython",
    "version": 3
   },
   "file_extension": ".py",
   "mimetype": "text/x-python",
   "name": "python",
   "nbconvert_exporter": "python",
   "pygments_lexer": "ipython3",
   "version": "3.9.10"
  }
 },
 "nbformat": 4,
 "nbformat_minor": 4
}
