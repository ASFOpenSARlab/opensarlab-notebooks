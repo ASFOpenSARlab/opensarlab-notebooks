{
 "cells": [
  {
   "cell_type": "code",
   "execution_count": null,
   "id": "d92f579f-e608-4982-bd1b-fc70be28e43b",
   "metadata": {},
   "outputs": [],
   "source": [
    "import contextlib\n",
    "import math\n",
    "from pathlib import Path\n",
    "# import time\n",
    "\n",
    "from ipyfilechooser import FileChooser\n",
    "\n",
    "import numpy as np\n",
    "import s3fs\n",
    "import xarray as xr\n",
    "import zarr\n",
    "\n",
    "import opensarlab_lib as osl\n",
    "\n",
    "import matplotlib.pyplot as plt"
   ]
  },
  {
   "cell_type": "markdown",
   "id": "f0f83faf-5209-40a9-a96e-cf61f7eb8a05",
   "metadata": {},
   "source": [
    "**Write aliases to the jupyter `%timeit` magic for 1, 10, 100, and 1000 iterations**\n",
    "\n",
    "These aliases can be used to time your code. \n",
    "\n",
    "`elapsed_time = %t100 foo(bar)`\n",
    "\n",
    "The above code will time running `foo(bar)` over 100 iterations.\n",
    "    "
   ]
  },
  {
   "cell_type": "code",
   "execution_count": null,
   "id": "e4f7be5c-5dc4-478f-873d-57375e4be8b2",
   "metadata": {},
   "outputs": [],
   "source": [
    "%alias_magic t1 timeit -p \"-t -q -r 1 -n 1 -o\" --line\n",
    "%alias_magic t10 timeit -p \"-t -q -r 1 -n 10 -o\" --line\n",
    "%alias_magic t100 timeit -p \"-t -q -r 1 -n 100 -o\" --line\n",
    "%alias_magic t1000 timeit -p \"-t -q -r 1 -n 1000 -o\" --line"
   ]
  },
  {
   "cell_type": "markdown",
   "id": "88f95ecc-336a-4534-97f2-86e58cc8d0fa",
   "metadata": {},
   "source": [
    "**Write a function to plot bar charts comparing Zarr store access times**"
   ]
  },
  {
   "cell_type": "code",
   "execution_count": null,
   "id": "a89615a4-04ff-4f5a-bc0a-aa048f9eccbf",
   "metadata": {},
   "outputs": [],
   "source": [
    "def plot_zarr_access_time_compare(times, units, title, figsize=(10, 10)):\n",
    "    data = list(times.values())\n",
    "    columns = list(times.keys())\n",
    "\n",
    "    max_t = math.ceil(math.floor(max(data)) + (math.floor(max(data)) / 4))\n",
    "    print(max_t)\n",
    "    values = np.arange(0.0, max_t, round(max_t/4, 1))\n",
    "    \n",
    "    edge_colors = ['mediumseagreen', 'tomato']\n",
    "    face_colors = ['honeydew', 'lightsalmon']\n",
    "    if data[0] > data[1]:\n",
    "        edge_colors.reverse()\n",
    "        face_colors.reverse()\n",
    "\n",
    "    index = [0, 0.45]\n",
    "    bar_width = 0.4\n",
    "    fig = plt.subplots(figsize=figsize)\n",
    "    bars = plt.bar(index, data, bar_width, linewidth=3, color=face_colors, edgecolor=edge_colors)\n",
    "    plt.bar_label(bars, [f\"{t:.2f} {units}\" for t in data], label_type='center')\n",
    "\n",
    "    plt.ylabel(f\"Zarr Store Access Time in {units}\")\n",
    "    plt.yticks(values)\n",
    "    plt.xticks(index, [f\"{c}\\nZarr Store\" for c in columns])\n",
    "\n",
    "    plt.title(title)\n",
    "    plt.show()"
   ]
  },
  {
   "cell_type": "markdown",
   "id": "0af26b63-df36-4725-b1ce-e9fb36bcb7b6",
   "metadata": {},
   "source": [
    "**Are you accessing a local or remote Zarr store in S3?**"
   ]
  },
  {
   "cell_type": "code",
   "execution_count": null,
   "id": "11bf5413-9b6d-49f9-b929-542a4b309756",
   "metadata": {},
   "outputs": [],
   "source": [
    "store_type = osl.select_parameter(['local Zarr store', 'remote zarr store in S3'])\n",
    "display(store_type)"
   ]
  },
  {
   "cell_type": "code",
   "execution_count": null,
   "id": "823c0d78-9a4d-4be4-a3a4-3c5e333fc428",
   "metadata": {},
   "outputs": [],
   "source": [
    "local = store_type.value == 'local Zarr store'"
   ]
  },
  {
   "cell_type": "markdown",
   "id": "1693b853-dad3-4195-b116-d190e707ce95",
   "metadata": {},
   "source": [
    "**Select a space optimized zarr store RTC stack and open it with xarray**\n",
    "\n",
    "The handle of the open spatially optimized data set is `space_op`"
   ]
  },
  {
   "cell_type": "code",
   "execution_count": null,
   "id": "9db8056f-bde2-4f20-8d3a-3917dd3607bf",
   "metadata": {},
   "outputs": [],
   "source": [
    "# if local:\n",
    "#     fc_1 = FileChooser(Path.cwd())\n",
    "#     display(fc_1)"
   ]
  },
  {
   "cell_type": "code",
   "execution_count": null,
   "id": "00f08eeb-6c2b-4263-9d54-47259d98109a",
   "metadata": {},
   "outputs": [],
   "source": [
    "if local:\n",
    "    # store_1 = Path(fc_1.selected_path)\n",
    "    space_store = \"/home/jovyan/notebooks/SAR_Training/English/Master/mekong/stack_space_optimized_100MB/\"\n",
    "    space_op = xr.open_zarr(store=space_store, consolidated=True)"
   ]
  },
  {
   "cell_type": "markdown",
   "id": "167f2b89-613d-4c97-b964-2320568b32db",
   "metadata": {},
   "source": [
    "**Select a time optimized zarr store RTC stack and open it with xarray**\n",
    "\n",
    "The handle of the open temporally optimized data set is `time_op`"
   ]
  },
  {
   "cell_type": "code",
   "execution_count": null,
   "id": "de2b4b59-d459-4771-9b19-5d080c58215f",
   "metadata": {},
   "outputs": [],
   "source": [
    "# if local:\n",
    "#     fc_2 = FileChooser(Path.cwd())\n",
    "#     display(fc_2)"
   ]
  },
  {
   "cell_type": "code",
   "execution_count": null,
   "id": "23708725-a794-44ad-862a-7aafdee5e533",
   "metadata": {},
   "outputs": [],
   "source": [
    "if local:\n",
    "    # store_2 = Path(fc_2.selected_path)\n",
    "    time_store = \"/home/jovyan/notebooks/SAR_Training/English/Master/mekong/stack_time_optimized_100MB/\"  \n",
    "    time_op = xr.open_zarr(store=time_store, consolidated=True)"
   ]
  },
  {
   "cell_type": "markdown",
   "id": "2f622f5f-0e96-442d-a067-4dbba8ec9433",
   "metadata": {},
   "source": [
    "**If using remote Zarr stores, this assumes you are working with 2 groups in the same store**"
   ]
  },
  {
   "cell_type": "code",
   "execution_count": null,
   "id": "0a8fe386-c51a-4e64-ba8c-7956df12c7ed",
   "metadata": {},
   "outputs": [],
   "source": [
    "if not local:\n",
    "    # s3_path = input(\"Enter the S3 bucket path to your Zarr store\")\n",
    "    s3_path = \"s3://asf-jupyter-data-west/zarr_test/mekong\"\n",
    "    s3 = s3fs.S3FileSystem(anon=True)\n",
    "    store = s3fs.S3Map(root=s3_path, s3=s3, check=False)\n",
    "\n",
    "    # space_group = input(\"Enter the name of the group containing a spatially optimized zarr store stack\")\n",
    "    space_group = 'stack_space_optimized_100MB_chunks'\n",
    "    space_op = xr.open_zarr(store=store, consolidated=True, group=space_group)                 \n",
    "\n",
    "    # time_group = input(\"Enter the name of the group containing a temporally optimized zarr store stack\")\n",
    "    time_group = 'stack_time_optimized_100MB_chunks'\n",
    "    time_op = xr.open_zarr(store=store, consolidated=True, group=time_group)"
   ]
  },
  {
   "cell_type": "markdown",
   "id": "68fc9540-d893-4a7f-8d80-2a5d4a4ab513",
   "metadata": {},
   "source": [
    "**Explore the Datasets and compare their chunking**"
   ]
  },
  {
   "cell_type": "code",
   "execution_count": null,
   "id": "b86a2d78-780b-4055-9235-035d168d1970",
   "metadata": {},
   "outputs": [],
   "source": [
    "space_op"
   ]
  },
  {
   "cell_type": "code",
   "execution_count": null,
   "id": "cd010842-c6ea-4a8c-b90a-c262a70ed18b",
   "metadata": {},
   "outputs": [],
   "source": [
    "time_op"
   ]
  },
  {
   "cell_type": "code",
   "execution_count": null,
   "id": "1bdccbdd-7489-4c57-8b14-c1d85ed7729b",
   "metadata": {},
   "outputs": [],
   "source": [
    "print(f\"Time optimized chunking:\\n{time_op.chunks}\")\n",
    "print(f\"\\nSpatially optimized chunking:\\n{space_op.chunks}\")"
   ]
  },
  {
   "cell_type": "markdown",
   "id": "3b5e9d38-593d-41a6-aa50-5eabeca98cd8",
   "metadata": {},
   "source": [
    "---\n",
    "# 1: Speed test accessing arrays of pixels in various dimensions using time vs. spatially optimized zarr stores using xarray\n",
    "\n",
    "### 1.1: Time creating a point time series xarray.Dataset (containing vv and vh backscatter xarray.DataArrays) from temporally-optimized vs spatially-optimized zarr stores"
   ]
  },
  {
   "cell_type": "code",
   "execution_count": null,
   "id": "24cd23a6-ef14-4867-aac2-aa3d5473ec69",
   "metadata": {},
   "outputs": [],
   "source": [
    "time_xarray_from_time_op_time = %t1000 time_op.sel(x=slice(675090., 675090.), y=slice(1022430., 1022430.))\n",
    "time_xarray_from_time_op_time"
   ]
  },
  {
   "cell_type": "code",
   "execution_count": null,
   "id": "26fa33d6-96ce-4ac3-a63e-7dd0a0a9a853",
   "metadata": {},
   "outputs": [],
   "source": [
    "time_array_from_space_op_time = %t1000 space_op.sel(x=slice(675090., 675090.), y=slice(1022430., 1022430.))\n",
    "time_array_from_space_op_time"
   ]
  },
  {
   "cell_type": "code",
   "execution_count": null,
   "id": "edc5839a-182d-44d0-aa9b-170077d890c3",
   "metadata": {},
   "outputs": [],
   "source": [
    "percentage = 100 * time_xarray_from_time_op_time.average / time_array_from_space_op_time.average\n",
    "print(f\"\\nAccessing the data from a temporally optimized zarr store took {abs(percentage):.2f}% of the time it took from a spatially optimized zarr store\")\n",
    "print(f\"\\n{abs(percentage):.2f}%\")"
   ]
  },
  {
   "cell_type": "code",
   "execution_count": null,
   "id": "adfb146d-2017-47fb-b393-36b7e78d3783",
   "metadata": {},
   "outputs": [],
   "source": [
    "times = {\n",
    "    'Temporally Optimized': time_xarray_from_time_op_time.average*1000,\n",
    "    'Spatially Optimized': time_array_from_space_op_time.average*1000\n",
    "}\n",
    "title = f'Point Time Series Zarr Store Access:\\nTemporally Optimized store vs Spatially Optimized store\\n using xarray functions'\n",
    "plot_zarr_access_time_compare(times, 'ms', title)"
   ]
  },
  {
   "cell_type": "markdown",
   "id": "0a4d711c-615f-4762-8c10-a20b9efdfed8",
   "metadata": {},
   "source": [
    "---\n",
    "\n",
    "### 1.2: Time creating an xarray.Dataset (containing vv and vh backscatter xarray.DataArrays) across all x coords for a given time and y coord from temporally-optimized vs spatially-optimized zarr stores"
   ]
  },
  {
   "cell_type": "code",
   "execution_count": null,
   "id": "5eee60cb-40db-4f65-b18e-7a5c5ee9f639",
   "metadata": {},
   "outputs": [],
   "source": [
    "x_array_from_space_optimized_time = %t1000 space_op.sel(time=slice('20180106T224528', '20180106T224528'), y=slice(1022430., 1022430.))\n",
    "x_array_from_space_optimized_time"
   ]
  },
  {
   "cell_type": "code",
   "execution_count": null,
   "id": "e08617bf-ff7d-4c31-acdf-598d54df3098",
   "metadata": {},
   "outputs": [],
   "source": [
    "x_array_from_time_optimized_time = %t1000 time_op.sel(time=slice('20180106T224528', '20180106T224528'), y=slice(1022430., 1022430.))\n",
    "x_array_from_time_optimized_time"
   ]
  },
  {
   "cell_type": "code",
   "execution_count": null,
   "id": "809ef37a-127d-478c-8dc0-5efd17173397",
   "metadata": {},
   "outputs": [],
   "source": [
    "percentage = 100 * x_array_from_space_optimized_time.average / x_array_from_time_optimized_time.average\n",
    "print(f\"\\nAccessing the data from a spatially optimized zarr store took {abs(percentage):.2f}% of the time it took from a temporally optimized zarr store\")\n",
    "print(f\"\\n{abs(percentage):.2f}%\")"
   ]
  },
  {
   "cell_type": "code",
   "execution_count": null,
   "id": "f227fcbf-f0bb-41c8-9748-9428f45b873f",
   "metadata": {},
   "outputs": [],
   "source": [
    "times = {\n",
    "    'Temporally Optimized': x_array_from_time_optimized_time.average*1000,\n",
    "    'Spatially Optimized': x_array_from_space_optimized_time.average*1000\n",
    "}\n",
    "title = f'x coord spatial Zarr Store Access:\\nTemporally Optimized store vs Spatially Optimized store\\n using xarray functions'\n",
    "plot_zarr_access_time_compare(times, 'ms', title)"
   ]
  },
  {
   "cell_type": "markdown",
   "id": "2b2bfe56-282a-4619-aa95-94579e0aecff",
   "metadata": {},
   "source": [
    "---\n",
    "### 1.3: Time creating an xarray.Dataset (containing vv and vh backscatter xarray.DataArrays) across all y coords for a given time and x coord from temporally-optimized vs spatially-optimized zarr stores**"
   ]
  },
  {
   "cell_type": "code",
   "execution_count": null,
   "id": "a57c64d7-48a8-4753-8791-57e459dfc447",
   "metadata": {},
   "outputs": [],
   "source": [
    "y_array_from_space_optimized_time = %t1000 space_op.sel(time=slice('20180106T224528', '20180106T224528'), x=slice(675090., 675090.))\n",
    "y_array_from_space_optimized_time"
   ]
  },
  {
   "cell_type": "code",
   "execution_count": null,
   "id": "f0cdd64b-a155-412f-bdf8-acd4f87c5230",
   "metadata": {},
   "outputs": [],
   "source": [
    "y_array_from_time_optimized_time = %t1000 time_op.sel(time=slice('20180106T224528', '20180106T224528'), x=slice(675090., 675090.))\n",
    "y_array_from_time_optimized_time"
   ]
  },
  {
   "cell_type": "code",
   "execution_count": null,
   "id": "e542e4fc-0870-46ed-84f9-10d305705ad3",
   "metadata": {},
   "outputs": [],
   "source": [
    "percentage = 100 * y_array_from_space_optimized_time.average / y_array_from_time_optimized_time.average\n",
    "print(f\"\\nAccessing the data from a spatially optimized zarr store took {abs(percentage):.2f}% of the time it took from a temporally optimized zarr store\")\n",
    "print(f\"\\n{abs(percentage):.2f}%\")"
   ]
  },
  {
   "cell_type": "code",
   "execution_count": null,
   "id": "0af8fd27-7ccd-441e-b553-65910ffcd2a0",
   "metadata": {},
   "outputs": [],
   "source": [
    "times = {\n",
    "    'Temporally Optimized': y_array_from_time_optimized_time.average*1000,\n",
    "    'Spatially Optimized': y_array_from_space_optimized_time.average*1000\n",
    "}\n",
    "title = f'y coord spatial Zarr Store Access:\\nTemporally Optimized store vs Spatially Optimized store\\n using xarray functions'\n",
    "plot_zarr_access_time_compare(times, 's', title)"
   ]
  },
  {
   "cell_type": "markdown",
   "id": "69af863e-82b6-469a-a371-a86ec7465c4f",
   "metadata": {},
   "source": [
    "---\n",
    "---\n",
    "# 2: Speed test creating similar arrays as above but convert them to numpy.ndarrays\n",
    "\n",
    "- Uses xarray functions to access the desired data and then converts them to numpy.ndarrays\n",
    "\n",
    "### 2.1: Time creating a point time series xarray.Dataset from temporally-optimized vs spatially-optimized zarr stores and converting the VV and VH backscatter xarray.DataArrays to numpy.ndarrays"
   ]
  },
  {
   "cell_type": "code",
   "execution_count": null,
   "id": "039d992b-d493-4f37-8e46-d9103fb40fd7",
   "metadata": {},
   "outputs": [],
   "source": [
    "time_ndarray_from_time_optimized_time = %t10 time_op.vh_backscatter.sel(x=slice(675090., 675090.), y=slice(1022430., 1022430.)).to_numpy(); time_op.vv_backscatter.sel(x=slice(675090., 675090.), y=slice(1022430., 1022430.)).to_numpy()\n",
    "time_ndarray_from_time_optimized_time"
   ]
  },
  {
   "cell_type": "code",
   "execution_count": null,
   "id": "07d11e56-3c19-4067-a30a-ec9926c5f2aa",
   "metadata": {},
   "outputs": [],
   "source": [
    "time_ndarray_from_space_optimized_time = %t10 space_op.vh_backscatter.sel(x=slice(675090., 675090.), y=slice(1022430., 1022430.)).to_numpy(); space_op.vv_backscatter.sel(x=slice(675090., 675090.), y=slice(1022430., 1022430.)).to_numpy();\n",
    "time_ndarray_from_space_optimized_time"
   ]
  },
  {
   "cell_type": "code",
   "execution_count": null,
   "id": "29ad924d-da1e-48cf-bd8b-27302b05ac05",
   "metadata": {},
   "outputs": [],
   "source": [
    "percentage = 100 * time_ndarray_from_time_optimized_time.average / time_ndarray_from_space_optimized_time.average\n",
    "print(f\"\\nAccessing the data from a temporally optimized zarr store took {abs(percentage):.2f}% of the time it took from a spatially optimized zarr store\")\n",
    "print(f\"\\n{abs(percentage):.2f}%\")"
   ]
  },
  {
   "cell_type": "code",
   "execution_count": null,
   "id": "2ac1fabe-ac0b-4d21-962a-be960b3c1dce",
   "metadata": {},
   "outputs": [],
   "source": [
    "times = {\n",
    "    'Temporally Optimized': time_ndarray_from_time_optimized_time.average,\n",
    "    'Spatially Optimized': time_ndarray_from_space_optimized_time.average\n",
    "}\n",
    "title = f'Point Time Series Zarr Store Access and Conversion to Numpy.ndarrays:\\nTemporally Optimized store vs Spatially Optimized store'\n",
    "plot_zarr_access_time_compare(times, 's', title)"
   ]
  },
  {
   "cell_type": "markdown",
   "id": "ea6a7944-fe64-4a15-ae6f-8a0a914ce2f8",
   "metadata": {},
   "source": [
    "---\n",
    "## 2.2: Time creating an xarray.Dataset across all x coords for a given time and y coord and from temporally-optimized vs spatially-optimized zarr stores and converting the VV and VH backscatter xarray.DataArrays to numpy.ndarrays"
   ]
  },
  {
   "cell_type": "code",
   "execution_count": null,
   "id": "9c3e5c8f-b6a2-4a06-b8eb-b0a9c659b4c1",
   "metadata": {},
   "outputs": [],
   "source": [
    "x_ndarray_from_space_optimized_time = %t10 space_op.vh_backscatter.sel(time=slice('20180106T224528', '20180106T224528'), y=slice(1022430., 1022430.)).to_numpy(); space_op.vv_backscatter.sel(time=slice('20180106T224528', '20180106T224528'), y=slice(1022430., 1022430.)).to_numpy()\n",
    "x_ndarray_from_space_optimized_time"
   ]
  },
  {
   "cell_type": "code",
   "execution_count": null,
   "id": "518603db-174c-4efb-8158-d33fa77a8d5d",
   "metadata": {},
   "outputs": [],
   "source": [
    "x_ndarray_from_time_optimized_time = %t10 time_op.vh_backscatter.sel(time=slice('20180106T224528', '20180106T224528'), y=slice(1022430., 1022430.)).to_numpy(); time_op.vv_backscatter.sel(time=slice('20180106T224528', '20180106T224528'), y=slice(1022430., 1022430.)).to_numpy()\n",
    "x_ndarray_from_time_optimized_time"
   ]
  },
  {
   "cell_type": "code",
   "execution_count": null,
   "id": "650b38cc-ef70-45e9-949d-4a48e3dd2191",
   "metadata": {},
   "outputs": [],
   "source": [
    "percentage = 100 * x_ndarray_from_space_optimized_time.average / x_ndarray_from_time_optimized_time.average\n",
    "print(f\"\\nAccessing the data from a spatially optimized zarr store took {abs(percentage):.2f}% of the time it took from a temporally optimized zarr store\")\n",
    "print(f\"\\n{abs(percentage):.2f}%\")"
   ]
  },
  {
   "cell_type": "code",
   "execution_count": null,
   "id": "5dcc2260-546d-4269-8b25-17833837d4c9",
   "metadata": {},
   "outputs": [],
   "source": [
    "times = {\n",
    "    'Temporally Optimized': x_ndarray_from_time_optimized_time.average,\n",
    "    'Spatially Optimized': x_ndarray_from_space_optimized_time.average\n",
    "}\n",
    "title = f'x coord spatial Zarr Store Access and conversion to numpy.ndarrays:\\nTemporally Optimized store vs Spatially Optimized store'\n",
    "plot_zarr_access_time_compare(times, 's', title)"
   ]
  },
  {
   "cell_type": "markdown",
   "id": "4775db95-e202-4301-b1fe-173f8f80f056",
   "metadata": {},
   "source": [
    "---\n",
    "## 2.3: Time creating an xarray.Dataset across all y coords for a given time and x coord and from temporally-optimized vs spatially-optimized zarr stores and converting the VV and VH backscatter xarray.DataArrays to numpy.ndarrays"
   ]
  },
  {
   "cell_type": "code",
   "execution_count": null,
   "id": "e4527b89-ae7c-4c0f-bbef-3995a6cd7662",
   "metadata": {},
   "outputs": [],
   "source": [
    "y_ndarray_from_space_optimized_time = %t10 space_op.vh_backscatter.sel(time=slice('20180106T224528', '20180106T224528'), x=slice(675090., 675090.)).to_numpy(); space_op.vv_backscatter.sel(time=slice('20180106T224528', '20180106T224528'), x=slice(675090., 675090.)).to_numpy()\n",
    "y_ndarray_from_space_optimized_time"
   ]
  },
  {
   "cell_type": "code",
   "execution_count": null,
   "id": "96c9d78b-ba61-4614-8e39-0a47cb76ca37",
   "metadata": {},
   "outputs": [],
   "source": [
    "y_ndarray_from_time_optimized_time = %t10 time_op.vh_backscatter.sel(time=slice('20180106T224528', '20180106T224528'), x=slice(675090., 675090.)).to_numpy(); time_op.vv_backscatter.sel(time=slice('20180106T224528', '20180106T224528'), x=slice(675090., 675090.)).to_numpy()\n",
    "y_ndarray_from_time_optimized_time"
   ]
  },
  {
   "cell_type": "code",
   "execution_count": null,
   "id": "fa593c21-b084-47a2-9212-a395e35e3597",
   "metadata": {},
   "outputs": [],
   "source": [
    "percentage = 100 * y_ndarray_from_space_optimized_time.average / y_ndarray_from_time_optimized_time.average\n",
    "print(f\"\\nAccessing the data from a spatially optimized zarr store took {abs(percentage):.2f}% of the time it took from a temporally optimized zarr store\")\n",
    "print(f\"\\n{abs(percentage):.2f}%\")"
   ]
  },
  {
   "cell_type": "code",
   "execution_count": null,
   "id": "01f8580b-c720-4bab-99b4-67255f5bf50e",
   "metadata": {},
   "outputs": [],
   "source": [
    "times = {\n",
    "    'Temporally Optimized': y_ndarray_from_time_optimized_time.average,\n",
    "    'Spatially Optimized': y_ndarray_from_space_optimized_time.average\n",
    "}\n",
    "title = f'y coord spatial Zarr Store Access and conversion to numpy.ndarrays:\\nTemporally Optimized store vs Spatially Optimized store'\n",
    "plot_zarr_access_time_compare(times, 's', title)"
   ]
  },
  {
   "cell_type": "markdown",
   "id": "ad1c7ff1-45d8-4f4f-a85a-34773c93c7dd",
   "metadata": {},
   "source": [
    "---\n",
    "---\n",
    "# 3: Speed test creating the arrays as Python lists of a single polarization (1/2 the data of the Datasets created above)\n",
    "\n",
    "- This computes the Dataset values, converting them to numpy floats, and assembles them into a Python list\n",
    "- This is very slow so we will only iterate once in the `time_it()` function\n",
    "- This demonstrates why it is important to use xarray functions to access zarr store data\n",
    "    - Converting to numpy data types and assembling lists is orders of magnitude slower than accessing data with xarray\n",
    "\n",
    "****Time creating a point time series Python list of the vh polarization from temporally-optimized vs spatially-optimized zarr stores****"
   ]
  },
  {
   "cell_type": "code",
   "execution_count": null,
   "id": "a29f1c3c-83a7-48e9-b1d9-b7f02b72401e",
   "metadata": {},
   "outputs": [],
   "source": [
    "time_list_from_time_optimized_time = %t1 [time_op.vh_backscatter[i][1000][1000].data.compute() for i in range(0, len(time_op.time))]\n",
    "time_list_from_time_optimized_time"
   ]
  },
  {
   "cell_type": "code",
   "execution_count": null,
   "id": "cb12791d-6ee6-4e13-837d-5212ae2233e9",
   "metadata": {},
   "outputs": [],
   "source": [
    "time_list_from_space_optimized_time = %t1 [space_op.vh_backscatter[i][1000][1000].data.compute() for i in range(0, len(space_op.time))]\n",
    "time_list_from_space_optimized_time"
   ]
  },
  {
   "cell_type": "code",
   "execution_count": null,
   "id": "2debf81d-3a70-4064-b070-012f2e2bc87b",
   "metadata": {},
   "outputs": [],
   "source": [
    "percentage = 100 * time_list_from_time_optimized_time.average / time_list_from_space_optimized_time.average\n",
    "print(f\"\\nAccessing the data from a temporally optimized zarr store took {abs(percentage):.2f}% of the time it took from a spatially optimized zarr store\")\n",
    "print(f\"\\n{abs(percentage):.2f}%\")"
   ]
  },
  {
   "cell_type": "code",
   "execution_count": null,
   "id": "b8ca7463-7179-41b9-8073-d07bff07d0e0",
   "metadata": {},
   "outputs": [],
   "source": [
    "times = {\n",
    "    'Temporally Optimized': time_list_from_time_optimized_time.average,\n",
    "    'Spatially Optimized': time_list_from_space_optimized_time.average\n",
    "}\n",
    "title = f'Point Time Series Zarr Store Access, Computation of Values, and Conversion to Python lists:\\nTemporally Optimized store vs Spatially Optimized store'\n",
    "plot_zarr_access_time_compare(times, 's', title)"
   ]
  },
  {
   "cell_type": "markdown",
   "id": "347f5462-2bde-457a-8a6b-c04cbcddbed4",
   "metadata": {},
   "source": [
    "---\n",
    "**Time creating a Python list (containing only vh backscatter xarray.DataArrays) across all x coords for a given time and y coord from temporally-optimized vs spatially-optimized zarr stores**\n",
    "\n",
    "- This is so slow, we will only access data for the first 100 `y` coords"
   ]
  },
  {
   "cell_type": "code",
   "execution_count": null,
   "id": "2df8ca32-1dcf-4986-840d-c77c4121d4ff",
   "metadata": {},
   "outputs": [],
   "source": [
    "y_list_from_space_optimized_time = %t1 [space_op.vh_backscatter[0][i][1000].data.compute() for i in range(0, len(space_op.y)//100)]\n",
    "y_list_from_space_optimized_time"
   ]
  },
  {
   "cell_type": "code",
   "execution_count": null,
   "id": "b6f3b1be-84e8-4ce9-a272-a7aa2d4ffb92",
   "metadata": {},
   "outputs": [],
   "source": [
    "y_list_from_time_optimized_time = %t1 [time_op.vh_backscatter[0][i][1000].data.compute() for i in range(0, len(time_op.y)//100)]\n",
    "y_list_from_time_optimized_time"
   ]
  },
  {
   "cell_type": "code",
   "execution_count": null,
   "id": "095a2469-2179-437e-a46c-324136f91818",
   "metadata": {},
   "outputs": [],
   "source": [
    "percentage = 100 * y_list_from_space_optimized_time.average / y_list_from_time_optimized_time.average\n",
    "print(f\"\\nAccessing the data from a spatially optimized zarr store took {abs(percentage):.2f}% of the time it took from a temporally optimized zarr store\")\n",
    "print(f\"\\n{abs(percentage):.2f}%\")"
   ]
  },
  {
   "cell_type": "code",
   "execution_count": null,
   "id": "87359278-4033-452f-aa99-7ec2c8c4631d",
   "metadata": {},
   "outputs": [],
   "source": [
    "times = {\n",
    "    'Temporally Optimized': y_list_from_time_optimized_time.average,\n",
    "    'Spatially Optimized': y_list_from_space_optimized_time.average\n",
    "}\n",
    "title = f'x coord spatial Zarr Store Access, Computation of Values, and Conversion to Python lists:\\nTemporally Optimized store vs Spatially Optimized store'\n",
    "plot_zarr_access_time_compare(times, 's', title)"
   ]
  },
  {
   "cell_type": "markdown",
   "id": "94633acf-2ccb-4db3-b614-1070c8ae5454",
   "metadata": {},
   "source": [
    "---\n",
    "**Time creating a Python list (containing only vh backscatter xarray.DataArrays) across all y coords for a given time and x coord from temporally-optimized vs spatially-optimized zarr stores**\n",
    "\n",
    "- This is so slow, we will only access data for the first 100 `x` coords"
   ]
  },
  {
   "cell_type": "code",
   "execution_count": null,
   "id": "2025ca6d-e18d-454a-9801-b2b0c9af8fa9",
   "metadata": {},
   "outputs": [],
   "source": [
    "x_list_from_space_optimized_time = %t1 [space_op.vh_backscatter[0][1000][i].data.compute() for i in range(0, len(space_op.x)//100)]\n",
    "x_list_from_space_optimized_time"
   ]
  },
  {
   "cell_type": "code",
   "execution_count": null,
   "id": "ab48ba8e-a0b3-4d38-bad1-5ef4c13a46ef",
   "metadata": {},
   "outputs": [],
   "source": [
    "x_list_from_time_optimized_time = %t1 [time_op.vh_backscatter[0][1000][i].data.compute() for i in range(0, len(time_op.x)//100)]\n",
    "x_list_from_time_optimized_time"
   ]
  },
  {
   "cell_type": "code",
   "execution_count": null,
   "id": "a609d5b1-b96e-4c4e-8a2b-de8d0ba4bb33",
   "metadata": {},
   "outputs": [],
   "source": [
    "percentage = 100 * x_list_from_space_optimized_time.average / x_list_from_time_optimized_time.average\n",
    "print(f\"\\nAccessing the data from a spatially optimized zarr store took {abs(percentage):.2f}% of the time it took from a temporally optimized zarr store\")\n",
    "print(f\"\\n{abs(percentage):.2f}%\")"
   ]
  },
  {
   "cell_type": "code",
   "execution_count": null,
   "id": "2b206711-3a0b-447c-ac5b-7c0a02b48b75",
   "metadata": {},
   "outputs": [],
   "source": [
    "times = {\n",
    "    'Temporally Optimized': x_list_from_time_optimized_time.average,\n",
    "    'Spatially Optimized': x_list_from_space_optimized_time.average\n",
    "}\n",
    "title = f'y coord spatial Zarr Store Access, Computation of Values, and Conversion to Python lists:\\nTemporally Optimized store vs Spatially Optimized store'\n",
    "plot_zarr_access_time_compare(times, 's', title)"
   ]
  },
  {
   "cell_type": "code",
   "execution_count": null,
   "id": "8f48715a-2759-408b-aef0-25bd8b7662bb",
   "metadata": {},
   "outputs": [],
   "source": []
  }
 ],
 "metadata": {
  "kernelspec": {
   "display_name": "rtc_analysis",
   "language": "python",
   "name": "conda-env-.local-rtc_analysis-py"
  },
  "language_info": {
   "codemirror_mode": {
    "name": "ipython",
    "version": 3
   },
   "file_extension": ".py",
   "mimetype": "text/x-python",
   "name": "python",
   "nbconvert_exporter": "python",
   "pygments_lexer": "ipython3",
   "version": "3.9.10"
  }
 },
 "nbformat": 4,
 "nbformat_minor": 5
}
