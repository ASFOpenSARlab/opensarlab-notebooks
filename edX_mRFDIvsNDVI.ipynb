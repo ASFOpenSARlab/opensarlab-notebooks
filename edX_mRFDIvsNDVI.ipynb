{
 "cells": [
  {
   "cell_type": "markdown",
   "metadata": {},
   "source": [
    "![SAR, InSAR, PolSAR, and banner](https://opensarlab-docs.asf.alaska.edu/opensarlab-notebook-assets/notebook_images/blackboard-banner.png)\n",
    "\n",
    "## **Sentinel-1 Radar Forest Degradation Index (RFDI) vs. Landsat NDVI**\n",
    "\n",
    "### **Franz J Meyer; University of Alaska Fairbanks & Josef Kellndorfer, [Earth Big Data, LLC](http://earthbigdata.com/)**\n",
    "\n",
    "<img src=\"https://opensarlab-docs.asf.alaska.edu/opensarlab-notebook-assets/notebook_images/UAFLogo_A_647.png\" width=\"170\" align=\"right\" />\n",
    "\n",
    "This notebook compares C-band Sentinel-1-derived **modified Radar Forest Degradation Index (mRFDI)** maps to Landsat-8 **Normalized Difference Vegetation Index (NDVI)** information over a forested site in the Hindu Kush Himalaya region. It showcases similarities and differences between the two vegetation metrics and shows seasonal dependencies of both the radar (Sentinel-1) and Landsat-8 data for this area.\n",
    "    \n",
    "The exercise is done in the framework of *Jupyter Notebooks*. The Jupyter Notebook environment is easy to launch in any web browser for interactive data exploration with provided or new training data. Notebooks are comprised of text written in a combination of executable python code and markdown formatting including latex style mathematical equations. Another advantage of Jupyter Notebooks is that they can easily be expanded, changed, and shared with new data sets or newly available time series steps. Therefore, they provide an excellent basis for collaborative and repeatable data analysis. \n",
    "\n",
    "**This notebook covers the following data analysis concepts:**\n",
    "\n",
    "- How to combine SAR and optical data into consistent time series\n",
    "- How do derive RFDI maps from Sentinel-1 SAR observations\n",
    "- How to compare RFID and Landsat-8-derived NDVI maps"
   ]
  },
  {
   "cell_type": "markdown",
   "metadata": {},
   "source": [
    "<hr>"
   ]
  },
  {
   "cell_type": "markdown",
   "metadata": {},
   "source": [
    "# 0. Importing Relevant Python Packages"
   ]
  },
  {
   "cell_type": "markdown",
   "metadata": {},
   "source": [
    "In this notebook we will use the following scientific libraries:\n",
    "\n",
    "1. **[Pandas](https://pandas.pydata.org/)** is a Python library that provides high-level data structures and a vast variety of tools for analysis. The great feature of this package is the ability to translate rather complex operations with data into one or two commands. Pandas contains many built-in methods for filtering and combining data, as well as the time-series functionality.\n",
    "1. **[GDAL](https://www.gdal.org/)** is a software library for reading and writing raster and vector geospatial data formats. It includes a collection of programs tailored for geospatial data processing. Most modern GIS systems (such as ArcGIS or QGIS) use GDAL in the background.\n",
    "1. **[NumPy](http://www.numpy.org/)** is one of the principal packages for scientific applications of Python. It is intended for processing large multidimensional arrays and matrices, and an extensive collection of high-level mathematical functions and implemented methods makes it possible to perform various operations with these objects. \n",
    "1. **[Matplotlib](https://matplotlib.org/index.html)** is a low-level library for creating two-dimensional diagrams and graphs. With its help, you can build diverse charts, from histograms and scatterplots to non-Cartesian coordinates graphs. Moreover, many popular plotting libraries are designed to work in conjunction with matplotlib.  \n",
    "1. **[SciPY](https://www.scipy.org/about.html)** is a library that provides functions for numerical integration, interpolation, optimization, linear algebra and statistics. \n",
    "\n",
    "Our first step is to **import them:**"
   ]
  },
  {
   "cell_type": "code",
   "execution_count": null,
   "metadata": {},
   "outputs": [],
   "source": [
    "%%capture\n",
    "# Check Python version:\n",
    "import sys\n",
    "pn = sys.version_info[0]\n",
    "\n",
    "# Importing relevant python packages\n",
    "from math import ceil\n",
    "from pathlib import Path\n",
    "\n",
    "import pandas as pd\n",
    "import numpy as np\n",
    "from osgeo import gdal # for Info\n",
    "from skimage import exposure # to enhance image display\n",
    "\n",
    "import opensarlab_lib as asfn\n",
    "asfn.jupytertheme_matplotlib_format()\n",
    "\n",
    "\n",
    "# For plotting\n",
    "%matplotlib inline\n",
    "import matplotlib.pylab as plt\n",
    "import matplotlib.patches as patches\n",
    "\n",
    "from IPython.display import Markdown\n",
    "from IPython.display import display\n",
    "\n",
    "font = {'family' : 'monospace',\n",
    "          'weight' : 'bold',\n",
    "          'size'   : 18}\n",
    "plt.rc('font',**font)\n",
    "\n",
    "plt.rcParams.update({'font.size': 12})\n",
    "\n",
    "\n",
    "import copy\n",
    "\n",
    "if pn == 2:\n",
    "    import cStringIO #needed for the image checkboxes\n",
    "elif pn == 3:\n",
    "    import io\n",
    "    import base64\n",
    "\n",
    "\n",
    "#---------------------------------------------------------------------------------------------\n",
    "\n",
    "def moving_window(data, radius=3, verbose=False):\n",
    "    '''Applies a moving window average to a 2D array and returns the result.\n",
    "    \n",
    "    Parameters:\n",
    "    - data: 2D array of raster values\n",
    "    - radius: Radius size in pixels\n",
    "    - verbose: Option to print a message whenever a pixel cannot be added to\n",
    "        the window\n",
    "    '''\n",
    "    [nrow, ncol] = data.shape\n",
    "    windowed = copy.copy(data)\n",
    "    for row in range(nrow):\n",
    "        for col in range(ncol):\n",
    "            vals_in_window = []\n",
    "            row_rng = range(row-radius,row+radius+1)\n",
    "            col_rng = range(col-radius,col+radius+1)\n",
    "            for y in row_rng:\n",
    "                for x in col_rng:\n",
    "                    try:\n",
    "                        val = data[y][x]\n",
    "                        vals_in_window.append(val)\n",
    "                    except Exception as e:\n",
    "                        if verbose:\n",
    "                            print(\"Could not add pixel to list, \" +\n",
    "                                  \"may be due to edge effects\")\n",
    "                            print(e)\n",
    "            windowed[row][col] = np.mean(vals_in_window)\n",
    "    return(windowed)\n",
    "\n",
    "\n",
    "\n",
    "#---------------------------------------------------------------------------------------------\n",
    "\n",
    "# Define a helper function for a 4 part figure with backscatter, NDVI and False Color Infrared\n",
    "def ebd_plot(bandnbrs, sentinel, landsat):\n",
    "    fig,ax = plt.subplots(2, 2, figsize=(13,13))\n",
    "    # Bands for sentinel and landsat:\n",
    "    # Sentinel VV\n",
    "    sentinel_vv = img_handle[0].GetRasterBand(bandnbrs[0]).ReadAsArray(*sentinel)\n",
    "    sentinel_vv = 20.*np.log10(sentinel_vv) - 83 # Covert to dB\n",
    "    # Sentinel VH\n",
    "    sentinel_vh = img_handle[1].GetRasterBand(bandnbrs[1]).ReadAsArray(*sentinel)\n",
    "    sentinel_vh = 20.*np.log10(sentinel_vh) - 83 # Covert to dB\n",
    "    # # Landsat False Color InfraRed\n",
    "    r = img_handle[5].GetRasterBand(bandnbrs[2]).ReadAsArray(*landsat) / 10000.\n",
    "    g = img_handle[4].GetRasterBand(bandnbrs[2]).ReadAsArray(*landsat) / 10000.\n",
    "    b = img_handle[3].GetRasterBand(bandnbrs[2]).ReadAsArray(*landsat) / 10000.\n",
    "    fcir = np.dstack((r,g,b))\n",
    "    for i in range(fcir.shape[2]):\n",
    "        fcir[:,:,i] = exposure.\\\n",
    "        equalize_hist(fcir[:,:,i],\n",
    "        mask = ~np.equal(fcir[:,:,i], -.9999))\n",
    "    # Landsat NDVI\n",
    "    landsat_ndvi = img_handle[2].GetRasterBand(bandnbrs[1]).ReadAsArray(*landsat)\n",
    "    mask=landsat_ndvi == -9999\n",
    "    landsat_ndvi = landsat_ndvi / 10000. # Scale to real NDVI value\n",
    "    landsat_ndvi[mask] = np.nan\n",
    "    svv = ax[0][0].imshow(sentinel_vv, cmap='gray', vmin=np.nanpercentile(sentinel_vv,5),\n",
    "                   vmax=np.nanpercentile(sentinel_vv,95))\n",
    "    cb = fig.colorbar(svv,ax=ax[0][0], orientation='horizontal')\n",
    "    cb.ax.set_title('C-VV $\\gamma^o$ [dB]')\n",
    "    svh = ax[0][1].imshow(sentinel_vh, cmap='gray', vmin=np.nanpercentile(sentinel_vh,5),\n",
    "                   vmax=np.nanpercentile(sentinel_vh,95))\n",
    "    cb = fig.colorbar(svh, ax=ax[0][1], orientation='horizontal')\n",
    "    cb.ax.set_title('C-VH $\\gamma^o$ [dB]')\n",
    "\n",
    "    nvmin = np.nanpercentile(landsat_ndvi,5)\n",
    "    nvmax = np.nanpercentile(landsat_ndvi,95)\n",
    "    # nvmin=-1\n",
    "    # nvmax=1\n",
    "    nax = ax[1][0].imshow(landsat_ndvi, cmap='jet', vmin=nvmin,\n",
    "                   vmax=nvmax)\n",
    "    cb = fig.colorbar(nax, ax=ax[1][0], orientation='horizontal')\n",
    "    cb.ax.set_title('NDVI')\n",
    "\n",
    "    fc = ax[1][1].imshow(fcir)\n",
    "    # cb = fig.colorbar(fc,cmap=cm.gray,ax=ax[1][1],orientation='horizontal')\n",
    "    # cb.ax.set_title('False Color Infrared')\n",
    "\n",
    "    ax[0][0].axis('off')\n",
    "    ax[0][1].axis('off')\n",
    "    ax[1][0].axis('off')\n",
    "    ax[1][1].axis('off')\n",
    "    ax[0][0].set_title('Sentinel-1 C-VV {}'.format(stindex[0][bandnbrs[0]-1].date()))\n",
    "    ax[0][1].set_title('Sentinel-1 C-VH {}'.format(stindex[1][bandnbrs[1]-1].date()))\n",
    "    ax[1][0].set_title('Landsat-8 NDVI {}'.format(ltindex[bandnbrs[2]-1].date()))\n",
    "    ax[1][1].set_title('Landsat-8 False Color IR {}'.format(ltindex[bandnbrs[2]-1].date()))\n",
    "    _ = fig.suptitle('Sentinel-1 Backscatter and Landsat NDVI and False Color IR', size=16)\n",
    "    \n",
    "    \n",
    "# Define a helper function for a 4 part figure with backscatter, mRFDI, and NDVI\n",
    "def RFDI_NDVI_plot(bandnbrs, sentinel, landsat):\n",
    "    fig,ax=plt.subplots(2, 2, figsize=(13,13))\n",
    "    # Bands for sentinel and landsat:\n",
    "    # Sentinel VV\n",
    "    sentinel_vv = img_handle[0].GetRasterBand(bandnbrs[0]).ReadAsArray(*sentinel)\n",
    "    sentinel_vvdB = 20. * np.log10(sentinel_vv) - 83 # Covert to dB\n",
    "    sentinel_vv = np.power(10., sentinel_vvdB/10.) # Covert to power    \n",
    "    # Sentinel VH\n",
    "    sentinel_vh = img_handle[1].GetRasterBand(bandnbrs[1]).ReadAsArray(*sentinel)\n",
    "    sentinel_vhdB = 20.*np.log10(sentinel_vh) - 83 # Covert to dB\n",
    "    sentinel_vh = np.power(10., sentinel_vhdB/10.) # Covert to power\n",
    "    # # Sentinel-1 RFDI\n",
    "    s1_rfdi = (sentinel_vv - sentinel_vh) / (sentinel_vv + sentinel_vh)\n",
    "    s1_rfdi = moving_window(s1_rfdi, radius=3)\n",
    "    # Landsat NDVI\n",
    "    landsat_ndvi = img_handle[2].GetRasterBand(bandnbrs[1]).ReadAsArray(*landsat)\n",
    "    mask = landsat_ndvi == -9999\n",
    "    landsat_ndvi = landsat_ndvi / 10000. # Scale to real NDVI value\n",
    "    landsat_ndvi[mask] = np.nan\n",
    "    \n",
    "    svv = ax[0][0].imshow(sentinel_vv, cmap='gray', \n",
    "                          vmin=np.nanpercentile(sentinel_vv,5),\n",
    "                          vmax=np.nanpercentile(sentinel_vv,95))\n",
    "    cb = fig.colorbar(svv, ax=ax[0][0], orientation='horizontal')\n",
    "    cb.ax.set_title('C-VV $\\gamma^o$ [dB]')\n",
    "    \n",
    "    svh = ax[0][1].imshow(sentinel_vh, cmap='gray', vmin=np.nanpercentile(sentinel_vh,5),\n",
    "                   vmax = np.nanpercentile(sentinel_vh,95))\n",
    "    cb = fig.colorbar(svh, ax=ax[0][1], orientation='horizontal')\n",
    "    cb.ax.set_title('C-VH $\\gamma^o$ [dB]')\n",
    "\n",
    "    rfdimin=np.nanpercentile(s1_rfdi, 5)\n",
    "    rfdimax=np.nanpercentile(s1_rfdi, 95)\n",
    "    rfdiax = ax[1][0].imshow(s1_rfdi, cmap='jet', vmin=rfdimin,\n",
    "                   vmax=rfdimax)\n",
    "    cb = fig.colorbar(rfdiax, ax=ax[1][0], orientation='horizontal')\n",
    "    cb.ax.set_title('Sentinel-1 mRFDI')\n",
    "    \n",
    "    nvmin=np.nanpercentile(landsat_ndvi, 5)\n",
    "    nvmax=np.nanpercentile(landsat_ndvi, 95)\n",
    "    # nvmin=-1\n",
    "    # nvmax=1\n",
    "    nax = ax[1][1].imshow(landsat_ndvi, cmap='jet', vmin=nvmin,\n",
    "                   vmax=nvmax)\n",
    "    cb = fig.colorbar(nax,ax=ax[1][1], orientation='horizontal')\n",
    "    cb.ax.set_title('NDVI')\n",
    "\n",
    "    ax[0][0].axis('off')\n",
    "    ax[0][1].axis('off')\n",
    "    ax[1][0].axis('off')\n",
    "    ax[1][1].axis('off')\n",
    "    ax[0][0].set_title('Sentinel-1 C-VV {}'.format(stindex[0][bandnbrs[0]-1].date()))\n",
    "    ax[0][1].set_title('Sentinel-1 C-VH {}'.format(stindex[1][bandnbrs[1]-1].date()))\n",
    "    ax[1][0].set_title('Sentinel-1 mRFDI {}'.format(stindex[0][bandnbrs[0]-1].date()))\n",
    "    ax[1][1].set_title('Landsat-8 NDVI {}'.format(ltindex[bandnbrs[2]-1].date()))\n",
    "    _ = fig.suptitle('Sentinel-1 Backscatter, mRFDI, and Landsat NDVI', size=16)\n"
   ]
  },
  {
   "cell_type": "markdown",
   "metadata": {
    "tags": []
   },
   "source": [
    "<hr>"
   ]
  },
  {
   "cell_type": "markdown",
   "metadata": {},
   "source": [
    "# 1. Load Data Stack"
   ]
  },
  {
   "cell_type": "markdown",
   "metadata": {},
   "source": [
    "<img src=\"https://opensarlab-docs.asf.alaska.edu/opensarlab-notebook-assets/notebook_images/Nepalclimate.jpeg\" width=\"400\" align=\"right\" />\n",
    "\n",
    "This notebook will be using Sentinel-1 and Landsat-8 SAR and optical time series information over the site in southern Nepal. The C-band time series includes both VV-polarized (70-image deep stack) and VH-polarized (38 images) data. The Landsat-8 stack is 53 images deep. The C-band data are available to us through the services of the [Alaska Satellite Facility](https://www.asf.alaska.edu/).\n",
    "\n",
    "Nepal is an interesting site for this analysis due to the significant seasonality of precipitation that is characteristic for this region. Nepal is said to have five seasons: spring, summer, monsoon, autumn and winter. Precipitation is low in the winter (November - March) and peaks dramatically in the summer, with top rain rates in July, August, and September (see figure to the right). As SAR is sensitive to changes in soil moisture, these weather patterns have a noticeable impact on the Radar Cross Section ($\\sigma$) time series information. \n",
    "\n",
    "---\n",
    "\n",
    "Before we download anything, **create a working directory for this analysis and change into it:**"
   ]
  },
  {
   "cell_type": "code",
   "execution_count": null,
   "metadata": {},
   "outputs": [],
   "source": [
    "path = Path.cwd()/\"data_SAR_optical_comparison\"\n",
    "\n",
    "if not path.exists():\n",
    "    path.mkdir()"
   ]
  },
  {
   "cell_type": "code",
   "execution_count": null,
   "metadata": {},
   "outputs": [],
   "source": [
    "s3_path = 's3://asf-jupyter-data-west/time_series.zip'\n",
    "time_series_path = Path(s3_path).name\n",
    "!aws --region=us-west-2 --no-sign-request s3 cp $s3_path $time_series_path"
   ]
  },
  {
   "cell_type": "code",
   "execution_count": null,
   "metadata": {},
   "outputs": [],
   "source": [
    "if Path(time_series_path).exists():\n",
    "    asfn.asf_unzip(str(path), time_series_path)\n",
    "    Path(time_series_path).unlink()"
   ]
  },
  {
   "cell_type": "markdown",
   "metadata": {},
   "source": [
    "The following lines set path variables needed for data processing. This step is not necessary but it saves a lot of extra typing later. **Define variables for the main data directory as well as for the files containing data and image information:**"
   ]
  },
  {
   "cell_type": "code",
   "execution_count": null,
   "metadata": {},
   "outputs": [],
   "source": [
    "datadirectory = path/'time_series/S32644X696260Y3052060sS1-EBD'\n",
    "datefile_like = datadirectory/'S32644X696260Y3052060sS1_D_vv_0092_mtfil.dates'\n",
    "datefile_cross = datadirectory/'S32644X696260Y3052060sS1_D_vh_0092_mtfil.dates'\n",
    "imagefile_like = datadirectory/'S32644X696260Y3052060sS1_D_vv_0092_mtfil.vrt'\n",
    "imagefile_cross = datadirectory/'S32644X696260Y3052060sS1_D_vh_0092_mtfil.vrt'\n",
    "sentinel1_datefile_like = datefile_like\n",
    "sentinel1_datefile_cross = datefile_cross\n",
    "sentinel1_imagefile = imagefile_like\n",
    "sentinel1_imagefile_cross = imagefile_cross\n",
    "landsat8_ndvi = datadirectory/'landsat/L8_142_041_NDVI.vrt'\n",
    "landsat8_b3 = datadirectory/'landsat/L8_142_041_B3.vrt'\n",
    "landsat8_b4 = datadirectory/'landsat/L8_142_041_B4.vrt'\n",
    "landsat8_b5 = datadirectory/'landsat/L8_142_041_B5.vrt'\n",
    "landsat8_datefile = datadirectory/'landsat/L8_142_041_NDVI.dates'"
   ]
  },
  {
   "cell_type": "markdown",
   "metadata": {},
   "source": [
    "---\n",
    "\n",
    "<div class=\"alert alert-danger\">\n",
    "<font size=\"5\"><b> Look up Data Set Location on Alaska Satellite Facility's Search Interface</b>:</font> \n",
    "    \n",
    "IF you are curious about the location of this dataset and the vegetation cover in the area, please follow this **[link to ASF's Search Interface](https://search.asf.alaska.edu/#/?zoom=10.400&center=83.010,27.568&polygon=POLYGON((82.9557%2027.5575,83.3227%2027.5575,83.3227%2027.8589,82.9557%2027.8589,82.9557%2027.5575)))**.\n",
    "</div>"
   ]
  },
  {
   "cell_type": "markdown",
   "metadata": {},
   "source": [
    "<hr>"
   ]
  },
  {
   "cell_type": "markdown",
   "metadata": {},
   "source": [
    "# 2. Assess Image Acquisition Dates"
   ]
  },
  {
   "cell_type": "markdown",
   "metadata": {
    "nbpresent": {
     "id": "a9217cf4-e4b0-40e5-8f1c-a9808f4c6b06"
    }
   },
   "source": [
    "Before we start analyzing the available image data, we want to examine the content of our data stack. **First, we read the image acquisition dates for all files in the time series and create a *pandas* date index.**"
   ]
  },
  {
   "cell_type": "markdown",
   "metadata": {},
   "source": [
    "These are the image **Sentinel-1 SAR** image acquisition dates. We need both the VV and VH polarization channels to calculate the **Radar Forest Degradation index**. You see below that not all acquisition dates offer both polarizations."
   ]
  },
  {
   "cell_type": "code",
   "execution_count": null,
   "metadata": {
    "nbpresent": {
     "id": "2bb67d4c-9ad2-4c8c-86a4-6155e91622b4"
    }
   },
   "outputs": [],
   "source": [
    "stindex = []\n",
    "for i in [sentinel1_datefile_like, sentinel1_datefile_cross]:\n",
    "    sentinell_str = str(i)\n",
    "    \n",
    "    sdates = open(sentinell_str).readlines()\n",
    "    stindex.append(pd.DatetimeIndex(sdates))\n",
    "    \n",
    "    j = 1\n",
    "    print('Bands and dates for',sentinell_str.strip('.dates'))\n",
    "    for k in stindex[-1]:\n",
    "        print(\"{:4d} {}\".format(j, k.date()), end=' ')\n",
    "        j += 1\n",
    "        if j%5 == 1:\n",
    "            print()"
   ]
  },
  {
   "cell_type": "markdown",
   "metadata": {},
   "source": [
    "Next we are plotting the **Landsat-8 optical** image acquisition dates:"
   ]
  },
  {
   "cell_type": "code",
   "execution_count": null,
   "metadata": {
    "nbpresent": {
     "id": "2bb67d4c-9ad2-4c8c-86a4-6155e91622b4"
    },
    "scrolled": true
   },
   "outputs": [],
   "source": [
    "ldates = open(str(landsat8_datefile)).readlines()\n",
    "ltindex = pd.DatetimeIndex(ldates)\n",
    "j = 1\n",
    "print('Bands and dates for', landsat8_ndvi)\n",
    "for i in ltindex:\n",
    "    print(\"{:4d} {}\".format(j, i.date()), end=' ')\n",
    "    j += 1\n",
    "    if j%5 == 1:\n",
    "        print()"
   ]
  },
  {
   "cell_type": "markdown",
   "metadata": {},
   "source": [
    "<hr>"
   ]
  },
  {
   "cell_type": "markdown",
   "metadata": {},
   "source": [
    "# 3. Projection and Georeferencing Information of the SAR and Optical Time Series Data Stacks"
   ]
  },
  {
   "cell_type": "markdown",
   "metadata": {},
   "source": [
    "For processing of the imagery in this notebook we generate a list of image handles and retrieve projection and georeferencing information. We print out the retrieved information."
   ]
  },
  {
   "cell_type": "code",
   "execution_count": null,
   "metadata": {},
   "outputs": [],
   "source": [
    "imagelist = [\n",
    "    sentinel1_imagefile,\n",
    "    sentinel1_imagefile_cross,\n",
    "    landsat8_ndvi,\n",
    "    landsat8_b3,\n",
    "    landsat8_b4,\n",
    "    landsat8_b5\n",
    "]\n",
    "\n",
    "geotrans = []\n",
    "proj = []\n",
    "img_handle = []\n",
    "xsize = []\n",
    "ysize = []\n",
    "bands = []\n",
    "for i in imagelist:\n",
    "    i = str(i)\n",
    "    \n",
    "    img_handle.append(gdal.Open(i))\n",
    "    geotrans.append(img_handle[-1].GetGeoTransform())\n",
    "    proj.append(img_handle[-1].GetProjection())\n",
    "    xsize.append(img_handle[-1].RasterXSize)\n",
    "    ysize.append(img_handle[-1].RasterYSize)\n",
    "    bands.append(img_handle[-1].RasterCount)\n",
    "# for i in proj:\n",
    "#     print(i)\n",
    "# for i in geotrans:\n",
    "#     print(i)\n",
    "for i in zip(['C-VV','C-VH','NDVI','B3','B4','B5'],bands,ysize,xsize):\n",
    "     print(i)"
   ]
  },
  {
   "cell_type": "code",
   "execution_count": null,
   "metadata": {},
   "outputs": [],
   "source": [
    "subset_sentinel = None\n",
    "# subset_sentinel = (570, 40, 500, 500)  # Adjust or comment out if you don't want a subset\n",
    "if subset_sentinel == None:\n",
    "    subset_sentinel = (0, 0, img_handle[0].RasterXSize, img_handle[0].RasterYSize)\n",
    "    subset_landsat = (0, 0, img_handle[2].RasterXSize, img_handle[2].RasterYSize)\n",
    "else:\n",
    "    xoff, yoff, xsize, ysize = subset_sentinel\n",
    "    xcal = geotrans[0][1] / geotrans[2][1]\n",
    "    ycal = geotrans[0][5] / geotrans[2][5]\n",
    "    subset_landsat = (\n",
    "        int(xoff*xcal),\n",
    "        int(yoff*ycal),\n",
    "        int(xsize*xcal),\n",
    "        int(ysize*ycal)\n",
    "    )\n",
    "    \n",
    "print('Subset Sentinel-1', subset_sentinel, '\\nSubset Landsat   ', subset_landsat)"
   ]
  },
  {
   "cell_type": "markdown",
   "metadata": {},
   "source": [
    "<hr>"
   ]
  },
  {
   "cell_type": "markdown",
   "metadata": {},
   "source": [
    "# 4. Visualize Sentinel-1 SAR and Landsat-8 NDVI Images for Wet and Dry Seasons"
   ]
  },
  {
   "cell_type": "markdown",
   "metadata": {},
   "source": [
    "We can pick the bands and plot the Sentinel-1 and Landsat NDVI images of the subset. "
   ]
  },
  {
   "cell_type": "markdown",
   "metadata": {},
   "source": [
    "## 4.1 Dry Season Plot"
   ]
  },
  {
   "cell_type": "code",
   "execution_count": null,
   "metadata": {},
   "outputs": [],
   "source": [
    "# DRY SEASON PLOT\n",
    "bandnbrs=(29, 3, 41)\n",
    "ebd_plot(bandnbrs, subset_sentinel, subset_landsat)"
   ]
  },
  {
   "cell_type": "markdown",
   "metadata": {},
   "source": [
    "---\n",
    "\n",
    "<div class=\"alert alert-success\">\n",
    "<font size=\"5\"> <b> <font color='rgba(200,0,0,0.2)'> <u>EXERCISE</u> </font></b></font> \n",
    "\n",
    "Look at the **dry season** SAR and Optical data example. How would describe the relationship between Landsat-derived NDVI and Sentinel-1 radar brightness in the VV and VH channels?\n",
    "</div>"
   ]
  },
  {
   "cell_type": "markdown",
   "metadata": {},
   "source": [
    "<hr>"
   ]
  },
  {
   "cell_type": "markdown",
   "metadata": {},
   "source": [
    "## 4.2 Wet Season Plot"
   ]
  },
  {
   "cell_type": "code",
   "execution_count": null,
   "metadata": {},
   "outputs": [],
   "source": [
    "# Wet SEASON PLOT\n",
    "bandnbrs = (52, 20, 53)\n",
    "ebd_plot(bandnbrs, subset_sentinel, subset_landsat)"
   ]
  },
  {
   "cell_type": "markdown",
   "metadata": {},
   "source": [
    "---\n",
    "\n",
    "<div class=\"alert alert-danger\">\n",
    "<font size=\"5\"><b> Note</b>:</font> \n",
    "    \n",
    "In is much harder to compare SAR and optical data during the wet season as persistent cloud cover obscures the ground regularly for optical data. SAR has a clear advantage observing the ground during rain events.\n",
    "</div>"
   ]
  },
  {
   "cell_type": "markdown",
   "metadata": {},
   "source": [
    "<hr>"
   ]
  },
  {
   "cell_type": "markdown",
   "metadata": {},
   "source": [
    "# 6. Compare the C-Band modified Radar Forest Degradation Index (mRFDI) to the Landsat-8 NDVI"
   ]
  },
  {
   "cell_type": "markdown",
   "metadata": {},
   "source": [
    "<img src=\"https://opensarlab-docs.asf.alaska.edu/opensarlab-notebook-assets/notebook_images/RFDI.jpeg\" style=\"padding:5px;\" width=\"430\" align=\"right\" />\n",
    "\n",
    "You have seen in earlier units that we can compute a **Radar Forest Degradation Index (RFDI)** from polarimetric SAR data. The true definition of the RFDI is as follows:\n",
    "\n",
    "$RFDI = \\frac{\\gamma^0_{HH} - \\gamma^0_{HV}}{\\gamma^0_{HH} + \\gamma^0_{HV}}$\n",
    "\n",
    "Here, the terms are all radiometrically corrected imagery. The value of **RFDI** varies between 0 and 1. In general, RFDI can be used to detect both loss of forest cover and its recovery after a disturbance. It is best applied to L-band SAR imagery but can be applied to C-band as well. Approximate guidelines for the interpretation of the **RFDI** are shown on your right.\n",
    "\n",
    "As you see from the equation above, the **RFDI** in its original form requires *HH* and *HV* channels. For Sentinel-1, these bands are often not available (default mode over land is *VV* and *VH*. Hence, we will work with a slightly modified version (the **mRFDI**) according to:\n",
    "\n",
    "$mRFDI_{S1} = \\frac{\\gamma^0_{VV} - \\gamma^0_{VH}}{\\gamma^0_{VV} + \\gamma^0_{VH}}$"
   ]
  },
  {
   "cell_type": "markdown",
   "metadata": {},
   "source": [
    "\n",
    "---\n",
    "\n",
    "In the following code cell, we will **plot the *mRFDI* for selected bands**. Please make sure to **pick same-date VV and VH images** to plot the mRFDI and a **simliar-date Landsat-8 scene** for comparison."
   ]
  },
  {
   "cell_type": "markdown",
   "metadata": {},
   "source": [
    "<div class=\"alert alert-danger\">\n",
    "<font size=\"5\"><b> Note</b>:</font> \n",
    "    \n",
    "As it is calculated from C-band data, which does not penetrate extensively into vegetation, the <b>mRFDI</b> often appears a bit noisy. I am applying a $3\\times3$ spatial filter to the data to reduce the noise. Hence, <b>the creation of the figure may take a short while. Please be patient.</b>\n",
    "</div>"
   ]
  },
  {
   "cell_type": "code",
   "execution_count": null,
   "metadata": {},
   "outputs": [],
   "source": [
    "# DRY SEASON mRFDI vs NDVI comparison\n",
    "bandnbrs=(29, 3, 41)\n",
    "RFDI_NDVI_plot(bandnbrs, subset_sentinel, subset_landsat)"
   ]
  },
  {
   "cell_type": "markdown",
   "metadata": {},
   "source": [
    "---\n",
    "\n",
    "<div class=\"alert alert-success\">\n",
    "<font size=\"5\"> <b> <font color='rgba(200,0,0,0.2)'> <u>EXERCISE</u> </font></b></font>\n",
    "\n",
    "Please assess the information shown in the figure. While analyzing the figure, please consider the following questions:\n",
    "- How does the **mRFDI** compare to the **NDVI**?\n",
    "- Run the cell below which compares **mRFDI** and **NDVI** for a wet season date.\n",
    "- Compare the **mRFDI** and **NDVI** images for wet and dry season. How does the wet season look different and why?\n",
    "</div>\n",
    "\n",
    "---"
   ]
  },
  {
   "cell_type": "markdown",
   "metadata": {},
   "source": [
    "**Run the following code cell** to generate a mRFDI and NDVI comparison for the wet season in this area of interest."
   ]
  },
  {
   "cell_type": "code",
   "execution_count": null,
   "metadata": {},
   "outputs": [],
   "source": [
    "# WET SEASON mRFDI & NDVI comparison\n",
    "bandnbrs=(52, 20, 53)\n",
    "RFDI_NDVI_plot(bandnbrs, subset_sentinel, subset_landsat)"
   ]
  },
  {
   "cell_type": "markdown",
   "metadata": {},
   "source": [
    "\n",
    "*edX_RFDIvsNDVI.ipynb - Version 1.0.0 - February 2023*"
   ]
  }
 ],
 "metadata": {
  "_draft": {
   "nbviewer_url": "https://gist.github.com/0cadac0e21925008b770656a71950cc9"
  },
  "celltoolbar": "Raw Cell Format",
  "gist": {
   "data": {
    "description": "EBD_SAR4 Time Series Change Point Detection",
    "public": false
   },
   "id": "0cadac0e21925008b770656a71950cc9"
  },
  "kernelspec": {
   "display_name": "Python 3 (ipykernel)",
   "language": "python",
   "name": "python3"
  },
  "language_info": {
   "codemirror_mode": {
    "name": "ipython",
    "version": 3
   },
   "file_extension": ".py",
   "mimetype": "text/x-python",
   "name": "python",
   "nbconvert_exporter": "python",
   "pygments_lexer": "ipython3",
   "version": "3.11.0"
  },
  "nbpresent": {
   "slides": {
    "0cda1ca3-b50b-4798-9344-fd4b3e8f7be7": {
     "id": "0cda1ca3-b50b-4798-9344-fd4b3e8f7be7",
     "prev": "e9645e97-076d-49a2-ac50-60df72e22059",
     "regions": {
      "ca5fd739-80ad-4f3d-aa76-3f559a12bc9c": {
       "attrs": {
        "height": 0.8,
        "width": 0.8,
        "x": 0.1,
        "y": 0.1
       },
       "content": {
        "cell": "d6262ab2-5b2a-404b-91a5-03a303e4a7cf",
        "part": "whole"
       },
       "id": "ca5fd739-80ad-4f3d-aa76-3f559a12bc9c"
      }
     }
    },
    "0d5f4ac8-6c89-41d4-a4a7-d928bb5377c9": {
     "id": "0d5f4ac8-6c89-41d4-a4a7-d928bb5377c9",
     "prev": "eef0d87f-4f03-45b9-ba0f-cde00f646fb5",
     "regions": {
      "b7a43559-312a-45b0-b405-2d6108aa6e2d": {
       "attrs": {
        "height": 0.8,
        "width": 0.8,
        "x": 0.1,
        "y": 0.1
       },
       "content": {
        "cell": "ba13bef6-7ca2-4f59-bede-1576666c4aec",
        "part": "whole"
       },
       "id": "b7a43559-312a-45b0-b405-2d6108aa6e2d"
      }
     }
    },
    "0fb1f28f-c4a0-4263-a652-ae7fa9329642": {
     "id": "0fb1f28f-c4a0-4263-a652-ae7fa9329642",
     "prev": "3c5163d1-df94-455b-94ef-4b921e60e0cb",
     "regions": {
      "44b6529b-4209-4f83-826b-6167a06ba63f": {
       "attrs": {
        "height": 0.8,
        "width": 0.8,
        "x": 0.1,
        "y": 0.1
       },
       "content": {
        "cell": "3830bd10-b149-45ac-a5cf-9d2c6eb88b3d",
        "part": "whole"
       },
       "id": "44b6529b-4209-4f83-826b-6167a06ba63f"
      }
     }
    },
    "0fbe33f4-655a-4ea5-904c-0ca3dba95703": {
     "id": "0fbe33f4-655a-4ea5-904c-0ca3dba95703",
     "prev": "2324cf38-01dc-437d-bf8f-e2d432412648",
     "regions": {
      "d177ca5d-d324-42d3-aa86-3df5ebc667a8": {
       "attrs": {
        "height": 0.8,
        "width": 0.8,
        "x": 0.1,
        "y": 0.1
       },
       "content": {
        "cell": "39336db1-d60f-40d6-9611-43b87d7c4448",
        "part": "whole"
       },
       "id": "d177ca5d-d324-42d3-aa86-3df5ebc667a8"
      }
     }
    },
    "0fc490ba-4de8-4b2c-a803-904009f634f2": {
     "id": "0fc490ba-4de8-4b2c-a803-904009f634f2",
     "prev": "43bea5d1-2b63-49cf-97dd-4fbb991696e9",
     "regions": {
      "6cae3635-7987-4e3d-a04c-e12bc8d80587": {
       "attrs": {
        "height": 0.8,
        "width": 0.8,
        "x": 0.1,
        "y": 0.1
       },
       "content": {
        "cell": "514b065d-9316-411c-9627-3de64a8443d3",
        "part": "whole"
       },
       "id": "6cae3635-7987-4e3d-a04c-e12bc8d80587"
      }
     }
    },
    "14bd973f-6471-4e23-9da2-249109ff5366": {
     "id": "14bd973f-6471-4e23-9da2-249109ff5366",
     "prev": "50f9ba56-9463-4ab9-9dc5-ce812698cea7",
     "regions": {
      "aafbf90c-b4db-4bab-a1bf-2d0812c14587": {
       "attrs": {
        "height": 0.8,
        "width": 0.8,
        "x": 0.1,
        "y": 0.1
       },
       "content": {
        "cell": "0d27145e-9f49-468e-912f-12549f6305bd",
        "part": "whole"
       },
       "id": "aafbf90c-b4db-4bab-a1bf-2d0812c14587"
      }
     }
    },
    "1739ad60-442f-40f8-abe3-89b2763deede": {
     "id": "1739ad60-442f-40f8-abe3-89b2763deede",
     "prev": "d05d8dd7-470e-4e23-bab7-ebc51ebbf189",
     "regions": {
      "0ffd91c9-f03d-451f-8102-91177db7721c": {
       "attrs": {
        "height": 0.8,
        "width": 0.8,
        "x": 0.1,
        "y": 0.1
       },
       "content": {
        "cell": "7881f388-f9d7-4e0b-a114-6180b63bd3c8",
        "part": "whole"
       },
       "id": "0ffd91c9-f03d-451f-8102-91177db7721c"
      }
     }
    },
    "1c86f480-a955-4d4b-86da-9b7807bd9fbf": {
     "id": "1c86f480-a955-4d4b-86da-9b7807bd9fbf",
     "prev": "ab673a77-f1bc-4e64-aef5-2853ad9c4064",
     "regions": {
      "2bbfc521-62e8-4597-8c60-44c368535c7b": {
       "attrs": {
        "height": 0.8,
        "width": 0.8,
        "x": 0.1,
        "y": 0.1
       },
       "content": {
        "cell": "ba6b12c6-8625-43d6-ab66-85275130b86d",
        "part": "whole"
       },
       "id": "2bbfc521-62e8-4597-8c60-44c368535c7b"
      }
     }
    },
    "1eaad0bb-ae95-4754-a9aa-ae49d1650b94": {
     "id": "1eaad0bb-ae95-4754-a9aa-ae49d1650b94",
     "prev": "9925f3b0-6318-4c39-a5a2-b12f16ec8c0e",
     "regions": {
      "7a55be48-76de-4721-a0a8-7093df0f69c4": {
       "attrs": {
        "height": 0.8,
        "width": 0.8,
        "x": 0.1,
        "y": 0.1
       },
       "content": {
        "cell": "8474dfdd-e8f0-4bf9-9b6b-c5e2a4705205",
        "part": "whole"
       },
       "id": "7a55be48-76de-4721-a0a8-7093df0f69c4"
      }
     }
    },
    "1f428a4b-e6bf-44f4-82a8-000df44d6bba": {
     "id": "1f428a4b-e6bf-44f4-82a8-000df44d6bba",
     "prev": "aec177c7-97b5-4a99-a26d-c05abe673669",
     "regions": {
      "63eaf767-638e-4298-a509-4a5241a62a5b": {
       "attrs": {
        "height": 0.8,
        "width": 0.8,
        "x": 0.1,
        "y": 0.1
       },
       "content": {
        "cell": "5df48b8c-682d-4b26-9a9a-7ad29390776a",
        "part": "whole"
       },
       "id": "63eaf767-638e-4298-a509-4a5241a62a5b"
      }
     }
    },
    "2324cf38-01dc-437d-bf8f-e2d432412648": {
     "id": "2324cf38-01dc-437d-bf8f-e2d432412648",
     "prev": "eebd33cb-9a34-4744-9296-591db296e8b2",
     "regions": {
      "63594b82-45aa-40da-ad89-5e7384852d6b": {
       "attrs": {
        "height": 0.8,
        "width": 0.8,
        "x": 0.1,
        "y": 0.1
       },
       "content": {
        "cell": "a9217cf4-e4b0-40e5-8f1c-a9808f4c6b06",
        "part": "whole"
       },
       "id": "63594b82-45aa-40da-ad89-5e7384852d6b"
      }
     }
    },
    "23d5c33a-c24c-4b29-8ac6-2caba92a1281": {
     "id": "23d5c33a-c24c-4b29-8ac6-2caba92a1281",
     "prev": "84ff8974-da4a-420a-94c7-8623bd15e41e",
     "regions": {
      "349c8ce3-68f0-48c6-b3a3-6835369b65a9": {
       "attrs": {
        "height": 0.8,
        "width": 0.8,
        "x": 0.1,
        "y": 0.1
       },
       "content": {
        "cell": "56933d23-6daa-4ee6-8945-fe1ba317cc7e",
        "part": "whole"
       },
       "id": "349c8ce3-68f0-48c6-b3a3-6835369b65a9"
      }
     }
    },
    "2497cbf5-7d66-4c44-ac3d-2f3f81b22e0e": {
     "id": "2497cbf5-7d66-4c44-ac3d-2f3f81b22e0e",
     "prev": "254ceda7-ae3b-4e0f-960e-4f986d6b2691",
     "regions": {
      "d714ee1d-5dd4-458b-b1c3-f6a5e24ddba0": {
       "attrs": {
        "height": 0.8,
        "width": 0.8,
        "x": 0.1,
        "y": 0.1
       },
       "content": {
        "cell": "f30898ee-b1ac-4b4e-a009-ffaa67e60060",
        "part": "whole"
       },
       "id": "d714ee1d-5dd4-458b-b1c3-f6a5e24ddba0"
      }
     }
    },
    "254ceda7-ae3b-4e0f-960e-4f986d6b2691": {
     "id": "254ceda7-ae3b-4e0f-960e-4f986d6b2691",
     "prev": "b518241b-c800-4c64-935d-5ba9eff67002",
     "regions": {
      "9d32a0f6-2f4f-4a91-8dba-9acb7f9260fe": {
       "attrs": {
        "height": 0.8,
        "width": 0.8,
        "x": 0.1,
        "y": 0.1
       },
       "content": {
        "cell": "26c050b7-475c-49a7-b0d4-1f040758cfe7",
        "part": "whole"
       },
       "id": "9d32a0f6-2f4f-4a91-8dba-9acb7f9260fe"
      }
     }
    },
    "256008c6-6298-4d0c-a5c9-f13c399153e3": {
     "id": "256008c6-6298-4d0c-a5c9-f13c399153e3",
     "prev": "a9c7a59c-07a5-4c53-9a59-4b5ecfb837ae",
     "regions": {
      "9cf17696-aaf8-4913-a387-c5575c95ab48": {
       "attrs": {
        "height": 0.8,
        "width": 0.8,
        "x": 0.1,
        "y": 0.1
       },
       "content": {
        "cell": "2c69baad-3ad2-49fc-8102-3f38868aee38",
        "part": "whole"
       },
       "id": "9cf17696-aaf8-4913-a387-c5575c95ab48"
      }
     }
    },
    "28a8a521-2777-47fd-b376-455aa39a0c00": {
     "id": "28a8a521-2777-47fd-b376-455aa39a0c00",
     "prev": "5df9736d-e121-4891-a5c2-27b548effc6c",
     "regions": {
      "0acb3203-9c01-4c8e-91eb-33d0fab3518a": {
       "attrs": {
        "height": 0.8,
        "width": 0.8,
        "x": 0.1,
        "y": 0.1
       },
       "content": {
        "cell": "af65de8e-31b2-48c4-8784-0cb1bd73a2cb",
        "part": "whole"
       },
       "id": "0acb3203-9c01-4c8e-91eb-33d0fab3518a"
      }
     }
    },
    "2a6b2c7a-5dd8-45b7-a469-b1ba766d6763": {
     "id": "2a6b2c7a-5dd8-45b7-a469-b1ba766d6763",
     "prev": "aa88a4cd-8f21-4eaa-b361-c908ad632906",
     "regions": {
      "261298cb-895e-4047-b203-03dc9f084a5b": {
       "attrs": {
        "height": 0.8,
        "width": 0.8,
        "x": 0.1,
        "y": 0.1
       },
       "content": {
        "cell": "2cd28d33-81e1-4adf-bf3d-69b4b426d5c0",
        "part": "whole"
       },
       "id": "261298cb-895e-4047-b203-03dc9f084a5b"
      }
     }
    },
    "30d19d04-6869-44a2-933c-9fe7d8fb47e5": {
     "id": "30d19d04-6869-44a2-933c-9fe7d8fb47e5",
     "prev": "d3abd4fd-5595-426f-a2fe-dc2235b702b0",
     "regions": {
      "bf343acc-0afd-48c6-ae24-4afda37e6276": {
       "attrs": {
        "height": 0.8,
        "width": 0.8,
        "x": 0.1,
        "y": 0.1
       },
       "content": {
        "cell": "6334c581-7b71-455f-9559-850ad0db3a24",
        "part": "whole"
       },
       "id": "bf343acc-0afd-48c6-ae24-4afda37e6276"
      }
     }
    },
    "35a7448d-9e3d-4a37-941a-9d1679acef2d": {
     "id": "35a7448d-9e3d-4a37-941a-9d1679acef2d",
     "prev": "831ea5db-96f7-4596-a3f8-b581e2a927ed",
     "regions": {
      "42510c81-d23b-44a8-bc36-38978fcd22d2": {
       "attrs": {
        "height": 0.8,
        "width": 0.8,
        "x": 0.1,
        "y": 0.1
       },
       "content": {
        "cell": "a0df5418-4d19-4c2a-983b-519c975b16da",
        "part": "whole"
       },
       "id": "42510c81-d23b-44a8-bc36-38978fcd22d2"
      }
     }
    },
    "37b83c17-5c41-42f2-8014-08c0758f00d9": {
     "id": "37b83c17-5c41-42f2-8014-08c0758f00d9",
     "prev": "4fbf44b5-fea6-4c14-a6a6-e35c599bb7e1",
     "regions": {
      "03e1ed2f-dcab-4461-ba48-400a5d4275e0": {
       "attrs": {
        "height": 0.8,
        "width": 0.8,
        "x": 0.1,
        "y": 0.1
       },
       "content": {
        "cell": "aab69cbe-ed08-454f-8325-2b2189e8e4b4",
        "part": "whole"
       },
       "id": "03e1ed2f-dcab-4461-ba48-400a5d4275e0"
      }
     }
    },
    "38a629d5-1e3a-4e8a-9a28-c6f4a948e9b1": {
     "id": "38a629d5-1e3a-4e8a-9a28-c6f4a948e9b1",
     "prev": "7d690d4e-3b1d-4603-a03f-862e1c4fda64",
     "regions": {
      "59506335-0cf6-4c91-a168-088e4ed3b5a8": {
       "attrs": {
        "height": 0.8,
        "width": 0.8,
        "x": 0.1,
        "y": 0.1
       },
       "content": {
        "cell": "900b45f9-53dc-4c52-ac9a-70e16734c91b",
        "part": "whole"
       },
       "id": "59506335-0cf6-4c91-a168-088e4ed3b5a8"
      }
     }
    },
    "3c5163d1-df94-455b-94ef-4b921e60e0cb": {
     "id": "3c5163d1-df94-455b-94ef-4b921e60e0cb",
     "prev": "79ad71a2-345a-4b0d-92ff-07f1ca4f3778",
     "regions": {
      "edac22c3-ebc2-4fb8-9c4a-901f2f41de00": {
       "attrs": {
        "height": 0.8,
        "width": 0.8,
        "x": 0.1,
        "y": 0.1
       },
       "content": {
        "cell": "84758eb1-df39-486a-8c7d-d736e59974ed",
        "part": "whole"
       },
       "id": "edac22c3-ebc2-4fb8-9c4a-901f2f41de00"
      }
     }
    },
    "3c5a1408-d679-4cf1-a5a1-b0353ac7d1e5": {
     "id": "3c5a1408-d679-4cf1-a5a1-b0353ac7d1e5",
     "prev": "0fbe33f4-655a-4ea5-904c-0ca3dba95703",
     "regions": {
      "f27f8492-fdae-4cc4-88b1-0bcafe3d9eef": {
       "attrs": {
        "height": 0.8,
        "width": 0.8,
        "x": 0.1,
        "y": 0.1
       },
       "content": {
        "cell": "2bb67d4c-9ad2-4c8c-86a4-6155e91622b4",
        "part": "whole"
       },
       "id": "f27f8492-fdae-4cc4-88b1-0bcafe3d9eef"
      }
     }
    },
    "3e486bfe-b426-492f-90d6-238ee0427ed5": {
     "id": "3e486bfe-b426-492f-90d6-238ee0427ed5",
     "prev": "8425370d-15a1-4f25-b9da-e84ad1287d1e",
     "regions": {
      "4c001540-f9dd-43fb-9ba8-8733ce03a34a": {
       "attrs": {
        "height": 0.8,
        "width": 0.8,
        "x": 0.1,
        "y": 0.1
       },
       "content": {
        "cell": "6b6ca69a-49bf-4a5f-bc50-ea743dadd636",
        "part": "whole"
       },
       "id": "4c001540-f9dd-43fb-9ba8-8733ce03a34a"
      }
     }
    },
    "4319f966-748c-4bdb-87db-82fccd9fbab8": {
     "id": "4319f966-748c-4bdb-87db-82fccd9fbab8",
     "prev": "59d08889-6ffc-4fd1-83b3-4552f9e2d4ff",
     "regions": {
      "b8c9af7a-7772-4505-815f-31a9f53f99fe": {
       "attrs": {
        "height": 0.8,
        "width": 0.8,
        "x": 0.1,
        "y": 0.1
       },
       "content": {
        "cell": "8a0f03f2-81bd-4b01-95db-aed3cdb16eeb",
        "part": "whole"
       },
       "id": "b8c9af7a-7772-4505-815f-31a9f53f99fe"
      }
     }
    },
    "43bea5d1-2b63-49cf-97dd-4fbb991696e9": {
     "id": "43bea5d1-2b63-49cf-97dd-4fbb991696e9",
     "prev": "c003f7be-b32e-4ee0-a144-e55feca49497",
     "regions": {
      "4c99377a-df0c-4984-9c03-c0d6a5b911aa": {
       "attrs": {
        "height": 0.8,
        "width": 0.8,
        "x": 0.1,
        "y": 0.1
       },
       "content": {
        "cell": "45df5e34-131f-46b5-8943-576b4d546e33",
        "part": "whole"
       },
       "id": "4c99377a-df0c-4984-9c03-c0d6a5b911aa"
      }
     }
    },
    "495742f6-5219-4bcc-bd71-a36aced67599": {
     "id": "495742f6-5219-4bcc-bd71-a36aced67599",
     "prev": "be5f20c8-8ae9-4334-a299-3b31edc0a194",
     "regions": {
      "83868cfa-7ea3-4335-bc89-5e2bf4713666": {
       "attrs": {
        "height": 0.8,
        "width": 0.8,
        "x": 0.1,
        "y": 0.1
       },
       "content": {
        "cell": "6a84b809-79f0-4d7c-8408-7fdedd9a57c3",
        "part": "whole"
       },
       "id": "83868cfa-7ea3-4335-bc89-5e2bf4713666"
      }
     }
    },
    "4a821faa-cb0f-4ba3-8813-d0b3a6ae6701": {
     "id": "4a821faa-cb0f-4ba3-8813-d0b3a6ae6701",
     "prev": "4ea3a285-a5e8-49c6-9e73-63683d0f395a",
     "regions": {
      "feacd8ef-bb79-42d3-942c-2eb1a44e7380": {
       "attrs": {
        "height": 0.8,
        "width": 0.8,
        "x": 0.1,
        "y": 0.1
       },
       "content": {
        "cell": "8d495997-2918-4571-8e76-fcdc5b4d8392",
        "part": "whole"
       },
       "id": "feacd8ef-bb79-42d3-942c-2eb1a44e7380"
      }
     }
    },
    "4e10843a-0907-412d-8b00-24303035bb55": {
     "id": "4e10843a-0907-412d-8b00-24303035bb55",
     "prev": "3c5a1408-d679-4cf1-a5a1-b0353ac7d1e5",
     "regions": {
      "6b82c89a-23b9-4099-8f46-49035b66c358": {
       "attrs": {
        "height": 0.8,
        "width": 0.8,
        "x": 0.1,
        "y": 0.1
       },
       "content": {
        "cell": "dffe6bdf-acbc-4675-bd0d-b9249e793647",
        "part": "whole"
       },
       "id": "6b82c89a-23b9-4099-8f46-49035b66c358"
      }
     }
    },
    "4e878ddf-5e37-476f-b34e-fb4581422e5e": {
     "id": "4e878ddf-5e37-476f-b34e-fb4581422e5e",
     "prev": "5af1bb7d-1618-4231-b9a8-0ed94c28a4ec",
     "regions": {
      "012c0a02-49d9-46ec-885a-fb9644d82158": {
       "attrs": {
        "height": 0.8,
        "width": 0.8,
        "x": 0.1,
        "y": 0.1
       },
       "content": {
        "cell": "a0859f48-3b29-42ac-9002-583780939373",
        "part": "whole"
       },
       "id": "012c0a02-49d9-46ec-885a-fb9644d82158"
      }
     }
    },
    "4ea3a285-a5e8-49c6-9e73-63683d0f395a": {
     "id": "4ea3a285-a5e8-49c6-9e73-63683d0f395a",
     "prev": "ebd3a3d1-f8d1-4480-8b59-b2145a9993b2",
     "regions": {
      "8c4347cc-5483-4674-b279-70167997b32f": {
       "attrs": {
        "height": 0.8,
        "width": 0.8,
        "x": 0.1,
        "y": 0.1
       },
       "content": {
        "cell": "5a182a07-4c45-4510-80f7-2cfd423dbbce",
        "part": "whole"
       },
       "id": "8c4347cc-5483-4674-b279-70167997b32f"
      }
     }
    },
    "4f86b6de-3ae1-4cc9-bfb5-675edce26342": {
     "id": "4f86b6de-3ae1-4cc9-bfb5-675edce26342",
     "prev": "919bd687-87ac-4db6-83a2-8345ecc62bbf",
     "regions": {
      "27d87bcb-a877-459c-b0a5-1e116916540d": {
       "attrs": {
        "height": 0.8,
        "width": 0.8,
        "x": 0.1,
        "y": 0.1
       },
       "content": {
        "cell": "0a12e3d7-99a8-4bf8-94ba-443710259001",
        "part": "whole"
       },
       "id": "27d87bcb-a877-459c-b0a5-1e116916540d"
      }
     }
    },
    "4fbf44b5-fea6-4c14-a6a6-e35c599bb7e1": {
     "id": "4fbf44b5-fea6-4c14-a6a6-e35c599bb7e1",
     "prev": "2a6b2c7a-5dd8-45b7-a469-b1ba766d6763",
     "regions": {
      "e2d59597-40a5-4b3c-9c65-617d538cabe7": {
       "attrs": {
        "height": 0.8,
        "width": 0.8,
        "x": 0.1,
        "y": 0.1
       },
       "content": {
        "cell": "4c9c1fb8-5d77-4302-9c2a-dd5e329a8eda",
        "part": "whole"
       },
       "id": "e2d59597-40a5-4b3c-9c65-617d538cabe7"
      }
     }
    },
    "50f9ba56-9463-4ab9-9dc5-ce812698cea7": {
     "id": "50f9ba56-9463-4ab9-9dc5-ce812698cea7",
     "prev": "3e486bfe-b426-492f-90d6-238ee0427ed5",
     "regions": {
      "5c17dfe4-6ce9-428d-898b-121f04042769": {
       "attrs": {
        "height": 0.8,
        "width": 0.8,
        "x": 0.1,
        "y": 0.1
       },
       "content": {
        "cell": "e9214d47-7e39-4509-873e-f209db97deab",
        "part": "whole"
       },
       "id": "5c17dfe4-6ce9-428d-898b-121f04042769"
      }
     }
    },
    "513fac53-c8eb-4933-bd7c-b7185f15cb7e": {
     "id": "513fac53-c8eb-4933-bd7c-b7185f15cb7e",
     "prev": "f1e61699-d8cb-42b1-a5b6-b3f50e59efa3",
     "regions": {
      "48a6f3cc-58a1-45c9-93fd-7a854dfff803": {
       "attrs": {
        "height": 0.8,
        "width": 0.8,
        "x": 0.1,
        "y": 0.1
       },
       "content": {
        "cell": "13b7f3d8-ce86-4033-be6d-61fe94849da9",
        "part": "whole"
       },
       "id": "48a6f3cc-58a1-45c9-93fd-7a854dfff803"
      }
     }
    },
    "59d08889-6ffc-4fd1-83b3-4552f9e2d4ff": {
     "id": "59d08889-6ffc-4fd1-83b3-4552f9e2d4ff",
     "prev": "c829ee87-181d-4d2e-a0e8-99af875ee94d",
     "regions": {
      "9b8fa9b7-2cfe-45a0-8341-0a0d5074b39d": {
       "attrs": {
        "height": 0.8,
        "width": 0.8,
        "x": 0.1,
        "y": 0.1
       },
       "content": {
        "cell": "4fb156c6-f9a4-4f28-98b1-f09c4385092a",
        "part": "whole"
       },
       "id": "9b8fa9b7-2cfe-45a0-8341-0a0d5074b39d"
      }
     }
    },
    "5af1bb7d-1618-4231-b9a8-0ed94c28a4ec": {
     "id": "5af1bb7d-1618-4231-b9a8-0ed94c28a4ec",
     "prev": "76491ec3-f70d-4fe0-8aee-b44e5436ea6c",
     "regions": {
      "620ecada-1550-4007-bcfa-fa8113e69e57": {
       "attrs": {
        "height": 0.8,
        "width": 0.8,
        "x": 0.1,
        "y": 0.1
       },
       "content": {
        "cell": "463e9f6b-b3df-49fa-942f-7f3e095293af",
        "part": "whole"
       },
       "id": "620ecada-1550-4007-bcfa-fa8113e69e57"
      }
     }
    },
    "5db8903f-903c-457d-be24-131ae6e87d14": {
     "id": "5db8903f-903c-457d-be24-131ae6e87d14",
     "prev": "37b83c17-5c41-42f2-8014-08c0758f00d9",
     "regions": {
      "35d88b22-ae3e-418f-9216-f039e1808743": {
       "attrs": {
        "height": 0.8,
        "width": 0.8,
        "x": 0.1,
        "y": 0.1
       },
       "content": {
        "cell": "180955c1-a545-45df-b062-7f9f4d9ce2d0",
        "part": "whole"
       },
       "id": "35d88b22-ae3e-418f-9216-f039e1808743"
      }
     }
    },
    "5df9736d-e121-4891-a5c2-27b548effc6c": {
     "id": "5df9736d-e121-4891-a5c2-27b548effc6c",
     "prev": "edc897d5-8c1f-4304-b9bc-06c0eabe3de3",
     "regions": {
      "311bd714-b29b-434b-b798-9a8dd3ea1213": {
       "attrs": {
        "height": 0.8,
        "width": 0.8,
        "x": 0.1,
        "y": 0.1
       },
       "content": {
        "cell": "7713330f-a461-462e-90cb-1df7cbc921cd",
        "part": "whole"
       },
       "id": "311bd714-b29b-434b-b798-9a8dd3ea1213"
      }
     }
    },
    "5ed15d37-bcef-461a-8161-f814d2a57a19": {
     "id": "5ed15d37-bcef-461a-8161-f814d2a57a19",
     "prev": "4e878ddf-5e37-476f-b34e-fb4581422e5e",
     "regions": {
      "1a77aa03-2145-4bf3-876a-1e0f2bba1ad8": {
       "attrs": {
        "height": 0.8,
        "width": 0.8,
        "x": 0.1,
        "y": 0.1
       },
       "content": {
        "cell": "3eb84313-7808-45b7-8025-79d61321f4f8",
        "part": "whole"
       },
       "id": "1a77aa03-2145-4bf3-876a-1e0f2bba1ad8"
      }
     }
    },
    "5fd327a5-a050-40b3-beb3-0eeeb86f2e78": {
     "id": "5fd327a5-a050-40b3-beb3-0eeeb86f2e78",
     "prev": "a814cbfc-f5b5-45bc-8a5e-515356f56deb",
     "regions": {
      "eaa164fa-7f2c-4ae3-a45c-1e2dc27b2862": {
       "attrs": {
        "height": 0.8,
        "width": 0.8,
        "x": 0.1,
        "y": 0.1
       },
       "content": {
        "cell": "99e75636-2f2e-405c-9009-8eb0a28fdbe1",
        "part": "whole"
       },
       "id": "eaa164fa-7f2c-4ae3-a45c-1e2dc27b2862"
      }
     }
    },
    "601ad13d-653c-469a-a8b0-5fb8b3260cab": {
     "id": "601ad13d-653c-469a-a8b0-5fb8b3260cab",
     "prev": "1eaad0bb-ae95-4754-a9aa-ae49d1650b94",
     "regions": {
      "8bb5dcb2-cdc5-4fa7-9199-d00bc89379e4": {
       "attrs": {
        "height": 0.8,
        "width": 0.8,
        "x": 0.1,
        "y": 0.1
       },
       "content": {
        "cell": "940ba81e-5d71-495b-9a34-ead799345780",
        "part": "whole"
       },
       "id": "8bb5dcb2-cdc5-4fa7-9199-d00bc89379e4"
      }
     }
    },
    "61f96558-fb5b-495e-b6b6-55cc155ea4b1": {
     "id": "61f96558-fb5b-495e-b6b6-55cc155ea4b1",
     "prev": "9ed67dae-ffe5-43f5-b712-5d773518121e",
     "regions": {
      "ebf68d2d-fb45-4edb-80f0-5e98c6fb111a": {
       "attrs": {
        "height": 0.8,
        "width": 0.8,
        "x": 0.1,
        "y": 0.1
       },
       "content": {
        "cell": "d6496782-1571-4e57-b7d8-3117b393f4ce",
        "part": "whole"
       },
       "id": "ebf68d2d-fb45-4edb-80f0-5e98c6fb111a"
      }
     }
    },
    "67f0cb37-8327-496f-8a87-5513ac0669c3": {
     "id": "67f0cb37-8327-496f-8a87-5513ac0669c3",
     "prev": "74eef39d-9fee-45e7-8689-cd82e99e9e8d",
     "regions": {
      "496cb9ff-05ec-4864-ba06-26a5873fb1c6": {
       "attrs": {
        "height": 0.8,
        "width": 0.8,
        "x": 0.1,
        "y": 0.1
       },
       "content": {
        "cell": "6f75f10b-f57b-49fb-adfc-4d661a0603ea",
        "part": "whole"
       },
       "id": "496cb9ff-05ec-4864-ba06-26a5873fb1c6"
      }
     }
    },
    "6badb8b9-0dd6-4b8e-bc34-8e3c82fc1cee": {
     "id": "6badb8b9-0dd6-4b8e-bc34-8e3c82fc1cee",
     "prev": "8d00b10d-a50c-4c8c-8aa3-4b96326e7792",
     "regions": {
      "444ae032-498b-4a2d-9f50-60a2d08554d2": {
       "attrs": {
        "height": 0.8,
        "width": 0.8,
        "x": 0.1,
        "y": 0.1
       },
       "content": {
        "cell": "68315766-1224-441d-b885-62c72a52882c",
        "part": "whole"
       },
       "id": "444ae032-498b-4a2d-9f50-60a2d08554d2"
      }
     }
    },
    "6d5a6a97-1746-45ad-9513-4a3f23ec7e98": {
     "id": "6d5a6a97-1746-45ad-9513-4a3f23ec7e98",
     "prev": "c3633bba-09ab-4599-b73d-7fcd01273f1d",
     "regions": {
      "9baf6254-c1c3-4c9c-b0ae-a3f58c01bf2c": {
       "attrs": {
        "height": 0.8,
        "width": 0.8,
        "x": 0.1,
        "y": 0.1
       },
       "content": {
        "cell": "0bf850ae-254a-4b64-bbd5-1392d86f509b",
        "part": "whole"
       },
       "id": "9baf6254-c1c3-4c9c-b0ae-a3f58c01bf2c"
      }
     }
    },
    "715feff7-433a-4fab-b45e-3f155e72fdc2": {
     "id": "715feff7-433a-4fab-b45e-3f155e72fdc2",
     "prev": "f35e4cc8-8031-40f3-94e3-9837cf616ed7",
     "regions": {
      "6d1ac939-1a36-4ade-beea-bab6e2bd20e1": {
       "attrs": {
        "height": 0.8,
        "width": 0.8,
        "x": 0.1,
        "y": 0.1
       },
       "content": {
        "cell": "e701b87b-0ee5-4f0d-810b-e729ebe447e1",
        "part": "whole"
       },
       "id": "6d1ac939-1a36-4ade-beea-bab6e2bd20e1"
      }
     }
    },
    "7253ff3f-ef48-4bc9-a791-53aaf643a229": {
     "id": "7253ff3f-ef48-4bc9-a791-53aaf643a229",
     "prev": "4a821faa-cb0f-4ba3-8813-d0b3a6ae6701",
     "regions": {
      "6399a719-416b-43de-9497-58e87dc91649": {
       "attrs": {
        "height": 0.8,
        "width": 0.8,
        "x": 0.1,
        "y": 0.1
       },
       "content": {
        "cell": "c942b7c2-a4ed-4606-bfca-439b7ebcceb7",
        "part": "whole"
       },
       "id": "6399a719-416b-43de-9497-58e87dc91649"
      }
     }
    },
    "734a7f11-e401-4a14-aae7-363502f971fd": {
     "id": "734a7f11-e401-4a14-aae7-363502f971fd",
     "prev": "8ddf83ba-12b4-4075-bc33-8a18f1f23b6e",
     "regions": {
      "737b3834-376a-46fb-8381-c3cd49fa51a4": {
       "attrs": {
        "height": 0.8,
        "width": 0.8,
        "x": 0.1,
        "y": 0.1
       },
       "content": {
        "cell": "939a2a97-34ed-4c98-b8d5-531b23238fdd",
        "part": "whole"
       },
       "id": "737b3834-376a-46fb-8381-c3cd49fa51a4"
      }
     }
    },
    "74eef39d-9fee-45e7-8689-cd82e99e9e8d": {
     "id": "74eef39d-9fee-45e7-8689-cd82e99e9e8d",
     "prev": "4e10843a-0907-412d-8b00-24303035bb55",
     "regions": {
      "ff1fecca-57e4-42d7-8819-7ba9eee28d9a": {
       "attrs": {
        "height": 0.8,
        "width": 0.8,
        "x": 0.1,
        "y": 0.1
       },
       "content": {
        "cell": "38af8cd8-11ce-49e9-a4bd-1074f6cd656f",
        "part": "whole"
       },
       "id": "ff1fecca-57e4-42d7-8819-7ba9eee28d9a"
      }
     }
    },
    "76491ec3-f70d-4fe0-8aee-b44e5436ea6c": {
     "id": "76491ec3-f70d-4fe0-8aee-b44e5436ea6c",
     "prev": "14bd973f-6471-4e23-9da2-249109ff5366",
     "regions": {
      "5e7fd33d-2a7f-42b6-a3b2-a69485710ba0": {
       "attrs": {
        "height": 0.8,
        "width": 0.8,
        "x": 0.1,
        "y": 0.1
       },
       "content": {
        "cell": "68407458-f6c1-4dcd-9526-e5552abd0a69",
        "part": "whole"
       },
       "id": "5e7fd33d-2a7f-42b6-a3b2-a69485710ba0"
      }
     }
    },
    "79ad71a2-345a-4b0d-92ff-07f1ca4f3778": {
     "id": "79ad71a2-345a-4b0d-92ff-07f1ca4f3778",
     "prev": "61f96558-fb5b-495e-b6b6-55cc155ea4b1",
     "regions": {
      "c0e372e2-f675-419d-959e-4ba924e5431a": {
       "attrs": {
        "height": 0.8,
        "width": 0.8,
        "x": 0.1,
        "y": 0.1
       },
       "content": {
        "cell": "e1b4208c-cec6-4686-8e5c-358ac804aa50",
        "part": "whole"
       },
       "id": "c0e372e2-f675-419d-959e-4ba924e5431a"
      }
     }
    },
    "7ab30eb0-6289-4086-abfd-0e3a1fe2a8ca": {
     "id": "7ab30eb0-6289-4086-abfd-0e3a1fe2a8ca",
     "prev": "9428bcfe-de84-45fe-ab1e-6f8b3556eca6",
     "regions": {
      "e5a54b5b-d030-4410-93c7-3b728114c5ff": {
       "attrs": {
        "height": 0.8,
        "width": 0.8,
        "x": 0.1,
        "y": 0.1
       },
       "content": {
        "cell": "66ceae3f-b11c-4a2e-9027-96e41ad54c65",
        "part": "whole"
       },
       "id": "e5a54b5b-d030-4410-93c7-3b728114c5ff"
      }
     }
    },
    "7d690d4e-3b1d-4603-a03f-862e1c4fda64": {
     "id": "7d690d4e-3b1d-4603-a03f-862e1c4fda64",
     "prev": "7ab30eb0-6289-4086-abfd-0e3a1fe2a8ca",
     "regions": {
      "a0635a2f-90ee-4a99-b6fa-ed37b8a6f829": {
       "attrs": {
        "height": 0.8,
        "width": 0.8,
        "x": 0.1,
        "y": 0.1
       },
       "content": {
        "cell": "72a660f2-b1bf-4ec5-be48-8210746664a4",
        "part": "whole"
       },
       "id": "a0635a2f-90ee-4a99-b6fa-ed37b8a6f829"
      }
     }
    },
    "7f1865ae-6a3c-4a49-b261-fcbea14b1d50": {
     "id": "7f1865ae-6a3c-4a49-b261-fcbea14b1d50",
     "prev": "0fc490ba-4de8-4b2c-a803-904009f634f2",
     "regions": {
      "10c29e52-6e99-4bfb-92b3-0124fcee687d": {
       "attrs": {
        "height": 0.8,
        "width": 0.8,
        "x": 0.1,
        "y": 0.1
       },
       "content": {
        "cell": "02f6e8d9-e33b-4fc2-aef2-5df640c47fd5",
        "part": "whole"
       },
       "id": "10c29e52-6e99-4bfb-92b3-0124fcee687d"
      }
     }
    },
    "80e62075-cee6-44b1-af35-47b38f31e5cb": {
     "id": "80e62075-cee6-44b1-af35-47b38f31e5cb",
     "prev": "7f1865ae-6a3c-4a49-b261-fcbea14b1d50",
     "regions": {
      "3edfee0a-8fba-4c97-a060-f978bfa3eabe": {
       "attrs": {
        "height": 0.8,
        "width": 0.8,
        "x": 0.1,
        "y": 0.1
       },
       "content": {
        "cell": "5097a88f-2b65-412f-8f86-b54ea5ded1d5",
        "part": "whole"
       },
       "id": "3edfee0a-8fba-4c97-a060-f978bfa3eabe"
      }
     }
    },
    "829e687e-0eb4-4475-abe4-d45f62009a85": {
     "id": "829e687e-0eb4-4475-abe4-d45f62009a85",
     "prev": "7253ff3f-ef48-4bc9-a791-53aaf643a229",
     "regions": {
      "d914bc16-0891-4a7c-b65d-b01311e2366c": {
       "attrs": {
        "height": 0.8,
        "width": 0.8,
        "x": 0.1,
        "y": 0.1
       },
       "content": {
        "cell": "d6552291-81f0-4539-8585-22fe850aa4bd",
        "part": "whole"
       },
       "id": "d914bc16-0891-4a7c-b65d-b01311e2366c"
      }
     }
    },
    "831ea5db-96f7-4596-a3f8-b581e2a927ed": {
     "id": "831ea5db-96f7-4596-a3f8-b581e2a927ed",
     "prev": "829e687e-0eb4-4475-abe4-d45f62009a85",
     "regions": {
      "01d40907-4689-47fd-9207-8e52f670de5d": {
       "attrs": {
        "height": 0.8,
        "width": 0.8,
        "x": 0.1,
        "y": 0.1
       },
       "content": {
        "cell": "36ca32e6-deab-4364-a4ee-0c886485a144",
        "part": "whole"
       },
       "id": "01d40907-4689-47fd-9207-8e52f670de5d"
      }
     }
    },
    "832e09b1-4e8e-4628-9c88-533b5a442864": {
     "id": "832e09b1-4e8e-4628-9c88-533b5a442864",
     "prev": "c2ba50d7-812a-479a-bdb2-30fcef94ea14",
     "regions": {
      "77c794f3-f278-4342-b131-20ef6d52f2cd": {
       "attrs": {
        "height": 0.8,
        "width": 0.8,
        "x": 0.1,
        "y": 0.1
       },
       "content": {
        "cell": "1e4d2e13-7e86-4da2-a6a3-babb32ab0442",
        "part": "whole"
       },
       "id": "77c794f3-f278-4342-b131-20ef6d52f2cd"
      }
     }
    },
    "8425370d-15a1-4f25-b9da-e84ad1287d1e": {
     "id": "8425370d-15a1-4f25-b9da-e84ad1287d1e",
     "prev": "0fb1f28f-c4a0-4263-a652-ae7fa9329642",
     "regions": {
      "34324406-81a5-4498-8dc8-8ae23e144db7": {
       "attrs": {
        "height": 0.8,
        "width": 0.8,
        "x": 0.1,
        "y": 0.1
       },
       "content": {
        "cell": "a1b28411-294a-4744-b298-9e29446f962d",
        "part": "whole"
       },
       "id": "34324406-81a5-4498-8dc8-8ae23e144db7"
      }
     }
    },
    "849e860c-fff6-4178-8198-205d7b70e8a1": {
     "id": "849e860c-fff6-4178-8198-205d7b70e8a1",
     "prev": "f1de3c11-eb9a-4438-9bfb-4ce5d295df33",
     "regions": {
      "be9fd316-e95e-4c75-a312-1951d9f717f5": {
       "attrs": {
        "height": 0.8,
        "width": 0.8,
        "x": 0.1,
        "y": 0.1
       },
       "content": {
        "cell": "e1e5eac7-1019-4840-90ce-132779c6ded6",
        "part": "whole"
       },
       "id": "be9fd316-e95e-4c75-a312-1951d9f717f5"
      }
     }
    },
    "84ff8974-da4a-420a-94c7-8623bd15e41e": {
     "id": "84ff8974-da4a-420a-94c7-8623bd15e41e",
     "prev": "1739ad60-442f-40f8-abe3-89b2763deede",
     "regions": {
      "53a98328-152a-47a6-9d0f-e4bf3f6f2b66": {
       "attrs": {
        "height": 0.8,
        "width": 0.8,
        "x": 0.1,
        "y": 0.1
       },
       "content": {
        "cell": "7776cae6-1a7c-4224-ab8a-7781d48eced6",
        "part": "whole"
       },
       "id": "53a98328-152a-47a6-9d0f-e4bf3f6f2b66"
      }
     }
    },
    "872a44a1-f1da-4662-9684-ba8c583603a3": {
     "id": "872a44a1-f1da-4662-9684-ba8c583603a3",
     "prev": "6d5a6a97-1746-45ad-9513-4a3f23ec7e98",
     "regions": {
      "3deef043-ef98-404a-8d93-44b7d0ada8ef": {
       "attrs": {
        "height": 0.8,
        "width": 0.8,
        "x": 0.1,
        "y": 0.1
       },
       "content": {
        "cell": "2a0a84bf-8fab-4d2d-9244-062067417f2b",
        "part": "whole"
       },
       "id": "3deef043-ef98-404a-8d93-44b7d0ada8ef"
      }
     }
    },
    "8d00b10d-a50c-4c8c-8aa3-4b96326e7792": {
     "id": "8d00b10d-a50c-4c8c-8aa3-4b96326e7792",
     "prev": "256008c6-6298-4d0c-a5c9-f13c399153e3",
     "regions": {
      "42152468-c773-482b-ba8f-9351ff4aeda9": {
       "attrs": {
        "height": 0.8,
        "width": 0.8,
        "x": 0.1,
        "y": 0.1
       },
       "content": {
        "cell": "b395009f-af31-4049-9e45-5fe48c2fc3d3",
        "part": "whole"
       },
       "id": "42152468-c773-482b-ba8f-9351ff4aeda9"
      }
     }
    },
    "8ddf83ba-12b4-4075-bc33-8a18f1f23b6e": {
     "id": "8ddf83ba-12b4-4075-bc33-8a18f1f23b6e",
     "prev": "9f7bedbf-ce40-4284-9234-a5753be105a5",
     "regions": {
      "37d4a9fc-e4e4-417c-9310-0fb8a11a9622": {
       "attrs": {
        "height": 0.8,
        "width": 0.8,
        "x": 0.1,
        "y": 0.1
       },
       "content": {
        "cell": "a0935dd7-c0dc-44a2-acd8-2b47bf76eb6a",
        "part": "whole"
       },
       "id": "37d4a9fc-e4e4-417c-9310-0fb8a11a9622"
      }
     }
    },
    "90922d04-dcac-4daf-beeb-dd48714476eb": {
     "id": "90922d04-dcac-4daf-beeb-dd48714476eb",
     "prev": "495742f6-5219-4bcc-bd71-a36aced67599",
     "regions": {
      "a263b2c2-1a9b-4ce8-b0fb-ca8a6d4df153": {
       "attrs": {
        "height": 0.8,
        "width": 0.8,
        "x": 0.1,
        "y": 0.1
       },
       "content": {
        "cell": "ac2c34cf-7a96-4ad3-98ee-e59588c303f1",
        "part": "whole"
       },
       "id": "a263b2c2-1a9b-4ce8-b0fb-ca8a6d4df153"
      }
     }
    },
    "919bd687-87ac-4db6-83a2-8345ecc62bbf": {
     "id": "919bd687-87ac-4db6-83a2-8345ecc62bbf",
     "prev": "adf78c27-b7e3-47ac-943b-6fca884fe0ad",
     "regions": {
      "7b4846d0-d657-432e-b6f1-d7fb80ea3672": {
       "attrs": {
        "height": 0.8,
        "width": 0.8,
        "x": 0.1,
        "y": 0.1
       },
       "content": {
        "cell": "3edc2a1d-77cc-46d1-9192-0e184c3a7e6d",
        "part": "whole"
       },
       "id": "7b4846d0-d657-432e-b6f1-d7fb80ea3672"
      }
     }
    },
    "9428bcfe-de84-45fe-ab1e-6f8b3556eca6": {
     "id": "9428bcfe-de84-45fe-ab1e-6f8b3556eca6",
     "prev": "513fac53-c8eb-4933-bd7c-b7185f15cb7e",
     "regions": {
      "a1163ed1-099c-4bf6-9a2e-fad112b02fae": {
       "attrs": {
        "height": 0.8,
        "width": 0.8,
        "x": 0.1,
        "y": 0.1
       },
       "content": {
        "cell": "ae75e75b-9188-4869-9d13-2b32a54eb198",
        "part": "whole"
       },
       "id": "a1163ed1-099c-4bf6-9a2e-fad112b02fae"
      }
     }
    },
    "9925f3b0-6318-4c39-a5a2-b12f16ec8c0e": {
     "id": "9925f3b0-6318-4c39-a5a2-b12f16ec8c0e",
     "prev": "30d19d04-6869-44a2-933c-9fe7d8fb47e5",
     "regions": {
      "ac217762-53e2-46e0-89f3-6115fa06783d": {
       "attrs": {
        "height": 0.8,
        "width": 0.8,
        "x": 0.1,
        "y": 0.1
       },
       "content": {
        "cell": "ceef3550-6385-4ffa-baae-2389aba516bb",
        "part": "whole"
       },
       "id": "ac217762-53e2-46e0-89f3-6115fa06783d"
      }
     }
    },
    "9ed67dae-ffe5-43f5-b712-5d773518121e": {
     "id": "9ed67dae-ffe5-43f5-b712-5d773518121e",
     "prev": "28a8a521-2777-47fd-b376-455aa39a0c00",
     "regions": {
      "093baad4-ec7b-4360-96cf-8f9beb958b65": {
       "attrs": {
        "height": 0.8,
        "width": 0.8,
        "x": 0.1,
        "y": 0.1
       },
       "content": {
        "cell": "b0e0ebac-4b5a-4bae-a502-27598649983e",
        "part": "whole"
       },
       "id": "093baad4-ec7b-4360-96cf-8f9beb958b65"
      }
     }
    },
    "9f7bedbf-ce40-4284-9234-a5753be105a5": {
     "id": "9f7bedbf-ce40-4284-9234-a5753be105a5",
     "prev": "faf93395-f69f-4f1d-889a-59a8352b50f5",
     "regions": {
      "4004d459-bf80-4a21-bdd1-9d1968d0f776": {
       "attrs": {
        "height": 0.8,
        "width": 0.8,
        "x": 0.1,
        "y": 0.1
       },
       "content": {
        "cell": "7efdb2b9-5e8a-4908-a9db-bfa70e14c058",
        "part": "whole"
       },
       "id": "4004d459-bf80-4a21-bdd1-9d1968d0f776"
      }
     }
    },
    "a1ad8761-2efa-448f-8386-ccfb706adc1d": {
     "id": "a1ad8761-2efa-448f-8386-ccfb706adc1d",
     "prev": "f70fa2b9-1fdb-46d1-a324-939b2a7b2691",
     "regions": {
      "595fc9e1-d2f9-4f54-89f9-4dcaf2011962": {
       "attrs": {
        "height": 0.8,
        "width": 0.8,
        "x": 0.1,
        "y": 0.1
       },
       "content": {
        "cell": "43337530-59fb-40a2-bdb0-1297a13a34c8",
        "part": "whole"
       },
       "id": "595fc9e1-d2f9-4f54-89f9-4dcaf2011962"
      }
     }
    },
    "a814cbfc-f5b5-45bc-8a5e-515356f56deb": {
     "id": "a814cbfc-f5b5-45bc-8a5e-515356f56deb",
     "prev": "90922d04-dcac-4daf-beeb-dd48714476eb",
     "regions": {
      "f0fc57a0-3750-47ba-833c-93e1fd627f1a": {
       "attrs": {
        "height": 0.8,
        "width": 0.8,
        "x": 0.1,
        "y": 0.1
       },
       "content": {
        "cell": "fba66a6a-66a9-424c-bc45-8b07243e8cd9",
        "part": "whole"
       },
       "id": "f0fc57a0-3750-47ba-833c-93e1fd627f1a"
      }
     }
    },
    "a9c7a59c-07a5-4c53-9a59-4b5ecfb837ae": {
     "id": "a9c7a59c-07a5-4c53-9a59-4b5ecfb837ae",
     "prev": "b43fbad3-48f2-4cfb-bc11-f1dec79ef42c",
     "regions": {
      "78356fb2-6160-4d47-8541-1148d29107cc": {
       "attrs": {
        "height": 0.8,
        "width": 0.8,
        "x": 0.1,
        "y": 0.1
       },
       "content": {
        "cell": "999d39db-69fe-4d7c-998f-398dae073a52",
        "part": "whole"
       },
       "id": "78356fb2-6160-4d47-8541-1148d29107cc"
      }
     }
    },
    "aa88a4cd-8f21-4eaa-b361-c908ad632906": {
     "id": "aa88a4cd-8f21-4eaa-b361-c908ad632906",
     "prev": "bfa066f7-6c63-4d58-9202-c3421431600a",
     "regions": {
      "e922c4be-d4ca-46f1-ad4c-899095dad3cf": {
       "attrs": {
        "height": 0.8,
        "width": 0.8,
        "x": 0.1,
        "y": 0.1
       },
       "content": {
        "cell": "22b34853-65e0-44ff-97e7-a35289c0f0bb",
        "part": "whole"
       },
       "id": "e922c4be-d4ca-46f1-ad4c-899095dad3cf"
      }
     }
    },
    "ab673a77-f1bc-4e64-aef5-2853ad9c4064": {
     "id": "ab673a77-f1bc-4e64-aef5-2853ad9c4064",
     "prev": "0cda1ca3-b50b-4798-9344-fd4b3e8f7be7",
     "regions": {
      "dcc3159a-b5db-443c-a44f-2fa7f90b9967": {
       "attrs": {
        "height": 0.8,
        "width": 0.8,
        "x": 0.1,
        "y": 0.1
       },
       "content": {
        "cell": "36a4e7c9-8b07-463e-b4f6-0ad1914dc27e",
        "part": "whole"
       },
       "id": "dcc3159a-b5db-443c-a44f-2fa7f90b9967"
      }
     }
    },
    "adb88f99-c065-4e61-be93-fc2c3f1eb800": {
     "id": "adb88f99-c065-4e61-be93-fc2c3f1eb800",
     "prev": "0d5f4ac8-6c89-41d4-a4a7-d928bb5377c9",
     "regions": {
      "98c103dd-3128-42fa-b434-acbff5e0d56a": {
       "attrs": {
        "height": 0.8,
        "width": 0.8,
        "x": 0.1,
        "y": 0.1
       },
       "content": {
        "cell": "39b16f21-29c4-470d-aabc-eb3cc2e2bfc7",
        "part": "whole"
       },
       "id": "98c103dd-3128-42fa-b434-acbff5e0d56a"
      }
     }
    },
    "adf78c27-b7e3-47ac-943b-6fca884fe0ad": {
     "id": "adf78c27-b7e3-47ac-943b-6fca884fe0ad",
     "prev": "2497cbf5-7d66-4c44-ac3d-2f3f81b22e0e",
     "regions": {
      "ee7633d2-2586-4ef9-9c39-582899b9ad23": {
       "attrs": {
        "height": 0.8,
        "width": 0.8,
        "x": 0.1,
        "y": 0.1
       },
       "content": {
        "cell": "91b0e1ae-6391-4621-b5a0-00ab2d8cfa98",
        "part": "whole"
       },
       "id": "ee7633d2-2586-4ef9-9c39-582899b9ad23"
      }
     }
    },
    "aec177c7-97b5-4a99-a26d-c05abe673669": {
     "id": "aec177c7-97b5-4a99-a26d-c05abe673669",
     "prev": "5ed15d37-bcef-461a-8161-f814d2a57a19",
     "regions": {
      "7ee346d6-45b4-4a0a-9e0b-93435eae8d3f": {
       "attrs": {
        "height": 0.8,
        "width": 0.8,
        "x": 0.1,
        "y": 0.1
       },
       "content": {
        "cell": "8797c61f-33df-4ecc-a7cd-26b5219bdf23",
        "part": "whole"
       },
       "id": "7ee346d6-45b4-4a0a-9e0b-93435eae8d3f"
      }
     }
    },
    "b43fbad3-48f2-4cfb-bc11-f1dec79ef42c": {
     "id": "b43fbad3-48f2-4cfb-bc11-f1dec79ef42c",
     "prev": "35a7448d-9e3d-4a37-941a-9d1679acef2d",
     "regions": {
      "79d7d3ba-62b8-468a-8258-1387887a60fd": {
       "attrs": {
        "height": 0.8,
        "width": 0.8,
        "x": 0.1,
        "y": 0.1
       },
       "content": {
        "cell": "c46d1bf2-d67f-4869-bde6-ddc855dd1632",
        "part": "whole"
       },
       "id": "79d7d3ba-62b8-468a-8258-1387887a60fd"
      }
     }
    },
    "b518241b-c800-4c64-935d-5ba9eff67002": {
     "id": "b518241b-c800-4c64-935d-5ba9eff67002",
     "prev": "6badb8b9-0dd6-4b8e-bc34-8e3c82fc1cee",
     "regions": {
      "a7934bb0-52ef-422f-9ec6-56b936512361": {
       "attrs": {
        "height": 0.8,
        "width": 0.8,
        "x": 0.1,
        "y": 0.1
       },
       "content": {
        "cell": "a75bc4c4-6ec7-44ee-a0c5-f8dd00e01b26",
        "part": "whole"
       },
       "id": "a7934bb0-52ef-422f-9ec6-56b936512361"
      }
     }
    },
    "be5f20c8-8ae9-4334-a299-3b31edc0a194": {
     "id": "be5f20c8-8ae9-4334-a299-3b31edc0a194",
     "prev": "5db8903f-903c-457d-be24-131ae6e87d14",
     "regions": {
      "2bce3ab9-8d75-44f1-8190-747721340a58": {
       "attrs": {
        "height": 0.8,
        "width": 0.8,
        "x": 0.1,
        "y": 0.1
       },
       "content": {
        "cell": "bdb705b5-c152-4d2e-b4df-66fe75eaad5a",
        "part": "whole"
       },
       "id": "2bce3ab9-8d75-44f1-8190-747721340a58"
      }
     }
    },
    "bfa066f7-6c63-4d58-9202-c3421431600a": {
     "id": "bfa066f7-6c63-4d58-9202-c3421431600a",
     "prev": "23d5c33a-c24c-4b29-8ac6-2caba92a1281",
     "regions": {
      "9594c656-9677-47e1-9744-014165c6be33": {
       "attrs": {
        "height": 0.8,
        "width": 0.8,
        "x": 0.1,
        "y": 0.1
       },
       "content": {
        "cell": "99a15fe4-43a4-4a4b-86d5-630857aa5d30",
        "part": "whole"
       },
       "id": "9594c656-9677-47e1-9744-014165c6be33"
      }
     }
    },
    "c003f7be-b32e-4ee0-a144-e55feca49497": {
     "id": "c003f7be-b32e-4ee0-a144-e55feca49497",
     "prev": "715feff7-433a-4fab-b45e-3f155e72fdc2",
     "regions": {
      "04139fbb-f73c-483f-b8ce-fd44483073ea": {
       "attrs": {
        "height": 0.8,
        "width": 0.8,
        "x": 0.1,
        "y": 0.1
       },
       "content": {
        "cell": "24f4c283-e4fd-4679-824f-9e14ff993f8e",
        "part": "whole"
       },
       "id": "04139fbb-f73c-483f-b8ce-fd44483073ea"
      }
     }
    },
    "c2ba50d7-812a-479a-bdb2-30fcef94ea14": {
     "id": "c2ba50d7-812a-479a-bdb2-30fcef94ea14",
     "prev": "849e860c-fff6-4178-8198-205d7b70e8a1",
     "regions": {
      "cede486b-4371-4655-827e-4014dfee3e33": {
       "attrs": {
        "height": 0.8,
        "width": 0.8,
        "x": 0.1,
        "y": 0.1
       },
       "content": {
        "cell": "a3b3a5b6-38d6-40b5-a2ae-a16cde85a11b",
        "part": "whole"
       },
       "id": "cede486b-4371-4655-827e-4014dfee3e33"
      }
     }
    },
    "c317c9cc-20bb-4727-8290-d0fb7d05a0f8": {
     "id": "c317c9cc-20bb-4727-8290-d0fb7d05a0f8",
     "prev": "d3224e58-0fe0-44d1-9958-b4d3d95a1925",
     "regions": {
      "dd028ef7-0626-4592-a7e1-747395210503": {
       "attrs": {
        "height": 0.8,
        "width": 0.8,
        "x": 0.1,
        "y": 0.1
       },
       "content": {
        "cell": "1e9b5558-c1c7-48b6-a531-dc36630ea7e7",
        "part": "whole"
       },
       "id": "dd028ef7-0626-4592-a7e1-747395210503"
      }
     }
    },
    "c3633bba-09ab-4599-b73d-7fcd01273f1d": {
     "id": "c3633bba-09ab-4599-b73d-7fcd01273f1d",
     "prev": "80e62075-cee6-44b1-af35-47b38f31e5cb",
     "regions": {
      "35a76c7c-1a5a-45c2-b910-a8120afd67af": {
       "attrs": {
        "height": 0.8,
        "width": 0.8,
        "x": 0.1,
        "y": 0.1
       },
       "content": {
        "cell": "74c073e7-404f-4144-900d-bda687b55298",
        "part": "whole"
       },
       "id": "35a76c7c-1a5a-45c2-b910-a8120afd67af"
      }
     }
    },
    "c829ee87-181d-4d2e-a0e8-99af875ee94d": {
     "id": "c829ee87-181d-4d2e-a0e8-99af875ee94d",
     "prev": "f0bbb984-5d3f-41f0-bafb-bf878d65b1da",
     "regions": {
      "80823677-586c-420f-b20b-b5aef5a59495": {
       "attrs": {
        "height": 0.8,
        "width": 0.8,
        "x": 0.1,
        "y": 0.1
       },
       "content": {
        "cell": "6e9654be-2599-4e66-bc4f-19ba8dd74e23",
        "part": "whole"
       },
       "id": "80823677-586c-420f-b20b-b5aef5a59495"
      }
     }
    },
    "d05d8dd7-470e-4e23-bab7-ebc51ebbf189": {
     "id": "d05d8dd7-470e-4e23-bab7-ebc51ebbf189",
     "prev": "872a44a1-f1da-4662-9684-ba8c583603a3",
     "regions": {
      "65e9de54-c729-4f0a-a4dc-99c94da0c614": {
       "attrs": {
        "height": 0.8,
        "width": 0.8,
        "x": 0.1,
        "y": 0.1
       },
       "content": {
        "cell": "afa70694-4f95-4678-ba85-f78a5156b7b7",
        "part": "whole"
       },
       "id": "65e9de54-c729-4f0a-a4dc-99c94da0c614"
      }
     }
    },
    "d3224e58-0fe0-44d1-9958-b4d3d95a1925": {
     "id": "d3224e58-0fe0-44d1-9958-b4d3d95a1925",
     "prev": "1f428a4b-e6bf-44f4-82a8-000df44d6bba",
     "regions": {
      "dc4e185a-658b-4934-9898-52eb0b52966d": {
       "attrs": {
        "height": 0.8,
        "width": 0.8,
        "x": 0.1,
        "y": 0.1
       },
       "content": {
        "cell": "0ca949aa-3bfe-411c-8916-2c895daf117d",
        "part": "whole"
       },
       "id": "dc4e185a-658b-4934-9898-52eb0b52966d"
      }
     }
    },
    "d3abd4fd-5595-426f-a2fe-dc2235b702b0": {
     "id": "d3abd4fd-5595-426f-a2fe-dc2235b702b0",
     "prev": "dd0daac8-2371-4616-96dd-c705738a6869",
     "regions": {
      "a02f719b-c066-4ff6-adae-fb7b58c79c55": {
       "attrs": {
        "height": 0.8,
        "width": 0.8,
        "x": 0.1,
        "y": 0.1
       },
       "content": {
        "cell": "a4835d84-bc3b-4541-a2a2-b9576f014ac9",
        "part": "whole"
       },
       "id": "a02f719b-c066-4ff6-adae-fb7b58c79c55"
      }
     }
    },
    "dc58b355-4228-40f4-a2ae-f16eec24a9f3": {
     "id": "dc58b355-4228-40f4-a2ae-f16eec24a9f3",
     "prev": "1c86f480-a955-4d4b-86da-9b7807bd9fbf",
     "regions": {
      "083e4052-6d6a-407c-8075-617bf7185edf": {
       "attrs": {
        "height": 0.8,
        "width": 0.8,
        "x": 0.1,
        "y": 0.1
       },
       "content": {
        "cell": "12c2eea0-46ec-4005-a006-d0e469a1a2dc",
        "part": "whole"
       },
       "id": "083e4052-6d6a-407c-8075-617bf7185edf"
      }
     }
    },
    "dd0daac8-2371-4616-96dd-c705738a6869": {
     "id": "dd0daac8-2371-4616-96dd-c705738a6869",
     "prev": "5fd327a5-a050-40b3-beb3-0eeeb86f2e78",
     "regions": {
      "c6559eda-12a6-4e8a-ad2f-275374c5a977": {
       "attrs": {
        "height": 0.8,
        "width": 0.8,
        "x": 0.1,
        "y": 0.1
       },
       "content": {
        "cell": "ba8b86c1-6ece-4b66-993a-371efa9522cc",
        "part": "whole"
       },
       "id": "c6559eda-12a6-4e8a-ad2f-275374c5a977"
      }
     }
    },
    "e1ec84c6-3570-46b9-aaef-1df21fec8c86": {
     "id": "e1ec84c6-3570-46b9-aaef-1df21fec8c86",
     "prev": "a1ad8761-2efa-448f-8386-ccfb706adc1d",
     "regions": {
      "9ff4a832-117d-4d39-b2ac-87e0b9820775": {
       "attrs": {
        "height": 0.8,
        "width": 0.8,
        "x": 0.1,
        "y": 0.1
       },
       "content": {
        "cell": "d218c5f9-95e9-4bf8-bba5-9f344bcf2a05",
        "part": "whole"
       },
       "id": "9ff4a832-117d-4d39-b2ac-87e0b9820775"
      }
     }
    },
    "e9645e97-076d-49a2-ac50-60df72e22059": {
     "id": "e9645e97-076d-49a2-ac50-60df72e22059",
     "prev": "38a629d5-1e3a-4e8a-9a28-c6f4a948e9b1",
     "regions": {
      "c96f948f-016c-4656-8eb5-b8fcc957892f": {
       "attrs": {
        "height": 0.8,
        "width": 0.8,
        "x": 0.1,
        "y": 0.1
       },
       "content": {
        "cell": "ab7daebe-ccf9-4a78-a370-aef26630012d",
        "part": "whole"
       },
       "id": "c96f948f-016c-4656-8eb5-b8fcc957892f"
      }
     }
    },
    "ebd3a3d1-f8d1-4480-8b59-b2145a9993b2": {
     "id": "ebd3a3d1-f8d1-4480-8b59-b2145a9993b2",
     "prev": "c317c9cc-20bb-4727-8290-d0fb7d05a0f8",
     "regions": {
      "c0538426-fccd-4bb9-b62d-6a224e6b0da5": {
       "attrs": {
        "height": 0.8,
        "width": 0.8,
        "x": 0.1,
        "y": 0.1
       },
       "content": {
        "cell": "49e5215c-5aa6-4472-b8aa-9898813f5789",
        "part": "whole"
       },
       "id": "c0538426-fccd-4bb9-b62d-6a224e6b0da5"
      }
     }
    },
    "edc897d5-8c1f-4304-b9bc-06c0eabe3de3": {
     "id": "edc897d5-8c1f-4304-b9bc-06c0eabe3de3",
     "prev": "dc58b355-4228-40f4-a2ae-f16eec24a9f3",
     "regions": {
      "b5dd66cc-6c3e-4788-aa3a-34547dea8f50": {
       "attrs": {
        "height": 0.8,
        "width": 0.8,
        "x": 0.1,
        "y": 0.1
       },
       "content": {
        "cell": "5fa15e50-acad-424b-a695-bc700ea716e6",
        "part": "whole"
       },
       "id": "b5dd66cc-6c3e-4788-aa3a-34547dea8f50"
      }
     }
    },
    "eebd33cb-9a34-4744-9296-591db296e8b2": {
     "id": "eebd33cb-9a34-4744-9296-591db296e8b2",
     "prev": "e1ec84c6-3570-46b9-aaef-1df21fec8c86",
     "regions": {
      "1b91175b-8913-488a-9259-50fc0f04a0d1": {
       "attrs": {
        "height": 0.8,
        "width": 0.8,
        "x": 0.1,
        "y": 0.1
       },
       "content": {
        "cell": "b51de666-a7ba-478a-abce-fee6ee65fc4c",
        "part": "whole"
       },
       "id": "1b91175b-8913-488a-9259-50fc0f04a0d1"
      }
     }
    },
    "eef0d87f-4f03-45b9-ba0f-cde00f646fb5": {
     "id": "eef0d87f-4f03-45b9-ba0f-cde00f646fb5",
     "prev": "4319f966-748c-4bdb-87db-82fccd9fbab8",
     "regions": {
      "53d65ee0-bc12-4f58-8f75-fc90f17dfee6": {
       "attrs": {
        "height": 0.8,
        "width": 0.8,
        "x": 0.1,
        "y": 0.1
       },
       "content": {
        "cell": "c0bdd3b9-2cc6-48fa-9c1d-87ebe955a834",
        "part": "whole"
       },
       "id": "53d65ee0-bc12-4f58-8f75-fc90f17dfee6"
      }
     }
    },
    "f0bbb984-5d3f-41f0-bafb-bf878d65b1da": {
     "id": "f0bbb984-5d3f-41f0-bafb-bf878d65b1da",
     "prev": null,
     "regions": {
      "ac99c2ef-d731-4e7a-a29e-be158e56004e": {
       "attrs": {
        "height": 0.8,
        "width": 0.8,
        "x": 0.1,
        "y": 0.1
       },
       "content": {
        "cell": "1ad9e6fc-734a-4739-8c02-12ae43ed107d",
        "part": "whole"
       },
       "id": "ac99c2ef-d731-4e7a-a29e-be158e56004e"
      }
     }
    },
    "f1de3c11-eb9a-4438-9bfb-4ce5d295df33": {
     "id": "f1de3c11-eb9a-4438-9bfb-4ce5d295df33",
     "prev": "734a7f11-e401-4a14-aae7-363502f971fd",
     "regions": {
      "5ba6e0d7-052e-4e09-b631-fa5844599dee": {
       "attrs": {
        "height": 0.8,
        "width": 0.8,
        "x": 0.1,
        "y": 0.1
       },
       "content": {
        "cell": "1b74814a-f10d-48f7-9691-b6d28c3be21f",
        "part": "whole"
       },
       "id": "5ba6e0d7-052e-4e09-b631-fa5844599dee"
      }
     }
    },
    "f1e61699-d8cb-42b1-a5b6-b3f50e59efa3": {
     "id": "f1e61699-d8cb-42b1-a5b6-b3f50e59efa3",
     "prev": "67f0cb37-8327-496f-8a87-5513ac0669c3",
     "regions": {
      "7873578a-c20b-4aa0-ac14-1df80b3d223e": {
       "attrs": {
        "height": 0.8,
        "width": 0.8,
        "x": 0.1,
        "y": 0.1
       },
       "content": {
        "cell": "da25a949-23cb-4d4b-a021-96ffbf1b4ae3",
        "part": "whole"
       },
       "id": "7873578a-c20b-4aa0-ac14-1df80b3d223e"
      }
     }
    },
    "f35e4cc8-8031-40f3-94e3-9837cf616ed7": {
     "id": "f35e4cc8-8031-40f3-94e3-9837cf616ed7",
     "prev": "832e09b1-4e8e-4628-9c88-533b5a442864",
     "regions": {
      "4ad37976-ca37-4021-8899-0110f2b7fe1b": {
       "attrs": {
        "height": 0.8,
        "width": 0.8,
        "x": 0.1,
        "y": 0.1
       },
       "content": {
        "cell": "ce5d926b-fa97-413e-854a-9a4e91763d65",
        "part": "whole"
       },
       "id": "4ad37976-ca37-4021-8899-0110f2b7fe1b"
      }
     }
    },
    "f70fa2b9-1fdb-46d1-a324-939b2a7b2691": {
     "id": "f70fa2b9-1fdb-46d1-a324-939b2a7b2691",
     "prev": "adb88f99-c065-4e61-be93-fc2c3f1eb800",
     "regions": {
      "3977ca17-b42c-4394-8c09-0183e8e3ec86": {
       "attrs": {
        "height": 0.8,
        "width": 0.8,
        "x": 0.1,
        "y": 0.1
       },
       "content": {
        "cell": "a14db88f-c823-40aa-b3cc-1e81e194178f",
        "part": "whole"
       },
       "id": "3977ca17-b42c-4394-8c09-0183e8e3ec86"
      }
     }
    },
    "faf93395-f69f-4f1d-889a-59a8352b50f5": {
     "id": "faf93395-f69f-4f1d-889a-59a8352b50f5",
     "prev": "4f86b6de-3ae1-4cc9-bfb5-675edce26342",
     "regions": {
      "2dd8c9b1-34b1-41f2-83e7-b78c31ebcb2a": {
       "attrs": {
        "height": 0.8,
        "width": 0.8,
        "x": 0.1,
        "y": 0.1
       },
       "content": {
        "cell": "a39c3b16-28a6-4859-a3a9-5cb06ba5291e",
        "part": "whole"
       },
       "id": "2dd8c9b1-34b1-41f2-83e7-b78c31ebcb2a"
      }
     }
    }
   },
   "themes": {
    "default": "0755893a-54dc-423b-bdb4-fed3b080cde0",
    "theme": {
     "0755893a-54dc-423b-bdb4-fed3b080cde0": {
      "backgrounds": {
       "dc7afa04-bf90-40b1-82a5-726e3cff5267": {
        "background-color": "31af15d2-7e15-44c5-ab5e-e04b16a89eff",
        "id": "dc7afa04-bf90-40b1-82a5-726e3cff5267"
       }
      },
      "id": "0755893a-54dc-423b-bdb4-fed3b080cde0",
      "palette": {
       "19cc588f-0593-49c9-9f4b-e4d7cc113b1c": {
        "id": "19cc588f-0593-49c9-9f4b-e4d7cc113b1c",
        "rgb": [
         252,
         252,
         252
        ]
       },
       "31af15d2-7e15-44c5-ab5e-e04b16a89eff": {
        "id": "31af15d2-7e15-44c5-ab5e-e04b16a89eff",
        "rgb": [
         68,
         68,
         68
        ]
       },
       "50f92c45-a630-455b-aec3-788680ec7410": {
        "id": "50f92c45-a630-455b-aec3-788680ec7410",
        "rgb": [
         197,
         226,
         245
        ]
       },
       "c5cc3653-2ee1-402a-aba2-7caae1da4f6c": {
        "id": "c5cc3653-2ee1-402a-aba2-7caae1da4f6c",
        "rgb": [
         43,
         126,
         184
        ]
       },
       "efa7f048-9acb-414c-8b04-a26811511a21": {
        "id": "efa7f048-9acb-414c-8b04-a26811511a21",
        "rgb": [
         25.118061674008803,
         73.60176211453744,
         107.4819383259912
        ]
       }
      },
      "rules": {
       "a": {
        "color": "19cc588f-0593-49c9-9f4b-e4d7cc113b1c"
       },
       "blockquote": {
        "color": "50f92c45-a630-455b-aec3-788680ec7410",
        "font-size": 3
       },
       "code": {
        "font-family": "Anonymous Pro"
       },
       "h1": {
        "color": "19cc588f-0593-49c9-9f4b-e4d7cc113b1c",
        "font-family": "Merriweather",
        "font-size": 8
       },
       "h2": {
        "color": "19cc588f-0593-49c9-9f4b-e4d7cc113b1c",
        "font-family": "Merriweather",
        "font-size": 6
       },
       "h3": {
        "color": "50f92c45-a630-455b-aec3-788680ec7410",
        "font-family": "Lato",
        "font-size": 5.5
       },
       "h4": {
        "color": "c5cc3653-2ee1-402a-aba2-7caae1da4f6c",
        "font-family": "Lato",
        "font-size": 5
       },
       "h5": {
        "font-family": "Lato"
       },
       "h6": {
        "font-family": "Lato"
       },
       "h7": {
        "font-family": "Lato"
       },
       "li": {
        "color": "50f92c45-a630-455b-aec3-788680ec7410",
        "font-size": 3.25
       },
       "pre": {
        "font-family": "Anonymous Pro",
        "font-size": 4
       }
      },
      "text-base": {
       "color": "19cc588f-0593-49c9-9f4b-e4d7cc113b1c",
       "font-family": "Lato",
       "font-size": 4
      }
     }
    }
   }
  },
  "widgets": {
   "application/vnd.jupyter.widget-state+json": {
    "state": {},
    "version_major": 2,
    "version_minor": 0
   }
  }
 },
 "nbformat": 4,
 "nbformat_minor": 4
}
