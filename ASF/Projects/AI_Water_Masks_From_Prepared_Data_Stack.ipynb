{
 "cells": [
  {
   "cell_type": "markdown",
   "metadata": {},
   "source": [
    "![OpenSARlab notebook banner](../../SAR_Training/English/Master/NotebookAddons/blackboard-banner.png)\n",
    "\n",
    "# Flood Mapping using a Convolutional Neural Network (CNN)\n",
    "\n",
    "<img style=\"padding: 7px\" src=\"../../SAR_Training/English/Master/NotebookAddons/UAFLogo_A_647.png\" width=\"170\" align=\"right\"/>\n",
    "\n",
    "### Alex Lewandowski; University of Alaska Fairbanks\n",
    "* Adapted from ASF's AI_Water project: McKade Sorensen, George Meier, and Rohan Weeden*\n",
    "\n",
    "This takes a prepared stack of RTC products as input, containing both VV and VH polarities (see the Prepare_Data_Stack notebook). It uses a fully convolutional neural network to create predicted water masks for all image pairs (VV and VH) in the stack.\n",
    "\n",
    "ASF's AI_Water is open source and freely available on github: https://github.com/asfadmin/AI_Water\n",
    "\n",
    "**Important: The AI_Water neural network was trained on data collected during warm months. It was not trained on data collected from times and places experiencing sub-freezing temperatures.**"
   ]
  },
  {
   "cell_type": "code",
   "execution_count": null,
   "metadata": {},
   "outputs": [],
   "source": [
    "import url_widget as url_w\n",
    "notebookUrl = url_w.URLWidget()\n",
    "display(notebookUrl)"
   ]
  },
  {
   "cell_type": "code",
   "execution_count": null,
   "metadata": {
    "collapsed": false,
    "jupyter": {
     "outputs_hidden": false
    },
    "pycharm": {
     "name": "#%%\n"
    }
   },
   "outputs": [],
   "source": [
    "from IPython.display import Markdown\n",
    "from IPython.display import display\n",
    "\n",
    "notebookUrl = notebookUrl.value\n",
    "user = !echo $JUPYTERHUB_USER\n",
    "env = !echo $CONDA_PREFIX\n",
    "if env[0] == '':\n",
    "    env[0] = 'Python 3 (base)'\n",
    "if env[0] != '/home/jovyan/.local/envs/machine_learning':\n",
    "    display(Markdown(f'<text style=color:red><strong>WARNING:</strong></text>'))\n",
    "    display(Markdown(f'<text style=color:red>This notebook should be run using the \"machine_learning\" conda environment.</text>'))\n",
    "    display(Markdown(f'<text style=color:red>It is currently using the \"{env[0].split(\"/\")[-1]}\" environment.</text>'))\n",
    "    display(Markdown(f'<text style=color:red>Select \"machine_learning\" from the \"Change Kernel\" submenu of the \"Kernel\" menu.</text>'))\n",
    "    display(Markdown(f'<text style=color:red>If the \"machine_learning\" environment is not present, use <a href=\"{notebookUrl.split(\"/user\")[0]}/user/{user[0]}/notebooks/conda_environments/Create_OSL_Conda_Environments.ipynb\"> Create_OSL_Conda_Environments.ipynb </a> to create it.</text>'))\n",
    "    display(Markdown(f'<text style=color:red>Note that you must restart your server after creating a new environment before it is usable by notebooks.</text>'))"
   ]
  },
  {
   "cell_type": "markdown",
   "metadata": {
    "hidden": true
   },
   "source": [
    "**Import necessary packages and libraries**"
   ]
  },
  {
   "cell_type": "code",
   "execution_count": null,
   "metadata": {
    "hidden": true
   },
   "outputs": [],
   "source": [
    "from pathlib import Path\n",
    "\n",
    "from osgeo import gdal\n",
    "gdal.UseExceptions()\n",
    "from typing import Tuple, Union\n",
    "import numpy as np\n",
    "\n",
    "from keras.models import Model\n",
    "from keras.models import load_model as kload_model\n",
    "\n",
    "from ipyfilechooser import FileChooser\n",
    "\n",
    "import opensarlab_lib as asfn"
   ]
  },
  {
   "cell_type": "markdown",
   "metadata": {
    "heading_collapsed": true
   },
   "source": [
    "## Setting Up Network and Path to Data Sets \n",
    "\n",
    "**Define the path to directory holding our network**"
   ]
  },
  {
   "cell_type": "code",
   "execution_count": null,
   "metadata": {
    "hidden": true
   },
   "outputs": [],
   "source": [
    "ai_water_path = Path('/home/jovyan/notebooks/ASF/Projects')"
   ]
  },
  {
   "cell_type": "markdown",
   "metadata": {
    "hidden": true
   },
   "source": [
    "**Write a function to create a list of paths to all tiffs in a directory**"
   ]
  },
  {
   "cell_type": "code",
   "execution_count": null,
   "metadata": {
    "hidden": true
   },
   "outputs": [],
   "source": [
    "def get_tiff_paths(paths: str) -> list:\n",
    "    tiff_paths = !ls $paths | sort -t_ -k5,5\n",
    "    return tiff_paths"
   ]
  },
  {
   "cell_type": "markdown",
   "metadata": {
    "hidden": true
   },
   "source": [
    "<font face=\"Calibri\" size=\"3\"><b>Enter the path to the data stack</b></font>"
   ]
  },
  {
   "cell_type": "code",
   "execution_count": null,
   "metadata": {},
   "outputs": [],
   "source": [
    "print(\"Select the directory holding your tiffs.\")\n",
    "f = FileChooser(Path.cwd())\n",
    "display(f)"
   ]
  },
  {
   "cell_type": "markdown",
   "metadata": {
    "hidden": true
   },
   "source": [
    "<font face=\"Calibri\" size=\"3\"><b>Move into the parent directory of the directory containing the data and create a directory in which to store the water masks</b></font>"
   ]
  },
  {
   "cell_type": "code",
   "execution_count": null,
   "metadata": {
    "hidden": true
   },
   "outputs": [],
   "source": [
    "analysis_directory = Path(f.selected_path)\n",
    "mask_directory = analysis_directory/'AI_Water_Masks'\n",
    "if not mask_directory.exists():\n",
    "    mask_directory.mkdir()\n",
    "    \n",
    "paths = f\"{analysis_directory}/*.tif*\"\n",
    "tiff_paths = get_tiff_paths(paths)"
   ]
  },
  {
   "cell_type": "markdown",
   "metadata": {
    "heading_collapsed": true
   },
   "source": [
    "## Discover Available Data Sets\n",
    "\n",
    "**Write a function to create a dictionary containing lists of each vv/vh pair**"
   ]
  },
  {
   "cell_type": "code",
   "execution_count": null,
   "metadata": {
    "hidden": true
   },
   "outputs": [],
   "source": [
    "def group_polarizations(tiff_paths: list) -> dict:\n",
    "    pths = {}\n",
    "    for tiff in tiff_paths:\n",
    "        product_name = tiff.split('.')[0][:-2]\n",
    "        if product_name in pths:\n",
    "            pths[product_name].append(tiff)\n",
    "        else:\n",
    "            pths.update({product_name: [tiff]})\n",
    "            pths[product_name].sort()\n",
    "    return pths"
   ]
  },
  {
   "cell_type": "markdown",
   "metadata": {
    "hidden": true
   },
   "source": [
    "**Write a function to confirm the presence of both VV and VH images in all image sets**"
   ]
  },
  {
   "cell_type": "code",
   "execution_count": null,
   "metadata": {
    "hidden": true
   },
   "outputs": [],
   "source": [
    "def confirm_dual_polarizations(paths: dict) -> bool:\n",
    "    for p in paths:\n",
    "        if len(paths[p]) == 2:\n",
    "            if ('vv' not in paths[p][1] and 'VV' not in paths[p][1]) or \\\n",
    "            ('vh' not in paths[p][0] and 'VH' not in paths[p][0]):\n",
    "                return False\n",
    "    return True   "
   ]
  },
  {
   "cell_type": "markdown",
   "metadata": {
    "hidden": true
   },
   "source": [
    "**Create a dictionary of VV/VH pairs and check it for completeness**"
   ]
  },
  {
   "cell_type": "code",
   "execution_count": null,
   "metadata": {
    "hidden": true
   },
   "outputs": [],
   "source": [
    "grouped_pths = group_polarizations(tiff_paths)\n",
    "if not confirm_dual_polarizations(grouped_pths):\n",
    "    print(\"ERROR: AI_Water requires both VV and VH polarizations.\")\n",
    "else:\n",
    "    print(\"Confirmed presence of VV and VH polarities for each product.\")\n",
    "    \n",
    "# print(grouped_pths) #uncomment to print VV/VH path pairs"
   ]
  },
  {
   "cell_type": "markdown",
   "metadata": {
    "heading_collapsed": true
   },
   "source": [
    "## Creating Some Helper Scripts\n",
    "\n",
    "**Write a function to pad an image, so it may be split into tiles with consistent dimensions**"
   ]
  },
  {
   "cell_type": "code",
   "execution_count": null,
   "metadata": {
    "hidden": true
   },
   "outputs": [],
   "source": [
    "def pad_image(image: np.ndarray, to: int) -> np.ndarray:\n",
    "    height, width = image.shape\n",
    "\n",
    "    n_rows, n_cols = get_tile_row_col_count(height, width, to)\n",
    "    new_height = n_rows * to\n",
    "    new_width = n_cols * to\n",
    "\n",
    "    padded = np.zeros((new_height, new_width))\n",
    "    padded[:image.shape[0], :image.shape[1]] = image\n",
    "    return padded"
   ]
  },
  {
   "cell_type": "markdown",
   "metadata": {
    "hidden": true
   },
   "source": [
    "**Write a function to tile an image**"
   ]
  },
  {
   "cell_type": "code",
   "execution_count": null,
   "metadata": {
    "hidden": true
   },
   "outputs": [],
   "source": [
    "def tile_image(image: np.ndarray, width: int = 512, height: int = 512) -> np.ndarray:\n",
    "    _nrows, _ncols = image.shape\n",
    "    _strides = image.strides\n",
    "\n",
    "    nrows, _m = divmod(_nrows, height)\n",
    "    ncols, _n = divmod(_ncols, width)\n",
    "\n",
    "    assert _m == 0, \"Image must be evenly tileable. Please pad it first\"\n",
    "    assert _n == 0, \"Image must be evenly tileable. Please pad it first\"\n",
    "\n",
    "    return np.lib.stride_tricks.as_strided(\n",
    "        np.ravel(image),\n",
    "        shape=(nrows, ncols, height, width),\n",
    "        strides=(height * _strides[0], width * _strides[1], *_strides),\n",
    "        writeable=False\n",
    "    ).reshape(nrows * ncols, height, width)"
   ]
  },
  {
   "cell_type": "markdown",
   "metadata": {
    "hidden": true
   },
   "source": [
    "**Write a function to calculate the number of rows and columns of tiles needed to tile an image to a given size**"
   ]
  },
  {
   "cell_type": "code",
   "execution_count": null,
   "metadata": {
    "hidden": true
   },
   "outputs": [],
   "source": [
    "def get_tile_row_col_count(height: int, width: int, tile_size: int) -> Tuple[int, int]:\n",
    "    return int(np.ceil(height / tile_size)), int(np.ceil(width / tile_size))"
   ]
  },
  {
   "cell_type": "markdown",
   "metadata": {
    "hidden": true
   },
   "source": [
    "**Write a function to load a trained model**"
   ]
  },
  {
   "cell_type": "code",
   "execution_count": null,
   "metadata": {
    "hidden": true
   },
   "outputs": [],
   "source": [
    "def load_model(model_path: Union[str, Path]) -> Model:\n",
    "    \"\"\" Loads and returns a model. Attaches the model name and that model's\n",
    "    history. \"\"\"\n",
    "    model_path = Path(str(model_path))\n",
    "    model_dir = model_path.parent\n",
    "    print(f\"model_dir: {model_dir}\")\n",
    "    model = kload_model(model_path)\n",
    "\n",
    "    # Attach our extra data to the model\n",
    "    model.__asf_model_name = model_path\n",
    "\n",
    "    return model"
   ]
  },
  {
   "cell_type": "markdown",
   "metadata": {
    "hidden": true
   },
   "source": [
    "**Write a function to save a mask**"
   ]
  },
  {
   "cell_type": "code",
   "execution_count": null,
   "metadata": {
    "hidden": true
   },
   "outputs": [],
   "source": [
    "def write_mask_to_file(mask: np.ndarray, file_name: Union[str, Path], projection: str, geo_transform: str) -> None:\n",
    "    (width, height) = mask.shape\n",
    "    out_image = gdal.GetDriverByName('GTiff').Create(\n",
    "        str(file_name), height, width, bands=1\n",
    "    )\n",
    "    out_image.SetProjection(projection)\n",
    "    out_image.SetGeoTransform(geo_transform)\n",
    "    out_image.GetRasterBand(1).WriteArray(mask)\n",
    "    out_image.GetRasterBand(1).SetNoDataValue(0)\n",
    "    out_image.FlushCache()"
   ]
  },
  {
   "cell_type": "markdown",
   "metadata": {
    "heading_collapsed": true
   },
   "source": [
    "## Run CNN-based Flood Mapping on Discovered Data\n",
    "\n",
    "Load the AI_Water model and print a summary of its fully convolutional neural network architecture"
   ]
  },
  {
   "cell_type": "code",
   "execution_count": null,
   "metadata": {
    "hidden": true
   },
   "outputs": [],
   "source": [
    "model_path = ai_water_path/'network.h5'\n",
    "model = load_model(model_path)\n",
    "print(model.summary())"
   ]
  },
  {
   "cell_type": "markdown",
   "metadata": {
    "hidden": true
   },
   "source": [
    "**Iterate through each VV/VH pair, using AI_Water to create a predicted water mask for each**"
   ]
  },
  {
   "cell_type": "code",
   "execution_count": null,
   "metadata": {
    "hidden": true
   },
   "outputs": [],
   "source": [
    "for pair in grouped_pths:\n",
    "    for tiff in grouped_pths[pair]:\n",
    "        f = gdal.Open(tiff)\n",
    "        img_array = f.ReadAsArray()\n",
    "        original_shape = img_array.shape\n",
    "        n_rows, n_cols = get_tile_row_col_count(*original_shape, tile_size=512)\n",
    "        print(f'tiff: {tiff}')\n",
    "        if 'vv' in tiff or 'VV' in tiff:\n",
    "            vv_array = pad_image(f.ReadAsArray(), 512)\n",
    "            invalid_pixels = np.nonzero(vv_array == 0.0)\n",
    "            vv_tiles = tile_image(vv_array)\n",
    "        else:\n",
    "            vh_array = pad_image(f.ReadAsArray(), 512)\n",
    "            invalid_pixels = np.nonzero(vh_array == 0.0)\n",
    "            vh_tiles = tile_image(vh_array)\n",
    "            \n",
    "    # Predict masks\n",
    "    masks = model.predict(\n",
    "        np.stack((vh_tiles, vv_tiles), axis=3), batch_size=1, verbose=1\n",
    "    )\n",
    "    masks.round(decimals=0, out=masks)\n",
    "    # Stitch masks together\n",
    "    mask = masks.reshape((n_rows, n_cols, 512, 512)) \\\n",
    "                .swapaxes(1, 2) \\\n",
    "                .reshape(n_rows * 512, n_cols * 512)  # yapf: disable\n",
    "\n",
    "    mask[invalid_pixels] = 0\n",
    "    filename  = str(Path(tiff).stem)[:-3]\n",
    "    ext = str(Path(tiff).suffix)\n",
    "    outfile = mask_directory/f'{filename}_water_mask{ext}'\n",
    "    write_mask_to_file(mask, outfile, f.GetProjection(), f.GetGeoTransform())"
   ]
  },
  {
   "cell_type": "markdown",
   "metadata": {
    "hidden": true
   },
   "source": [
    "---\n",
    "*Version Log*\n",
    "\n",
    "*AI_Water_Masks_From_Prepared_Data_Stack.ipynb - Version 1.3.0 - November 2021*\n",
    "\n",
    "*Version Changes:*\n",
    "\n",
    "- *asf_notebook -> opensarlab_lib*\n",
    "- *url_widget*\n",
    "- *ipyfilechooser*\n",
    "- *html -> markdown*"
   ]
  }
 ],
 "metadata": {
  "kernelspec": {
   "display_name": "machine_learning [conda env:.local-machine_learning]",
   "language": "python",
   "name": "conda-env-.local-machine_learning-py"
  },
  "language_info": {
   "codemirror_mode": {
    "name": "ipython",
    "version": 3
   },
   "file_extension": ".py",
   "mimetype": "text/x-python",
   "name": "python",
   "nbconvert_exporter": "python",
   "pygments_lexer": "ipython3",
   "version": "3.8.12"
  }
 },
 "nbformat": 4,
 "nbformat_minor": 4
}
