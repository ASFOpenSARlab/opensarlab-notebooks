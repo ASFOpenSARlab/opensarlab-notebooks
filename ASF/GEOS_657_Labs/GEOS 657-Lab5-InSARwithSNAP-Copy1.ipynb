{
 "cells": [
  {
   "cell_type": "markdown",
   "metadata": {},
   "source": [
    "<img src=\"NotebookAddons/blackboard-banner.jpg\" width=\"100%\" />\n",
    "<font face=\"Calibri\">\n",
    "<br>\n",
    "<font size=\"7\"> <b> GEOS 657: Microwave Remote Sensing<b> </font>\n",
    "\n",
    "<font size=\"5\"> <b>Lab 5: InSAR Processing using ESA's SNAP Toolbox <font color='rgba(200,0,0,0.2)'> -- [20 Points] </font> </b> </font>\n",
    "\n",
    "<br>\n",
    "<font size=\"4\"> <b> Franz J Meyer; University of Alaska Fairbanks</b> <br>\n",
    "<img src=\"NotebookAddons/UAFLogo_A_647.png\" width=\"170\" align=\"right\" /><font color='rgba(200,0,0,0.2)'> <b>Due Date: </b> April 05, 2019 </font>\n",
    "</font>\n",
    "\n",
    "<font size=\"3\"> This Lab is part of the UAF course <a href=\"https://radar.community.uaf.edu/\" target=\"_blank\">GEOS 657: Microwave Remote Sensing</a>. It is introducing you to the concepts of interferometric SAR (InSAR) processing using the European Space Agency's (ESA) Sentinel Application Platform (SNAP), a free software tool specifically designed to analyze data from all of ESA's Sentinel Sensors. In this lab, we specifically will be working with the Sentinel-1 constellation, a two-sensor C-band radar providing 10m-resolution SAR data globally every 6-12 days. As previously, all data analysis will be done in the framework of *Jupyter Notebooks*.  <br>\n",
    "\n",
    "<b>In this chapter we introduce the following data analysis concepts:</b>\n",
    "\n",
    "- What is special about the Sentinel-1 SAR acquisition mode\n",
    "- How to read visualize and work with Sentinel-1 data within the SNAP toolbox.\n",
    "- How to process InSAR data start-to-finish within SNAP.\n",
    "</font>\n",
    "\n",
    "<font size=\"4\"> <font color='rgba(200,0,0,0.2)'> <b>THIS NOTEBOOK INCLUDES <u>THREE</u> HOMEWORK ASSIGNMENTS at its very end.</b></font> Complete all assignments to achieve full score. </font> <br>\n",
    "<font size=\"3\"> To submit your homework, please download your Jupyter Notebook from the server both asf PDF (*.pdf) and Notebook file (*.ipynb) and submit them as a ZIP bundle via Blackboard or email (to fjmeyer@alaska.edu). To download, please select the following options in the main menu of the notebook interface:\n",
    "\n",
    "<ol type=\"1\">\n",
    "  <li><font color='rgba(200,0,0,0.2)'> <b> Save your notebook with all of its content</b></font> by selecting <i> File / Save and Checkpoint </i> </li>\n",
    "  <li><font color='rgba(200,0,0,0.2)'> <b>To export in Notebook format</b></font>, click on <i>File / Download as / Notebook (.ipynb)</i>  <font color='gray'>--- Downloading your file may take a bit as the Notebook will be about 100MB in size</font></li>\n",
    "  <li><font color='rgba(200,0,0,0.2)'> <b>To export in PDF format</b></font>, click on <i>File / Download as / PDF vs LaTeX (.pdf) </i></li>\n",
    "</ol>\n",
    "\n",
    "Contact me at fjmeyer@alaska.edu should you run into any problems.\n",
    "</font>\n",
    "\n",
    "</font>"
   ]
  },
  {
   "cell_type": "markdown",
   "metadata": {},
   "source": [
    "<hr>\n",
    "<font face=\"Calibri\">\n",
    "\n",
    "<font size=\"5\"> <b> 0. Importing Relevant Python Packages </b> </font>\n",
    "\n",
    "<font size=\"3\"> The first step of this lab exercises on SAR image time series analysis is the import of necessary python libraries into your Jupyter Notebook. See the code cell below for information on which libraries are needed.\n",
    "<ol type=\"1\">\n",
    "    <li> <b><a href=\"https://pandas.pydata.org/\" target=\"_blank\">Pandas</a></b> is a Python library that provides high-level data structures and a vast variety of tools for analysis. The great feature of this package is the ability to translate rather complex operations with data into one or two commands. Pandas contains many built-in methods for filtering and combining data, as well as the time-series functionality. </li>\n",
    "    <li> <b><a href=\"https://www.gdal.org/\" target=\"_blank\">GDAL</a></b> is a software library for reading and writing raster and vector geospatial data formats. It includes a collection of programs tailored for geospatial data processing. Most modern GIS systems (such as ArcGIS or QGIS) use GDAL in the background.</li>\n",
    "    <li> <b><a href=\"http://www.numpy.org/\" target=\"_blank\">NumPy</a></b> is one of the principal packages for scientific applications of Python. It is intended for processing large multidimensional arrays and matrices, and an extensive collection of high-level mathematical functions and implemented methods makes it possible to perform various operations with these objects. </li>\n",
    "    <li> <b><a href=\"https://matplotlib.org/index.html\" target=\"_blank\">Matplotlib</a></b> is a low-level library for creating two-dimensional diagrams and graphs. With its help, you can build diverse charts, from histograms and scatterplots to non-Cartesian coordinates graphs. Moreover, many popular plotting libraries are designed to work in conjunction with matplotlib. </li>\n",
    "    \n",
    "</font>"
   ]
  },
  {
   "cell_type": "code",
   "execution_count": 1,
   "metadata": {},
   "outputs": [],
   "source": [
    "import sys,os,re\n",
    "import numpy as np\n",
    "import datetime\n",
    "import time\n",
    "import glob\n",
    "import csv\n",
    "import gdal\n",
    "\n",
    "# Setup plotting inside the notebook\n",
    "%matplotlib inline\n",
    "import matplotlib.pylab as plt"
   ]
  },
  {
   "cell_type": "markdown",
   "metadata": {},
   "source": [
    "<font size=\"3\"> We write a couple of helper functions that check that a given file or path exists. These provide simple error handling for some of our os library function calls:</font>"
   ]
  },
  {
   "cell_type": "code",
   "execution_count": 2,
   "metadata": {},
   "outputs": [],
   "source": [
    "def fileExists(filename):\n",
    "    if os.path.isfile(filename):\n",
    "        return True\n",
    "    else:\n",
    "        print(\"The file \" + filename + \" is missing.\")\n",
    "        return False"
   ]
  },
  {
   "cell_type": "code",
   "execution_count": 3,
   "metadata": {},
   "outputs": [],
   "source": [
    "def pathExists(path):\n",
    "    if os.path.exists(path):\n",
    "        return True\n",
    "    else:\n",
    "        print(\"Invalid Path.\")\n",
    "        return False"
   ]
  },
  {
   "cell_type": "markdown",
   "metadata": {},
   "source": [
    "<hr>\n",
    "<font face=\"Calibri\">\n",
    "\n",
    "<font size=\"5\"> <b> 1. Background on Analyzed Event </b> </font> <img src=\"NotebookAddons/Shakemap.jpg\" width=\"350\" align=\"right\" /> \n",
    "\n",
    "<font size=\"3\"> Interferometric SAR processing exploits the difference between the phase signals of repeated SAR acquisitions to analyze the shape and deformation of the Earth surface. The principles and concepts of Interferometric SAR (InSAR) processing were covered in Lectures 12 to 14 of <a href=\"https://radar.community.uaf.edu/\" target=\"_blank\">GEOS 657</a>. Please refer to information in the <a href=\"https://radar.community.uaf.edu/module-iii-advanced-radar-concepts/\" target=\"_blank\">lecture notes</a> should you have InSAR-related questions that are not explained in this document.\n",
    "\n",
    "In the first part of this lab, we will analyze a pair of Sentinel-1 images bracketing the devastating 2016 Kumamoto earthquake, whose 6.5 magnitude foreshock and 7.0 main shock devastated large areas around Kumamoto, JP on April 14th and 16th, respectively. The figure to your right shows the USGS ShakeMap associated with the 7.0 magnitude main shock, showing both the violence of the event and the location of the largest devastation.\n",
    "\n",
    "We will use ESA’s Sentinel Application Platform (SNAP) to perform InSAR processing on these Sentinel-1 images. The advantages of the SNAP tool include (1) its graphical user interface, which renders the SNAP tool straightforward to use (compared to other InSAR processing tools); (2) the easy-to-access, free-of-charge, and public domain nature of the SNAP tool; and (3) the fact that SNAP is an integrative multi-sensor toolbox and enables processing data from all Sentinel sensors within one joint processing platform. While the graphical user interface is not used here, it is available to you on your personal computer for future exercises.\n",
    "</font>"
   ]
  },
  {
   "cell_type": "markdown",
   "metadata": {},
   "source": [
    "<hr>\n",
    "<font face=\"Calibri\">\n",
    "\n",
    "<font size=\"5\"> <b> 2. Sentinel-1 Data used in this Lab </b> </font> <img src=\"NotebookAddons/Lab5-topsar.jpg\" width=\"300\" align=\"right\" /> \n",
    "\n",
    "<font size=\"3\"> The Interferometric Wide (IW) swath mode is the main acquisition mode over land for <a href=\"https://www.asf.alaska.edu/sentinel/\" target=\"_blank\">Sentinel-1</a>. It acquires data with a 250 km swath at 5 m by 20 m spatial resolution (single look). IW captures three sub-swaths using the Terrain Observation with Progressive Scans SAR (TOPSAR) acquisition principle. With the TOPSAR technique, in addition to steering the beam in range as in ScanSAR, the beam is also electronically steered from backward to forward in the azimuth direction for each burst, avoiding scalloping and resulting in homogeneous image quality throughout the swath. A schematic of the TOPSAR acquisition principle is shown to your right. For more information on TOPSAR please read <cite><a href=\"https://ieeexplore.ieee.org/abstract/document/1677745\"><i>TOPSAR: Terrain Observation by Progressive Scans</i></a> by De Zan & Monti Guarnieri</cite>. \n",
    "\n",
    "IW Single Look Complex (SLC) products contain one image per sub-swath and one per polarization channel, for a total of three (single polarization) or six (dual polarization) images in an IW product. Each sub-swath image consists of a series of bursts, where each burst has been processed as a separate SLC image. The individually focused complex burst images are included, in azimuth-time order, into a single sub-swath image with black-fill demarcation in between.\n",
    "<br><br>\n",
    "\n",
    "<img src=\"NotebookAddons/Lab5-footprint.jpg\" width=\"400\" align=\"right\" /> We will use a pair of repeated Sentine-1 images for this part of the lab that were acquired on April 8 and April 20, 2016, bracketing the fore- and main shock of the Kumamoto earthquake event. Hence, the phase difference between these image acquisitions capture the cumulative co-seismic deformation caused by both of these seismic events. The footprint of the Sentinel-1 images is shown to your right and covers the areas affected by the earthquake. Hence, Sentinel-1 data are a good basis for studying earthquake-related surface deformation.\n",
    "\n",
    "We will download these images directly from the <b><a href=\"https://vertex.daac.asf.alaska.edu/#\" target=\"_blank\">ASF VERTEX</a></b> search client:\n",
    "- <b>Pre-event image:</b> S1A_IW_SLC__1SSV_20160408T091355_20160408T091430_010728_01001F_83EB\n",
    "- <b>Post-event image:</b> S1A_IW_SLC__1SSV_20160420T091355_20160420T091423_010903_010569_F9CE\n",
    "\n",
    "</font> \n",
    "</font>"
   ]
  },
  {
   "cell_type": "markdown",
   "metadata": {},
   "source": [
    "<hr>\n",
    "<font face=\"Calibri\" size=\"3\"> Before we get started, let's <b>first create a working directory for this analysis and change into it:</b> </font>"
   ]
  },
  {
   "cell_type": "code",
   "execution_count": 6,
   "metadata": {},
   "outputs": [
    {
     "data": {
      "text/plain": [
       "'/home/jovyan/notebooks/ASF/GEOS_657_Labs/Kumamoto'"
      ]
     },
     "execution_count": 6,
     "metadata": {},
     "output_type": "execute_result"
    }
   ],
   "source": [
    "# Let's first create a working directory for this analysis and change into it\n",
    "os.chdir('/home/jovyan/notebooks/ASF/GEOS_657_Labs')\n",
    "!mkdir -p Kumamoto\n",
    "os.chdir('/home/jovyan/notebooks/ASF/GEOS_657_Labs/Kumamoto')\n",
    "os.getcwd() "
   ]
  },
  {
   "cell_type": "markdown",
   "metadata": {},
   "source": [
    "<font face=\"Calibri\" size=\"3\"> Now, we <b>define a function to download our data sets from the ASF archives:</b> </font>"
   ]
  },
  {
   "cell_type": "code",
   "execution_count": null,
   "metadata": {},
   "outputs": [],
   "source": [
    "import requests\n",
    "from getpass import getpass\n",
    "def download_file(url, username=None, password=None):\n",
    "    #https://stackoverflow.com/questions/16694907/how-to-download-large-file-in-python-with-requests-py\n",
    "    local_filename = url.split('/')[-1]\n",
    "    r = requests.get(url, stream=True)   # NOTE the stream=True parameter\n",
    "    if r.status_code == 401:\n",
    "        pwd = getpass('Password for {}: '.format(username))\n",
    "        r = requests.get(r.url, stream=True, auth=(username,pwd))\n",
    "    print('Downloading...')\n",
    "    with open(local_filename, 'wb') as f:\n",
    "        for chunk in r.iter_content(chunk_size=1024): \n",
    "            if chunk: # filter out keep-alive new chunks\n",
    "                f.write(chunk)\n",
    "    if os.stat(local_filename).st_size < 5000:\n",
    "        print('Failed!  Check your password.')\n",
    "    else:\n",
    "        print('Done')\n",
    "    return local_filename"
   ]
  },
  {
   "cell_type": "markdown",
   "metadata": {},
   "source": [
    "<font face=\"Calibri\" size=\"3\"> You are ready to <b>authenticate yourself at ASF with your Earthdata login and download the files needed for this exercise.</b> To do so, replace the <i>NEDusr</i> \"fmeyer\" with your own username in the code cell below and run the cell: </font>"
   ]
  },
  {
   "cell_type": "code",
   "execution_count": null,
   "metadata": {},
   "outputs": [],
   "source": [
    "from getpass import getpass\n",
    "\n",
    "NEDusr = 'aflewandowski'\n",
    "NEDpass = getpass()\n",
    "\n",
    "with open('/home/jovyan/.netrc', 'w') as f:\n",
    "    f.write('machine urs.earthdata.nasa.gov login ' + NEDusr + ' password ' + NEDpass + '\\n')"
   ]
  },
  {
   "cell_type": "code",
   "execution_count": null,
   "metadata": {},
   "outputs": [],
   "source": [
    "# Now, let's actually download the file:\n",
    "url = 'https://datapool.asf.alaska.edu/SLC/SA/S1A_IW_SLC__1SSV_20160408T091355_20160408T091430_010728_01001F_83EB.zip'\n",
    "preevent = download_file(url, username=NEDusr, password=NEDpass)\n",
    "url = 'https://datapool.asf.alaska.edu/SLC/SA/S1A_IW_SLC__1SSV_20160420T091355_20160420T091423_010903_010569_F9CE.zip'\n",
    "postevent = download_file(url, username=NEDusr, password=NEDpass)"
   ]
  },
  {
   "cell_type": "markdown",
   "metadata": {},
   "source": [
    "<br>\n",
    "<hr>\n",
    "<font face=\"Calibri\" size=\"5\"> <b> 3. InSAR Processing using SNAP: </b> \n",
    "\n",
    "<font size=\"3\"> We now will be going through the individual steps of the InSAR Processing flow using the <a href=\"http://step.esa.int/main/download/\" target=\"_blank\">SNAP toolbox</a>. To do so, <b>we first have to set up the path to the SNAP toolbox and define the names of the image files we want to process:</b></font>\n",
    "\n",
    "</font> "
   ]
  },
  {
   "cell_type": "code",
   "execution_count": null,
   "metadata": {},
   "outputs": [],
   "source": [
    "baseSNAP = '/usr/local/snap/bin/gpt '"
   ]
  },
  {
   "cell_type": "code",
   "execution_count": null,
   "metadata": {},
   "outputs": [],
   "source": [
    "prebaseGran = re.split('/',preevent.replace('.zip',''))[-1]\n",
    "postbaseGran = re.split('/',postevent.replace('.zip',''))[-1]"
   ]
  },
  {
   "cell_type": "markdown",
   "metadata": {},
   "source": [
    "<br>\n",
    "<hr>\n",
    "<font face=\"Calibri\" size=\"4\"> <b> 3.1 Extract Sub-swath from the Data Files </b> </font>\n",
    "\n",
    "<font face=\"Calibri\" size=\"3\"> SNAP natively processes the individual sub-swaths of a Sentinel-1 data set individually. Hence, we have to first extract the targeted sub-swath data from the data file. We will start with IW1, mostly because it is center nicely on the event: </font> "
   ]
  },
  {
   "cell_type": "code",
   "execution_count": null,
   "metadata": {},
   "outputs": [],
   "source": [
    "def topsarSplit(inData,ss,td2,subs):\n",
    "    calFlag = 'TOPSAR-Split -Psubswath=%s -PselectedPolarisations=VV ' % ss\n",
    "    if subs != '':\n",
    "        calFlag = calFlag + '-PwktAoi=\\\"%s\\\" ' % subs\n",
    "    out = '-t %s/%s ' % (td2,inData.replace('.zip','_TS'))\n",
    "    inD = '-Ssource=%s' % inData\n",
    "    cmd = baseSNAP + calFlag + out + inD\n",
    "    print('Spliting subswaths')\n",
    "    print(cmd)\n",
    "    os.system(cmd)\n",
    "    #This function uses .zip since it is the first step\n",
    "    return '%s' % inData.replace('.zip','_TS.dim')"
   ]
  },
  {
   "cell_type": "code",
   "execution_count": null,
   "metadata": {},
   "outputs": [],
   "source": [
    "msplit = topsarSplit(preevent,'IW1',os.getcwd(),'')"
   ]
  },
  {
   "cell_type": "code",
   "execution_count": null,
   "metadata": {},
   "outputs": [],
   "source": [
    "ssplit = topsarSplit(postevent,'IW1',os.getcwd(),'')"
   ]
  },
  {
   "cell_type": "markdown",
   "metadata": {},
   "source": [
    "<br>\n",
    "<hr>\n",
    "<font face=\"Calibri\" size=\"4\"> <b> 3.2 Apply Orbit File </b> </font>\n",
    "\n",
    "<font face=\"Calibri\" size=\"3\"> We are interested in measuring surface deformation for this analysis. Remember that the interferometric phase $\\phi$ contains (at a minimum) the following information:\n",
    "\n",
    "$\\phi = \\phi_{topo} + \\phi_{defo} = \\frac{4\\cdot\\pi}{\\lambda} \\frac{B_{\\perp}}{R\\cdot cos(\\theta)} \\cdot h + \\frac{4\\cdot\\pi}{\\lambda} \\cdot \\Delta R $\n",
    "<br><br>\n",
    "In order to be able to remove most of $\\phi_{topo}$ from this equation, we need a good DEM as well as accurate information about the interferometric baseline $B_{\\perp}$. To facilitate the latter, we update the orbit information in the data file to the post-processed <i>precise</i> orbits.\n",
    "\n",
    "</font> "
   ]
  },
  {
   "cell_type": "code",
   "execution_count": null,
   "metadata": {},
   "outputs": [],
   "source": [
    "def applyOrbit(inData,td2):\n",
    "    aoFlag = 'Apply-Orbit-File '\n",
    "    oType = '-PcontinueOnFail=\\\"true\\\" -PorbitType=\\'Sentinel Precise (Auto Download)\\' '\n",
    "    out = '-t %s/%s ' % (td2,inData.replace('.dim','_OB'))\n",
    "\n",
    "    cmd = baseSNAP + aoFlag + out + oType + ' -Ssource=%s/%s' % (td2,inData)\n",
    "    print('Applying Precise Orbit file')\n",
    "    print(cmd)\n",
    "    os.system(cmd)\n",
    "    return '%s' % inData.replace('.dim','_OB.dim')"
   ]
  },
  {
   "cell_type": "code",
   "execution_count": null,
   "metadata": {},
   "outputs": [],
   "source": [
    "mobOut = applyOrbit(msplit,os.getcwd())\n",
    "print('\\n\\n')\n",
    "sobOut = applyOrbit(ssplit,os.getcwd())\n",
    "print('\\n\\n')\n",
    "print(mobOut,sobOut)"
   ]
  },
  {
   "cell_type": "markdown",
   "metadata": {},
   "source": [
    "<br>\n",
    "<hr>\n",
    "<font face=\"Calibri\" size=\"4\"> <b> 3.3 Project DEM into SAR Imaging Geometry </b> </font>\n",
    "\n",
    "<font face=\"Calibri\" size=\"3\"> The DEM is needed for a number of processing routines in the Sentinel-1 InSAR processing workflow. Steps where the DEM is involved include:\n",
    "\n",
    "- The accurate co-registration of master and slave image\n",
    "- The removal of the topographic phase component $\\phi_{topo}$\n",
    "- The geocoding and terrain correction of the final InSAR data\n",
    "\n",
    "To facilitate all of these steps, <b>we need to retrieve a DEM from a public repository and project the DEM into the SAR observation geometry.</b>\n",
    "</font> "
   ]
  },
  {
   "cell_type": "code",
   "execution_count": null,
   "metadata": {},
   "outputs": [],
   "source": [
    "def backGeocoding(inData1,inData2,td2,dem=''):\n",
    "    calFlag = 'Back-Geocoding ' \n",
    "    if dem != '':\n",
    "        calFlag = calFlag + '-PdemName=\\\"External DEM\\\" -PexternalDEMFile=%s ' % dem\n",
    "    else: \n",
    "        calFlag = calFlag + '-PdemName=\\\"SRTM 1Sec HGT\\\" ' \n",
    "\n",
    "    out = '-t %s/%s ' % (td2,inData1.replace('.dim','_BG'))\n",
    "    inD = '-SsourceProducts=\\\"%s/%s\\\" \\\"%s/%s\\\" ' % (td2,inData1,td2,inData2)\n",
    "    cmd = baseSNAP + calFlag + out + inD\n",
    "    print('Back Geocoding') \n",
    "    print(cmd) \n",
    "    os.system(cmd)\n",
    "    return '%s' % inData1.replace('.dim','_BG.dim')"
   ]
  },
  {
   "cell_type": "code",
   "execution_count": null,
   "metadata": {},
   "outputs": [],
   "source": [
    "# If orbit download doesn't work, do this ...\n",
    "#mobOut=msplit\n",
    "#sobOut=ssplit"
   ]
  },
  {
   "cell_type": "code",
   "execution_count": null,
   "metadata": {},
   "outputs": [],
   "source": [
    "gcOut = backGeocoding(mobOut,sobOut,os.getcwd(),'')"
   ]
  },
  {
   "cell_type": "markdown",
   "metadata": {},
   "source": [
    "<br>\n",
    "<hr>\n",
    "<font face=\"Calibri\" size=\"4\"> <b> 3.4 Accurate Co-Registration using Enhanced Spectral Diversity (ESD) </b> </font>\n",
    "\n",
    "<font face=\"Calibri\" size=\"3\"> For interferometric processing, two or more images must be co-registered into a common geometry. The geometry of one image is selected as the <i>master</i> geometry while the other images are often referred to as <i>slave</i> images. The pixels in slave images will be moved to align with the master image to sub-pixel accuracy.\n",
    "\n",
    "Coregistration ensures that each ground target contributes to the same (range, azimuth) pixel in both the master and the slave image. For TOPS InSAR, co-registration using the Enhanced Spectral Diversity (ESD) method (published in <cite><a href=\"https://ieeexplore.ieee.org/abstract/document/6130599\"><i>TOPS Interferometry With TerraSAR-X</i></a> by P. Prats-Iraola et al.</cite>) should be used. This approach can achieve co-registration qualities down to $\\frac{1}{1000}$ of a pixel. \n",
    "</font> "
   ]
  },
  {
   "cell_type": "code",
   "execution_count": null,
   "metadata": {},
   "outputs": [],
   "source": [
    "def applyESD(inData,td2):\n",
    "    calFlag = 'Enhanced-Spectral-Diversity ' \n",
    "    out = '%s/%s ' % (td2,inData.replace('.dim','_ESD'))\n",
    "    inD = '-Ssource=%s/%s' % (td2,inData)\n",
    "    cmd = baseSNAP + calFlag + '-t ' + out + inD\n",
    "    print('Performing ESD') \n",
    "    print(cmd) \n",
    "    os.system(cmd)\n",
    "    test = out.strip() + '.dim'\n",
    "    if not os.path.isfile(test):\n",
    "        print('\\n*** Command Failed ***') \n",
    "        print('Error: Expected output file not found: '+test)\n",
    "    return '%s' % inData.replace('.dim','_ESD.dim')"
   ]
  },
  {
   "cell_type": "code",
   "execution_count": null,
   "metadata": {},
   "outputs": [],
   "source": [
    "esdOut = applyESD(gcOut,os.getcwd())"
   ]
  },
  {
   "cell_type": "markdown",
   "metadata": {},
   "source": [
    "<br>\n",
    "<hr>\n",
    "<font face=\"Calibri\" size=\"4\"> <b> 3.5 Interferogram Formation and Coherence Estimation </b> </font>\n",
    "\n",
    "<font face=\"Calibri\" size=\"3\"> The interferogram is formed by cross-multiplying the master image with the complex conjugate of the slave. The amplitude of both images is multiplied while their respective phases are differenced to form the interferogram. \n",
    "The phase difference map, i.e., interferometric phase at each SAR image pixel depends only on the difference in the travel paths from each of the two SARs to the considered resolution cell.\n",
    "    \n",
    "Removal of the flat-Earth phase is done automatically during the interferogram formation step. The flat-Earth phase is the phase present in the interferometric signal due to the curvature of the reference surface. The flat-Earth phase is estimated using orbital and metadata information and subtracted from the complex interferogram.\n",
    "</font> "
   ]
  },
  {
   "cell_type": "code",
   "execution_count": null,
   "metadata": {},
   "outputs": [],
   "source": [
    "def createInterferogram(inData,td2):\n",
    "    calFlag = 'Interferogram ' \n",
    "    out = '%s/%s ' % (td2,inData.replace('.dim','_INT'))\n",
    "    inD = '-SsourceProduct=%s/%s' % (td2,inData)\n",
    "    cmd = baseSNAP + calFlag + '-t ' + out + inD\n",
    "    print('Creating Interferogram ...') \n",
    "    print(cmd) \n",
    "    os.system(cmd)\n",
    "    test = out.strip() + '.dim'\n",
    "    if not os.path.isfile(test):\n",
    "        print('\\n*** Command Failed ***') \n",
    "        print('Error: Expected output file not found: '+test)\n",
    "    return '%s' % inData.replace('.dim','_INT.dim')"
   ]
  },
  {
   "cell_type": "code",
   "execution_count": null,
   "metadata": {},
   "outputs": [],
   "source": [
    "intOut = createInterferogram(esdOut,os.getcwd())"
   ]
  },
  {
   "cell_type": "markdown",
   "metadata": {},
   "source": [
    "<br>\n",
    "<hr>\n",
    "<img src=\"NotebookAddons/Lab5-bursts.jpg\" width=\"400\" align=\"right\" /><font face=\"Calibri\" size=\"4\"> <b> 3.6 TOPS Deburst </b> </font>\n",
    "\n",
    "<font face=\"Calibri\" size=\"3\"> Within a subswath, TOPS data are acquired in bursts. Each burst is separated by demarcation zones. The image to your right demonstrates what the burst demarcations look like in the SAR amplitude image. Any ‘data’ within the demarcation zones can be considered invalid and should be zero-filled but may contain garbage values. \n",
    "    \n",
    "Eventually, these demarcation zones between bursts need to be removed to seamlessly join all bursts in a swath into a single image. <b>We apply this step after interferogram formation using the TOPS Deburst operator.</b>\n",
    "</font> "
   ]
  },
  {
   "cell_type": "code",
   "execution_count": null,
   "metadata": {},
   "outputs": [],
   "source": [
    "def topsarDeburst(inData,td2):\n",
    "    calFlag = 'TOPSAR-Deburst ' \n",
    "    out = '%s/%s ' % (td2,inData.replace('.dim','_DB'))\n",
    "    inD = '-Ssource=%s/%s' % (td2,inData)\n",
    "    cmd = baseSNAP + calFlag + '-t ' + out + inD\n",
    "    print('TOPSAR Deburst ...') \n",
    "    print(cmd) \n",
    "    os.system(cmd)\n",
    "    test = out.strip() + '.dim'\n",
    "    if not os.path.isfile(test):\n",
    "        print('\\n*** Command Failed ***') \n",
    "        print('Error: Expected output file not found: '+test)\n",
    "    return '%s' % inData.replace('.dim','_DB.dim')"
   ]
  },
  {
   "cell_type": "code",
   "execution_count": null,
   "metadata": {},
   "outputs": [],
   "source": [
    "dbOut = topsarDeburst(intOut,os.getcwd())"
   ]
  },
  {
   "cell_type": "markdown",
   "metadata": {},
   "source": [
    "<br>\n",
    "<hr>\n",
    "<font face=\"Calibri\" size=\"4\"> <b> 3.7 Remote Topographic Phase </b> </font>\n",
    "\n",
    "<font face=\"Calibri\" size=\"3\"> To emphasize phase signatures related to deformation, topographic phase contributions are typically removed using a known DEM. In SNAP, the Topographic Phase Removal operator will simulate an interferogram based on a reference DEM and subtract it from the processed interferogram.\n",
    "    \n",
    "SNAP will automatically find and download the DEM segment required for correcting your interferogram of interest. After topographic phase removal, the resulting product will appear largely devoid of topographic influence. \n",
    "</font> "
   ]
  },
  {
   "cell_type": "code",
   "execution_count": null,
   "metadata": {},
   "outputs": [],
   "source": [
    "def topoPhaseRemoval(inData,td2,dem=''):\n",
    "    calFlag = 'TopoPhaseRemoval ' \n",
    "    if dem != '':\n",
    "        calFlag = calFlag + '-PdemName=\\\"External DEM\\\" -PexternalDEMFile=%s ' % dem\n",
    "    else: \n",
    "        calFlag = calFlag + '-PdemName=\\\"SRTM 1Sec HGT\\\" ' \n",
    "    out = '%s/%s ' % (td2,inData.replace('.dim','_Topo'))\n",
    "    inD = '-SsourceProduct=\\\"%s/%s\\\" ' % (td2,inData)\n",
    "    cmd = baseSNAP + calFlag + '-t ' + out + inD\n",
    "    print('Removing Topographic Phase') \n",
    "    print(cmd) \n",
    "    os.system(cmd)\n",
    "    test = out.strip() + '.dim'\n",
    "    if not os.path.isfile(test):\n",
    "        print('\\n*** Command Failed ***') \n",
    "        print('Error: Expected output file not found: '+test)\n",
    "    return '%s' % inData.replace('.dim','_Topo.dim')"
   ]
  },
  {
   "cell_type": "code",
   "execution_count": null,
   "metadata": {},
   "outputs": [],
   "source": [
    "topoOut = topoPhaseRemoval(dbOut,os.getcwd(),'')"
   ]
  },
  {
   "cell_type": "markdown",
   "metadata": {},
   "source": [
    "<br>\n",
    "<hr>\n",
    "<font face=\"Calibri\" size=\"4\"> <b> 3.8 Phase Filtering and Multi-looking </b> </font>\n",
    "\n",
    "<img src=\"NotebookAddons/Lab5-filtered.jpg\" width=\"400\" align=\"right\" /><font face=\"Calibri\" size=\"3\"> You will see in the GeoTIFF files you just created that up to this stage, your interferogram looks very nosy and fringe patterns are difficult to discern. Hence, we will apply two subsequent processing steps to reduce noise and enhance the appearance of the deformation fringes.\n",
    "\n",
    "As discussed in Lecture 12, interferometric phase can be corrupted by noise from:\n",
    "\n",
    "- Temporal decorrelation\n",
    "- Geometric decorrelation\n",
    "- Volume scattering\n",
    "- Processing error\n",
    "\n",
    "To be able to properly analyze the phase signatures in the interferogram, the signal-to-noise ratio will be increased by applying <b>phase filtering and multilooking</b>. Once these steps are concluded, your interferogram of the Kumamoto Earthquake should look like the example to the right.\n",
    "\n",
    "<hr>\n",
    "<b>In a first step</b> we use multilooking to improve phase fidelity. This process averages a user-specified number of range and azimuth pixels, resulting in a reduction of noise. We will use $12 \\times 4$ range/azimuth looks, resulting in a pixel size of about 60m (Figure 9). \n",
    "</font> "
   ]
  },
  {
   "cell_type": "code",
   "execution_count": null,
   "metadata": {},
   "outputs": [],
   "source": [
    "def applyML(inData,td2):\n",
    "    calFlag = 'Multilook -PnRgLooks=12 -PnAzLooks=4 '\n",
    "    out = '%s/%s ' % (td2,inData.replace('.dim','_ML'))\n",
    "    inD = '-Ssource=%s/%s' % (td2,inData)\n",
    "    cmd = baseSNAP + calFlag + '-t ' + out + inD\n",
    "    print('Applying Multilook') \n",
    "    print(cmd) \n",
    "    os.system(cmd)\n",
    "    test = out.strip() + '.dim'\n",
    "    if not os.path.isfile(test):\n",
    "        print('\\n*** Command Failed ***') \n",
    "        print('Error: Expected output file not found: '+test)\n",
    "    return '%s' % inData.replace('.dim','_ML.dim')\n"
   ]
  },
  {
   "cell_type": "code",
   "execution_count": null,
   "metadata": {},
   "outputs": [],
   "source": [
    "mlOut = applyML(topoOut,os.getcwd())"
   ]
  },
  {
   "cell_type": "markdown",
   "metadata": {},
   "source": [
    "<hr>\n",
    "<font face=\"Calibri\" size=\"3\">\n",
    "<b>In a second step</b> we perform a phase filtering step using a state-of-the art filtering approach. Specifically, we will be using the Goldstein Phase Filtering published in <cite><a href=\"https://agupubs.onlinelibrary.wiley.com/doi/abs/10.1029/1998GL900033%4010.1002/%28ISSN%291944-8007.GRL40\"><i>Radar Interferogram Filtering for Geophysical Applications</i></a> by Goldstein & Werner</cite>.\n",
    "</font> "
   ]
  },
  {
   "cell_type": "code",
   "execution_count": null,
   "metadata": {},
   "outputs": [],
   "source": [
    "def goldsteinFilter(inData,td2):\n",
    "    calFlag = 'GoldsteinPhaseFiltering -PcoherenceThreshold=0.2 ' \n",
    "    out = '%s/%s ' % (td2,inData.replace('.dim','_GF'))\n",
    "    inD = '-SsourceProduct=%s/%s' % (td2,inData)\n",
    "    cmd = baseSNAP + calFlag + '-t ' + out + inD\n",
    "    print('Goldstein Phase Filtering') \n",
    "    print(cmd) \n",
    "    os.system(cmd)\n",
    "    test = out.strip() + '.dim'\n",
    "    if not os.path.isfile(test):\n",
    "        print('\\n*** Command Failed ***') \n",
    "        print('Error: Expected output file not found: '+test)\n",
    "    return '%s' % inData.replace('.dim','_GF.dim')"
   ]
  },
  {
   "cell_type": "code",
   "execution_count": null,
   "metadata": {},
   "outputs": [],
   "source": [
    "gfOut = goldsteinFilter(mlOut,os.getcwd())"
   ]
  },
  {
   "cell_type": "markdown",
   "metadata": {},
   "source": [
    "<br>\n",
    "<hr>\n",
    "<img src=\"NotebookAddons/Lab5-unwrapping.jpg\" width=\"400\" align=\"right\" /><font face=\"Calibri\" size=\"4\"> <b> 3.9 Phase Unwrapping </b> </font>\n",
    "\n",
    "<font face=\"Calibri\" size=\"3\"> The interferometric phase $\\phi$ is originally only available in its wrapped form. Phase unwrapping tries to recover the unwrapped phase $\\psi$ given its observed wrapped phase $\\phi = W\\{\\psi\\}$.\n",
    "    \n",
    "The solution for this problem is difficult to find and needs some assumptions. The most important of these assumptions is that we expect the true earth surface to be reasonably smooth, meaning that strong discontinuities as shown in the right image are rare. Phase unwrapping algorithms mathematically code the statement that the left image is a more likely solution for a measured vector field than the image to the right.<br><br>\n",
    "\n",
    "We will use the public-domain phase unwrapping code SNAPHU (<u>s</u>tatistical-cost, <u>n</u>etwork-flow <u>ph</u>ase-<u>u</u>nwrapping algorithm) first published in <cite><a href=\"https://ieeexplore.ieee.org/abstract/document/1036000\"><i>Phase Unwrapping for Large SAR Interferograms: Statistical Segmentation and Generalized Network Models</i></a> by Chen & Zebker</cite> to achieve this task. \n",
    "\n",
    "</font> "
   ]
  },
  {
   "cell_type": "code",
   "execution_count": null,
   "metadata": {},
   "outputs": [],
   "source": [
    "'''def phaseUnwrap(inData,td2):\n",
    "    # First export to SNAPHU format\n",
    "    calFlag = 'SnaphuExport ' \n",
    "    out = '-PtargetFolder=%s ' % td2\n",
    "    inD = '-SsourceProduct=%s/%s' % (td2,inData)\n",
    "    cmd = baseSNAP + calFlag + out + inD\n",
    "    print('Exporting for Snaphu') \n",
    "    print(cmd) \n",
    "    os.system(cmd)\n",
    "\n",
    "    # Actually call snaphu\n",
    "    snaphuDir = '%s/%s' % (td2,inData.replace('.dim',''))\n",
    "    snaphuConf = '%s/snaphu.conf' % snaphuDir\n",
    "    han = open(snaphuConf,'r')\n",
    "    sData = han.readlines()\n",
    "    han.close()\n",
    "    han = open(snaphuConf,'w')\n",
    "    for i in range(0,len(sData)):\n",
    "        if 'LOGFILE' in sData[i]:\n",
    "            print 'Found logfile in snaphu.conf'\n",
    "            sData[i] = sData[i].replace('LOGFILE','#LOGFILE')\n",
    "        if i==6:\n",
    "            snaphuCmd = sData[i].replace('#   ','')\n",
    "        han.write(sData[i])\n",
    "    han.close()\n",
    "    cmd = 'cd %s;%s' % (snaphuDir,snaphuCmd)\n",
    "    print(cmd) \n",
    "    os.system(cmd)\n",
    "\n",
    "    # Import from SNAPHU format\n",
    "    calFlag = 'SnaphuImport ' \n",
    "    out = '-t %s/%s ' % (td2,inData.replace('.dim','_UNW'))\n",
    "    snaphuFile = glob.glob('%s/Unw*.hdr' % snaphuDir)[0]\n",
    "    inD = '-SsourceProducts=\\\"%s/%s\\\" \\\"%s\\\" ' % (td2,inData,snaphuFile)\n",
    "    cmd = baseSNAP + calFlag + out + inD\n",
    "    print('Importing from Snaphu') \n",
    "    print(cmd) \n",
    "    os.system(cmd)\n",
    "    return '%s' % inData.replace('.dim','_UNW.dim')'''"
   ]
  },
  {
   "cell_type": "code",
   "execution_count": null,
   "metadata": {},
   "outputs": [],
   "source": [
    "#unwOut = phaseUnwrap(mlOut,os.getcwd())"
   ]
  },
  {
   "cell_type": "markdown",
   "metadata": {},
   "source": [
    "<br>\n",
    "<hr>\n",
    "<font face=\"Calibri\" size=\"4\"> <b> 3.10\tGeocoding and Export in a User-defined Format </b> </font>\n",
    "\n",
    "<font face=\"Calibri\" size=\"3\"> To make the data useful to geoscientists, the unwrapped interferometric phase image needs to be projected into a geographic coordinate system using a DEM-assisted geocoding step. \n",
    "    \n",
    "In the following we first geocode the data set using the DEM. <b>We will geocode both the <i>unfiltered</i> and the <i>phase filtered</i> versions of the interferogram</b>. Subsequently, we convert the geocoded data sets into GeoTIFF format. Feel free to compare the filtered and unfiltered versions for their relative performance.\n",
    "\n",
    "</font> "
   ]
  },
  {
   "cell_type": "code",
   "execution_count": null,
   "metadata": {},
   "outputs": [],
   "source": [
    "def applyTC(inData,td2,dem=''):\n",
    "    calFlag = 'Terrain-Correction '\n",
    "    out = '%s/%s  ' % (td2,inData.replace('.dim','_TC'))\n",
    "    inD = '-Ssource=%s/%s' % (td2,inData)\n",
    "    if dem != '':\n",
    "        inD = inD + ' -PoutputComplex=true -PdemName=\\\"External DEM\\\" -PexternalDEMFile=%s -PexternalDEMNoDataValue=0 -PpixelSpacingInMeter=60 ' % extDEM\n",
    "    else:\n",
    "        #inD = inD + ' -PdemName=\\\"SRTM 3Sec\\\" '\n",
    "        inD = inD + ' -PoutputComplex=true -PdemName=\\\"SRTM 1Sec HGT\\\" -PimgResamplingMethod=\\\"NEAREST_NEIGHBOUR\\\" '\n",
    "    cmd = baseSNAP + calFlag + '-t ' + out + inD\n",
    "    print('Applying Terrain Correction -- This will take some time') \n",
    "    print(cmd) \n",
    "    os.system(cmd)\n",
    "    test = out.strip() + '.dim'\n",
    "    if not os.path.isfile(test):\n",
    "        print('\\n*** Command Failed ***') \n",
    "        print('Error: Expected output file not found: '+test)\n",
    "    return '%s' % inData.replace('.dim','_TC.dim')"
   ]
  },
  {
   "cell_type": "code",
   "execution_count": null,
   "metadata": {},
   "outputs": [],
   "source": [
    "tcOut = applyTC(gfOut,os.getcwd(),'')"
   ]
  },
  {
   "cell_type": "code",
   "execution_count": null,
   "metadata": {},
   "outputs": [],
   "source": [
    "tcUnfilteredOut = applyTC(mlOut,os.getcwd(),'')"
   ]
  },
  {
   "cell_type": "code",
   "execution_count": null,
   "metadata": {},
   "outputs": [],
   "source": [
    "cmd = 'cd %s/%s*GF_TC.data;python /home/jovyan/notebooks/ASF/GEOS_657_Labs/makeSNAPIntf.py i*.img q*.img ' % (os.getcwd(),prebaseGran)\n",
    "print(cmd) \n",
    "os.system(cmd)\n",
    "cmd = 'cd %s/%s*Topo_ML_TC.data;python /home/jovyan/notebooks/ASF/GEOS_657_Labs/makeSNAPIntf.py i*.img q*.img ' % (os.getcwd(),prebaseGran)\n",
    "print(cmd) \n",
    "os.system(cmd)"
   ]
  },
  {
   "cell_type": "code",
   "execution_count": null,
   "metadata": {},
   "outputs": [],
   "source": [
    "cmd = 'cd %s/%s*GF_TC.data;gdal_translate -ot Byte -scale 0 1 0 255 coh*.img coh-%s.tif ' % (os.getcwd(),prebaseGran,re.split('/',os.getcwd())[-1])\n",
    "print(cmd) \n",
    "os.system(cmd)\n",
    "cmd = 'cd %s/%s*Topo_ML_TC.data;gdal_translate -ot Byte -scale 0 1 0 255 coh*.img coh-unfiltered-%s.tif ' % (os.getcwd(),prebaseGran,re.split('/',os.getcwd())[-1])\n",
    "print(cmd) \n",
    "os.system(cmd)"
   ]
  },
  {
   "cell_type": "code",
   "execution_count": null,
   "metadata": {},
   "outputs": [],
   "source": [
    "cmd = 'cd %s/%s*GF_TC.data;mv phase.tif phase-%s.tif ' % (os.getcwd(),prebaseGran,re.split('/',os.getcwd())[-1])\n",
    "print(cmd) \n",
    "os.system(cmd)\n",
    "cmd = 'cd %s/%s*Topo_ML_TC.data;mv phase.tif phase-unfiltered-%s.tif ' % (os.getcwd(),prebaseGran,re.split('/',os.getcwd())[-1])\n",
    "print(cmd) \n",
    "os.system(cmd)"
   ]
  },
  {
   "cell_type": "code",
   "execution_count": null,
   "metadata": {},
   "outputs": [],
   "source": [
    "cmd = 'cd %s/%s*GF_TC.data;mv amplitude.tif amp-%s.tif ' % (os.getcwd(),prebaseGran,re.split('/',os.getcwd())[-1])\n",
    "print(cmd)\n",
    "os.system(cmd)\n",
    "cmd = 'cd %s/%s*Topo_ML_TC.data;mv amplitude.tif amplitude-unfiltered-%s.tif ' % (os.getcwd(),prebaseGran,re.split('/',os.getcwd())[-1])\n",
    "print(cmd)\n",
    "os.system(cmd)"
   ]
  },
  {
   "cell_type": "code",
   "execution_count": null,
   "metadata": {},
   "outputs": [],
   "source": [
    "!mv */*.tif .\n",
    "!rm amp-*.tif"
   ]
  },
  {
   "cell_type": "markdown",
   "metadata": {},
   "source": [
    "<font face=\"Calibri\" size=\"3\"> At the very end, let's clean up some of the temporary hard drive space before we leave:\n",
    "</font> "
   ]
  },
  {
   "cell_type": "code",
   "execution_count": null,
   "metadata": {},
   "outputs": [],
   "source": [
    "!rm *.zip\n",
    "!rm -r *TS.d*\n",
    "!rm -r *OB.d*\n",
    "!rm -r *BG.d*\n",
    "!rm -r *ESD.d*\n",
    "!rm -r *INT.d*\n",
    "!rm -r *DB.d*\n",
    "!rm -r *Topo.d*\n",
    "!rm -r *ML.d*\n",
    "!rm -r *GF.d*"
   ]
  },
  {
   "cell_type": "markdown",
   "metadata": {},
   "source": [
    "<img src=\"NotebookAddons/Lab5-geocoded.jpg\" width=\"800\" align=\"none\" />"
   ]
  },
  {
   "cell_type": "markdown",
   "metadata": {},
   "source": [
    "<br>\n",
    "<hr>\n",
    "<div class=\"alert alert-success\">\n",
    "<font face=\"Calibri\" size=\"5\"> <b> <font color='rgba(200,0,0,0.2)'> <u>ASSIGNMENT #1</u>:  </font> Kumamoto Interferogram - Interpret Orientation of Motion & Rupture Zone </b> <font color='rgba(200,0,0,0.2)'> -- [6 Points] </font> </font>\n",
    "\n",
    "<font face=\"Calibri\" size=\"3\"> Please download the file <i>phase-Kumamoto.tif</i> from the lab environment and visualize it either in QGIS or Google Earth. The interferometric phase shown in this file carries a wealth of information about surface deformation (strength and direction of motion) and the location of the surface rupture. The phase map is also a proxy for other earthquake-related parameters such as the energy released during an event.<br><br>\n",
    "\n",
    "<u>Based on the phase patterns in the interferogram and considering the discussions we had in the lab, please discuss the following</u>:\n",
    "<br><br>\n",
    "<ol>\n",
    "  <li>Add a line to your figure representing a likely location of the rupture zone of this earthquake. Discuss and justify your choice. <font color='rgba(200,0,0,0.2)'> -- [3 Points] </font></li>\n",
    "    <br>\n",
    "  <li>The dominant mechanism present at this earthquake is right-lateral strike slip with a component of normal faulting, resulting in a combination of horizontal slip along the fault and vertical uplift. Please discuss if you can separate these superimposed deformation signals (vertical and horizontal) using this interferogram alone? Justify your answer. If your answer is no, discuss a solution that may allow you to characterize the amount of vertical and horizontal motion. <font color='rgba(200,0,0,0.2)'> -- [3 Points] </font></li>\n",
    "</ol>\n",
    "</font>\n",
    "</div>"
   ]
  },
  {
   "cell_type": "markdown",
   "metadata": {},
   "source": [
    "<hr>\n",
    "<div class=\"alert alert-success\">\n",
    "<font face=\"Calibri\" size=\"3\"> <i><font color='rgba(200,0,0,0.2)'> Question 1.1.A [2 Points]:</font> Insert figure of interferogram with rupture zone overlain </i> \n",
    "\n",
    "ADD FIGURE HERE!\n",
    "</font>\n",
    "</div>\n",
    "<hr>"
   ]
  },
  {
   "cell_type": "markdown",
   "metadata": {},
   "source": [
    "<hr>\n",
    "<div class=\"alert alert-success\">\n",
    "<font face=\"Calibri\" size=\"3\"> <i><font color='rgba(200,0,0,0.2)'> Question 1.1.B [1 Points]:</font> Discuss and justify your choice for rupture zone location </i> \n",
    "\n",
    "PROVIDE YOUR ANSWER HERE!\n",
    "</font>\n",
    "</div>\n",
    "<hr>"
   ]
  },
  {
   "cell_type": "markdown",
   "metadata": {},
   "source": [
    "<div class=\"alert alert-success\"><font face=\"Calibri\" size=\"3\"> <i><font color='rgba(200,0,0,0.2)'> Question 1.2 [3 Points]: </font> Can separate these superimposed deformation signals (vertical and horizontal) using this interferogram alone? </i> \n",
    "\n",
    "PROVIDE YOUR ANSWER HERE!\n",
    "</font>\n",
    "</div>\n",
    "<hr>"
   ]
  },
  {
   "cell_type": "markdown",
   "metadata": {},
   "source": [
    "<br>\n",
    "<div class=\"alert alert-success\">\n",
    "<font face=\"Calibri\" size=\"5\"> <b> <font color='rgba(200,0,0,0.2)'> <u>ASSIGNMENT #2</u>:  </font> Kumamoto Interferogram - Compare InSAR Data to ShakeMap Information</b> <font color='rgba(200,0,0,0.2)'> -- [4 Points] </font> </font>\n",
    "\n",
    "<font face=\"Calibri\" size=\"3\"> The Earthquake Hazards Program of the U.S. Geological Survey is providing a wealth of information about all significant earthquakes around the globe. The ShakeMap® is one of many sets of information included in this USGS feed. It was developed by the USGS to facilitate communication of earthquake information beyond just magnitude and location. By rapidly mapping out earthquake ground motions, ShakeMap portrays the distribution and severity of shaking. <br><br>\n",
    "\n",
    "To access the ShakeMap for the Kumamoto event please visit <a href=\"https://earthquake.usgs.gov/earthquakes/eventpage/us20005iis/executive#executive\" target=\"_blank\">earthquake.usgs.gov/earthquakes/eventpage/us20005iis/executive#executive</a> and download the Event\n",
    "KML (see below where to find the KML download on the page).\n",
    "<img src=\"NotebookAddons/Lab5-WhereToFindShakemapkml.jpg\" width=\"800\" align=\"none\" />\n",
    "<br><br>\n",
    "\n",
    "<u>For this assignment, please complete the following two tasks</u>:\n",
    "<br>\n",
    "<ol>\n",
    "    <li>Overlay the ShakeMap onto your interferogram <font color='rgba(200,0,0,0.2)'> -- [2 Points] </font></li><br>\n",
    "    <li>Provide a discussion on how well the map conforms with the interferogram. Where do the two sets of information match up? Are there places where they don’t match up? <font color='rgba(200,0,0,0.2)'> -- [2 Points] </font></li>\n",
    "</ol>\n",
    "</font>\n",
    "</div>"
   ]
  },
  {
   "cell_type": "markdown",
   "metadata": {},
   "source": [
    "<hr>\n",
    "<div class=\"alert alert-success\">\n",
    "<font face=\"Calibri\" size=\"3\"> <i><font color='rgba(200,0,0,0.2)'> Question 2.1 [2 Points]:</font> Insert figure showing overlay of ShakeMap on the Kumamoto Interferogram </i> \n",
    "\n",
    "ADD FIGURE HERE!\n",
    "</font>\n",
    "</div>\n",
    "<hr>"
   ]
  },
  {
   "cell_type": "markdown",
   "metadata": {},
   "source": [
    "<div class=\"alert alert-success\"><font face=\"Calibri\" size=\"3\"> <i><font color='rgba(200,0,0,0.2)'> Question 2.2 [2 Points]: </font> Discussion on how well the map conforms with the interferogram. </i> \n",
    "\n",
    "PROVIDE YOUR ANSWER HERE!\n",
    "</font>\n",
    "</div>\n",
    "<hr>"
   ]
  },
  {
   "cell_type": "markdown",
   "metadata": {},
   "source": [
    "<br>\n",
    "<div class=\"alert alert-success\">\n",
    "<font face=\"Calibri\" size=\"5\"> <b> <font color='rgba(200,0,0,0.2)'> <u>ASSIGNMENT #3</u>:  </font> Rerun Complete Processing Flow to Create Interferogram for the 2018 M7.2 Oaxaca, Mexico Earthquake </b> <font color='rgba(200,0,0,0.2)'> -- [10 Points] </font> </font>\n",
    "\n",
    "<font face=\"Calibri\" size=\"3\"> The 2018 Oaxaca earthquake occurred on February 16, 2018 at 17:39 local time (23:39 UTC) in the Sierra Madre del Sur in Oaxaca state in Southern Mexico. It had a magnitude of 7.2 on the moment magnitude scale and a maximum felt intensity of VII (very strong) on the Mercalli intensity scale. The hypocenter was located at a depth of 24.6 km and approximately 37 km northeast of Pinotepa de Don Luis. There were only two reports of injuries from the earthquake, but later a military helicopter surveying the damage crashed and killed 14 people. There were also 15 people injured.<br><br>\n",
    "\n",
    "The depth and focal mechanism solutions of the event are consistent with its occurrence on the subduction zone interface between these plates, approximately 90 km northeast of the Middle America Trench, where the Cocos plate begins its descent into the mantle beneath Mexico. In the region of this earthquake, the Cocos plate moves approximately northeastward at a rate of 60 mm/yr.\n",
    "    \n",
    "To access the ShakeMap for the Oaxaca event please visit <a href=\"https://earthquake.usgs.gov/earthquakes/eventpage/us20005iis/executive#executive\" target=\"_blank\">earthquake.usgs.gov/earthquakes/eventpage/us20005iis/executive#executive</a> and download the Event\n",
    "KML.<br>\n",
    "\n",
    "<u>For this assignment, please complete the following two tasks</u>:\n",
    "<br>\n",
    "<ol>\n",
    "    <li>Rerun the processing flow from start to finish using the following two image frames as your pre-event and post-event data sets: <font color='rgba(200,0,0,0.2)'> -- [6 Points] </font>\n",
    "    <ul>\n",
    "        <li> <b>Pre-event image:</b> S1A_IW_SLC__1SDV_20180127T122625_20180127T122652_020340_022BE7_3F5E</li>\n",
    "        <li> <b>Post-event image:</b> S1A_IW_SLC__1SDV_20180220T122625_20180220T122651_020690_023710_6CEF</li>\n",
    "    </ul>\n",
    "    </li><br>\n",
    "    <li>Access the ShakeMap for the 2018 M7.2 Oaxaca, Mexico Earthquake via <a href=\"https://earthquake.usgs.gov/earthquakes/eventpage/us2000d3km/executive#executive\" target=\"_blank\">earthquake.usgs.gov/earthquakes/eventpage/us2000d3km/executive#executive</a>. Dowload the Event KML and overlay it on your interferogram <font color='rgba(200,0,0,0.2)'> -- [2 Points] </font></li><br>\n",
    "<li>Discuss how the ShakeMap information compares to the InSAR data for this event. <font color='rgba(200,0,0,0.2)'> -- [2 Points] </font></li>\n",
    "</ol>\n",
    "</font>\n",
    "</div>"
   ]
  },
  {
   "cell_type": "markdown",
   "metadata": {},
   "source": [
    "<hr>\n",
    "<div class=\"alert alert-success\">\n",
    "<font face=\"Calibri\" size=\"3\"> <i><font color='rgba(200,0,0,0.2)'> Question 3.1 [6 Points]:</font> Rerun the InSAR processing flow for the 2018 Oaxaca, Mexico event. </i> \n",
    "\n",
    "To do so, replace the 2nd and 5th code cell in this notebook with the the code-cells shown below. Then run through the whole workflow:\n",
    "</font>\n",
    "</div>\n",
    "<hr>"
   ]
  },
  {
   "cell_type": "code",
   "execution_count": null,
   "metadata": {},
   "outputs": [],
   "source": [
    "# Replace 2nd code cell with this one\n",
    "os.chdir('/home/jovyan/notebooks/ASF/GEOS_657_Labs')\n",
    "!mkdir -p Oaxaca\n",
    "os.chdir('/home/jovyan/notebooks/ASF/GEOS_657_Labs/Oaxaca')\n",
    "os.getcwd() "
   ]
  },
  {
   "cell_type": "code",
   "execution_count": null,
   "metadata": {},
   "outputs": [],
   "source": [
    "# Replace 5th code cell with this one to downloading files for Oaxaca Earthquake:\n",
    "url = 'https://datapool.asf.alaska.edu/SLC/SA/S1A_IW_SLC__1SDV_20180127T122625_20180127T122652_020340_022BE7_3F5E.zip'\n",
    "preevent = download_file(url, username=NEDusr, password=NEDpass)\n",
    "url = 'https://datapool.asf.alaska.edu/SLC/SA/S1A_IW_SLC__1SDV_20180220T122625_20180220T122651_020690_023710_6CEF.zip'\n",
    "postevent = download_file(url, username=NEDusr, password=NEDpass)"
   ]
  },
  {
   "cell_type": "markdown",
   "metadata": {},
   "source": [
    "<hr>\n",
    "<div class=\"alert alert-success\">\n",
    "<font face=\"Calibri\" size=\"3\"> <i><font color='rgba(200,0,0,0.2)'> Question 3.2 [2 Points]:</font> Download the ShakeMap and create a figure with the ShakeMap overlain on your interferogram\n",
    "    \n",
    "ADD FIGURE HERE!\n",
    "</font>\n",
    "</div>\n",
    "<hr>"
   ]
  },
  {
   "cell_type": "markdown",
   "metadata": {},
   "source": [
    "<hr>\n",
    "<div class=\"alert alert-success\">\n",
    "<font face=\"Calibri\" size=\"3\"> <i><font color='rgba(200,0,0,0.2)'> Question 3.3 [2 Points]:</font> Discuss how the ShakeMap information compares to the InSAR data for this event.\n",
    "    \n",
    "PROVIDE YOUR DISCUSSION HERE!\n",
    "</font>\n",
    "</div>\n",
    "<hr>"
   ]
  },
  {
   "cell_type": "markdown",
   "metadata": {},
   "source": [
    "<font face=\"Calibri\" size=\"2\"> <i>GEOS 657 Microwave Remote Sensing - Version 1.0 - Feb 2019 </i>\n",
    "</font>"
   ]
  }
 ],
 "metadata": {
  "kernelspec": {
   "display_name": "Python 3",
   "language": "python",
   "name": "python3"
  },
  "language_info": {
   "codemirror_mode": {
    "name": "ipython",
    "version": 3
   },
   "file_extension": ".py",
   "mimetype": "text/x-python",
   "name": "python",
   "nbconvert_exporter": "python",
   "pygments_lexer": "ipython3",
   "version": "3.7.1"
  }
 },
 "nbformat": 4,
 "nbformat_minor": 2
}
