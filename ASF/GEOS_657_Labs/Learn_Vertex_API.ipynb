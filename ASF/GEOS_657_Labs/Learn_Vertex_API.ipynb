{
 "cells": [
  {
   "cell_type": "code",
   "execution_count": 1,
   "metadata": {},
   "outputs": [],
   "source": [
    "import os\n",
    "import time\n",
    "import requests # used for making HTTP requests\n",
    "from getpass import getpass # password input function"
   ]
  },
  {
   "cell_type": "code",
   "execution_count": 2,
   "metadata": {},
   "outputs": [],
   "source": [
    "def pathExists(path):\n",
    "    if os.path.exists(path):\n",
    "        return True\n",
    "    else:\n",
    "        print(f\"Invalid Path: {path}\")\n",
    "        return False"
   ]
  },
  {
   "cell_type": "code",
   "execution_count": 3,
   "metadata": {},
   "outputs": [
    {
     "name": "stdout",
     "output_type": "stream",
     "text": [
      "current directory: /home/jovyan/notebooks/ASF/GEOS_657_Labs/learn_Vertex_API_data\n"
     ]
    }
   ],
   "source": [
    "# Let's first create a working directory for this analysis and change into it\n",
    "path = '/home/jovyan/notebooks/ASF/GEOS_657_Labs'\n",
    "if pathExists(path):\n",
    "    os.chdir(path)\n",
    "    !mkdir -p learn_Vertex_API_data\n",
    "    path = f\"{path}/learn_Vertex_API_data\"\n",
    "    if pathExists(path):\n",
    "        os.chdir(path)\n",
    "print(f\"current directory: {os.getcwd()}\")"
   ]
  },
  {
   "cell_type": "code",
   "execution_count": 4,
   "metadata": {},
   "outputs": [],
   "source": [
    "def download_file(url, username=None, password=None):\n",
    "    #https://stackoverflow.com/questions/16694907/how-to-download-large-file-in-python-with-requests-py\n",
    "    local_filename = os.path.basename(url)\n",
    "    r = requests.get(url, stream=True)   # NOTE the stream=True parameter\n",
    "    if r.status_code == 401:\n",
    "        pwd = getpass('Password for {}: '.format(username))\n",
    "        r = requests.get(r.url, stream=True, auth=(username,pwd))\n",
    "    totalLength = r.headers.get('content-length')\n",
    "    print(f\"Downloading {url}\")\n",
    "    start = time.perf_counter()\n",
    "    with open(local_filename, 'wb') as f:\n",
    "        if r is None:\n",
    "            f.write(r.content)\n",
    "        else:\n",
    "            dl = 0\n",
    "            totalLength = int(totalLength)\n",
    "            for chunk in r.iter_content(chunk_size=1024):\n",
    "                dl += len(chunk)\n",
    "                if chunk: # filter out keep-alive new chunks\n",
    "                    f.write(chunk)\n",
    "                    done = int(50 * dl / totalLength)\n",
    "                    print(\"\\r[%s%s] %s bps, %s%%    \" % ('=' * done, ' ' * (50-done), dl//(time.perf_counter() - start), int((100*dl)/totalLength)), end='\\r', flush=True)    \n",
    "        if os.stat(local_filename).st_size < 5000:\n",
    "            print('\\nDownload failed!\\nPlease check your username, password, and download URL.\\n')\n",
    "            return\n",
    "        else:\n",
    "            print('\\nDone\\n')\n",
    "            return local_filename"
   ]
  },
  {
   "cell_type": "code",
   "execution_count": 13,
   "metadata": {},
   "outputs": [
    {
     "name": "stdout",
     "output_type": "stream",
     "text": [
      "········\n"
     ]
    }
   ],
   "source": [
    "NEDusr = 'aflewandowski'\n",
    "NEDpass = getpass()"
   ]
  },
  {
   "cell_type": "markdown",
   "metadata": {},
   "source": [
    "## Get a granule URL using the granule name:"
   ]
  },
  {
   "cell_type": "code",
   "execution_count": 44,
   "metadata": {},
   "outputs": [],
   "source": [
    "def get_vertex_granule_URL(granule_name=None):\n",
    "    vertex_API_URL = \"https://api.daac.asf.alaska.edu/services/search/param\"\n",
    "    r = requests.get(vertex_API_URL, \n",
    "                     params=[('granule_list', 'E2_15295_STD_F469'), \n",
    "                             ('output', 'csv')])\n",
    "    if r.status_code == 401:\n",
    "        pwd = getpass('Password for {}: '.format(username))\n",
    "        r = requests.get(r.url, stream=True, auth=(username,pwd))\n",
    "    return r"
   ]
  },
  {
   "cell_type": "code",
   "execution_count": 46,
   "metadata": {},
   "outputs": [
    {
     "name": "stdout",
     "output_type": "stream",
     "text": [
      "b'\"Granule Name\",\"Platform\",\"Sensor\",\"Beam Mode\",\"Beam Mode Description\",\"Orbit\",\"Path Number\",\"Frame Number\",\"Acquisition Date\",\"Processing Date\",\"Processing Level\",\"Start Time\",\"End Time\",\"Center Lat\",\"Center Lon\",\"Near Start Lat\",\"Near Start Lon\",\"Far Start Lat\",\"Far Start Lon\",\"Near End Lat\",\"Near End Lon\",\"Far End Lat\",\"Far End Lon\",\"Faraday Rotation\",\"Ascending or Descending?\",\"URL\",\"Size (MB)\",\"Off Nadir Angle\",\"Stack Size\",\"Baseline Perp.\",\"Doppler\",\"GroupID\"\\n\"E2_15295_STD_F469\",\"ERS-2\",\"SAR\",\"STD\",\"ERS-1,ERS-2,JERS-1,SEASAT,SMAP Standard Beam SAR\",\"15295\",\"411\",\"3742\",\"1998-03-24T14:47:43Z\",\"2010-12-06T12:55:10Z\",\"L1\",\"1998-03-24T14:47:27Z\",\"1998-03-24T14:47:43Z\",\"-7.6074\",\"-68.2281\",\"-7.2211\",\"-67.6813\",\"-7.0217\",\"-68.5575\",\"-8.1929\",\"-67.897\",\"-7.9922\",\"-68.7767\",\"NA\",\"DESCENDING\",\"https://datapool.asf.alaska.edu/L1/E2/E2_15295_STD_F469.zip\",\"50.45\",\"-1\",\"1\",\"0\",\"0\",\"NA\"\\n\"E2_15295_STD_F469\",\"ERS-2\",\"SAR\",\"STD\",\"ERS-1,ERS-2,JERS-1,SEASAT,SMAP Standard Beam SAR\",\"15295\",\"411\",\"3742\",\"1998-03-24T14:47:43Z\",\"2010-12-06T12:55:49Z\",\"L0\",\"1998-03-24T14:47:27Z\",\"1998-03-24T14:47:43Z\",\"-7.6074\",\"-68.2281\",\"-7.2211\",\"-67.6813\",\"-7.0217\",\"-68.5575\",\"-8.1929\",\"-67.897\",\"-7.9922\",\"-68.7767\",\"NA\",\"DESCENDING\",\"https://datapool.asf.alaska.edu/L0/E2/E2_15295_STD_L0_F469.zip\",\"174.21\",\"-1\",\"1\",\"0\",\"0\",\"NA\"\\n'\n"
     ]
    }
   ],
   "source": [
    "response = get_vertex_granule_URL('E2_15295_STD_F469')\n",
    "print(response.content)"
   ]
  },
  {
   "cell_type": "code",
   "execution_count": null,
   "metadata": {},
   "outputs": [],
   "source": [
    "# Now, let's actually download the file:\n",
    "#url = 'https://datapool.asf.alaska.edu/L1.0/A3/ALPSRP185270680-L1.0.zip'\n",
    "filename = download_file(url, username=NEDusr, password=NEDpass)"
   ]
  }
 ],
 "metadata": {
  "kernelspec": {
   "display_name": "Python 3",
   "language": "python",
   "name": "python3"
  },
  "language_info": {
   "codemirror_mode": {
    "name": "ipython",
    "version": 3
   },
   "file_extension": ".py",
   "mimetype": "text/x-python",
   "name": "python",
   "nbconvert_exporter": "python",
   "pygments_lexer": "ipython3",
   "version": "3.7.1"
  }
 },
 "nbformat": 4,
 "nbformat_minor": 2
}
