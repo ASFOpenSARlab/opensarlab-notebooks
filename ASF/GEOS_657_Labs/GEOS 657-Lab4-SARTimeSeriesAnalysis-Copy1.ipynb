{
 "cells": [
  {
   "cell_type": "markdown",
   "metadata": {},
   "source": [
    "<img src=\"NotebookAddons/blackboard-banner.jpg\" width=\"100%\" />\n",
    "<font face=\"Calibri\">\n",
    "<br>\n",
    "<font size=\"7\"> <b> GEOS 657: Microwave Remote Sensing<b> </font>\n",
    "\n",
    "<font size=\"5\"> <b>Lab 4: Exploring SAR Data and SAR Time Series Analysis using Jupyter Notebooks <font color='rgba(200,0,0,0.2)'> -- [20 Points] </font> </b> </font>\n",
    "\n",
    "<br>\n",
    "<font size=\"4\"> <b> Franz J Meyer; University of Alaska Fairbanks & Josef Kellndorfer, <a href=\"http://earthbigdata.com/\" target=\"_blank\">Earth Big Data, LLC</a> </b> <br>\n",
    "<img src=\"NotebookAddons/UAFLogo_A_647.png\" width=\"170\" align=\"right\" /><font color='rgba(200,0,0,0.2)'> <b>Due Date: </b> March 05, 2019 </font>\n",
    "</font>\n",
    "\n",
    "<font size=\"3\"> This Lab is part of the UAF course <a href=\"https://radar.community.uaf.edu/\" target=\"_blank\">GEOS 657: Microwave Remote Sensing</a>. It is introducing you to the analysis of deep multi-temporal SAR image data stacks in the framework of *Jupyter Notebooks*. The Jupyter Notebook environment is easy to launch in any web browser for interactive data exploration with provided or new training data. Notebooks are comprised of text written in a combination of executable python code and markdown formatting including latex style mathematical equations. Another advantage of Jupyter Notebooks is that they can easily be expanded, changed, and shared with new data sets or newly available time series steps. Therefore, they provide an excellent basis for collaborative and repeatable data analysis. <br>\n",
    "\n",
    "<b>In this chapter we introduce the following data analysis concepts:</b>\n",
    "\n",
    "- How to load time series stacks into Jupyter Notebooks and how to explore image content using basic functions such as mean value calculation and histogram analysis.\n",
    "- How to apply calibration constants to covert initial digital number (DN) data into calibrated radar cross section information.\n",
    "- How to subset images create time series information of calibrated SAR amplitude values.\n",
    "- How to explore the time-series information in SAR data stacks for environmental analysis.\n",
    "</font>\n",
    "\n",
    "<font size=\"4\"> <font color='rgba(200,0,0,0.2)'> <b>THIS NOTEBOOK INCLUDES FOUR HOMEWORK ASSIGNMENTS.</b></font> Complete all four assignments to achieve full score. </font> <br>\n",
    "<font size=\"3\"> To submit your homework, please download your Jupyter Notebook from the server both asf PDF (*.pdf) and Notebook file (*.ipynb) and submit them as a ZIP bundle via Blackboard or email (to fjmeyer@alaska.edu). To download, please select the following options in the main menu of the notebook interface:\n",
    "\n",
    "<ol type=\"1\">\n",
    "  <li><font color='rgba(200,0,0,0.2)'> <b> Save your notebook with all of its content</b></font> by selecting <i> File / Save and Checkpoint </i> </li>\n",
    "  <li><font color='rgba(200,0,0,0.2)'> <b>To export in Notebook format</b></font>, click on <i>File / Download as / Notebook (.ipynb)</i>  <font color='gray'>--- Downloading your file may take a bit as the Notebook will be about 100MB in size</font></li>\n",
    "  <li><font color='rgba(200,0,0,0.2)'> <b>To export in PDF format</b></font>, click on <i>File / Download as / PDF vs LaTeX (.pdf) </i></li>\n",
    "</ol>\n",
    "\n",
    "Contact me at fjmeyer@alaska.edu should you run into any problems.\n",
    "</font>\n",
    "\n",
    "</font>"
   ]
  },
  {
   "cell_type": "markdown",
   "metadata": {},
   "source": [
    "<hr>\n",
    "<font face=\"Calibri\">\n",
    "\n",
    "<font size=\"5\"> <b> 0. Importing Relevant Python Packages </b> </font>\n",
    "\n",
    "<font size=\"3\"> The first step of this lab exercises on SAR image time series analysis is the import of necessary python libraries into your Jupyter Notebook. See the code cell below for information on which libraries are needed. Information on these libraries is provided in the instructions to the previous lab of this course (Lab 3). \n",
    "\n",
    "</font>"
   ]
  },
  {
   "cell_type": "code",
   "execution_count": 1,
   "metadata": {},
   "outputs": [],
   "source": [
    "import pandas as pd\n",
    "import gdal\n",
    "import numpy as np\n",
    "import time,os, glob\n",
    "\n",
    "# Setup plotting inside the notebook\n",
    "%matplotlib inline\n",
    "import matplotlib.pylab as plt\n",
    "import matplotlib.patches as patches  # Needed to draw rectangles\n",
    "from matplotlib import animation, rc\n",
    "\n",
    "from IPython.display import HTML\n"
   ]
  },
  {
   "cell_type": "markdown",
   "metadata": {},
   "source": [
    "<hr>\n",
    "<font face=\"Calibri\">\n",
    "\n",
    "<font size=\"5\"> <b> 1. Load Data Stack for this Lab </b> </font> <img src=\"NotebookAddons/Nepalclimate.jpeg\" width=\"400\" align=\"right\" /> \n",
    "\n",
    "<font size=\"3\"> This Lab will be using a 70-image deep L-band SAR data stack over Nepal for a first experience with time series processing. The L-band data were acquired by the ALOS PALSAR sensor and are available to us through the services of the <a href=\"https://www.asf.alaska.edu/\" target=\"_blank\">Alaska Satellite Facility</a>. \n",
    "\n",
    "Nepal is an interesting site for this lab due to the significant seasonality of precipitation that is characteristic for this region. Nepal is said to have five seasons: spring, summer, monsoon, autumn and winter. Precipitation is low in the winter (November - March) and peaks dramatically in the summer, with top rain rates in July, August, and September (see figure to the right). As SAR is sensitive to changes in soil moisture, these weather patterns have a noticeable impact on the Radar Cross Section ($\\sigma$) time series information. \n",
    "\n",
    "We will analyze the variation of $\\sigma$ values over time and will interpret them in the context of rainfall rates in the imaged area. \n",
    "\n",
    "In this case, we will <b>retrieve the relevant data</b> from an <a href=\"https://aws.amazon.com/\" target=\"_blank\">Amazon Web Service (AWS)</a> cloud storage bucket, <b>using the following command</b>:</font> \n",
    "\n",
    "</font>"
   ]
  },
  {
   "cell_type": "code",
   "execution_count": 2,
   "metadata": {},
   "outputs": [
    {
     "name": "stdout",
     "output_type": "stream",
     "text": [
      "download: s3://asf-jupyter-data/time_series.zip to ./time_series.zip\n"
     ]
    }
   ],
   "source": [
    "!aws s3 cp s3://asf-jupyter-data/time_series.zip time_series.zip"
   ]
  },
  {
   "cell_type": "markdown",
   "metadata": {},
   "source": [
    "<font face=\"Calibri\" size=\"3\"> Now, let's <b>unzip the file and clean up after ourselves:</b> </font>"
   ]
  },
  {
   "cell_type": "code",
   "execution_count": 3,
   "metadata": {},
   "outputs": [
    {
     "name": "stdout",
     "output_type": "stream",
     "text": [
      "Archive:  time_series.zip\n",
      "   creating: time_series/\n",
      "   creating: time_series/S32644X696260Y3052060sS1-EBD/\n",
      "   creating: time_series/S32644X696260Y3052060sS1-EBD/animations/\n",
      "  inflating: time_series/S32644X696260Y3052060sS1-EBD/animations/S32644X696260Y3052060sS1_A_vh_mtfil.mp4  \n",
      "  inflating: time_series/S32644X696260Y3052060sS1-EBD/animations/S32644X696260Y3052060sS1_A_vv_mtfil.mp4  \n",
      "  inflating: time_series/S32644X696260Y3052060sS1-EBD/animations/S32644X696260Y3052060sS1_D_vh_mtfil.mp4  \n",
      "  inflating: time_series/S32644X696260Y3052060sS1-EBD/animations/S32644X696260Y3052060sS1_D_vv_mtfil.mp4  \n",
      "   creating: time_series/S32644X696260Y3052060sS1-EBD/landsat/\n",
      "  inflating: time_series/S32644X696260Y3052060sS1-EBD/landsat/L8_141_042_NDVI.dates  \n",
      "  inflating: time_series/S32644X696260Y3052060sS1-EBD/landsat/L8_142_041_B3.vrt  \n",
      "  inflating: time_series/S32644X696260Y3052060sS1-EBD/landsat/L8_142_041_B4.vrt  \n",
      "  inflating: time_series/S32644X696260Y3052060sS1-EBD/landsat/L8_142_041_B5.vrt  \n",
      "  inflating: time_series/S32644X696260Y3052060sS1-EBD/landsat/L8_142_041_NDVI.dates  \n",
      "  inflating: time_series/S32644X696260Y3052060sS1-EBD/landsat/L8_142_041_NDVI.vrt  \n",
      "  inflating: time_series/S32644X696260Y3052060sS1-EBD/landsat/LC81420412015015LGN00_B3.tif  \n",
      "  inflating: time_series/S32644X696260Y3052060sS1-EBD/landsat/LC81420412015015LGN00_B4.tif  \n",
      "  inflating: time_series/S32644X696260Y3052060sS1-EBD/landsat/LC81420412015015LGN00_B5.tif  \n",
      "  inflating: time_series/S32644X696260Y3052060sS1-EBD/landsat/LC81420412015015LGN00_MTL.json  \n",
      "  inflating: time_series/S32644X696260Y3052060sS1-EBD/landsat/LC81420412015015LGN00_NDVI.tif  \n",
      "  inflating: time_series/S32644X696260Y3052060sS1-EBD/landsat/LC81420412015031LGN00_B3.tif  \n",
      "  inflating: time_series/S32644X696260Y3052060sS1-EBD/landsat/LC81420412015031LGN00_B4.tif  \n",
      "  inflating: time_series/S32644X696260Y3052060sS1-EBD/landsat/LC81420412015031LGN00_B5.tif  \n",
      "  inflating: time_series/S32644X696260Y3052060sS1-EBD/landsat/LC81420412015031LGN00_MTL.json  \n",
      "  inflating: time_series/S32644X696260Y3052060sS1-EBD/landsat/LC81420412015031LGN00_NDVI.tif  \n",
      "  inflating: time_series/S32644X696260Y3052060sS1-EBD/landsat/LC81420412015047LGN00_B3.tif  \n",
      "  inflating: time_series/S32644X696260Y3052060sS1-EBD/landsat/LC81420412015047LGN00_B4.tif  \n",
      "  inflating: time_series/S32644X696260Y3052060sS1-EBD/landsat/LC81420412015047LGN00_B5.tif  \n",
      "  inflating: time_series/S32644X696260Y3052060sS1-EBD/landsat/LC81420412015047LGN00_MTL.json  \n",
      "  inflating: time_series/S32644X696260Y3052060sS1-EBD/landsat/LC81420412015047LGN00_NDVI.tif  \n",
      "  inflating: time_series/S32644X696260Y3052060sS1-EBD/landsat/LC81420412015063LGN00_B3.tif  \n",
      "  inflating: time_series/S32644X696260Y3052060sS1-EBD/landsat/LC81420412015063LGN00_B4.tif  \n",
      "  inflating: time_series/S32644X696260Y3052060sS1-EBD/landsat/LC81420412015063LGN00_B5.tif  \n",
      "  inflating: time_series/S32644X696260Y3052060sS1-EBD/landsat/LC81420412015063LGN00_MTL.json  \n",
      "  inflating: time_series/S32644X696260Y3052060sS1-EBD/landsat/LC81420412015063LGN00_NDVI.tif  \n",
      "  inflating: time_series/S32644X696260Y3052060sS1-EBD/landsat/LC81420412015079LGN00_B3.tif  \n",
      "  inflating: time_series/S32644X696260Y3052060sS1-EBD/landsat/LC81420412015079LGN00_B4.tif  \n",
      "  inflating: time_series/S32644X696260Y3052060sS1-EBD/landsat/LC81420412015079LGN00_B5.tif  \n",
      "  inflating: time_series/S32644X696260Y3052060sS1-EBD/landsat/LC81420412015079LGN00_MTL.json  \n",
      "  inflating: time_series/S32644X696260Y3052060sS1-EBD/landsat/LC81420412015079LGN00_NDVI.tif  \n",
      "  inflating: time_series/S32644X696260Y3052060sS1-EBD/landsat/LC81420412015095LGN00_B3.tif  \n",
      "  inflating: time_series/S32644X696260Y3052060sS1-EBD/landsat/LC81420412015095LGN00_B4.tif  \n",
      "  inflating: time_series/S32644X696260Y3052060sS1-EBD/landsat/LC81420412015095LGN00_B5.tif  \n",
      "  inflating: time_series/S32644X696260Y3052060sS1-EBD/landsat/LC81420412015095LGN00_MTL.json  \n",
      "  inflating: time_series/S32644X696260Y3052060sS1-EBD/landsat/LC81420412015095LGN00_NDVI.tif  \n",
      "  inflating: time_series/S32644X696260Y3052060sS1-EBD/landsat/LC81420412015111LGN00_B3.tif  \n",
      "  inflating: time_series/S32644X696260Y3052060sS1-EBD/landsat/LC81420412015111LGN00_B4.tif  \n",
      "  inflating: time_series/S32644X696260Y3052060sS1-EBD/landsat/LC81420412015111LGN00_B5.tif  \n",
      "  inflating: time_series/S32644X696260Y3052060sS1-EBD/landsat/LC81420412015111LGN00_MTL.json  \n",
      "  inflating: time_series/S32644X696260Y3052060sS1-EBD/landsat/LC81420412015111LGN00_NDVI.tif  \n",
      "  inflating: time_series/S32644X696260Y3052060sS1-EBD/landsat/LC81420412015127LGN00_B3.tif  \n",
      "  inflating: time_series/S32644X696260Y3052060sS1-EBD/landsat/LC81420412015127LGN00_B4.tif  \n",
      "  inflating: time_series/S32644X696260Y3052060sS1-EBD/landsat/LC81420412015127LGN00_B5.tif  \n",
      "  inflating: time_series/S32644X696260Y3052060sS1-EBD/landsat/LC81420412015127LGN00_MTL.json  \n",
      "  inflating: time_series/S32644X696260Y3052060sS1-EBD/landsat/LC81420412015127LGN00_NDVI.tif  \n",
      "  inflating: time_series/S32644X696260Y3052060sS1-EBD/landsat/LC81420412015143LGN00_B3.tif  \n",
      "  inflating: time_series/S32644X696260Y3052060sS1-EBD/landsat/LC81420412015143LGN00_B4.tif  \n",
      "  inflating: time_series/S32644X696260Y3052060sS1-EBD/landsat/LC81420412015143LGN00_B5.tif  \n",
      "  inflating: time_series/S32644X696260Y3052060sS1-EBD/landsat/LC81420412015143LGN00_MTL.json  \n",
      "  inflating: time_series/S32644X696260Y3052060sS1-EBD/landsat/LC81420412015143LGN00_NDVI.tif  \n",
      "  inflating: time_series/S32644X696260Y3052060sS1-EBD/landsat/LC81420412015159LGN00_B3.tif  \n",
      "  inflating: time_series/S32644X696260Y3052060sS1-EBD/landsat/LC81420412015159LGN00_B4.tif  \n",
      "  inflating: time_series/S32644X696260Y3052060sS1-EBD/landsat/LC81420412015159LGN00_B5.tif  \n",
      "  inflating: time_series/S32644X696260Y3052060sS1-EBD/landsat/LC81420412015159LGN00_MTL.json  \n",
      "  inflating: time_series/S32644X696260Y3052060sS1-EBD/landsat/LC81420412015159LGN00_NDVI.tif  \n",
      "  inflating: time_series/S32644X696260Y3052060sS1-EBD/landsat/LC81420412015175LGN00_B3.tif  \n",
      "  inflating: time_series/S32644X696260Y3052060sS1-EBD/landsat/LC81420412015175LGN00_B4.tif  \n",
      "  inflating: time_series/S32644X696260Y3052060sS1-EBD/landsat/LC81420412015175LGN00_B5.tif  \n",
      "  inflating: time_series/S32644X696260Y3052060sS1-EBD/landsat/LC81420412015175LGN00_MTL.json  \n",
      "  inflating: time_series/S32644X696260Y3052060sS1-EBD/landsat/LC81420412015175LGN00_NDVI.tif  \n",
      "  inflating: time_series/S32644X696260Y3052060sS1-EBD/landsat/LC81420412015191LGN00_B3.tif  \n",
      "  inflating: time_series/S32644X696260Y3052060sS1-EBD/landsat/LC81420412015191LGN00_B4.tif  \n",
      "  inflating: time_series/S32644X696260Y3052060sS1-EBD/landsat/LC81420412015191LGN00_B5.tif  \n",
      "  inflating: time_series/S32644X696260Y3052060sS1-EBD/landsat/LC81420412015191LGN00_MTL.json  \n",
      "  inflating: time_series/S32644X696260Y3052060sS1-EBD/landsat/LC81420412015191LGN00_NDVI.tif  \n",
      "  inflating: time_series/S32644X696260Y3052060sS1-EBD/landsat/LC81420412015207LGN00_B3.tif  \n",
      "  inflating: time_series/S32644X696260Y3052060sS1-EBD/landsat/LC81420412015207LGN00_B4.tif  \n",
      "  inflating: time_series/S32644X696260Y3052060sS1-EBD/landsat/LC81420412015207LGN00_B5.tif  \n",
      "  inflating: time_series/S32644X696260Y3052060sS1-EBD/landsat/LC81420412015207LGN00_MTL.json  \n",
      "  inflating: time_series/S32644X696260Y3052060sS1-EBD/landsat/LC81420412015207LGN00_NDVI.tif  \n",
      "  inflating: time_series/S32644X696260Y3052060sS1-EBD/landsat/LC81420412015223LGN00_B3.tif  \n",
      "  inflating: time_series/S32644X696260Y3052060sS1-EBD/landsat/LC81420412015223LGN00_B4.tif  \n",
      "  inflating: time_series/S32644X696260Y3052060sS1-EBD/landsat/LC81420412015223LGN00_B5.tif  \n",
      "  inflating: time_series/S32644X696260Y3052060sS1-EBD/landsat/LC81420412015223LGN00_MTL.json  \n",
      "  inflating: time_series/S32644X696260Y3052060sS1-EBD/landsat/LC81420412015223LGN00_NDVI.tif  \n",
      "  inflating: time_series/S32644X696260Y3052060sS1-EBD/landsat/LC81420412015239LGN00_B3.tif  \n",
      "  inflating: time_series/S32644X696260Y3052060sS1-EBD/landsat/LC81420412015239LGN00_B4.tif  \n",
      "  inflating: time_series/S32644X696260Y3052060sS1-EBD/landsat/LC81420412015239LGN00_B5.tif  \n",
      "  inflating: time_series/S32644X696260Y3052060sS1-EBD/landsat/LC81420412015239LGN00_MTL.json  \n",
      "  inflating: time_series/S32644X696260Y3052060sS1-EBD/landsat/LC81420412015239LGN00_NDVI.tif  \n",
      "  inflating: time_series/S32644X696260Y3052060sS1-EBD/landsat/LC81420412015255LGN00_B3.tif  \n"
     ]
    },
    {
     "name": "stdout",
     "output_type": "stream",
     "text": [
      "  inflating: time_series/S32644X696260Y3052060sS1-EBD/landsat/LC81420412015255LGN00_B4.tif  \n",
      "  inflating: time_series/S32644X696260Y3052060sS1-EBD/landsat/LC81420412015255LGN00_B5.tif  \n",
      "  inflating: time_series/S32644X696260Y3052060sS1-EBD/landsat/LC81420412015255LGN00_MTL.json  \n",
      "  inflating: time_series/S32644X696260Y3052060sS1-EBD/landsat/LC81420412015255LGN00_NDVI.tif  \n",
      "  inflating: time_series/S32644X696260Y3052060sS1-EBD/landsat/LC81420412015271LGN00_B3.tif  \n",
      "  inflating: time_series/S32644X696260Y3052060sS1-EBD/landsat/LC81420412015271LGN00_B4.tif  \n",
      "  inflating: time_series/S32644X696260Y3052060sS1-EBD/landsat/LC81420412015271LGN00_B5.tif  \n",
      "  inflating: time_series/S32644X696260Y3052060sS1-EBD/landsat/LC81420412015271LGN00_MTL.json  \n",
      "  inflating: time_series/S32644X696260Y3052060sS1-EBD/landsat/LC81420412015271LGN00_NDVI.tif  \n",
      "  inflating: time_series/S32644X696260Y3052060sS1-EBD/landsat/LC81420412015287LGN00_B3.tif  \n",
      "  inflating: time_series/S32644X696260Y3052060sS1-EBD/landsat/LC81420412015287LGN00_B4.tif  \n",
      "  inflating: time_series/S32644X696260Y3052060sS1-EBD/landsat/LC81420412015287LGN00_B5.tif  \n",
      "  inflating: time_series/S32644X696260Y3052060sS1-EBD/landsat/LC81420412015287LGN00_MTL.json  \n",
      "  inflating: time_series/S32644X696260Y3052060sS1-EBD/landsat/LC81420412015287LGN00_NDVI.tif  \n",
      "  inflating: time_series/S32644X696260Y3052060sS1-EBD/landsat/LC81420412015303LGN00_B3.tif  \n",
      "  inflating: time_series/S32644X696260Y3052060sS1-EBD/landsat/LC81420412015303LGN00_B4.tif  \n",
      "  inflating: time_series/S32644X696260Y3052060sS1-EBD/landsat/LC81420412015303LGN00_B5.tif  \n",
      "  inflating: time_series/S32644X696260Y3052060sS1-EBD/landsat/LC81420412015303LGN00_MTL.json  \n",
      "  inflating: time_series/S32644X696260Y3052060sS1-EBD/landsat/LC81420412015303LGN00_NDVI.tif  \n",
      "  inflating: time_series/S32644X696260Y3052060sS1-EBD/landsat/LC81420412015303LGN01_B3.tif  \n",
      "  inflating: time_series/S32644X696260Y3052060sS1-EBD/landsat/LC81420412015303LGN01_B4.tif  \n",
      "  inflating: time_series/S32644X696260Y3052060sS1-EBD/landsat/LC81420412015303LGN01_B5.tif  \n",
      "  inflating: time_series/S32644X696260Y3052060sS1-EBD/landsat/LC81420412015303LGN01_MTL.json  \n",
      "  inflating: time_series/S32644X696260Y3052060sS1-EBD/landsat/LC81420412015303LGN01_NDVI.tif  \n",
      "  inflating: time_series/S32644X696260Y3052060sS1-EBD/landsat/LC81420412015319LGN00_B3.tif  \n",
      "  inflating: time_series/S32644X696260Y3052060sS1-EBD/landsat/LC81420412015319LGN00_B4.tif  \n",
      "  inflating: time_series/S32644X696260Y3052060sS1-EBD/landsat/LC81420412015319LGN00_B5.tif  \n",
      "  inflating: time_series/S32644X696260Y3052060sS1-EBD/landsat/LC81420412015319LGN00_MTL.json  \n",
      "  inflating: time_series/S32644X696260Y3052060sS1-EBD/landsat/LC81420412015319LGN00_NDVI.tif  \n",
      "  inflating: time_series/S32644X696260Y3052060sS1-EBD/landsat/LC81420412015335LGN00_B3.tif  \n",
      "  inflating: time_series/S32644X696260Y3052060sS1-EBD/landsat/LC81420412015335LGN00_B4.tif  \n",
      "  inflating: time_series/S32644X696260Y3052060sS1-EBD/landsat/LC81420412015335LGN00_B5.tif  \n",
      "  inflating: time_series/S32644X696260Y3052060sS1-EBD/landsat/LC81420412015335LGN00_MTL.json  \n",
      "  inflating: time_series/S32644X696260Y3052060sS1-EBD/landsat/LC81420412015335LGN00_NDVI.tif  \n",
      "  inflating: time_series/S32644X696260Y3052060sS1-EBD/landsat/LC81420412015351LGN00_B3.tif  \n",
      "  inflating: time_series/S32644X696260Y3052060sS1-EBD/landsat/LC81420412015351LGN00_B4.tif  \n",
      "  inflating: time_series/S32644X696260Y3052060sS1-EBD/landsat/LC81420412015351LGN00_B5.tif  \n",
      "  inflating: time_series/S32644X696260Y3052060sS1-EBD/landsat/LC81420412015351LGN00_MTL.json  \n",
      "  inflating: time_series/S32644X696260Y3052060sS1-EBD/landsat/LC81420412015351LGN00_NDVI.tif  \n",
      "  inflating: time_series/S32644X696260Y3052060sS1-EBD/landsat/LC81420412016002LGN00_B3.tif  \n",
      "  inflating: time_series/S32644X696260Y3052060sS1-EBD/landsat/LC81420412016002LGN00_B4.tif  \n",
      "  inflating: time_series/S32644X696260Y3052060sS1-EBD/landsat/LC81420412016002LGN00_B5.tif  \n",
      "  inflating: time_series/S32644X696260Y3052060sS1-EBD/landsat/LC81420412016002LGN00_MTL.json  \n",
      "  inflating: time_series/S32644X696260Y3052060sS1-EBD/landsat/LC81420412016002LGN00_NDVI.tif  \n",
      "  inflating: time_series/S32644X696260Y3052060sS1-EBD/landsat/LC81420412016018LGN00_B3.tif  \n",
      "  inflating: time_series/S32644X696260Y3052060sS1-EBD/landsat/LC81420412016018LGN00_B4.tif  \n",
      "  inflating: time_series/S32644X696260Y3052060sS1-EBD/landsat/LC81420412016018LGN00_B5.tif  \n",
      "  inflating: time_series/S32644X696260Y3052060sS1-EBD/landsat/LC81420412016018LGN00_MTL.json  \n",
      "  inflating: time_series/S32644X696260Y3052060sS1-EBD/landsat/LC81420412016018LGN00_NDVI.tif  \n",
      "  inflating: time_series/S32644X696260Y3052060sS1-EBD/landsat/LC81420412016034LGN00_B3.tif  \n",
      "  inflating: time_series/S32644X696260Y3052060sS1-EBD/landsat/LC81420412016034LGN00_B4.tif  \n",
      "  inflating: time_series/S32644X696260Y3052060sS1-EBD/landsat/LC81420412016034LGN00_B5.tif  \n",
      "  inflating: time_series/S32644X696260Y3052060sS1-EBD/landsat/LC81420412016034LGN00_MTL.json  \n",
      "  inflating: time_series/S32644X696260Y3052060sS1-EBD/landsat/LC81420412016034LGN00_NDVI.tif  \n",
      "  inflating: time_series/S32644X696260Y3052060sS1-EBD/landsat/LC81420412016050LGN00_B3.tif  \n",
      "  inflating: time_series/S32644X696260Y3052060sS1-EBD/landsat/LC81420412016050LGN00_B4.tif  \n",
      "  inflating: time_series/S32644X696260Y3052060sS1-EBD/landsat/LC81420412016050LGN00_B5.tif  \n",
      "  inflating: time_series/S32644X696260Y3052060sS1-EBD/landsat/LC81420412016050LGN00_MTL.json  \n",
      "  inflating: time_series/S32644X696260Y3052060sS1-EBD/landsat/LC81420412016050LGN00_NDVI.tif  \n",
      "  inflating: time_series/S32644X696260Y3052060sS1-EBD/landsat/LC81420412016066LGN00_B3.tif  \n",
      "  inflating: time_series/S32644X696260Y3052060sS1-EBD/landsat/LC81420412016066LGN00_B4.tif  \n",
      "  inflating: time_series/S32644X696260Y3052060sS1-EBD/landsat/LC81420412016066LGN00_B5.tif  \n",
      "  inflating: time_series/S32644X696260Y3052060sS1-EBD/landsat/LC81420412016066LGN00_MTL.json  \n",
      "  inflating: time_series/S32644X696260Y3052060sS1-EBD/landsat/LC81420412016066LGN00_NDVI.tif  \n",
      "  inflating: time_series/S32644X696260Y3052060sS1-EBD/landsat/LC81420412016082LGN00_B3.tif  \n",
      "  inflating: time_series/S32644X696260Y3052060sS1-EBD/landsat/LC81420412016082LGN00_B4.tif  \n",
      "  inflating: time_series/S32644X696260Y3052060sS1-EBD/landsat/LC81420412016082LGN00_B5.tif  \n",
      "  inflating: time_series/S32644X696260Y3052060sS1-EBD/landsat/LC81420412016082LGN00_MTL.json  \n",
      "  inflating: time_series/S32644X696260Y3052060sS1-EBD/landsat/LC81420412016082LGN00_NDVI.tif  \n",
      "  inflating: time_series/S32644X696260Y3052060sS1-EBD/landsat/LC81420412016098LGN00_B3.tif  \n",
      "  inflating: time_series/S32644X696260Y3052060sS1-EBD/landsat/LC81420412016098LGN00_B4.tif  \n",
      "  inflating: time_series/S32644X696260Y3052060sS1-EBD/landsat/LC81420412016098LGN00_B5.tif  \n",
      "  inflating: time_series/S32644X696260Y3052060sS1-EBD/landsat/LC81420412016098LGN00_MTL.json  \n",
      "  inflating: time_series/S32644X696260Y3052060sS1-EBD/landsat/LC81420412016098LGN00_NDVI.tif  \n",
      "  inflating: time_series/S32644X696260Y3052060sS1-EBD/landsat/LC81420412016114LGN00_B3.tif  \n",
      "  inflating: time_series/S32644X696260Y3052060sS1-EBD/landsat/LC81420412016114LGN00_B4.tif  \n",
      "  inflating: time_series/S32644X696260Y3052060sS1-EBD/landsat/LC81420412016114LGN00_B5.tif  \n",
      "  inflating: time_series/S32644X696260Y3052060sS1-EBD/landsat/LC81420412016114LGN00_MTL.json  \n",
      "  inflating: time_series/S32644X696260Y3052060sS1-EBD/landsat/LC81420412016114LGN00_NDVI.tif  \n",
      "  inflating: time_series/S32644X696260Y3052060sS1-EBD/landsat/LC81420412016130LGN00_B3.tif  \n",
      "  inflating: time_series/S32644X696260Y3052060sS1-EBD/landsat/LC81420412016130LGN00_B4.tif  \n",
      "  inflating: time_series/S32644X696260Y3052060sS1-EBD/landsat/LC81420412016130LGN00_B5.tif  \n",
      "  inflating: time_series/S32644X696260Y3052060sS1-EBD/landsat/LC81420412016130LGN00_MTL.json  \n",
      "  inflating: time_series/S32644X696260Y3052060sS1-EBD/landsat/LC81420412016130LGN00_NDVI.tif  \n",
      "  inflating: time_series/S32644X696260Y3052060sS1-EBD/landsat/LC81420412016146LGN00_B3.tif  \n",
      "  inflating: time_series/S32644X696260Y3052060sS1-EBD/landsat/LC81420412016146LGN00_B4.tif  \n",
      "  inflating: time_series/S32644X696260Y3052060sS1-EBD/landsat/LC81420412016146LGN00_B5.tif  \n",
      "  inflating: time_series/S32644X696260Y3052060sS1-EBD/landsat/LC81420412016146LGN00_MTL.json  \n"
     ]
    },
    {
     "name": "stdout",
     "output_type": "stream",
     "text": [
      "  inflating: time_series/S32644X696260Y3052060sS1-EBD/landsat/LC81420412016146LGN00_NDVI.tif  \n",
      "  inflating: time_series/S32644X696260Y3052060sS1-EBD/landsat/LC81420412016162LGN00_B3.tif  \n",
      "  inflating: time_series/S32644X696260Y3052060sS1-EBD/landsat/LC81420412016162LGN00_B4.tif  \n",
      "  inflating: time_series/S32644X696260Y3052060sS1-EBD/landsat/LC81420412016162LGN00_B5.tif  \n",
      "  inflating: time_series/S32644X696260Y3052060sS1-EBD/landsat/LC81420412016162LGN00_MTL.json  \n",
      "  inflating: time_series/S32644X696260Y3052060sS1-EBD/landsat/LC81420412016162LGN00_NDVI.tif  \n",
      "  inflating: time_series/S32644X696260Y3052060sS1-EBD/landsat/LC81420412016178LGN00_B3.tif  \n",
      "  inflating: time_series/S32644X696260Y3052060sS1-EBD/landsat/LC81420412016178LGN00_B4.tif  \n",
      "  inflating: time_series/S32644X696260Y3052060sS1-EBD/landsat/LC81420412016178LGN00_B5.tif  \n",
      "  inflating: time_series/S32644X696260Y3052060sS1-EBD/landsat/LC81420412016178LGN00_MTL.json  \n",
      "  inflating: time_series/S32644X696260Y3052060sS1-EBD/landsat/LC81420412016178LGN00_NDVI.tif  \n",
      "  inflating: time_series/S32644X696260Y3052060sS1-EBD/landsat/LC81420412016194LGN00_B3.tif  \n",
      "  inflating: time_series/S32644X696260Y3052060sS1-EBD/landsat/LC81420412016194LGN00_B4.tif  \n",
      "  inflating: time_series/S32644X696260Y3052060sS1-EBD/landsat/LC81420412016194LGN00_B5.tif  \n",
      "  inflating: time_series/S32644X696260Y3052060sS1-EBD/landsat/LC81420412016194LGN00_MTL.json  \n",
      "  inflating: time_series/S32644X696260Y3052060sS1-EBD/landsat/LC81420412016194LGN00_NDVI.tif  \n",
      "  inflating: time_series/S32644X696260Y3052060sS1-EBD/landsat/LC81420412016210LGN00_B3.tif  \n",
      "  inflating: time_series/S32644X696260Y3052060sS1-EBD/landsat/LC81420412016210LGN00_B4.tif  \n",
      "  inflating: time_series/S32644X696260Y3052060sS1-EBD/landsat/LC81420412016210LGN00_B5.tif  \n",
      "  inflating: time_series/S32644X696260Y3052060sS1-EBD/landsat/LC81420412016210LGN00_MTL.json  \n",
      "  inflating: time_series/S32644X696260Y3052060sS1-EBD/landsat/LC81420412016210LGN00_NDVI.tif  \n",
      "  inflating: time_series/S32644X696260Y3052060sS1-EBD/landsat/LC81420412016226LGN00_B3.tif  \n",
      "  inflating: time_series/S32644X696260Y3052060sS1-EBD/landsat/LC81420412016226LGN00_B4.tif  \n",
      "  inflating: time_series/S32644X696260Y3052060sS1-EBD/landsat/LC81420412016226LGN00_B5.tif  \n",
      "  inflating: time_series/S32644X696260Y3052060sS1-EBD/landsat/LC81420412016226LGN00_MTL.json  \n",
      "  inflating: time_series/S32644X696260Y3052060sS1-EBD/landsat/LC81420412016226LGN00_NDVI.tif  \n",
      "  inflating: time_series/S32644X696260Y3052060sS1-EBD/landsat/LC81420412016242LGN00_B3.tif  \n",
      "  inflating: time_series/S32644X696260Y3052060sS1-EBD/landsat/LC81420412016242LGN00_B4.tif  \n",
      "  inflating: time_series/S32644X696260Y3052060sS1-EBD/landsat/LC81420412016242LGN00_B5.tif  \n",
      "  inflating: time_series/S32644X696260Y3052060sS1-EBD/landsat/LC81420412016242LGN00_MTL.json  \n",
      "  inflating: time_series/S32644X696260Y3052060sS1-EBD/landsat/LC81420412016242LGN00_NDVI.tif  \n",
      "  inflating: time_series/S32644X696260Y3052060sS1-EBD/landsat/LC81420412016258LGN00_B3.tif  \n",
      "  inflating: time_series/S32644X696260Y3052060sS1-EBD/landsat/LC81420412016258LGN00_B4.tif  \n",
      "  inflating: time_series/S32644X696260Y3052060sS1-EBD/landsat/LC81420412016258LGN00_B5.tif  \n",
      "  inflating: time_series/S32644X696260Y3052060sS1-EBD/landsat/LC81420412016258LGN00_MTL.json  \n",
      "  inflating: time_series/S32644X696260Y3052060sS1-EBD/landsat/LC81420412016258LGN00_NDVI.tif  \n",
      "  inflating: time_series/S32644X696260Y3052060sS1-EBD/landsat/LC81420412016274LGN00_B3.tif  \n",
      "  inflating: time_series/S32644X696260Y3052060sS1-EBD/landsat/LC81420412016274LGN00_B4.tif  \n",
      "  inflating: time_series/S32644X696260Y3052060sS1-EBD/landsat/LC81420412016274LGN00_B5.tif  \n",
      "  inflating: time_series/S32644X696260Y3052060sS1-EBD/landsat/LC81420412016274LGN00_MTL.json  \n",
      "  inflating: time_series/S32644X696260Y3052060sS1-EBD/landsat/LC81420412016274LGN00_NDVI.tif  \n",
      "  inflating: time_series/S32644X696260Y3052060sS1-EBD/landsat/LC81420412016290LGN00_B3.tif  \n",
      "  inflating: time_series/S32644X696260Y3052060sS1-EBD/landsat/LC81420412016290LGN00_B4.tif  \n",
      "  inflating: time_series/S32644X696260Y3052060sS1-EBD/landsat/LC81420412016290LGN00_B5.tif  \n",
      "  inflating: time_series/S32644X696260Y3052060sS1-EBD/landsat/LC81420412016290LGN00_MTL.json  \n",
      "  inflating: time_series/S32644X696260Y3052060sS1-EBD/landsat/LC81420412016290LGN00_NDVI.tif  \n",
      "  inflating: time_series/S32644X696260Y3052060sS1-EBD/landsat/LC81420412016306LGN00_B3.tif  \n",
      "  inflating: time_series/S32644X696260Y3052060sS1-EBD/landsat/LC81420412016306LGN00_B4.tif  \n",
      "  inflating: time_series/S32644X696260Y3052060sS1-EBD/landsat/LC81420412016306LGN00_B5.tif  \n",
      "  inflating: time_series/S32644X696260Y3052060sS1-EBD/landsat/LC81420412016306LGN00_MTL.json  \n",
      "  inflating: time_series/S32644X696260Y3052060sS1-EBD/landsat/LC81420412016306LGN00_NDVI.tif  \n",
      "  inflating: time_series/S32644X696260Y3052060sS1-EBD/landsat/LC81420412016322LGN00_B3.tif  \n",
      "  inflating: time_series/S32644X696260Y3052060sS1-EBD/landsat/LC81420412016322LGN00_B4.tif  \n",
      "  inflating: time_series/S32644X696260Y3052060sS1-EBD/landsat/LC81420412016322LGN00_B5.tif  \n",
      "  inflating: time_series/S32644X696260Y3052060sS1-EBD/landsat/LC81420412016322LGN00_MTL.json  \n",
      "  inflating: time_series/S32644X696260Y3052060sS1-EBD/landsat/LC81420412016322LGN00_NDVI.tif  \n",
      "  inflating: time_series/S32644X696260Y3052060sS1-EBD/landsat/LC81420412016338LGN00_B3.tif  \n",
      "  inflating: time_series/S32644X696260Y3052060sS1-EBD/landsat/LC81420412016338LGN00_B4.tif  \n",
      "  inflating: time_series/S32644X696260Y3052060sS1-EBD/landsat/LC81420412016338LGN00_B5.tif  \n",
      "  inflating: time_series/S32644X696260Y3052060sS1-EBD/landsat/LC81420412016338LGN00_MTL.json  \n",
      "  inflating: time_series/S32644X696260Y3052060sS1-EBD/landsat/LC81420412016338LGN00_NDVI.tif  \n",
      "  inflating: time_series/S32644X696260Y3052060sS1-EBD/landsat/LC81420412016354LGN00_B3.tif  \n",
      "  inflating: time_series/S32644X696260Y3052060sS1-EBD/landsat/LC81420412016354LGN00_B4.tif  \n",
      "  inflating: time_series/S32644X696260Y3052060sS1-EBD/landsat/LC81420412016354LGN00_B5.tif  \n",
      "  inflating: time_series/S32644X696260Y3052060sS1-EBD/landsat/LC81420412016354LGN00_MTL.json  \n",
      "  inflating: time_series/S32644X696260Y3052060sS1-EBD/landsat/LC81420412016354LGN00_NDVI.tif  \n",
      "  inflating: time_series/S32644X696260Y3052060sS1-EBD/landsat/LC81420412017004LGN00_B3.tif  \n",
      "  inflating: time_series/S32644X696260Y3052060sS1-EBD/landsat/LC81420412017004LGN00_B4.tif  \n",
      "  inflating: time_series/S32644X696260Y3052060sS1-EBD/landsat/LC81420412017004LGN00_B5.tif  \n",
      "  inflating: time_series/S32644X696260Y3052060sS1-EBD/landsat/LC81420412017004LGN00_MTL.json  \n",
      "  inflating: time_series/S32644X696260Y3052060sS1-EBD/landsat/LC81420412017004LGN00_NDVI.tif  \n",
      "  inflating: time_series/S32644X696260Y3052060sS1-EBD/landsat/LC81420412017020LGN00_B3.tif  \n",
      "  inflating: time_series/S32644X696260Y3052060sS1-EBD/landsat/LC81420412017020LGN00_B4.tif  \n",
      "  inflating: time_series/S32644X696260Y3052060sS1-EBD/landsat/LC81420412017020LGN00_B5.tif  \n",
      "  inflating: time_series/S32644X696260Y3052060sS1-EBD/landsat/LC81420412017020LGN00_MTL.json  \n",
      "  inflating: time_series/S32644X696260Y3052060sS1-EBD/landsat/LC81420412017020LGN00_NDVI.tif  \n",
      "  inflating: time_series/S32644X696260Y3052060sS1-EBD/landsat/LC81420412017036LGN00_B3.tif  \n",
      "  inflating: time_series/S32644X696260Y3052060sS1-EBD/landsat/LC81420412017036LGN00_B4.tif  \n",
      "  inflating: time_series/S32644X696260Y3052060sS1-EBD/landsat/LC81420412017036LGN00_B5.tif  \n",
      "  inflating: time_series/S32644X696260Y3052060sS1-EBD/landsat/LC81420412017036LGN00_MTL.json  \n",
      "  inflating: time_series/S32644X696260Y3052060sS1-EBD/landsat/LC81420412017036LGN00_NDVI.tif  \n",
      "  inflating: time_series/S32644X696260Y3052060sS1-EBD/landsat/LC81420412017052LGN00_B3.tif  \n",
      "  inflating: time_series/S32644X696260Y3052060sS1-EBD/landsat/LC81420412017052LGN00_B4.tif  \n",
      "  inflating: time_series/S32644X696260Y3052060sS1-EBD/landsat/LC81420412017052LGN00_B5.tif  \n",
      "  inflating: time_series/S32644X696260Y3052060sS1-EBD/landsat/LC81420412017052LGN00_MTL.json  \n",
      "  inflating: time_series/S32644X696260Y3052060sS1-EBD/landsat/LC81420412017052LGN00_NDVI.tif  \n",
      "  inflating: time_series/S32644X696260Y3052060sS1-EBD/landsat/LC81420412017084LGN00_B3.tif  \n",
      "  inflating: time_series/S32644X696260Y3052060sS1-EBD/landsat/LC81420412017084LGN00_B4.tif  \n",
      "  inflating: time_series/S32644X696260Y3052060sS1-EBD/landsat/LC81420412017084LGN00_B5.tif  \n",
      "  inflating: time_series/S32644X696260Y3052060sS1-EBD/landsat/LC81420412017084LGN00_MTL.json  \n"
     ]
    },
    {
     "name": "stdout",
     "output_type": "stream",
     "text": [
      "  inflating: time_series/S32644X696260Y3052060sS1-EBD/landsat/LC81420412017084LGN00_NDVI.tif  \n",
      "  inflating: time_series/S32644X696260Y3052060sS1-EBD/landsat/LC81420412017100LGN00_B3.tif  \n",
      "  inflating: time_series/S32644X696260Y3052060sS1-EBD/landsat/LC81420412017100LGN00_B4.tif  \n",
      "  inflating: time_series/S32644X696260Y3052060sS1-EBD/landsat/LC81420412017100LGN00_B5.tif  \n",
      "  inflating: time_series/S32644X696260Y3052060sS1-EBD/landsat/LC81420412017100LGN00_MTL.json  \n",
      "  inflating: time_series/S32644X696260Y3052060sS1-EBD/landsat/LC81420412017100LGN00_NDVI.tif  \n",
      "  inflating: time_series/S32644X696260Y3052060sS1-EBD/landsat/LC81420412017116LGN00_B3.tif  \n",
      "  inflating: time_series/S32644X696260Y3052060sS1-EBD/landsat/LC81420412017116LGN00_B4.tif  \n",
      "  inflating: time_series/S32644X696260Y3052060sS1-EBD/landsat/LC81420412017116LGN00_B5.tif  \n",
      "  inflating: time_series/S32644X696260Y3052060sS1-EBD/landsat/LC81420412017116LGN00_MTL.json  \n",
      "  inflating: time_series/S32644X696260Y3052060sS1-EBD/landsat/LC81420412017116LGN00_NDVI.tif  \n",
      "  inflating: time_series/S32644X696260Y3052060sS1-EBD/landsat/ls_scenes.txt  \n",
      "   creating: time_series/S32644X696260Y3052060sS1-EBD/landsat_fullscenes/\n",
      "   creating: time_series/S32644X696260Y3052060sS1-EBD/landsat_fullscenes/landsat/\n",
      " extracting: time_series/S32644X696260Y3052060sS1-EBD/landsat_fullscenes/landsat/L8_142_041_NDVI.dates  \n",
      "  inflating: time_series/S32644X696260Y3052060sS1-EBD/landsat_fullscenes/landsat/L8_142_041_NDVI.vrt  \n",
      "  inflating: time_series/S32644X696260Y3052060sS1-EBD/landsat_fullscenes/landsat/LC81420412015111LGN00_234567.vrt  \n",
      "  inflating: time_series/S32644X696260Y3052060sS1-EBD/landsat_fullscenes/landsat/LC81420412015111LGN00_B2.tif  \n",
      "  inflating: time_series/S32644X696260Y3052060sS1-EBD/landsat_fullscenes/landsat/LC81420412015111LGN00_B3.tif  \n",
      "  inflating: time_series/S32644X696260Y3052060sS1-EBD/landsat_fullscenes/landsat/LC81420412015111LGN00_B4.tif  \n",
      "  inflating: time_series/S32644X696260Y3052060sS1-EBD/landsat_fullscenes/landsat/LC81420412015111LGN00_B5.tif  \n",
      "  inflating: time_series/S32644X696260Y3052060sS1-EBD/landsat_fullscenes/landsat/LC81420412015111LGN00_B6.tif  \n",
      "  inflating: time_series/S32644X696260Y3052060sS1-EBD/landsat_fullscenes/landsat/LC81420412015111LGN00_B7.tif  \n",
      "  inflating: time_series/S32644X696260Y3052060sS1-EBD/landsat_fullscenes/landsat/LC81420412015111LGN00_MTL.json  \n",
      "  inflating: time_series/S32644X696260Y3052060sS1-EBD/landsat_fullscenes/landsat/LC81420412015111LGN00_NDVI.tif  \n",
      "  inflating: time_series/S32644X696260Y3052060sS1-EBD/landsat_fullscenes/landsat/ls_scenes.txt  \n",
      " extracting: time_series/S32644X696260Y3052060sS1-EBD/None0000000.png  \n",
      "  inflating: time_series/S32644X696260Y3052060sS1-EBD/S32644X696260Y3052060sS1_A_vh_0158_A_mtfil.dates  \n",
      "  inflating: time_series/S32644X696260Y3052060sS1-EBD/S32644X696260Y3052060sS1_A_vh_0158_A_mtfil.vrt  \n",
      "  inflating: time_series/S32644X696260Y3052060sS1-EBD/S32644X696260Y3052060sS1_A_vh_0158_mtfil.dates  \n",
      "  inflating: time_series/S32644X696260Y3052060sS1-EBD/S32644X696260Y3052060sS1_A_vh_0158_mtfil.vrt  \n",
      "  inflating: time_series/S32644X696260Y3052060sS1-EBD/S32644X696260Y3052060sS1_A_vh_browse.dates  \n",
      "  inflating: time_series/S32644X696260Y3052060sS1-EBD/S32644X696260Y3052060sS1_A_vh_browse.tif  \n",
      "   creating: time_series/S32644X696260Y3052060sS1-EBD/S32644X696260Y3052060sS1_A_vh_mtfil/\n",
      "  inflating: time_series/S32644X696260Y3052060sS1-EBD/S32644X696260Y3052060sS1_A_vh_mtfil.dates  \n",
      "  inflating: time_series/S32644X696260Y3052060sS1-EBD/S32644X696260Y3052060sS1_A_vh_mtfil.vrt  \n",
      "  inflating: time_series/S32644X696260Y3052060sS1-EBD/S32644X696260Y3052060sS1_A_vh_mtfil/S32644X696260Y3052060sS1_A_vh_20151104_0158_A_mtfil_amp.tif  \n",
      "  inflating: time_series/S32644X696260Y3052060sS1-EBD/S32644X696260Y3052060sS1_A_vh_mtfil/S32644X696260Y3052060sS1_A_vh_20170214_0158_A_mtfil_amp.tif  \n",
      "  inflating: time_series/S32644X696260Y3052060sS1-EBD/S32644X696260Y3052060sS1_A_vh_mtfil/S32644X696260Y3052060sS1_A_vh_20170226_0158_A_mtfil_amp.tif  \n",
      "  inflating: time_series/S32644X696260Y3052060sS1-EBD/S32644X696260Y3052060sS1_A_vh_mtfil/S32644X696260Y3052060sS1_A_vh_20170310_0158_A_mtfil_amp.tif  \n",
      "  inflating: time_series/S32644X696260Y3052060sS1-EBD/S32644X696260Y3052060sS1_A_vh_mtfil/S32644X696260Y3052060sS1_A_vh_20170322_0158_A_mtfil_amp.tif  \n",
      "  inflating: time_series/S32644X696260Y3052060sS1-EBD/S32644X696260Y3052060sS1_A_vh_mtfil/S32644X696260Y3052060sS1_A_vh_20170403_0158_A_mtfil_amp.tif  \n",
      "  inflating: time_series/S32644X696260Y3052060sS1-EBD/S32644X696260Y3052060sS1_A_vh_mtfil/S32644X696260Y3052060sS1_A_vh_20170415_0158_A_mtfil_amp.tif  \n",
      "  inflating: time_series/S32644X696260Y3052060sS1-EBD/S32644X696260Y3052060sS1_A_vh_mtfil/S32644X696260Y3052060sS1_A_vh_20170427_0158_A_mtfil_amp.tif  \n",
      "  inflating: time_series/S32644X696260Y3052060sS1-EBD/S32644X696260Y3052060sS1_A_vh_mtfil/S32644X696260Y3052060sS1_A_vh_20170509_0158_A_mtfil_amp.tif  \n",
      "  inflating: time_series/S32644X696260Y3052060sS1-EBD/S32644X696260Y3052060sS1_A_vh_mtfil/S32644X696260Y3052060sS1_A_vh_20170521_0158_A_mtfil_amp.tif  \n",
      "  inflating: time_series/S32644X696260Y3052060sS1-EBD/S32644X696260Y3052060sS1_A_vh_mtfil/S32644X696260Y3052060sS1_A_vh_20170602_0158_A_mtfil_amp.tif  \n",
      "  inflating: time_series/S32644X696260Y3052060sS1-EBD/S32644X696260Y3052060sS1_A_vh_mtfil/S32644X696260Y3052060sS1_A_vh_20170614_0158_A_mtfil_amp.tif  \n",
      "  inflating: time_series/S32644X696260Y3052060sS1-EBD/S32644X696260Y3052060sS1_A_vh_mtfil/S32644X696260Y3052060sS1_A_vh_20170626_0158_A_mtfil_amp.tif  \n",
      "  inflating: time_series/S32644X696260Y3052060sS1-EBD/S32644X696260Y3052060sS1_A_vh_mtfil/S32644X696260Y3052060sS1_A_vh_20170708_0158_A_mtfil_amp.tif  \n",
      "  inflating: time_series/S32644X696260Y3052060sS1-EBD/S32644X696260Y3052060sS1_A_vh_mtfil/S32644X696260Y3052060sS1_A_vh_20170720_0158_A_mtfil_amp.tif  \n",
      "  inflating: time_series/S32644X696260Y3052060sS1-EBD/S32644X696260Y3052060sS1_A_vh_mtfil/S32644X696260Y3052060sS1_A_vh_20170801_0158_A_mtfil_amp.tif  \n",
      "  inflating: time_series/S32644X696260Y3052060sS1-EBD/S32644X696260Y3052060sS1_A_vh_mtfil/S32644X696260Y3052060sS1_A_vh_20170813_0158_A_mtfil_amp.tif  \n",
      "  inflating: time_series/S32644X696260Y3052060sS1-EBD/S32644X696260Y3052060sS1_A_vh_mtfil/S32644X696260Y3052060sS1_A_vh_20170825_0158_A_mtfil_amp.tif  \n",
      "  inflating: time_series/S32644X696260Y3052060sS1-EBD/S32644X696260Y3052060sS1_A_vh_mtfil/S32644X696260Y3052060sS1_A_vh_20170906_0158_A_mtfil_amp.tif  \n",
      "  inflating: time_series/S32644X696260Y3052060sS1-EBD/S32644X696260Y3052060sS1_A_vh_mtfil/S32644X696260Y3052060sS1_A_vh_20170918_0158_A_mtfil_amp.tif  \n",
      "  inflating: time_series/S32644X696260Y3052060sS1-EBD/S32644X696260Y3052060sS1_A_vh_mtfil/S32644X696260Y3052060sS1_A_vh_20170930_0158_A_mtfil_amp.tif  \n",
      "  inflating: time_series/S32644X696260Y3052060sS1-EBD/S32644X696260Y3052060sS1_A_vh_mtfil/S32644X696260Y3052060sS1_A_vh_20171012_0158_A_mtfil_amp.tif  \n",
      "  inflating: time_series/S32644X696260Y3052060sS1-EBD/S32644X696260Y3052060sS1_A_vh_mtfil/S32644X696260Y3052060sS1_A_vh_20171024_0158_A_mtfil_amp.tif  \n",
      "  inflating: time_series/S32644X696260Y3052060sS1-EBD/S32644X696260Y3052060sS1_A_vh_mtfil/S32644X696260Y3052060sS1_A_vh_20171105_0158_A_mtfil_amp.tif  \n",
      "  inflating: time_series/S32644X696260Y3052060sS1-EBD/S32644X696260Y3052060sS1_A_vh_mtfil/S32644X696260Y3052060sS1_A_vh_20171117_0158_A_mtfil_amp.tif  \n",
      "  inflating: time_series/S32644X696260Y3052060sS1-EBD/S32644X696260Y3052060sS1_A_vh_mtfil/S32644X696260Y3052060sS1_A_vh_20171129_0158_A_mtfil_amp.tif  \n",
      "  inflating: time_series/S32644X696260Y3052060sS1-EBD/S32644X696260Y3052060sS1_A_vh_mtfil/S32644X696260Y3052060sS1_A_vh_20171211_0158_A_mtfil_amp.tif  \n",
      "   creating: time_series/S32644X696260Y3052060sS1-EBD/S32644X696260Y3052060sS1_A_vh_mtfil_tsmetrics/\n",
      "  inflating: time_series/S32644X696260Y3052060sS1-EBD/S32644X696260Y3052060sS1_A_vh_mtfil_tsmetrics.vrt  \n",
      "  inflating: time_series/S32644X696260Y3052060sS1-EBD/S32644X696260Y3052060sS1_A_vh_mtfil_tsmetrics/S32644X696260Y3052060sS1_A_vh_mtfil_tsmetrics_count.tif  \n",
      "  inflating: time_series/S32644X696260Y3052060sS1-EBD/S32644X696260Y3052060sS1_A_vh_mtfil_tsmetrics/S32644X696260Y3052060sS1_A_vh_mtfil_tsmetrics_cov.tif  \n"
     ]
    },
    {
     "name": "stdout",
     "output_type": "stream",
     "text": [
      "  inflating: time_series/S32644X696260Y3052060sS1-EBD/S32644X696260Y3052060sS1_A_vh_mtfil_tsmetrics/S32644X696260Y3052060sS1_A_vh_mtfil_tsmetrics_max.tif  \n",
      "  inflating: time_series/S32644X696260Y3052060sS1-EBD/S32644X696260Y3052060sS1_A_vh_mtfil_tsmetrics/S32644X696260Y3052060sS1_A_vh_mtfil_tsmetrics_mean.tif  \n",
      "  inflating: time_series/S32644X696260Y3052060sS1-EBD/S32644X696260Y3052060sS1_A_vh_mtfil_tsmetrics/S32644X696260Y3052060sS1_A_vh_mtfil_tsmetrics_min.tif  \n",
      "  inflating: time_series/S32644X696260Y3052060sS1-EBD/S32644X696260Y3052060sS1_A_vh_mtfil_tsmetrics/S32644X696260Y3052060sS1_A_vh_mtfil_tsmetrics_range.tif  \n",
      "  inflating: time_series/S32644X696260Y3052060sS1-EBD/S32644X696260Y3052060sS1_A_vh_mtfil_tsmetrics/S32644X696260Y3052060sS1_A_vh_mtfil_tsmetrics_stddev.tif  \n",
      "  inflating: time_series/S32644X696260Y3052060sS1-EBD/S32644X696260Y3052060sS1_A_vv_0158_A_mtfil.dates  \n",
      "  inflating: time_series/S32644X696260Y3052060sS1-EBD/S32644X696260Y3052060sS1_A_vv_0158_A_mtfil.vrt  \n",
      "  inflating: time_series/S32644X696260Y3052060sS1-EBD/S32644X696260Y3052060sS1_A_vv_0158_mtfil.dates  \n",
      "  inflating: time_series/S32644X696260Y3052060sS1-EBD/S32644X696260Y3052060sS1_A_vv_0158_mtfil.vrt  \n",
      "  inflating: time_series/S32644X696260Y3052060sS1-EBD/S32644X696260Y3052060sS1_A_vv_browse.dates  \n",
      "  inflating: time_series/S32644X696260Y3052060sS1-EBD/S32644X696260Y3052060sS1_A_vv_browse.tif  \n",
      "   creating: time_series/S32644X696260Y3052060sS1-EBD/S32644X696260Y3052060sS1_A_vv_mtfil/\n",
      "  inflating: time_series/S32644X696260Y3052060sS1-EBD/S32644X696260Y3052060sS1_A_vv_mtfil.dates  \n",
      "  inflating: time_series/S32644X696260Y3052060sS1-EBD/S32644X696260Y3052060sS1_A_vv_mtfil.vrt  \n",
      "  inflating: time_series/S32644X696260Y3052060sS1-EBD/S32644X696260Y3052060sS1_A_vv_mtfil/S32644X696260Y3052060sS1_A_vv_20141004_0158_A_mtfil_amp.tif  \n",
      "  inflating: time_series/S32644X696260Y3052060sS1-EBD/S32644X696260Y3052060sS1_A_vv_mtfil/S32644X696260Y3052060sS1_A_vv_20141028_0158_A_mtfil_amp.tif  \n",
      "  inflating: time_series/S32644X696260Y3052060sS1-EBD/S32644X696260Y3052060sS1_A_vv_mtfil/S32644X696260Y3052060sS1_A_vv_20141121_0158_A_mtfil_amp.tif  \n",
      "  inflating: time_series/S32644X696260Y3052060sS1-EBD/S32644X696260Y3052060sS1_A_vv_mtfil/S32644X696260Y3052060sS1_A_vv_20141215_0158_A_mtfil_amp.tif  \n",
      "  inflating: time_series/S32644X696260Y3052060sS1-EBD/S32644X696260Y3052060sS1_A_vv_mtfil/S32644X696260Y3052060sS1_A_vv_20150108_0158_A_mtfil_amp.tif  \n",
      "  inflating: time_series/S32644X696260Y3052060sS1-EBD/S32644X696260Y3052060sS1_A_vv_mtfil/S32644X696260Y3052060sS1_A_vv_20150225_0158_A_mtfil_amp.tif  \n",
      "  inflating: time_series/S32644X696260Y3052060sS1-EBD/S32644X696260Y3052060sS1_A_vv_mtfil/S32644X696260Y3052060sS1_A_vv_20150321_0158_A_mtfil_amp.tif  \n",
      "  inflating: time_series/S32644X696260Y3052060sS1-EBD/S32644X696260Y3052060sS1_A_vv_mtfil/S32644X696260Y3052060sS1_A_vv_20150508_0158_A_mtfil_amp.tif  \n",
      "  inflating: time_series/S32644X696260Y3052060sS1-EBD/S32644X696260Y3052060sS1_A_vv_mtfil/S32644X696260Y3052060sS1_A_vv_20150520_0158_A_mtfil_amp.tif  \n",
      "  inflating: time_series/S32644X696260Y3052060sS1-EBD/S32644X696260Y3052060sS1_A_vv_mtfil/S32644X696260Y3052060sS1_A_vv_20150601_0158_A_mtfil_amp.tif  \n",
      "  inflating: time_series/S32644X696260Y3052060sS1-EBD/S32644X696260Y3052060sS1_A_vv_mtfil/S32644X696260Y3052060sS1_A_vv_20150625_0158_A_mtfil_amp.tif  \n",
      "  inflating: time_series/S32644X696260Y3052060sS1-EBD/S32644X696260Y3052060sS1_A_vv_mtfil/S32644X696260Y3052060sS1_A_vv_20150707_0158_A_mtfil_amp.tif  \n",
      "  inflating: time_series/S32644X696260Y3052060sS1-EBD/S32644X696260Y3052060sS1_A_vv_mtfil/S32644X696260Y3052060sS1_A_vv_20150719_0158_A_mtfil_amp.tif  \n",
      "  inflating: time_series/S32644X696260Y3052060sS1-EBD/S32644X696260Y3052060sS1_A_vv_mtfil/S32644X696260Y3052060sS1_A_vv_20150731_0158_A_mtfil_amp.tif  \n",
      "  inflating: time_series/S32644X696260Y3052060sS1-EBD/S32644X696260Y3052060sS1_A_vv_mtfil/S32644X696260Y3052060sS1_A_vv_20150812_0158_A_mtfil_amp.tif  \n",
      "  inflating: time_series/S32644X696260Y3052060sS1-EBD/S32644X696260Y3052060sS1_A_vv_mtfil/S32644X696260Y3052060sS1_A_vv_20150905_0158_A_mtfil_amp.tif  \n",
      "  inflating: time_series/S32644X696260Y3052060sS1-EBD/S32644X696260Y3052060sS1_A_vv_mtfil/S32644X696260Y3052060sS1_A_vv_20151011_0158_A_mtfil_amp.tif  \n",
      "  inflating: time_series/S32644X696260Y3052060sS1-EBD/S32644X696260Y3052060sS1_A_vv_mtfil/S32644X696260Y3052060sS1_A_vv_20151104_0158_A_mtfil_amp.tif  \n",
      "  inflating: time_series/S32644X696260Y3052060sS1-EBD/S32644X696260Y3052060sS1_A_vv_mtfil/S32644X696260Y3052060sS1_A_vv_20151128_0158_A_mtfil_amp.tif  \n",
      "  inflating: time_series/S32644X696260Y3052060sS1-EBD/S32644X696260Y3052060sS1_A_vv_mtfil/S32644X696260Y3052060sS1_A_vv_20151222_0158_A_mtfil_amp.tif  \n",
      "  inflating: time_series/S32644X696260Y3052060sS1-EBD/S32644X696260Y3052060sS1_A_vv_mtfil/S32644X696260Y3052060sS1_A_vv_20160115_0158_A_mtfil_amp.tif  \n",
      "  inflating: time_series/S32644X696260Y3052060sS1-EBD/S32644X696260Y3052060sS1_A_vv_mtfil/S32644X696260Y3052060sS1_A_vv_20160303_0158_A_mtfil_amp.tif  \n",
      "  inflating: time_series/S32644X696260Y3052060sS1-EBD/S32644X696260Y3052060sS1_A_vv_mtfil/S32644X696260Y3052060sS1_A_vv_20160327_0158_A_mtfil_amp.tif  \n",
      "  inflating: time_series/S32644X696260Y3052060sS1-EBD/S32644X696260Y3052060sS1_A_vv_mtfil/S32644X696260Y3052060sS1_A_vv_20160420_0158_A_mtfil_amp.tif  \n",
      "  inflating: time_series/S32644X696260Y3052060sS1-EBD/S32644X696260Y3052060sS1_A_vv_mtfil/S32644X696260Y3052060sS1_A_vv_20160514_0158_A_mtfil_amp.tif  \n",
      "  inflating: time_series/S32644X696260Y3052060sS1-EBD/S32644X696260Y3052060sS1_A_vv_mtfil/S32644X696260Y3052060sS1_A_vv_20160607_0158_A_mtfil_amp.tif  \n",
      "  inflating: time_series/S32644X696260Y3052060sS1-EBD/S32644X696260Y3052060sS1_A_vv_mtfil/S32644X696260Y3052060sS1_A_vv_20160701_0158_A_mtfil_amp.tif  \n",
      "  inflating: time_series/S32644X696260Y3052060sS1-EBD/S32644X696260Y3052060sS1_A_vv_mtfil/S32644X696260Y3052060sS1_A_vv_20160725_0158_A_mtfil_amp.tif  \n",
      "  inflating: time_series/S32644X696260Y3052060sS1-EBD/S32644X696260Y3052060sS1_A_vv_mtfil/S32644X696260Y3052060sS1_A_vv_20160818_0158_A_mtfil_amp.tif  \n",
      "  inflating: time_series/S32644X696260Y3052060sS1-EBD/S32644X696260Y3052060sS1_A_vv_mtfil/S32644X696260Y3052060sS1_A_vv_20160911_0158_A_mtfil_amp.tif  \n",
      "  inflating: time_series/S32644X696260Y3052060sS1-EBD/S32644X696260Y3052060sS1_A_vv_mtfil/S32644X696260Y3052060sS1_A_vv_20161005_0158_A_mtfil_amp.tif  \n",
      "  inflating: time_series/S32644X696260Y3052060sS1-EBD/S32644X696260Y3052060sS1_A_vv_mtfil/S32644X696260Y3052060sS1_A_vv_20161029_0158_A_mtfil_amp.tif  \n",
      "  inflating: time_series/S32644X696260Y3052060sS1-EBD/S32644X696260Y3052060sS1_A_vv_mtfil/S32644X696260Y3052060sS1_A_vv_20161122_0158_A_mtfil_amp.tif  \n",
      "  inflating: time_series/S32644X696260Y3052060sS1-EBD/S32644X696260Y3052060sS1_A_vv_mtfil/S32644X696260Y3052060sS1_A_vv_20161216_0158_A_mtfil_amp.tif  \n",
      "  inflating: time_series/S32644X696260Y3052060sS1-EBD/S32644X696260Y3052060sS1_A_vv_mtfil/S32644X696260Y3052060sS1_A_vv_20170109_0158_A_mtfil_amp.tif  \n",
      "  inflating: time_series/S32644X696260Y3052060sS1-EBD/S32644X696260Y3052060sS1_A_vv_mtfil/S32644X696260Y3052060sS1_A_vv_20170202_0158_A_mtfil_amp.tif  \n",
      "  inflating: time_series/S32644X696260Y3052060sS1-EBD/S32644X696260Y3052060sS1_A_vv_mtfil/S32644X696260Y3052060sS1_A_vv_20170214_0158_A_mtfil_amp.tif  \n",
      "  inflating: time_series/S32644X696260Y3052060sS1-EBD/S32644X696260Y3052060sS1_A_vv_mtfil/S32644X696260Y3052060sS1_A_vv_20170226_0158_A_mtfil_amp.tif  \n",
      "  inflating: time_series/S32644X696260Y3052060sS1-EBD/S32644X696260Y3052060sS1_A_vv_mtfil/S32644X696260Y3052060sS1_A_vv_20170310_0158_A_mtfil_amp.tif  \n",
      "  inflating: time_series/S32644X696260Y3052060sS1-EBD/S32644X696260Y3052060sS1_A_vv_mtfil/S32644X696260Y3052060sS1_A_vv_20170322_0158_A_mtfil_amp.tif  \n",
      "  inflating: time_series/S32644X696260Y3052060sS1-EBD/S32644X696260Y3052060sS1_A_vv_mtfil/S32644X696260Y3052060sS1_A_vv_20170403_0158_A_mtfil_amp.tif  \n",
      "  inflating: time_series/S32644X696260Y3052060sS1-EBD/S32644X696260Y3052060sS1_A_vv_mtfil/S32644X696260Y3052060sS1_A_vv_20170415_0158_A_mtfil_amp.tif  \n"
     ]
    },
    {
     "name": "stdout",
     "output_type": "stream",
     "text": [
      "  inflating: time_series/S32644X696260Y3052060sS1-EBD/S32644X696260Y3052060sS1_A_vv_mtfil/S32644X696260Y3052060sS1_A_vv_20170427_0158_A_mtfil_amp.tif  \n",
      "  inflating: time_series/S32644X696260Y3052060sS1-EBD/S32644X696260Y3052060sS1_A_vv_mtfil/S32644X696260Y3052060sS1_A_vv_20170509_0158_A_mtfil_amp.tif  \n",
      "  inflating: time_series/S32644X696260Y3052060sS1-EBD/S32644X696260Y3052060sS1_A_vv_mtfil/S32644X696260Y3052060sS1_A_vv_20170521_0158_A_mtfil_amp.tif  \n",
      "  inflating: time_series/S32644X696260Y3052060sS1-EBD/S32644X696260Y3052060sS1_A_vv_mtfil/S32644X696260Y3052060sS1_A_vv_20170602_0158_A_mtfil_amp.tif  \n",
      "  inflating: time_series/S32644X696260Y3052060sS1-EBD/S32644X696260Y3052060sS1_A_vv_mtfil/S32644X696260Y3052060sS1_A_vv_20170614_0158_A_mtfil_amp.tif  \n",
      "  inflating: time_series/S32644X696260Y3052060sS1-EBD/S32644X696260Y3052060sS1_A_vv_mtfil/S32644X696260Y3052060sS1_A_vv_20170626_0158_A_mtfil_amp.tif  \n",
      "  inflating: time_series/S32644X696260Y3052060sS1-EBD/S32644X696260Y3052060sS1_A_vv_mtfil/S32644X696260Y3052060sS1_A_vv_20170708_0158_A_mtfil_amp.tif  \n",
      "  inflating: time_series/S32644X696260Y3052060sS1-EBD/S32644X696260Y3052060sS1_A_vv_mtfil/S32644X696260Y3052060sS1_A_vv_20170720_0158_A_mtfil_amp.tif  \n",
      "  inflating: time_series/S32644X696260Y3052060sS1-EBD/S32644X696260Y3052060sS1_A_vv_mtfil/S32644X696260Y3052060sS1_A_vv_20170801_0158_A_mtfil_amp.tif  \n",
      "  inflating: time_series/S32644X696260Y3052060sS1-EBD/S32644X696260Y3052060sS1_A_vv_mtfil/S32644X696260Y3052060sS1_A_vv_20170813_0158_A_mtfil_amp.tif  \n",
      "  inflating: time_series/S32644X696260Y3052060sS1-EBD/S32644X696260Y3052060sS1_A_vv_mtfil/S32644X696260Y3052060sS1_A_vv_20170825_0158_A_mtfil_amp.tif  \n",
      "  inflating: time_series/S32644X696260Y3052060sS1-EBD/S32644X696260Y3052060sS1_A_vv_mtfil/S32644X696260Y3052060sS1_A_vv_20170906_0158_A_mtfil_amp.tif  \n",
      "  inflating: time_series/S32644X696260Y3052060sS1-EBD/S32644X696260Y3052060sS1_A_vv_mtfil/S32644X696260Y3052060sS1_A_vv_20170918_0158_A_mtfil_amp.tif  \n",
      "  inflating: time_series/S32644X696260Y3052060sS1-EBD/S32644X696260Y3052060sS1_A_vv_mtfil/S32644X696260Y3052060sS1_A_vv_20170930_0158_A_mtfil_amp.tif  \n",
      "  inflating: time_series/S32644X696260Y3052060sS1-EBD/S32644X696260Y3052060sS1_A_vv_mtfil/S32644X696260Y3052060sS1_A_vv_20171012_0158_A_mtfil_amp.tif  \n",
      "  inflating: time_series/S32644X696260Y3052060sS1-EBD/S32644X696260Y3052060sS1_A_vv_mtfil/S32644X696260Y3052060sS1_A_vv_20171024_0158_A_mtfil_amp.tif  \n",
      "  inflating: time_series/S32644X696260Y3052060sS1-EBD/S32644X696260Y3052060sS1_A_vv_mtfil/S32644X696260Y3052060sS1_A_vv_20171105_0158_A_mtfil_amp.tif  \n",
      "  inflating: time_series/S32644X696260Y3052060sS1-EBD/S32644X696260Y3052060sS1_A_vv_mtfil/S32644X696260Y3052060sS1_A_vv_20171117_0158_A_mtfil_amp.tif  \n",
      "  inflating: time_series/S32644X696260Y3052060sS1-EBD/S32644X696260Y3052060sS1_A_vv_mtfil/S32644X696260Y3052060sS1_A_vv_20171129_0158_A_mtfil_amp.tif  \n",
      "  inflating: time_series/S32644X696260Y3052060sS1-EBD/S32644X696260Y3052060sS1_A_vv_mtfil/S32644X696260Y3052060sS1_A_vv_20171211_0158_A_mtfil_amp.tif  \n",
      "   creating: time_series/S32644X696260Y3052060sS1-EBD/S32644X696260Y3052060sS1_A_vv_mtfil_tsmetrics/\n",
      "  inflating: time_series/S32644X696260Y3052060sS1-EBD/S32644X696260Y3052060sS1_A_vv_mtfil_tsmetrics.vrt  \n",
      "  inflating: time_series/S32644X696260Y3052060sS1-EBD/S32644X696260Y3052060sS1_A_vv_mtfil_tsmetrics/S32644X696260Y3052060sS1_A_vv_mtfil_tsmetrics_count.tif  \n",
      "  inflating: time_series/S32644X696260Y3052060sS1-EBD/S32644X696260Y3052060sS1_A_vv_mtfil_tsmetrics/S32644X696260Y3052060sS1_A_vv_mtfil_tsmetrics_cov.tif  \n",
      "  inflating: time_series/S32644X696260Y3052060sS1-EBD/S32644X696260Y3052060sS1_A_vv_mtfil_tsmetrics/S32644X696260Y3052060sS1_A_vv_mtfil_tsmetrics_max.tif  \n",
      "  inflating: time_series/S32644X696260Y3052060sS1-EBD/S32644X696260Y3052060sS1_A_vv_mtfil_tsmetrics/S32644X696260Y3052060sS1_A_vv_mtfil_tsmetrics_mean.tif  \n",
      "  inflating: time_series/S32644X696260Y3052060sS1-EBD/S32644X696260Y3052060sS1_A_vv_mtfil_tsmetrics/S32644X696260Y3052060sS1_A_vv_mtfil_tsmetrics_min.tif  \n",
      "  inflating: time_series/S32644X696260Y3052060sS1-EBD/S32644X696260Y3052060sS1_A_vv_mtfil_tsmetrics/S32644X696260Y3052060sS1_A_vv_mtfil_tsmetrics_range.tif  \n",
      "  inflating: time_series/S32644X696260Y3052060sS1-EBD/S32644X696260Y3052060sS1_A_vv_mtfil_tsmetrics/S32644X696260Y3052060sS1_A_vv_mtfil_tsmetrics_stddev.tif  \n",
      "  inflating: time_series/S32644X696260Y3052060sS1-EBD/S32644X696260Y3052060sS1_D_vh_0092_A_mtfil.dates  \n",
      "  inflating: time_series/S32644X696260Y3052060sS1-EBD/S32644X696260Y3052060sS1_D_vh_0092_A_mtfil.vrt  \n",
      "  inflating: time_series/S32644X696260Y3052060sS1-EBD/S32644X696260Y3052060sS1_D_vh_0092_mtfil.dates  \n",
      "  inflating: time_series/S32644X696260Y3052060sS1-EBD/S32644X696260Y3052060sS1_D_vh_0092_mtfil.vrt  \n",
      "  inflating: time_series/S32644X696260Y3052060sS1-EBD/S32644X696260Y3052060sS1_D_vh_browse.dates  \n",
      "  inflating: time_series/S32644X696260Y3052060sS1-EBD/S32644X696260Y3052060sS1_D_vh_browse.tif  \n",
      "   creating: time_series/S32644X696260Y3052060sS1-EBD/S32644X696260Y3052060sS1_D_vh_mtfil/\n",
      "  inflating: time_series/S32644X696260Y3052060sS1-EBD/S32644X696260Y3052060sS1_D_vh_mtfil.dates  \n",
      "  inflating: time_series/S32644X696260Y3052060sS1-EBD/S32644X696260Y3052060sS1_D_vh_mtfil.vrt  \n",
      "  inflating: time_series/S32644X696260Y3052060sS1-EBD/S32644X696260Y3052060sS1_D_vh_mtfil/S32644X696260Y3052060sS1_D_vh_20150305_0092_A_mtfil_amp.tif  \n",
      "  inflating: time_series/S32644X696260Y3052060sS1-EBD/S32644X696260Y3052060sS1_D_vh_mtfil/S32644X696260Y3052060sS1_D_vh_20150528_0092_A_mtfil_amp.tif  \n",
      "  inflating: time_series/S32644X696260Y3052060sS1-EBD/S32644X696260Y3052060sS1_D_vh_mtfil/S32644X696260Y3052060sS1_D_vh_20161001_0092_A_mtfil_amp.tif  \n",
      "  inflating: time_series/S32644X696260Y3052060sS1-EBD/S32644X696260Y3052060sS1_D_vh_mtfil/S32644X696260Y3052060sS1_D_vh_20161013_0092_A_mtfil_amp.tif  \n",
      "  inflating: time_series/S32644X696260Y3052060sS1-EBD/S32644X696260Y3052060sS1_D_vh_mtfil/S32644X696260Y3052060sS1_D_vh_20161025_0092_A_mtfil_amp.tif  \n",
      "  inflating: time_series/S32644X696260Y3052060sS1-EBD/S32644X696260Y3052060sS1_D_vh_mtfil/S32644X696260Y3052060sS1_D_vh_20161106_0092_A_mtfil_amp.tif  \n",
      "  inflating: time_series/S32644X696260Y3052060sS1-EBD/S32644X696260Y3052060sS1_D_vh_mtfil/S32644X696260Y3052060sS1_D_vh_20161118_0092_A_mtfil_amp.tif  \n",
      "  inflating: time_series/S32644X696260Y3052060sS1-EBD/S32644X696260Y3052060sS1_D_vh_mtfil/S32644X696260Y3052060sS1_D_vh_20161130_0092_A_mtfil_amp.tif  \n",
      "  inflating: time_series/S32644X696260Y3052060sS1-EBD/S32644X696260Y3052060sS1_D_vh_mtfil/S32644X696260Y3052060sS1_D_vh_20161212_0092_A_mtfil_amp.tif  \n",
      "  inflating: time_series/S32644X696260Y3052060sS1-EBD/S32644X696260Y3052060sS1_D_vh_mtfil/S32644X696260Y3052060sS1_D_vh_20161224_0092_A_mtfil_amp.tif  \n",
      "  inflating: time_series/S32644X696260Y3052060sS1-EBD/S32644X696260Y3052060sS1_D_vh_mtfil/S32644X696260Y3052060sS1_D_vh_20170105_0092_A_mtfil_amp.tif  \n",
      "  inflating: time_series/S32644X696260Y3052060sS1-EBD/S32644X696260Y3052060sS1_D_vh_mtfil/S32644X696260Y3052060sS1_D_vh_20170117_0092_A_mtfil_amp.tif  \n",
      "  inflating: time_series/S32644X696260Y3052060sS1-EBD/S32644X696260Y3052060sS1_D_vh_mtfil/S32644X696260Y3052060sS1_D_vh_20170129_0092_A_mtfil_amp.tif  \n",
      "  inflating: time_series/S32644X696260Y3052060sS1-EBD/S32644X696260Y3052060sS1_D_vh_mtfil/S32644X696260Y3052060sS1_D_vh_20170210_0092_A_mtfil_amp.tif  \n",
      "  inflating: time_series/S32644X696260Y3052060sS1-EBD/S32644X696260Y3052060sS1_D_vh_mtfil/S32644X696260Y3052060sS1_D_vh_20170222_0092_A_mtfil_amp.tif  \n",
      "  inflating: time_series/S32644X696260Y3052060sS1-EBD/S32644X696260Y3052060sS1_D_vh_mtfil/S32644X696260Y3052060sS1_D_vh_20170306_0092_A_mtfil_amp.tif  \n",
      "  inflating: time_series/S32644X696260Y3052060sS1-EBD/S32644X696260Y3052060sS1_D_vh_mtfil/S32644X696260Y3052060sS1_D_vh_20170318_0092_A_mtfil_amp.tif  \n",
      "  inflating: time_series/S32644X696260Y3052060sS1-EBD/S32644X696260Y3052060sS1_D_vh_mtfil/S32644X696260Y3052060sS1_D_vh_20170330_0092_A_mtfil_amp.tif  \n",
      "  inflating: time_series/S32644X696260Y3052060sS1-EBD/S32644X696260Y3052060sS1_D_vh_mtfil/S32644X696260Y3052060sS1_D_vh_20170411_0092_A_mtfil_amp.tif  \n"
     ]
    },
    {
     "name": "stdout",
     "output_type": "stream",
     "text": [
      "  inflating: time_series/S32644X696260Y3052060sS1-EBD/S32644X696260Y3052060sS1_D_vh_mtfil/S32644X696260Y3052060sS1_D_vh_20170505_0092_A_mtfil_amp.tif  \n",
      "  inflating: time_series/S32644X696260Y3052060sS1-EBD/S32644X696260Y3052060sS1_D_vh_mtfil/S32644X696260Y3052060sS1_D_vh_20170517_0092_A_mtfil_amp.tif  \n",
      "  inflating: time_series/S32644X696260Y3052060sS1-EBD/S32644X696260Y3052060sS1_D_vh_mtfil/S32644X696260Y3052060sS1_D_vh_20170529_0092_A_mtfil_amp.tif  \n",
      "  inflating: time_series/S32644X696260Y3052060sS1-EBD/S32644X696260Y3052060sS1_D_vh_mtfil/S32644X696260Y3052060sS1_D_vh_20170610_0092_A_mtfil_amp.tif  \n",
      "  inflating: time_series/S32644X696260Y3052060sS1-EBD/S32644X696260Y3052060sS1_D_vh_mtfil/S32644X696260Y3052060sS1_D_vh_20170622_0092_A_mtfil_amp.tif  \n",
      "  inflating: time_series/S32644X696260Y3052060sS1-EBD/S32644X696260Y3052060sS1_D_vh_mtfil/S32644X696260Y3052060sS1_D_vh_20170704_0092_A_mtfil_amp.tif  \n",
      "  inflating: time_series/S32644X696260Y3052060sS1-EBD/S32644X696260Y3052060sS1_D_vh_mtfil/S32644X696260Y3052060sS1_D_vh_20170716_0092_A_mtfil_amp.tif  \n",
      "  inflating: time_series/S32644X696260Y3052060sS1-EBD/S32644X696260Y3052060sS1_D_vh_mtfil/S32644X696260Y3052060sS1_D_vh_20170728_0092_A_mtfil_amp.tif  \n",
      "  inflating: time_series/S32644X696260Y3052060sS1-EBD/S32644X696260Y3052060sS1_D_vh_mtfil/S32644X696260Y3052060sS1_D_vh_20170809_0092_A_mtfil_amp.tif  \n",
      "  inflating: time_series/S32644X696260Y3052060sS1-EBD/S32644X696260Y3052060sS1_D_vh_mtfil/S32644X696260Y3052060sS1_D_vh_20170821_0092_A_mtfil_amp.tif  \n",
      "  inflating: time_series/S32644X696260Y3052060sS1-EBD/S32644X696260Y3052060sS1_D_vh_mtfil/S32644X696260Y3052060sS1_D_vh_20170902_0092_A_mtfil_amp.tif  \n",
      "  inflating: time_series/S32644X696260Y3052060sS1-EBD/S32644X696260Y3052060sS1_D_vh_mtfil/S32644X696260Y3052060sS1_D_vh_20170914_0092_A_mtfil_amp.tif  \n",
      "  inflating: time_series/S32644X696260Y3052060sS1-EBD/S32644X696260Y3052060sS1_D_vh_mtfil/S32644X696260Y3052060sS1_D_vh_20170926_0092_A_mtfil_amp.tif  \n",
      "  inflating: time_series/S32644X696260Y3052060sS1-EBD/S32644X696260Y3052060sS1_D_vh_mtfil/S32644X696260Y3052060sS1_D_vh_20171008_0092_A_mtfil_amp.tif  \n",
      "  inflating: time_series/S32644X696260Y3052060sS1-EBD/S32644X696260Y3052060sS1_D_vh_mtfil/S32644X696260Y3052060sS1_D_vh_20171020_0092_A_mtfil_amp.tif  \n",
      "  inflating: time_series/S32644X696260Y3052060sS1-EBD/S32644X696260Y3052060sS1_D_vh_mtfil/S32644X696260Y3052060sS1_D_vh_20171101_0092_A_mtfil_amp.tif  \n",
      "  inflating: time_series/S32644X696260Y3052060sS1-EBD/S32644X696260Y3052060sS1_D_vh_mtfil/S32644X696260Y3052060sS1_D_vh_20171113_0092_A_mtfil_amp.tif  \n",
      "  inflating: time_series/S32644X696260Y3052060sS1-EBD/S32644X696260Y3052060sS1_D_vh_mtfil/S32644X696260Y3052060sS1_D_vh_20171125_0092_A_mtfil_amp.tif  \n",
      "  inflating: time_series/S32644X696260Y3052060sS1-EBD/S32644X696260Y3052060sS1_D_vh_mtfil/S32644X696260Y3052060sS1_D_vh_20171207_0092_A_mtfil_amp.tif  \n",
      "   creating: time_series/S32644X696260Y3052060sS1-EBD/S32644X696260Y3052060sS1_D_vh_mtfil_tsmetrics/\n",
      "  inflating: time_series/S32644X696260Y3052060sS1-EBD/S32644X696260Y3052060sS1_D_vh_mtfil_tsmetrics.vrt  \n",
      "  inflating: time_series/S32644X696260Y3052060sS1-EBD/S32644X696260Y3052060sS1_D_vh_mtfil_tsmetrics/S32644X696260Y3052060sS1_D_vh_mtfil_tsmetrics_count.tif  \n",
      "  inflating: time_series/S32644X696260Y3052060sS1-EBD/S32644X696260Y3052060sS1_D_vh_mtfil_tsmetrics/S32644X696260Y3052060sS1_D_vh_mtfil_tsmetrics_cov.tif  \n",
      "  inflating: time_series/S32644X696260Y3052060sS1-EBD/S32644X696260Y3052060sS1_D_vh_mtfil_tsmetrics/S32644X696260Y3052060sS1_D_vh_mtfil_tsmetrics_max.tif  \n",
      "  inflating: time_series/S32644X696260Y3052060sS1-EBD/S32644X696260Y3052060sS1_D_vh_mtfil_tsmetrics/S32644X696260Y3052060sS1_D_vh_mtfil_tsmetrics_mean.tif  \n",
      "  inflating: time_series/S32644X696260Y3052060sS1-EBD/S32644X696260Y3052060sS1_D_vh_mtfil_tsmetrics/S32644X696260Y3052060sS1_D_vh_mtfil_tsmetrics_min.tif  \n",
      "  inflating: time_series/S32644X696260Y3052060sS1-EBD/S32644X696260Y3052060sS1_D_vh_mtfil_tsmetrics/S32644X696260Y3052060sS1_D_vh_mtfil_tsmetrics_range.tif  \n",
      "  inflating: time_series/S32644X696260Y3052060sS1-EBD/S32644X696260Y3052060sS1_D_vh_mtfil_tsmetrics/S32644X696260Y3052060sS1_D_vh_mtfil_tsmetrics_stddev.tif  \n",
      "  inflating: time_series/S32644X696260Y3052060sS1-EBD/S32644X696260Y3052060sS1_D_vv_0092_A_mtfil.dates  \n",
      "  inflating: time_series/S32644X696260Y3052060sS1-EBD/S32644X696260Y3052060sS1_D_vv_0092_A_mtfil.vrt  \n",
      "  inflating: time_series/S32644X696260Y3052060sS1-EBD/S32644X696260Y3052060sS1_D_vv_0092_B_mtfil.dates  \n",
      "  inflating: time_series/S32644X696260Y3052060sS1-EBD/S32644X696260Y3052060sS1_D_vv_0092_B_mtfil.vrt  \n",
      "  inflating: time_series/S32644X696260Y3052060sS1-EBD/S32644X696260Y3052060sS1_D_vv_0092_mtfil.dates  \n",
      "  inflating: time_series/S32644X696260Y3052060sS1-EBD/S32644X696260Y3052060sS1_D_vv_0092_mtfil.vrt  \n",
      "  inflating: time_series/S32644X696260Y3052060sS1-EBD/S32644X696260Y3052060sS1_D_vv_0092_mtfil_thresholds.tif  \n",
      "   creating: time_series/S32644X696260Y3052060sS1-EBD/S32644X696260Y3052060sS1_D_vv_0092_mtfil_tsmetrics2/\n",
      "  inflating: time_series/S32644X696260Y3052060sS1-EBD/S32644X696260Y3052060sS1_D_vv_0092_mtfil_tsmetrics2.vrt  \n",
      "  inflating: time_series/S32644X696260Y3052060sS1-EBD/S32644X696260Y3052060sS1_D_vv_0092_mtfil_tsmetrics2/S32644X696260Y3052060sS1_D_vv_0092_mtfil_cov.tif  \n",
      "  inflating: time_series/S32644X696260Y3052060sS1-EBD/S32644X696260Y3052060sS1_D_vv_0092_mtfil_tsmetrics2/S32644X696260Y3052060sS1_D_vv_0092_mtfil_max.tif  \n",
      "  inflating: time_series/S32644X696260Y3052060sS1-EBD/S32644X696260Y3052060sS1_D_vv_0092_mtfil_tsmetrics2/S32644X696260Y3052060sS1_D_vv_0092_mtfil_mean.tif  \n",
      "  inflating: time_series/S32644X696260Y3052060sS1-EBD/S32644X696260Y3052060sS1_D_vv_0092_mtfil_tsmetrics2/S32644X696260Y3052060sS1_D_vv_0092_mtfil_median.tif  \n",
      "  inflating: time_series/S32644X696260Y3052060sS1-EBD/S32644X696260Y3052060sS1_D_vv_0092_mtfil_tsmetrics2/S32644X696260Y3052060sS1_D_vv_0092_mtfil_min.tif  \n",
      "  inflating: time_series/S32644X696260Y3052060sS1-EBD/S32644X696260Y3052060sS1_D_vv_0092_mtfil_tsmetrics2/S32644X696260Y3052060sS1_D_vv_0092_mtfil_p5.tif  \n",
      "  inflating: time_series/S32644X696260Y3052060sS1-EBD/S32644X696260Y3052060sS1_D_vv_0092_mtfil_tsmetrics2/S32644X696260Y3052060sS1_D_vv_0092_mtfil_p95.tif  \n",
      "  inflating: time_series/S32644X696260Y3052060sS1-EBD/S32644X696260Y3052060sS1_D_vv_0092_mtfil_tsmetrics2/S32644X696260Y3052060sS1_D_vv_0092_mtfil_prange.tif  \n",
      "  inflating: time_series/S32644X696260Y3052060sS1-EBD/S32644X696260Y3052060sS1_D_vv_0092_mtfil_tsmetrics2/S32644X696260Y3052060sS1_D_vv_0092_mtfil_range.tif  \n",
      "  inflating: time_series/S32644X696260Y3052060sS1-EBD/S32644X696260Y3052060sS1_D_vv_0092_mtfil_tsmetrics2/S32644X696260Y3052060sS1_D_vv_0092_mtfil_var.tif  \n",
      "  inflating: time_series/S32644X696260Y3052060sS1-EBD/S32644X696260Y3052060sS1_D_vv_browse.dates  \n",
      "  inflating: time_series/S32644X696260Y3052060sS1-EBD/S32644X696260Y3052060sS1_D_vv_browse.tif  \n",
      "   creating: time_series/S32644X696260Y3052060sS1-EBD/S32644X696260Y3052060sS1_D_vv_mtfil/\n",
      "  inflating: time_series/S32644X696260Y3052060sS1-EBD/S32644X696260Y3052060sS1_D_vv_mtfil.dates  \n",
      "  inflating: time_series/S32644X696260Y3052060sS1-EBD/S32644X696260Y3052060sS1_D_vv_mtfil.vrt  \n",
      "  inflating: time_series/S32644X696260Y3052060sS1-EBD/S32644X696260Y3052060sS1_D_vv_mtfil/S32644X696260Y3052060sS1_D_vv_20141024_0092_A_mtfil_amp.tif  \n",
      "  inflating: time_series/S32644X696260Y3052060sS1-EBD/S32644X696260Y3052060sS1_D_vv_mtfil/S32644X696260Y3052060sS1_D_vv_20141117_0092_A_mtfil_amp.tif  \n",
      "  inflating: time_series/S32644X696260Y3052060sS1-EBD/S32644X696260Y3052060sS1_D_vv_mtfil/S32644X696260Y3052060sS1_D_vv_20141211_0092_A_mtfil_amp.tif  \n",
      "  inflating: time_series/S32644X696260Y3052060sS1-EBD/S32644X696260Y3052060sS1_D_vv_mtfil/S32644X696260Y3052060sS1_D_vv_20150104_0092_A_mtfil_amp.tif  \n",
      "  inflating: time_series/S32644X696260Y3052060sS1-EBD/S32644X696260Y3052060sS1_D_vv_mtfil/S32644X696260Y3052060sS1_D_vv_20150221_0092_A_mtfil_amp.tif  \n",
      "  inflating: time_series/S32644X696260Y3052060sS1-EBD/S32644X696260Y3052060sS1_D_vv_mtfil/S32644X696260Y3052060sS1_D_vv_20150305_0092_A_mtfil_amp.tif  \n"
     ]
    },
    {
     "name": "stdout",
     "output_type": "stream",
     "text": [
      "  inflating: time_series/S32644X696260Y3052060sS1-EBD/S32644X696260Y3052060sS1_D_vv_mtfil/S32644X696260Y3052060sS1_D_vv_20150329_0092_A_mtfil_amp.tif  \n",
      "  inflating: time_series/S32644X696260Y3052060sS1-EBD/S32644X696260Y3052060sS1_D_vv_mtfil/S32644X696260Y3052060sS1_D_vv_20150422_0092_A_mtfil_amp.tif  \n",
      "  inflating: time_series/S32644X696260Y3052060sS1-EBD/S32644X696260Y3052060sS1_D_vv_mtfil/S32644X696260Y3052060sS1_D_vv_20150504_0092_A_mtfil_amp.tif  \n",
      "  inflating: time_series/S32644X696260Y3052060sS1-EBD/S32644X696260Y3052060sS1_D_vv_mtfil/S32644X696260Y3052060sS1_D_vv_20150516_0092_A_mtfil_amp.tif  \n",
      "  inflating: time_series/S32644X696260Y3052060sS1-EBD/S32644X696260Y3052060sS1_D_vv_mtfil/S32644X696260Y3052060sS1_D_vv_20150528_0092_A_mtfil_amp.tif  \n",
      "  inflating: time_series/S32644X696260Y3052060sS1-EBD/S32644X696260Y3052060sS1_D_vv_mtfil/S32644X696260Y3052060sS1_D_vv_20150609_0092_A_mtfil_amp.tif  \n",
      "  inflating: time_series/S32644X696260Y3052060sS1-EBD/S32644X696260Y3052060sS1_D_vv_mtfil/S32644X696260Y3052060sS1_D_vv_20150703_0092_A_mtfil_amp.tif  \n",
      "  inflating: time_series/S32644X696260Y3052060sS1-EBD/S32644X696260Y3052060sS1_D_vv_mtfil/S32644X696260Y3052060sS1_D_vv_20150727_0092_A_mtfil_amp.tif  \n",
      "  inflating: time_series/S32644X696260Y3052060sS1-EBD/S32644X696260Y3052060sS1_D_vv_mtfil/S32644X696260Y3052060sS1_D_vv_20150820_0092_A_mtfil_amp.tif  \n",
      "  inflating: time_series/S32644X696260Y3052060sS1-EBD/S32644X696260Y3052060sS1_D_vv_mtfil/S32644X696260Y3052060sS1_D_vv_20150913_0092_A_mtfil_amp.tif  \n",
      "  inflating: time_series/S32644X696260Y3052060sS1-EBD/S32644X696260Y3052060sS1_D_vv_mtfil/S32644X696260Y3052060sS1_D_vv_20151019_0092_A_mtfil_amp.tif  \n",
      "  inflating: time_series/S32644X696260Y3052060sS1-EBD/S32644X696260Y3052060sS1_D_vv_mtfil/S32644X696260Y3052060sS1_D_vv_20151112_0092_A_mtfil_amp.tif  \n",
      "  inflating: time_series/S32644X696260Y3052060sS1-EBD/S32644X696260Y3052060sS1_D_vv_mtfil/S32644X696260Y3052060sS1_D_vv_20160123_0092_A_mtfil_amp.tif  \n",
      "  inflating: time_series/S32644X696260Y3052060sS1-EBD/S32644X696260Y3052060sS1_D_vv_mtfil/S32644X696260Y3052060sS1_D_vv_20160216_0092_A_mtfil_amp.tif  \n",
      "  inflating: time_series/S32644X696260Y3052060sS1-EBD/S32644X696260Y3052060sS1_D_vv_mtfil/S32644X696260Y3052060sS1_D_vv_20160311_0092_A_mtfil_amp.tif  \n",
      "  inflating: time_series/S32644X696260Y3052060sS1-EBD/S32644X696260Y3052060sS1_D_vv_mtfil/S32644X696260Y3052060sS1_D_vv_20160404_0092_A_mtfil_amp.tif  \n",
      "  inflating: time_series/S32644X696260Y3052060sS1-EBD/S32644X696260Y3052060sS1_D_vv_mtfil/S32644X696260Y3052060sS1_D_vv_20160428_0092_A_mtfil_amp.tif  \n",
      "  inflating: time_series/S32644X696260Y3052060sS1-EBD/S32644X696260Y3052060sS1_D_vv_mtfil/S32644X696260Y3052060sS1_D_vv_20160522_0092_A_mtfil_amp.tif  \n",
      "  inflating: time_series/S32644X696260Y3052060sS1-EBD/S32644X696260Y3052060sS1_D_vv_mtfil/S32644X696260Y3052060sS1_D_vv_20160615_0092_A_mtfil_amp.tif  \n",
      "  inflating: time_series/S32644X696260Y3052060sS1-EBD/S32644X696260Y3052060sS1_D_vv_mtfil/S32644X696260Y3052060sS1_D_vv_20160802_0092_A_mtfil_amp.tif  \n",
      "  inflating: time_series/S32644X696260Y3052060sS1-EBD/S32644X696260Y3052060sS1_D_vv_mtfil/S32644X696260Y3052060sS1_D_vv_20160826_0092_A_mtfil_amp.tif  \n",
      "  inflating: time_series/S32644X696260Y3052060sS1-EBD/S32644X696260Y3052060sS1_D_vv_mtfil/S32644X696260Y3052060sS1_D_vv_20160919_0092_A_mtfil_amp.tif  \n",
      "  inflating: time_series/S32644X696260Y3052060sS1-EBD/S32644X696260Y3052060sS1_D_vv_mtfil/S32644X696260Y3052060sS1_D_vv_20161001_0092_A_mtfil_amp.tif  \n",
      "  inflating: time_series/S32644X696260Y3052060sS1-EBD/S32644X696260Y3052060sS1_D_vv_mtfil/S32644X696260Y3052060sS1_D_vv_20161007_0092_B_mtfil_amp.tif  \n",
      "  inflating: time_series/S32644X696260Y3052060sS1-EBD/S32644X696260Y3052060sS1_D_vv_mtfil/S32644X696260Y3052060sS1_D_vv_20161013_0092_A_mtfil_amp.tif  \n",
      "  inflating: time_series/S32644X696260Y3052060sS1-EBD/S32644X696260Y3052060sS1_D_vv_mtfil/S32644X696260Y3052060sS1_D_vv_20161025_0092_A_mtfil_amp.tif  \n",
      "  inflating: time_series/S32644X696260Y3052060sS1-EBD/S32644X696260Y3052060sS1_D_vv_mtfil/S32644X696260Y3052060sS1_D_vv_20161031_0092_B_mtfil_amp.tif  \n",
      "  inflating: time_series/S32644X696260Y3052060sS1-EBD/S32644X696260Y3052060sS1_D_vv_mtfil/S32644X696260Y3052060sS1_D_vv_20161106_0092_A_mtfil_amp.tif  \n",
      "  inflating: time_series/S32644X696260Y3052060sS1-EBD/S32644X696260Y3052060sS1_D_vv_mtfil/S32644X696260Y3052060sS1_D_vv_20161118_0092_A_mtfil_amp.tif  \n",
      "  inflating: time_series/S32644X696260Y3052060sS1-EBD/S32644X696260Y3052060sS1_D_vv_mtfil/S32644X696260Y3052060sS1_D_vv_20161124_0092_B_mtfil_amp.tif  \n",
      "  inflating: time_series/S32644X696260Y3052060sS1-EBD/S32644X696260Y3052060sS1_D_vv_mtfil/S32644X696260Y3052060sS1_D_vv_20161130_0092_A_mtfil_amp.tif  \n",
      "  inflating: time_series/S32644X696260Y3052060sS1-EBD/S32644X696260Y3052060sS1_D_vv_mtfil/S32644X696260Y3052060sS1_D_vv_20161212_0092_A_mtfil_amp.tif  \n",
      "  inflating: time_series/S32644X696260Y3052060sS1-EBD/S32644X696260Y3052060sS1_D_vv_mtfil/S32644X696260Y3052060sS1_D_vv_20161218_0092_B_mtfil_amp.tif  \n",
      "  inflating: time_series/S32644X696260Y3052060sS1-EBD/S32644X696260Y3052060sS1_D_vv_mtfil/S32644X696260Y3052060sS1_D_vv_20161224_0092_A_mtfil_amp.tif  \n",
      "  inflating: time_series/S32644X696260Y3052060sS1-EBD/S32644X696260Y3052060sS1_D_vv_mtfil/S32644X696260Y3052060sS1_D_vv_20170105_0092_A_mtfil_amp.tif  \n",
      "  inflating: time_series/S32644X696260Y3052060sS1-EBD/S32644X696260Y3052060sS1_D_vv_mtfil/S32644X696260Y3052060sS1_D_vv_20170111_0092_B_mtfil_amp.tif  \n",
      "  inflating: time_series/S32644X696260Y3052060sS1-EBD/S32644X696260Y3052060sS1_D_vv_mtfil/S32644X696260Y3052060sS1_D_vv_20170117_0092_A_mtfil_amp.tif  \n",
      "  inflating: time_series/S32644X696260Y3052060sS1-EBD/S32644X696260Y3052060sS1_D_vv_mtfil/S32644X696260Y3052060sS1_D_vv_20170129_0092_A_mtfil_amp.tif  \n",
      "  inflating: time_series/S32644X696260Y3052060sS1-EBD/S32644X696260Y3052060sS1_D_vv_mtfil/S32644X696260Y3052060sS1_D_vv_20170204_0092_B_mtfil_amp.tif  \n",
      "  inflating: time_series/S32644X696260Y3052060sS1-EBD/S32644X696260Y3052060sS1_D_vv_mtfil/S32644X696260Y3052060sS1_D_vv_20170210_0092_A_mtfil_amp.tif  \n",
      "  inflating: time_series/S32644X696260Y3052060sS1-EBD/S32644X696260Y3052060sS1_D_vv_mtfil/S32644X696260Y3052060sS1_D_vv_20170222_0092_A_mtfil_amp.tif  \n",
      "  inflating: time_series/S32644X696260Y3052060sS1-EBD/S32644X696260Y3052060sS1_D_vv_mtfil/S32644X696260Y3052060sS1_D_vv_20170306_0092_A_mtfil_amp.tif  \n",
      "  inflating: time_series/S32644X696260Y3052060sS1-EBD/S32644X696260Y3052060sS1_D_vv_mtfil/S32644X696260Y3052060sS1_D_vv_20170318_0092_A_mtfil_amp.tif  \n",
      "  inflating: time_series/S32644X696260Y3052060sS1-EBD/S32644X696260Y3052060sS1_D_vv_mtfil/S32644X696260Y3052060sS1_D_vv_20170330_0092_A_mtfil_amp.tif  \n",
      "  inflating: time_series/S32644X696260Y3052060sS1-EBD/S32644X696260Y3052060sS1_D_vv_mtfil/S32644X696260Y3052060sS1_D_vv_20170411_0092_A_mtfil_amp.tif  \n",
      "  inflating: time_series/S32644X696260Y3052060sS1-EBD/S32644X696260Y3052060sS1_D_vv_mtfil/S32644X696260Y3052060sS1_D_vv_20170505_0092_A_mtfil_amp.tif  \n",
      "  inflating: time_series/S32644X696260Y3052060sS1-EBD/S32644X696260Y3052060sS1_D_vv_mtfil/S32644X696260Y3052060sS1_D_vv_20170517_0092_A_mtfil_amp.tif  \n",
      "  inflating: time_series/S32644X696260Y3052060sS1-EBD/S32644X696260Y3052060sS1_D_vv_mtfil/S32644X696260Y3052060sS1_D_vv_20170529_0092_A_mtfil_amp.tif  \n",
      "  inflating: time_series/S32644X696260Y3052060sS1-EBD/S32644X696260Y3052060sS1_D_vv_mtfil/S32644X696260Y3052060sS1_D_vv_20170610_0092_A_mtfil_amp.tif  \n",
      "  inflating: time_series/S32644X696260Y3052060sS1-EBD/S32644X696260Y3052060sS1_D_vv_mtfil/S32644X696260Y3052060sS1_D_vv_20170622_0092_A_mtfil_amp.tif  \n",
      "  inflating: time_series/S32644X696260Y3052060sS1-EBD/S32644X696260Y3052060sS1_D_vv_mtfil/S32644X696260Y3052060sS1_D_vv_20170704_0092_A_mtfil_amp.tif  \n",
      "  inflating: time_series/S32644X696260Y3052060sS1-EBD/S32644X696260Y3052060sS1_D_vv_mtfil/S32644X696260Y3052060sS1_D_vv_20170716_0092_A_mtfil_amp.tif  \n",
      "  inflating: time_series/S32644X696260Y3052060sS1-EBD/S32644X696260Y3052060sS1_D_vv_mtfil/S32644X696260Y3052060sS1_D_vv_20170728_0092_A_mtfil_amp.tif  \n"
     ]
    },
    {
     "name": "stdout",
     "output_type": "stream",
     "text": [
      "  inflating: time_series/S32644X696260Y3052060sS1-EBD/S32644X696260Y3052060sS1_D_vv_mtfil/S32644X696260Y3052060sS1_D_vv_20170809_0092_A_mtfil_amp.tif  \n",
      "  inflating: time_series/S32644X696260Y3052060sS1-EBD/S32644X696260Y3052060sS1_D_vv_mtfil/S32644X696260Y3052060sS1_D_vv_20170821_0092_A_mtfil_amp.tif  \n",
      "  inflating: time_series/S32644X696260Y3052060sS1-EBD/S32644X696260Y3052060sS1_D_vv_mtfil/S32644X696260Y3052060sS1_D_vv_20170902_0092_A_mtfil_amp.tif  \n",
      "  inflating: time_series/S32644X696260Y3052060sS1-EBD/S32644X696260Y3052060sS1_D_vv_mtfil/S32644X696260Y3052060sS1_D_vv_20170914_0092_A_mtfil_amp.tif  \n",
      "  inflating: time_series/S32644X696260Y3052060sS1-EBD/S32644X696260Y3052060sS1_D_vv_mtfil/S32644X696260Y3052060sS1_D_vv_20170926_0092_A_mtfil_amp.tif  \n",
      "  inflating: time_series/S32644X696260Y3052060sS1-EBD/S32644X696260Y3052060sS1_D_vv_mtfil/S32644X696260Y3052060sS1_D_vv_20171008_0092_A_mtfil_amp.tif  \n",
      "  inflating: time_series/S32644X696260Y3052060sS1-EBD/S32644X696260Y3052060sS1_D_vv_mtfil/S32644X696260Y3052060sS1_D_vv_20171020_0092_A_mtfil_amp.tif  \n",
      "  inflating: time_series/S32644X696260Y3052060sS1-EBD/S32644X696260Y3052060sS1_D_vv_mtfil/S32644X696260Y3052060sS1_D_vv_20171101_0092_A_mtfil_amp.tif  \n",
      "  inflating: time_series/S32644X696260Y3052060sS1-EBD/S32644X696260Y3052060sS1_D_vv_mtfil/S32644X696260Y3052060sS1_D_vv_20171113_0092_A_mtfil_amp.tif  \n",
      "  inflating: time_series/S32644X696260Y3052060sS1-EBD/S32644X696260Y3052060sS1_D_vv_mtfil/S32644X696260Y3052060sS1_D_vv_20171125_0092_A_mtfil_amp.tif  \n",
      "  inflating: time_series/S32644X696260Y3052060sS1-EBD/S32644X696260Y3052060sS1_D_vv_mtfil/S32644X696260Y3052060sS1_D_vv_20171207_0092_A_mtfil_amp.tif  \n",
      "   creating: time_series/S32644X696260Y3052060sS1-EBD/S32644X696260Y3052060sS1_D_vv_mtfil_tsmetrics/\n",
      "  inflating: time_series/S32644X696260Y3052060sS1-EBD/S32644X696260Y3052060sS1_D_vv_mtfil_tsmetrics.vrt  \n",
      "  inflating: time_series/S32644X696260Y3052060sS1-EBD/S32644X696260Y3052060sS1_D_vv_mtfil_tsmetrics/S32644X696260Y3052060sS1_D_vv_mtfil_tsmetrics_count.tif  \n",
      "  inflating: time_series/S32644X696260Y3052060sS1-EBD/S32644X696260Y3052060sS1_D_vv_mtfil_tsmetrics/S32644X696260Y3052060sS1_D_vv_mtfil_tsmetrics_cov.tif  \n",
      "  inflating: time_series/S32644X696260Y3052060sS1-EBD/S32644X696260Y3052060sS1_D_vv_mtfil_tsmetrics/S32644X696260Y3052060sS1_D_vv_mtfil_tsmetrics_max.tif  \n",
      "  inflating: time_series/S32644X696260Y3052060sS1-EBD/S32644X696260Y3052060sS1_D_vv_mtfil_tsmetrics/S32644X696260Y3052060sS1_D_vv_mtfil_tsmetrics_mean.tif  \n",
      "  inflating: time_series/S32644X696260Y3052060sS1-EBD/S32644X696260Y3052060sS1_D_vv_mtfil_tsmetrics/S32644X696260Y3052060sS1_D_vv_mtfil_tsmetrics_min.tif  \n",
      "  inflating: time_series/S32644X696260Y3052060sS1-EBD/S32644X696260Y3052060sS1_D_vv_mtfil_tsmetrics/S32644X696260Y3052060sS1_D_vv_mtfil_tsmetrics_range.tif  \n",
      "  inflating: time_series/S32644X696260Y3052060sS1-EBD/S32644X696260Y3052060sS1_D_vv_mtfil_tsmetrics/S32644X696260Y3052060sS1_D_vv_mtfil_tsmetrics_stddev.tif  \n",
      "   creating: time_series/S32644X696260Y3052060sS1-EBD/S32644X696260Y3052060sS1_inc/\n",
      "  inflating: time_series/S32644X696260Y3052060sS1-EBD/S32644X696260Y3052060sS1_inc/S32644X696260Y3052060sS1_A_inc_20141004_0158_A.tif  \n",
      "  inflating: time_series/S32644X696260Y3052060sS1-EBD/S32644X696260Y3052060sS1_inc/S32644X696260Y3052060sS1_A_inc_20141028_0158_A.tif  \n",
      "  inflating: time_series/S32644X696260Y3052060sS1-EBD/S32644X696260Y3052060sS1_inc/S32644X696260Y3052060sS1_A_inc_20141121_0158_A.tif  \n",
      "  inflating: time_series/S32644X696260Y3052060sS1-EBD/S32644X696260Y3052060sS1_inc/S32644X696260Y3052060sS1_A_inc_20141215_0158_A.tif  \n",
      "  inflating: time_series/S32644X696260Y3052060sS1-EBD/S32644X696260Y3052060sS1_inc/S32644X696260Y3052060sS1_A_inc_20150108_0158_A.tif  \n",
      "  inflating: time_series/S32644X696260Y3052060sS1-EBD/S32644X696260Y3052060sS1_inc/S32644X696260Y3052060sS1_A_inc_20150225_0158_A.tif  \n",
      "  inflating: time_series/S32644X696260Y3052060sS1-EBD/S32644X696260Y3052060sS1_inc/S32644X696260Y3052060sS1_A_inc_20150321_0158_A.tif  \n",
      "  inflating: time_series/S32644X696260Y3052060sS1-EBD/S32644X696260Y3052060sS1_inc/S32644X696260Y3052060sS1_A_inc_20150508_0158_A.tif  \n",
      "  inflating: time_series/S32644X696260Y3052060sS1-EBD/S32644X696260Y3052060sS1_inc/S32644X696260Y3052060sS1_A_inc_20150520_0158_A.tif  \n",
      "  inflating: time_series/S32644X696260Y3052060sS1-EBD/S32644X696260Y3052060sS1_inc/S32644X696260Y3052060sS1_A_inc_20150601_0158_A.tif  \n",
      "  inflating: time_series/S32644X696260Y3052060sS1-EBD/S32644X696260Y3052060sS1_inc/S32644X696260Y3052060sS1_A_inc_20150625_0158_A.tif  \n",
      "  inflating: time_series/S32644X696260Y3052060sS1-EBD/S32644X696260Y3052060sS1_inc/S32644X696260Y3052060sS1_A_inc_20150707_0158_A.tif  \n",
      "  inflating: time_series/S32644X696260Y3052060sS1-EBD/S32644X696260Y3052060sS1_inc/S32644X696260Y3052060sS1_A_inc_20150719_0158_A.tif  \n",
      "  inflating: time_series/S32644X696260Y3052060sS1-EBD/S32644X696260Y3052060sS1_inc/S32644X696260Y3052060sS1_A_inc_20150731_0158_A.tif  \n",
      "  inflating: time_series/S32644X696260Y3052060sS1-EBD/S32644X696260Y3052060sS1_inc/S32644X696260Y3052060sS1_A_inc_20150812_0158_A.tif  \n",
      "  inflating: time_series/S32644X696260Y3052060sS1-EBD/S32644X696260Y3052060sS1_inc/S32644X696260Y3052060sS1_A_inc_20150905_0158_A.tif  \n",
      "  inflating: time_series/S32644X696260Y3052060sS1-EBD/S32644X696260Y3052060sS1_inc/S32644X696260Y3052060sS1_A_inc_20151011_0158_A.tif  \n",
      "  inflating: time_series/S32644X696260Y3052060sS1-EBD/S32644X696260Y3052060sS1_inc/S32644X696260Y3052060sS1_A_inc_20151104_0158_A.tif  \n",
      "  inflating: time_series/S32644X696260Y3052060sS1-EBD/S32644X696260Y3052060sS1_inc/S32644X696260Y3052060sS1_A_inc_20151128_0158_A.tif  \n",
      "  inflating: time_series/S32644X696260Y3052060sS1-EBD/S32644X696260Y3052060sS1_inc/S32644X696260Y3052060sS1_A_inc_20151222_0158_A.tif  \n",
      "  inflating: time_series/S32644X696260Y3052060sS1-EBD/S32644X696260Y3052060sS1_inc/S32644X696260Y3052060sS1_A_inc_20160115_0158_A.tif  \n",
      "  inflating: time_series/S32644X696260Y3052060sS1-EBD/S32644X696260Y3052060sS1_inc/S32644X696260Y3052060sS1_A_inc_20160303_0158_A.tif  \n",
      "  inflating: time_series/S32644X696260Y3052060sS1-EBD/S32644X696260Y3052060sS1_inc/S32644X696260Y3052060sS1_A_inc_20160327_0158_A.tif  \n",
      "  inflating: time_series/S32644X696260Y3052060sS1-EBD/S32644X696260Y3052060sS1_inc/S32644X696260Y3052060sS1_A_inc_20160420_0158_A.tif  \n",
      "  inflating: time_series/S32644X696260Y3052060sS1-EBD/S32644X696260Y3052060sS1_inc/S32644X696260Y3052060sS1_A_inc_20160514_0158_A.tif  \n",
      "  inflating: time_series/S32644X696260Y3052060sS1-EBD/S32644X696260Y3052060sS1_inc/S32644X696260Y3052060sS1_A_inc_20160607_0158_A.tif  \n",
      "  inflating: time_series/S32644X696260Y3052060sS1-EBD/S32644X696260Y3052060sS1_inc/S32644X696260Y3052060sS1_A_inc_20160701_0158_A.tif  \n",
      "  inflating: time_series/S32644X696260Y3052060sS1-EBD/S32644X696260Y3052060sS1_inc/S32644X696260Y3052060sS1_A_inc_20160725_0158_A.tif  \n",
      "  inflating: time_series/S32644X696260Y3052060sS1-EBD/S32644X696260Y3052060sS1_inc/S32644X696260Y3052060sS1_A_inc_20160818_0158_A.tif  \n",
      "  inflating: time_series/S32644X696260Y3052060sS1-EBD/S32644X696260Y3052060sS1_inc/S32644X696260Y3052060sS1_A_inc_20160911_0158_A.tif  \n",
      "  inflating: time_series/S32644X696260Y3052060sS1-EBD/S32644X696260Y3052060sS1_inc/S32644X696260Y3052060sS1_A_inc_20161005_0158_A.tif  \n",
      "  inflating: time_series/S32644X696260Y3052060sS1-EBD/S32644X696260Y3052060sS1_inc/S32644X696260Y3052060sS1_A_inc_20161029_0158_A.tif  \n",
      "  inflating: time_series/S32644X696260Y3052060sS1-EBD/S32644X696260Y3052060sS1_inc/S32644X696260Y3052060sS1_A_inc_20161122_0158_A.tif  \n",
      "  inflating: time_series/S32644X696260Y3052060sS1-EBD/S32644X696260Y3052060sS1_inc/S32644X696260Y3052060sS1_A_inc_20161216_0158_A.tif  \n",
      "  inflating: time_series/S32644X696260Y3052060sS1-EBD/S32644X696260Y3052060sS1_inc/S32644X696260Y3052060sS1_A_inc_20170109_0158_A.tif  \n",
      "  inflating: time_series/S32644X696260Y3052060sS1-EBD/S32644X696260Y3052060sS1_inc/S32644X696260Y3052060sS1_A_inc_20170202_0158_A.tif  \n",
      "  inflating: time_series/S32644X696260Y3052060sS1-EBD/S32644X696260Y3052060sS1_inc/S32644X696260Y3052060sS1_A_inc_20170214_0158_A.tif  \n",
      "  inflating: time_series/S32644X696260Y3052060sS1-EBD/S32644X696260Y3052060sS1_inc/S32644X696260Y3052060sS1_A_inc_20170226_0158_A.tif  \n"
     ]
    },
    {
     "name": "stdout",
     "output_type": "stream",
     "text": [
      "  inflating: time_series/S32644X696260Y3052060sS1-EBD/S32644X696260Y3052060sS1_inc/S32644X696260Y3052060sS1_A_inc_20170310_0158_A.tif  \n",
      "  inflating: time_series/S32644X696260Y3052060sS1-EBD/S32644X696260Y3052060sS1_inc/S32644X696260Y3052060sS1_A_inc_20170322_0158_A.tif  \n",
      "  inflating: time_series/S32644X696260Y3052060sS1-EBD/S32644X696260Y3052060sS1_inc/S32644X696260Y3052060sS1_A_inc_20170403_0158_A.tif  \n",
      "  inflating: time_series/S32644X696260Y3052060sS1-EBD/S32644X696260Y3052060sS1_inc/S32644X696260Y3052060sS1_A_inc_20170415_0158_A.tif  \n",
      "  inflating: time_series/S32644X696260Y3052060sS1-EBD/S32644X696260Y3052060sS1_inc/S32644X696260Y3052060sS1_A_inc_20170427_0158_A.tif  \n",
      "  inflating: time_series/S32644X696260Y3052060sS1-EBD/S32644X696260Y3052060sS1_inc/S32644X696260Y3052060sS1_A_inc_20170509_0158_A.tif  \n",
      "  inflating: time_series/S32644X696260Y3052060sS1-EBD/S32644X696260Y3052060sS1_inc/S32644X696260Y3052060sS1_A_inc_20170521_0158_A.tif  \n",
      "  inflating: time_series/S32644X696260Y3052060sS1-EBD/S32644X696260Y3052060sS1_inc/S32644X696260Y3052060sS1_A_inc_20170602_0158_A.tif  \n",
      "  inflating: time_series/S32644X696260Y3052060sS1-EBD/S32644X696260Y3052060sS1_inc/S32644X696260Y3052060sS1_A_inc_20170614_0158_A.tif  \n",
      "  inflating: time_series/S32644X696260Y3052060sS1-EBD/S32644X696260Y3052060sS1_inc/S32644X696260Y3052060sS1_A_inc_20170626_0158_A.tif  \n",
      "  inflating: time_series/S32644X696260Y3052060sS1-EBD/S32644X696260Y3052060sS1_inc/S32644X696260Y3052060sS1_A_inc_20170708_0158_A.tif  \n",
      "  inflating: time_series/S32644X696260Y3052060sS1-EBD/S32644X696260Y3052060sS1_inc/S32644X696260Y3052060sS1_A_inc_20170720_0158_A.tif  \n",
      "  inflating: time_series/S32644X696260Y3052060sS1-EBD/S32644X696260Y3052060sS1_inc/S32644X696260Y3052060sS1_A_inc_20170801_0158_A.tif  \n",
      "  inflating: time_series/S32644X696260Y3052060sS1-EBD/S32644X696260Y3052060sS1_inc/S32644X696260Y3052060sS1_A_inc_20170813_0158_A.tif  \n",
      "  inflating: time_series/S32644X696260Y3052060sS1-EBD/S32644X696260Y3052060sS1_inc/S32644X696260Y3052060sS1_A_inc_20170825_0158_A.tif  \n",
      "  inflating: time_series/S32644X696260Y3052060sS1-EBD/S32644X696260Y3052060sS1_inc/S32644X696260Y3052060sS1_A_inc_20170906_0158_A.tif  \n",
      "  inflating: time_series/S32644X696260Y3052060sS1-EBD/S32644X696260Y3052060sS1_inc/S32644X696260Y3052060sS1_A_inc_20170918_0158_A.tif  \n",
      "  inflating: time_series/S32644X696260Y3052060sS1-EBD/S32644X696260Y3052060sS1_inc/S32644X696260Y3052060sS1_A_inc_20170930_0158_A.tif  \n",
      "  inflating: time_series/S32644X696260Y3052060sS1-EBD/S32644X696260Y3052060sS1_inc/S32644X696260Y3052060sS1_A_inc_20171012_0158_A.tif  \n",
      "  inflating: time_series/S32644X696260Y3052060sS1-EBD/S32644X696260Y3052060sS1_inc/S32644X696260Y3052060sS1_A_inc_20171024_0158_A.tif  \n",
      "  inflating: time_series/S32644X696260Y3052060sS1-EBD/S32644X696260Y3052060sS1_inc/S32644X696260Y3052060sS1_A_inc_20171105_0158_A.tif  \n",
      "  inflating: time_series/S32644X696260Y3052060sS1-EBD/S32644X696260Y3052060sS1_inc/S32644X696260Y3052060sS1_A_inc_20171117_0158_A.tif  \n",
      "  inflating: time_series/S32644X696260Y3052060sS1-EBD/S32644X696260Y3052060sS1_inc/S32644X696260Y3052060sS1_A_inc_20171129_0158_A.tif  \n",
      "  inflating: time_series/S32644X696260Y3052060sS1-EBD/S32644X696260Y3052060sS1_inc/S32644X696260Y3052060sS1_A_inc_20171211_0158_A.tif  \n",
      "  inflating: time_series/S32644X696260Y3052060sS1-EBD/S32644X696260Y3052060sS1_inc/S32644X696260Y3052060sS1_D_inc_20141024_0092_A.tif  \n",
      "  inflating: time_series/S32644X696260Y3052060sS1-EBD/S32644X696260Y3052060sS1_inc/S32644X696260Y3052060sS1_D_inc_20141117_0092_A.tif  \n",
      "  inflating: time_series/S32644X696260Y3052060sS1-EBD/S32644X696260Y3052060sS1_inc/S32644X696260Y3052060sS1_D_inc_20141211_0092_A.tif  \n",
      "  inflating: time_series/S32644X696260Y3052060sS1-EBD/S32644X696260Y3052060sS1_inc/S32644X696260Y3052060sS1_D_inc_20150104_0092_A.tif  \n",
      "  inflating: time_series/S32644X696260Y3052060sS1-EBD/S32644X696260Y3052060sS1_inc/S32644X696260Y3052060sS1_D_inc_20150221_0092_A.tif  \n",
      "  inflating: time_series/S32644X696260Y3052060sS1-EBD/S32644X696260Y3052060sS1_inc/S32644X696260Y3052060sS1_D_inc_20150305_0092_A.tif  \n",
      "  inflating: time_series/S32644X696260Y3052060sS1-EBD/S32644X696260Y3052060sS1_inc/S32644X696260Y3052060sS1_D_inc_20150329_0092_A.tif  \n",
      "  inflating: time_series/S32644X696260Y3052060sS1-EBD/S32644X696260Y3052060sS1_inc/S32644X696260Y3052060sS1_D_inc_20150422_0092_A.tif  \n",
      "  inflating: time_series/S32644X696260Y3052060sS1-EBD/S32644X696260Y3052060sS1_inc/S32644X696260Y3052060sS1_D_inc_20150504_0092_A.tif  \n",
      "  inflating: time_series/S32644X696260Y3052060sS1-EBD/S32644X696260Y3052060sS1_inc/S32644X696260Y3052060sS1_D_inc_20150516_0092_A.tif  \n",
      "  inflating: time_series/S32644X696260Y3052060sS1-EBD/S32644X696260Y3052060sS1_inc/S32644X696260Y3052060sS1_D_inc_20150528_0092_A.tif  \n",
      "  inflating: time_series/S32644X696260Y3052060sS1-EBD/S32644X696260Y3052060sS1_inc/S32644X696260Y3052060sS1_D_inc_20150609_0092_A.tif  \n",
      "  inflating: time_series/S32644X696260Y3052060sS1-EBD/S32644X696260Y3052060sS1_inc/S32644X696260Y3052060sS1_D_inc_20150703_0092_A.tif  \n",
      "  inflating: time_series/S32644X696260Y3052060sS1-EBD/S32644X696260Y3052060sS1_inc/S32644X696260Y3052060sS1_D_inc_20150727_0092_A.tif  \n",
      "  inflating: time_series/S32644X696260Y3052060sS1-EBD/S32644X696260Y3052060sS1_inc/S32644X696260Y3052060sS1_D_inc_20150820_0092_A.tif  \n",
      "  inflating: time_series/S32644X696260Y3052060sS1-EBD/S32644X696260Y3052060sS1_inc/S32644X696260Y3052060sS1_D_inc_20150913_0092_A.tif  \n",
      "  inflating: time_series/S32644X696260Y3052060sS1-EBD/S32644X696260Y3052060sS1_inc/S32644X696260Y3052060sS1_D_inc_20151019_0092_A.tif  \n",
      "  inflating: time_series/S32644X696260Y3052060sS1-EBD/S32644X696260Y3052060sS1_inc/S32644X696260Y3052060sS1_D_inc_20151112_0092_A.tif  \n",
      "  inflating: time_series/S32644X696260Y3052060sS1-EBD/S32644X696260Y3052060sS1_inc/S32644X696260Y3052060sS1_D_inc_20160123_0092_A.tif  \n",
      "  inflating: time_series/S32644X696260Y3052060sS1-EBD/S32644X696260Y3052060sS1_inc/S32644X696260Y3052060sS1_D_inc_20160216_0092_A.tif  \n",
      "  inflating: time_series/S32644X696260Y3052060sS1-EBD/S32644X696260Y3052060sS1_inc/S32644X696260Y3052060sS1_D_inc_20160311_0092_A.tif  \n",
      "  inflating: time_series/S32644X696260Y3052060sS1-EBD/S32644X696260Y3052060sS1_inc/S32644X696260Y3052060sS1_D_inc_20160404_0092_A.tif  \n",
      "  inflating: time_series/S32644X696260Y3052060sS1-EBD/S32644X696260Y3052060sS1_inc/S32644X696260Y3052060sS1_D_inc_20160428_0092_A.tif  \n",
      "  inflating: time_series/S32644X696260Y3052060sS1-EBD/S32644X696260Y3052060sS1_inc/S32644X696260Y3052060sS1_D_inc_20160522_0092_A.tif  \n",
      "  inflating: time_series/S32644X696260Y3052060sS1-EBD/S32644X696260Y3052060sS1_inc/S32644X696260Y3052060sS1_D_inc_20160615_0092_A.tif  \n",
      "  inflating: time_series/S32644X696260Y3052060sS1-EBD/S32644X696260Y3052060sS1_inc/S32644X696260Y3052060sS1_D_inc_20160802_0092_A.tif  \n",
      "  inflating: time_series/S32644X696260Y3052060sS1-EBD/S32644X696260Y3052060sS1_inc/S32644X696260Y3052060sS1_D_inc_20160826_0092_A.tif  \n",
      "  inflating: time_series/S32644X696260Y3052060sS1-EBD/S32644X696260Y3052060sS1_inc/S32644X696260Y3052060sS1_D_inc_20160919_0092_A.tif  \n",
      "  inflating: time_series/S32644X696260Y3052060sS1-EBD/S32644X696260Y3052060sS1_inc/S32644X696260Y3052060sS1_D_inc_20161001_0092_A.tif  \n",
      "  inflating: time_series/S32644X696260Y3052060sS1-EBD/S32644X696260Y3052060sS1_inc/S32644X696260Y3052060sS1_D_inc_20161007_0092_B.tif  \n",
      "  inflating: time_series/S32644X696260Y3052060sS1-EBD/S32644X696260Y3052060sS1_inc/S32644X696260Y3052060sS1_D_inc_20161013_0092_A.tif  \n",
      "  inflating: time_series/S32644X696260Y3052060sS1-EBD/S32644X696260Y3052060sS1_inc/S32644X696260Y3052060sS1_D_inc_20161025_0092_A.tif  \n",
      "  inflating: time_series/S32644X696260Y3052060sS1-EBD/S32644X696260Y3052060sS1_inc/S32644X696260Y3052060sS1_D_inc_20161031_0092_B.tif  \n",
      "  inflating: time_series/S32644X696260Y3052060sS1-EBD/S32644X696260Y3052060sS1_inc/S32644X696260Y3052060sS1_D_inc_20161106_0092_A.tif  \n",
      "  inflating: time_series/S32644X696260Y3052060sS1-EBD/S32644X696260Y3052060sS1_inc/S32644X696260Y3052060sS1_D_inc_20161118_0092_A.tif  \n",
      "  inflating: time_series/S32644X696260Y3052060sS1-EBD/S32644X696260Y3052060sS1_inc/S32644X696260Y3052060sS1_D_inc_20161124_0092_B.tif  \n",
      "  inflating: time_series/S32644X696260Y3052060sS1-EBD/S32644X696260Y3052060sS1_inc/S32644X696260Y3052060sS1_D_inc_20161130_0092_A.tif  \n"
     ]
    },
    {
     "name": "stdout",
     "output_type": "stream",
     "text": [
      "  inflating: time_series/S32644X696260Y3052060sS1-EBD/S32644X696260Y3052060sS1_inc/S32644X696260Y3052060sS1_D_inc_20161212_0092_A.tif  \n",
      "  inflating: time_series/S32644X696260Y3052060sS1-EBD/S32644X696260Y3052060sS1_inc/S32644X696260Y3052060sS1_D_inc_20161218_0092_B.tif  \n",
      "  inflating: time_series/S32644X696260Y3052060sS1-EBD/S32644X696260Y3052060sS1_inc/S32644X696260Y3052060sS1_D_inc_20161224_0092_A.tif  \n",
      "  inflating: time_series/S32644X696260Y3052060sS1-EBD/S32644X696260Y3052060sS1_inc/S32644X696260Y3052060sS1_D_inc_20170105_0092_A.tif  \n",
      "  inflating: time_series/S32644X696260Y3052060sS1-EBD/S32644X696260Y3052060sS1_inc/S32644X696260Y3052060sS1_D_inc_20170111_0092_B.tif  \n",
      "  inflating: time_series/S32644X696260Y3052060sS1-EBD/S32644X696260Y3052060sS1_inc/S32644X696260Y3052060sS1_D_inc_20170117_0092_A.tif  \n",
      "  inflating: time_series/S32644X696260Y3052060sS1-EBD/S32644X696260Y3052060sS1_inc/S32644X696260Y3052060sS1_D_inc_20170129_0092_A.tif  \n",
      "  inflating: time_series/S32644X696260Y3052060sS1-EBD/S32644X696260Y3052060sS1_inc/S32644X696260Y3052060sS1_D_inc_20170204_0092_B.tif  \n",
      "  inflating: time_series/S32644X696260Y3052060sS1-EBD/S32644X696260Y3052060sS1_inc/S32644X696260Y3052060sS1_D_inc_20170210_0092_A.tif  \n",
      "  inflating: time_series/S32644X696260Y3052060sS1-EBD/S32644X696260Y3052060sS1_inc/S32644X696260Y3052060sS1_D_inc_20170222_0092_A.tif  \n",
      "  inflating: time_series/S32644X696260Y3052060sS1-EBD/S32644X696260Y3052060sS1_inc/S32644X696260Y3052060sS1_D_inc_20170306_0092_A.tif  \n",
      "  inflating: time_series/S32644X696260Y3052060sS1-EBD/S32644X696260Y3052060sS1_inc/S32644X696260Y3052060sS1_D_inc_20170318_0092_A.tif  \n",
      "  inflating: time_series/S32644X696260Y3052060sS1-EBD/S32644X696260Y3052060sS1_inc/S32644X696260Y3052060sS1_D_inc_20170330_0092_A.tif  \n",
      "  inflating: time_series/S32644X696260Y3052060sS1-EBD/S32644X696260Y3052060sS1_inc/S32644X696260Y3052060sS1_D_inc_20170411_0092_A.tif  \n",
      "  inflating: time_series/S32644X696260Y3052060sS1-EBD/S32644X696260Y3052060sS1_inc/S32644X696260Y3052060sS1_D_inc_20170505_0092_A.tif  \n",
      "  inflating: time_series/S32644X696260Y3052060sS1-EBD/S32644X696260Y3052060sS1_inc/S32644X696260Y3052060sS1_D_inc_20170517_0092_A.tif  \n",
      "  inflating: time_series/S32644X696260Y3052060sS1-EBD/S32644X696260Y3052060sS1_inc/S32644X696260Y3052060sS1_D_inc_20170529_0092_A.tif  \n",
      "  inflating: time_series/S32644X696260Y3052060sS1-EBD/S32644X696260Y3052060sS1_inc/S32644X696260Y3052060sS1_D_inc_20170610_0092_A.tif  \n",
      "  inflating: time_series/S32644X696260Y3052060sS1-EBD/S32644X696260Y3052060sS1_inc/S32644X696260Y3052060sS1_D_inc_20170622_0092_A.tif  \n",
      "  inflating: time_series/S32644X696260Y3052060sS1-EBD/S32644X696260Y3052060sS1_inc/S32644X696260Y3052060sS1_D_inc_20170704_0092_A.tif  \n",
      "  inflating: time_series/S32644X696260Y3052060sS1-EBD/S32644X696260Y3052060sS1_inc/S32644X696260Y3052060sS1_D_inc_20170716_0092_A.tif  \n",
      "  inflating: time_series/S32644X696260Y3052060sS1-EBD/S32644X696260Y3052060sS1_inc/S32644X696260Y3052060sS1_D_inc_20170728_0092_A.tif  \n",
      "  inflating: time_series/S32644X696260Y3052060sS1-EBD/S32644X696260Y3052060sS1_inc/S32644X696260Y3052060sS1_D_inc_20170809_0092_A.tif  \n",
      "  inflating: time_series/S32644X696260Y3052060sS1-EBD/S32644X696260Y3052060sS1_inc/S32644X696260Y3052060sS1_D_inc_20170821_0092_A.tif  \n",
      "  inflating: time_series/S32644X696260Y3052060sS1-EBD/S32644X696260Y3052060sS1_inc/S32644X696260Y3052060sS1_D_inc_20170902_0092_A.tif  \n",
      "  inflating: time_series/S32644X696260Y3052060sS1-EBD/S32644X696260Y3052060sS1_inc/S32644X696260Y3052060sS1_D_inc_20170914_0092_A.tif  \n",
      "  inflating: time_series/S32644X696260Y3052060sS1-EBD/S32644X696260Y3052060sS1_inc/S32644X696260Y3052060sS1_D_inc_20170926_0092_A.tif  \n",
      "  inflating: time_series/S32644X696260Y3052060sS1-EBD/S32644X696260Y3052060sS1_inc/S32644X696260Y3052060sS1_D_inc_20171008_0092_A.tif  \n",
      "  inflating: time_series/S32644X696260Y3052060sS1-EBD/S32644X696260Y3052060sS1_inc/S32644X696260Y3052060sS1_D_inc_20171020_0092_A.tif  \n",
      "  inflating: time_series/S32644X696260Y3052060sS1-EBD/S32644X696260Y3052060sS1_inc/S32644X696260Y3052060sS1_D_inc_20171101_0092_A.tif  \n",
      "  inflating: time_series/S32644X696260Y3052060sS1-EBD/S32644X696260Y3052060sS1_inc/S32644X696260Y3052060sS1_D_inc_20171113_0092_A.tif  \n",
      "  inflating: time_series/S32644X696260Y3052060sS1-EBD/S32644X696260Y3052060sS1_inc/S32644X696260Y3052060sS1_D_inc_20171125_0092_A.tif  \n",
      "  inflating: time_series/S32644X696260Y3052060sS1-EBD/S32644X696260Y3052060sS1_inc/S32644X696260Y3052060sS1_D_inc_20171207_0092_A.tif  \n",
      "   creating: time_series/S32644X696260Y3052060sS1-EBD/S32644X696260Y3052060sS1_ls/\n",
      "  inflating: time_series/S32644X696260Y3052060sS1-EBD/S32644X696260Y3052060sS1_ls/S32644X696260Y3052060sS1_A_ls_20141004_0158_A.tif  \n",
      "  inflating: time_series/S32644X696260Y3052060sS1-EBD/S32644X696260Y3052060sS1_ls/S32644X696260Y3052060sS1_A_ls_20141028_0158_A.tif  \n",
      "  inflating: time_series/S32644X696260Y3052060sS1-EBD/S32644X696260Y3052060sS1_ls/S32644X696260Y3052060sS1_A_ls_20141121_0158_A.tif  \n",
      "  inflating: time_series/S32644X696260Y3052060sS1-EBD/S32644X696260Y3052060sS1_ls/S32644X696260Y3052060sS1_A_ls_20141215_0158_A.tif  \n",
      "  inflating: time_series/S32644X696260Y3052060sS1-EBD/S32644X696260Y3052060sS1_ls/S32644X696260Y3052060sS1_A_ls_20150108_0158_A.tif  \n",
      "  inflating: time_series/S32644X696260Y3052060sS1-EBD/S32644X696260Y3052060sS1_ls/S32644X696260Y3052060sS1_A_ls_20150225_0158_A.tif  \n",
      "  inflating: time_series/S32644X696260Y3052060sS1-EBD/S32644X696260Y3052060sS1_ls/S32644X696260Y3052060sS1_A_ls_20150321_0158_A.tif  \n",
      "  inflating: time_series/S32644X696260Y3052060sS1-EBD/S32644X696260Y3052060sS1_ls/S32644X696260Y3052060sS1_A_ls_20150508_0158_A.tif  \n",
      "  inflating: time_series/S32644X696260Y3052060sS1-EBD/S32644X696260Y3052060sS1_ls/S32644X696260Y3052060sS1_A_ls_20150520_0158_A.tif  \n",
      "  inflating: time_series/S32644X696260Y3052060sS1-EBD/S32644X696260Y3052060sS1_ls/S32644X696260Y3052060sS1_A_ls_20150601_0158_A.tif  \n",
      "  inflating: time_series/S32644X696260Y3052060sS1-EBD/S32644X696260Y3052060sS1_ls/S32644X696260Y3052060sS1_A_ls_20150625_0158_A.tif  \n",
      "  inflating: time_series/S32644X696260Y3052060sS1-EBD/S32644X696260Y3052060sS1_ls/S32644X696260Y3052060sS1_A_ls_20150707_0158_A.tif  \n",
      "  inflating: time_series/S32644X696260Y3052060sS1-EBD/S32644X696260Y3052060sS1_ls/S32644X696260Y3052060sS1_A_ls_20150719_0158_A.tif  \n",
      "  inflating: time_series/S32644X696260Y3052060sS1-EBD/S32644X696260Y3052060sS1_ls/S32644X696260Y3052060sS1_A_ls_20150731_0158_A.tif  \n",
      "  inflating: time_series/S32644X696260Y3052060sS1-EBD/S32644X696260Y3052060sS1_ls/S32644X696260Y3052060sS1_A_ls_20150812_0158_A.tif  \n",
      "  inflating: time_series/S32644X696260Y3052060sS1-EBD/S32644X696260Y3052060sS1_ls/S32644X696260Y3052060sS1_A_ls_20150905_0158_A.tif  \n",
      "  inflating: time_series/S32644X696260Y3052060sS1-EBD/S32644X696260Y3052060sS1_ls/S32644X696260Y3052060sS1_A_ls_20151011_0158_A.tif  \n",
      "  inflating: time_series/S32644X696260Y3052060sS1-EBD/S32644X696260Y3052060sS1_ls/S32644X696260Y3052060sS1_A_ls_20151104_0158_A.tif  \n",
      "  inflating: time_series/S32644X696260Y3052060sS1-EBD/S32644X696260Y3052060sS1_ls/S32644X696260Y3052060sS1_A_ls_20151128_0158_A.tif  \n",
      "  inflating: time_series/S32644X696260Y3052060sS1-EBD/S32644X696260Y3052060sS1_ls/S32644X696260Y3052060sS1_A_ls_20151222_0158_A.tif  \n",
      "  inflating: time_series/S32644X696260Y3052060sS1-EBD/S32644X696260Y3052060sS1_ls/S32644X696260Y3052060sS1_A_ls_20160115_0158_A.tif  \n",
      "  inflating: time_series/S32644X696260Y3052060sS1-EBD/S32644X696260Y3052060sS1_ls/S32644X696260Y3052060sS1_A_ls_20160303_0158_A.tif  \n",
      "  inflating: time_series/S32644X696260Y3052060sS1-EBD/S32644X696260Y3052060sS1_ls/S32644X696260Y3052060sS1_A_ls_20160327_0158_A.tif  \n",
      "  inflating: time_series/S32644X696260Y3052060sS1-EBD/S32644X696260Y3052060sS1_ls/S32644X696260Y3052060sS1_A_ls_20160420_0158_A.tif  \n",
      "  inflating: time_series/S32644X696260Y3052060sS1-EBD/S32644X696260Y3052060sS1_ls/S32644X696260Y3052060sS1_A_ls_20160514_0158_A.tif  \n",
      "  inflating: time_series/S32644X696260Y3052060sS1-EBD/S32644X696260Y3052060sS1_ls/S32644X696260Y3052060sS1_A_ls_20160607_0158_A.tif  \n",
      "  inflating: time_series/S32644X696260Y3052060sS1-EBD/S32644X696260Y3052060sS1_ls/S32644X696260Y3052060sS1_A_ls_20160701_0158_A.tif  \n",
      "  inflating: time_series/S32644X696260Y3052060sS1-EBD/S32644X696260Y3052060sS1_ls/S32644X696260Y3052060sS1_A_ls_20160725_0158_A.tif  \n",
      "  inflating: time_series/S32644X696260Y3052060sS1-EBD/S32644X696260Y3052060sS1_ls/S32644X696260Y3052060sS1_A_ls_20160818_0158_A.tif  \n",
      "  inflating: time_series/S32644X696260Y3052060sS1-EBD/S32644X696260Y3052060sS1_ls/S32644X696260Y3052060sS1_A_ls_20160911_0158_A.tif  \n",
      "  inflating: time_series/S32644X696260Y3052060sS1-EBD/S32644X696260Y3052060sS1_ls/S32644X696260Y3052060sS1_A_ls_20161005_0158_A.tif  \n",
      "  inflating: time_series/S32644X696260Y3052060sS1-EBD/S32644X696260Y3052060sS1_ls/S32644X696260Y3052060sS1_A_ls_20161029_0158_A.tif  \n",
      "  inflating: time_series/S32644X696260Y3052060sS1-EBD/S32644X696260Y3052060sS1_ls/S32644X696260Y3052060sS1_A_ls_20161122_0158_A.tif  \n",
      "  inflating: time_series/S32644X696260Y3052060sS1-EBD/S32644X696260Y3052060sS1_ls/S32644X696260Y3052060sS1_A_ls_20161216_0158_A.tif  \n",
      "  inflating: time_series/S32644X696260Y3052060sS1-EBD/S32644X696260Y3052060sS1_ls/S32644X696260Y3052060sS1_A_ls_20170109_0158_A.tif  \n",
      "  inflating: time_series/S32644X696260Y3052060sS1-EBD/S32644X696260Y3052060sS1_ls/S32644X696260Y3052060sS1_A_ls_20170202_0158_A.tif  \n",
      "  inflating: time_series/S32644X696260Y3052060sS1-EBD/S32644X696260Y3052060sS1_ls/S32644X696260Y3052060sS1_A_ls_20170214_0158_A.tif  \n",
      "  inflating: time_series/S32644X696260Y3052060sS1-EBD/S32644X696260Y3052060sS1_ls/S32644X696260Y3052060sS1_A_ls_20170226_0158_A.tif  \n",
      "  inflating: time_series/S32644X696260Y3052060sS1-EBD/S32644X696260Y3052060sS1_ls/S32644X696260Y3052060sS1_A_ls_20170310_0158_A.tif  \n",
      "  inflating: time_series/S32644X696260Y3052060sS1-EBD/S32644X696260Y3052060sS1_ls/S32644X696260Y3052060sS1_A_ls_20170322_0158_A.tif  \n",
      "  inflating: time_series/S32644X696260Y3052060sS1-EBD/S32644X696260Y3052060sS1_ls/S32644X696260Y3052060sS1_A_ls_20170403_0158_A.tif  \n",
      "  inflating: time_series/S32644X696260Y3052060sS1-EBD/S32644X696260Y3052060sS1_ls/S32644X696260Y3052060sS1_A_ls_20170415_0158_A.tif  \n",
      "  inflating: time_series/S32644X696260Y3052060sS1-EBD/S32644X696260Y3052060sS1_ls/S32644X696260Y3052060sS1_A_ls_20170427_0158_A.tif  \n",
      "  inflating: time_series/S32644X696260Y3052060sS1-EBD/S32644X696260Y3052060sS1_ls/S32644X696260Y3052060sS1_A_ls_20170509_0158_A.tif  \n",
      "  inflating: time_series/S32644X696260Y3052060sS1-EBD/S32644X696260Y3052060sS1_ls/S32644X696260Y3052060sS1_A_ls_20170521_0158_A.tif  \n",
      "  inflating: time_series/S32644X696260Y3052060sS1-EBD/S32644X696260Y3052060sS1_ls/S32644X696260Y3052060sS1_A_ls_20170602_0158_A.tif  \n",
      "  inflating: time_series/S32644X696260Y3052060sS1-EBD/S32644X696260Y3052060sS1_ls/S32644X696260Y3052060sS1_A_ls_20170614_0158_A.tif  \n",
      "  inflating: time_series/S32644X696260Y3052060sS1-EBD/S32644X696260Y3052060sS1_ls/S32644X696260Y3052060sS1_A_ls_20170626_0158_A.tif  \n",
      "  inflating: time_series/S32644X696260Y3052060sS1-EBD/S32644X696260Y3052060sS1_ls/S32644X696260Y3052060sS1_A_ls_20170708_0158_A.tif  \n",
      "  inflating: time_series/S32644X696260Y3052060sS1-EBD/S32644X696260Y3052060sS1_ls/S32644X696260Y3052060sS1_A_ls_20170720_0158_A.tif  \n",
      "  inflating: time_series/S32644X696260Y3052060sS1-EBD/S32644X696260Y3052060sS1_ls/S32644X696260Y3052060sS1_A_ls_20170801_0158_A.tif  \n",
      "  inflating: time_series/S32644X696260Y3052060sS1-EBD/S32644X696260Y3052060sS1_ls/S32644X696260Y3052060sS1_A_ls_20170813_0158_A.tif  \n",
      "  inflating: time_series/S32644X696260Y3052060sS1-EBD/S32644X696260Y3052060sS1_ls/S32644X696260Y3052060sS1_A_ls_20170825_0158_A.tif  \n",
      "  inflating: time_series/S32644X696260Y3052060sS1-EBD/S32644X696260Y3052060sS1_ls/S32644X696260Y3052060sS1_A_ls_20170906_0158_A.tif  \n",
      "  inflating: time_series/S32644X696260Y3052060sS1-EBD/S32644X696260Y3052060sS1_ls/S32644X696260Y3052060sS1_A_ls_20170918_0158_A.tif  \n",
      "  inflating: time_series/S32644X696260Y3052060sS1-EBD/S32644X696260Y3052060sS1_ls/S32644X696260Y3052060sS1_A_ls_20170930_0158_A.tif  \n",
      "  inflating: time_series/S32644X696260Y3052060sS1-EBD/S32644X696260Y3052060sS1_ls/S32644X696260Y3052060sS1_A_ls_20171012_0158_A.tif  \n",
      "  inflating: time_series/S32644X696260Y3052060sS1-EBD/S32644X696260Y3052060sS1_ls/S32644X696260Y3052060sS1_A_ls_20171024_0158_A.tif  \n",
      "  inflating: time_series/S32644X696260Y3052060sS1-EBD/S32644X696260Y3052060sS1_ls/S32644X696260Y3052060sS1_A_ls_20171105_0158_A.tif  \n",
      "  inflating: time_series/S32644X696260Y3052060sS1-EBD/S32644X696260Y3052060sS1_ls/S32644X696260Y3052060sS1_A_ls_20171117_0158_A.tif  \n",
      "  inflating: time_series/S32644X696260Y3052060sS1-EBD/S32644X696260Y3052060sS1_ls/S32644X696260Y3052060sS1_A_ls_20171129_0158_A.tif  \n",
      "  inflating: time_series/S32644X696260Y3052060sS1-EBD/S32644X696260Y3052060sS1_ls/S32644X696260Y3052060sS1_A_ls_20171211_0158_A.tif  \n",
      "  inflating: time_series/S32644X696260Y3052060sS1-EBD/S32644X696260Y3052060sS1_ls/S32644X696260Y3052060sS1_D_ls_20141024_0092_A.tif  \n",
      "  inflating: time_series/S32644X696260Y3052060sS1-EBD/S32644X696260Y3052060sS1_ls/S32644X696260Y3052060sS1_D_ls_20141117_0092_A.tif  \n",
      "  inflating: time_series/S32644X696260Y3052060sS1-EBD/S32644X696260Y3052060sS1_ls/S32644X696260Y3052060sS1_D_ls_20141211_0092_A.tif  \n",
      "  inflating: time_series/S32644X696260Y3052060sS1-EBD/S32644X696260Y3052060sS1_ls/S32644X696260Y3052060sS1_D_ls_20150104_0092_A.tif  \n",
      "  inflating: time_series/S32644X696260Y3052060sS1-EBD/S32644X696260Y3052060sS1_ls/S32644X696260Y3052060sS1_D_ls_20150221_0092_A.tif  \n",
      "  inflating: time_series/S32644X696260Y3052060sS1-EBD/S32644X696260Y3052060sS1_ls/S32644X696260Y3052060sS1_D_ls_20150305_0092_A.tif  \n",
      "  inflating: time_series/S32644X696260Y3052060sS1-EBD/S32644X696260Y3052060sS1_ls/S32644X696260Y3052060sS1_D_ls_20150329_0092_A.tif  \n",
      "  inflating: time_series/S32644X696260Y3052060sS1-EBD/S32644X696260Y3052060sS1_ls/S32644X696260Y3052060sS1_D_ls_20150422_0092_A.tif  \n",
      "  inflating: time_series/S32644X696260Y3052060sS1-EBD/S32644X696260Y3052060sS1_ls/S32644X696260Y3052060sS1_D_ls_20150504_0092_A.tif  \n",
      "  inflating: time_series/S32644X696260Y3052060sS1-EBD/S32644X696260Y3052060sS1_ls/S32644X696260Y3052060sS1_D_ls_20150516_0092_A.tif  \n",
      "  inflating: time_series/S32644X696260Y3052060sS1-EBD/S32644X696260Y3052060sS1_ls/S32644X696260Y3052060sS1_D_ls_20150528_0092_A.tif  \n",
      "  inflating: time_series/S32644X696260Y3052060sS1-EBD/S32644X696260Y3052060sS1_ls/S32644X696260Y3052060sS1_D_ls_20150609_0092_A.tif  \n",
      "  inflating: time_series/S32644X696260Y3052060sS1-EBD/S32644X696260Y3052060sS1_ls/S32644X696260Y3052060sS1_D_ls_20150703_0092_A.tif  \n",
      "  inflating: time_series/S32644X696260Y3052060sS1-EBD/S32644X696260Y3052060sS1_ls/S32644X696260Y3052060sS1_D_ls_20150727_0092_A.tif  \n",
      "  inflating: time_series/S32644X696260Y3052060sS1-EBD/S32644X696260Y3052060sS1_ls/S32644X696260Y3052060sS1_D_ls_20150820_0092_A.tif  \n",
      "  inflating: time_series/S32644X696260Y3052060sS1-EBD/S32644X696260Y3052060sS1_ls/S32644X696260Y3052060sS1_D_ls_20150913_0092_A.tif  \n",
      "  inflating: time_series/S32644X696260Y3052060sS1-EBD/S32644X696260Y3052060sS1_ls/S32644X696260Y3052060sS1_D_ls_20151019_0092_A.tif  \n",
      "  inflating: time_series/S32644X696260Y3052060sS1-EBD/S32644X696260Y3052060sS1_ls/S32644X696260Y3052060sS1_D_ls_20151112_0092_A.tif  \n",
      "  inflating: time_series/S32644X696260Y3052060sS1-EBD/S32644X696260Y3052060sS1_ls/S32644X696260Y3052060sS1_D_ls_20160123_0092_A.tif  \n",
      "  inflating: time_series/S32644X696260Y3052060sS1-EBD/S32644X696260Y3052060sS1_ls/S32644X696260Y3052060sS1_D_ls_20160216_0092_A.tif  \n",
      "  inflating: time_series/S32644X696260Y3052060sS1-EBD/S32644X696260Y3052060sS1_ls/S32644X696260Y3052060sS1_D_ls_20160311_0092_A.tif  \n",
      "  inflating: time_series/S32644X696260Y3052060sS1-EBD/S32644X696260Y3052060sS1_ls/S32644X696260Y3052060sS1_D_ls_20160404_0092_A.tif  \n",
      "  inflating: time_series/S32644X696260Y3052060sS1-EBD/S32644X696260Y3052060sS1_ls/S32644X696260Y3052060sS1_D_ls_20160428_0092_A.tif  \n",
      "  inflating: time_series/S32644X696260Y3052060sS1-EBD/S32644X696260Y3052060sS1_ls/S32644X696260Y3052060sS1_D_ls_20160522_0092_A.tif  \n",
      "  inflating: time_series/S32644X696260Y3052060sS1-EBD/S32644X696260Y3052060sS1_ls/S32644X696260Y3052060sS1_D_ls_20160615_0092_A.tif  \n",
      "  inflating: time_series/S32644X696260Y3052060sS1-EBD/S32644X696260Y3052060sS1_ls/S32644X696260Y3052060sS1_D_ls_20160802_0092_A.tif  \n",
      "  inflating: time_series/S32644X696260Y3052060sS1-EBD/S32644X696260Y3052060sS1_ls/S32644X696260Y3052060sS1_D_ls_20160826_0092_A.tif  \n",
      "  inflating: time_series/S32644X696260Y3052060sS1-EBD/S32644X696260Y3052060sS1_ls/S32644X696260Y3052060sS1_D_ls_20160919_0092_A.tif  \n",
      "  inflating: time_series/S32644X696260Y3052060sS1-EBD/S32644X696260Y3052060sS1_ls/S32644X696260Y3052060sS1_D_ls_20161001_0092_A.tif  \n",
      "  inflating: time_series/S32644X696260Y3052060sS1-EBD/S32644X696260Y3052060sS1_ls/S32644X696260Y3052060sS1_D_ls_20161007_0092_B.tif  \n",
      "  inflating: time_series/S32644X696260Y3052060sS1-EBD/S32644X696260Y3052060sS1_ls/S32644X696260Y3052060sS1_D_ls_20161013_0092_A.tif  \n",
      "  inflating: time_series/S32644X696260Y3052060sS1-EBD/S32644X696260Y3052060sS1_ls/S32644X696260Y3052060sS1_D_ls_20161025_0092_A.tif  \n",
      "  inflating: time_series/S32644X696260Y3052060sS1-EBD/S32644X696260Y3052060sS1_ls/S32644X696260Y3052060sS1_D_ls_20161031_0092_B.tif  \n",
      "  inflating: time_series/S32644X696260Y3052060sS1-EBD/S32644X696260Y3052060sS1_ls/S32644X696260Y3052060sS1_D_ls_20161106_0092_A.tif  \n",
      "  inflating: time_series/S32644X696260Y3052060sS1-EBD/S32644X696260Y3052060sS1_ls/S32644X696260Y3052060sS1_D_ls_20161118_0092_A.tif  \n",
      "  inflating: time_series/S32644X696260Y3052060sS1-EBD/S32644X696260Y3052060sS1_ls/S32644X696260Y3052060sS1_D_ls_20161124_0092_B.tif  \n",
      "  inflating: time_series/S32644X696260Y3052060sS1-EBD/S32644X696260Y3052060sS1_ls/S32644X696260Y3052060sS1_D_ls_20161130_0092_A.tif  \n",
      "  inflating: time_series/S32644X696260Y3052060sS1-EBD/S32644X696260Y3052060sS1_ls/S32644X696260Y3052060sS1_D_ls_20161212_0092_A.tif  \n",
      "  inflating: time_series/S32644X696260Y3052060sS1-EBD/S32644X696260Y3052060sS1_ls/S32644X696260Y3052060sS1_D_ls_20161218_0092_B.tif  \n",
      "  inflating: time_series/S32644X696260Y3052060sS1-EBD/S32644X696260Y3052060sS1_ls/S32644X696260Y3052060sS1_D_ls_20161224_0092_A.tif  \n",
      "  inflating: time_series/S32644X696260Y3052060sS1-EBD/S32644X696260Y3052060sS1_ls/S32644X696260Y3052060sS1_D_ls_20170105_0092_A.tif  \n",
      "  inflating: time_series/S32644X696260Y3052060sS1-EBD/S32644X696260Y3052060sS1_ls/S32644X696260Y3052060sS1_D_ls_20170111_0092_B.tif  \n",
      "  inflating: time_series/S32644X696260Y3052060sS1-EBD/S32644X696260Y3052060sS1_ls/S32644X696260Y3052060sS1_D_ls_20170117_0092_A.tif  \n",
      "  inflating: time_series/S32644X696260Y3052060sS1-EBD/S32644X696260Y3052060sS1_ls/S32644X696260Y3052060sS1_D_ls_20170129_0092_A.tif  \n",
      "  inflating: time_series/S32644X696260Y3052060sS1-EBD/S32644X696260Y3052060sS1_ls/S32644X696260Y3052060sS1_D_ls_20170204_0092_B.tif  \n",
      "  inflating: time_series/S32644X696260Y3052060sS1-EBD/S32644X696260Y3052060sS1_ls/S32644X696260Y3052060sS1_D_ls_20170210_0092_A.tif  \n",
      "  inflating: time_series/S32644X696260Y3052060sS1-EBD/S32644X696260Y3052060sS1_ls/S32644X696260Y3052060sS1_D_ls_20170222_0092_A.tif  \n",
      "  inflating: time_series/S32644X696260Y3052060sS1-EBD/S32644X696260Y3052060sS1_ls/S32644X696260Y3052060sS1_D_ls_20170306_0092_A.tif  \n",
      "  inflating: time_series/S32644X696260Y3052060sS1-EBD/S32644X696260Y3052060sS1_ls/S32644X696260Y3052060sS1_D_ls_20170318_0092_A.tif  \n",
      "  inflating: time_series/S32644X696260Y3052060sS1-EBD/S32644X696260Y3052060sS1_ls/S32644X696260Y3052060sS1_D_ls_20170330_0092_A.tif  \n",
      "  inflating: time_series/S32644X696260Y3052060sS1-EBD/S32644X696260Y3052060sS1_ls/S32644X696260Y3052060sS1_D_ls_20170411_0092_A.tif  \n",
      "  inflating: time_series/S32644X696260Y3052060sS1-EBD/S32644X696260Y3052060sS1_ls/S32644X696260Y3052060sS1_D_ls_20170505_0092_A.tif  \n",
      "  inflating: time_series/S32644X696260Y3052060sS1-EBD/S32644X696260Y3052060sS1_ls/S32644X696260Y3052060sS1_D_ls_20170517_0092_A.tif  \n",
      "  inflating: time_series/S32644X696260Y3052060sS1-EBD/S32644X696260Y3052060sS1_ls/S32644X696260Y3052060sS1_D_ls_20170529_0092_A.tif  \n",
      "  inflating: time_series/S32644X696260Y3052060sS1-EBD/S32644X696260Y3052060sS1_ls/S32644X696260Y3052060sS1_D_ls_20170610_0092_A.tif  \n",
      "  inflating: time_series/S32644X696260Y3052060sS1-EBD/S32644X696260Y3052060sS1_ls/S32644X696260Y3052060sS1_D_ls_20170622_0092_A.tif  \n",
      "  inflating: time_series/S32644X696260Y3052060sS1-EBD/S32644X696260Y3052060sS1_ls/S32644X696260Y3052060sS1_D_ls_20170704_0092_A.tif  \n",
      "  inflating: time_series/S32644X696260Y3052060sS1-EBD/S32644X696260Y3052060sS1_ls/S32644X696260Y3052060sS1_D_ls_20170716_0092_A.tif  \n",
      "  inflating: time_series/S32644X696260Y3052060sS1-EBD/S32644X696260Y3052060sS1_ls/S32644X696260Y3052060sS1_D_ls_20170728_0092_A.tif  \n",
      "  inflating: time_series/S32644X696260Y3052060sS1-EBD/S32644X696260Y3052060sS1_ls/S32644X696260Y3052060sS1_D_ls_20170809_0092_A.tif  \n",
      "  inflating: time_series/S32644X696260Y3052060sS1-EBD/S32644X696260Y3052060sS1_ls/S32644X696260Y3052060sS1_D_ls_20170821_0092_A.tif  \n",
      "  inflating: time_series/S32644X696260Y3052060sS1-EBD/S32644X696260Y3052060sS1_ls/S32644X696260Y3052060sS1_D_ls_20170902_0092_A.tif  \n",
      "  inflating: time_series/S32644X696260Y3052060sS1-EBD/S32644X696260Y3052060sS1_ls/S32644X696260Y3052060sS1_D_ls_20170914_0092_A.tif  \n",
      "  inflating: time_series/S32644X696260Y3052060sS1-EBD/S32644X696260Y3052060sS1_ls/S32644X696260Y3052060sS1_D_ls_20170926_0092_A.tif  \n",
      "  inflating: time_series/S32644X696260Y3052060sS1-EBD/S32644X696260Y3052060sS1_ls/S32644X696260Y3052060sS1_D_ls_20171008_0092_A.tif  \n"
     ]
    },
    {
     "name": "stdout",
     "output_type": "stream",
     "text": [
      "  inflating: time_series/S32644X696260Y3052060sS1-EBD/S32644X696260Y3052060sS1_ls/S32644X696260Y3052060sS1_D_ls_20171020_0092_A.tif  \r\n",
      "  inflating: time_series/S32644X696260Y3052060sS1-EBD/S32644X696260Y3052060sS1_ls/S32644X696260Y3052060sS1_D_ls_20171101_0092_A.tif  \r\n",
      "  inflating: time_series/S32644X696260Y3052060sS1-EBD/S32644X696260Y3052060sS1_ls/S32644X696260Y3052060sS1_D_ls_20171113_0092_A.tif  \r\n",
      "  inflating: time_series/S32644X696260Y3052060sS1-EBD/S32644X696260Y3052060sS1_ls/S32644X696260Y3052060sS1_D_ls_20171125_0092_A.tif  \r\n",
      "  inflating: time_series/S32644X696260Y3052060sS1-EBD/S32644X696260Y3052060sS1_ls/S32644X696260Y3052060sS1_D_ls_20171207_0092_A.tif  \r\n"
     ]
    }
   ],
   "source": [
    "!unzip time_series.zip\n",
    "!rm time_series.zip"
   ]
  },
  {
   "cell_type": "markdown",
   "metadata": {},
   "source": [
    "<font face=\"Calibri\" size=\"3\"> The following lines set path variables needed for data processing. This step is not necessary but it saves a lot of extra typing later.<b> We define variables for the main data directory as well as the main variables containing data and image information:</b></font>"
   ]
  },
  {
   "cell_type": "code",
   "execution_count": 4,
   "metadata": {},
   "outputs": [],
   "source": [
    "datadirectory='/home/jovyan/notebooks/ASF/GEOS_657_Labs/time_series/S32644X696260Y3052060sS1-EBD'\n",
    "datefile='S32644X696260Y3052060sS1_D_vv_0092_mtfil.dates'\n",
    "imagefile='S32644X696260Y3052060sS1_D_vv_0092_mtfil.vrt'\n",
    "imagefile_cross='S32644X696260Y3052060sS1_D_vh_0092_mtfil.vrt'"
   ]
  },
  {
   "cell_type": "code",
   "execution_count": 5,
   "metadata": {},
   "outputs": [
    {
     "data": {
      "text/plain": [
       "'/home/jovyan/notebooks/ASF/GEOS_657_Labs'"
      ]
     },
     "execution_count": 5,
     "metadata": {},
     "output_type": "execute_result"
    }
   ],
   "source": [
    "#os.getcwd()  # Uncomment this line to display the present working directory"
   ]
  },
  {
   "cell_type": "markdown",
   "metadata": {},
   "source": [
    "<br>\n",
    "<hr>\n",
    "<font face=\"Calibri\" size=\"5\"> <b> 2. Switch to the Data Directory: </b></font>\n",
    "\n",
    "<font size=\"3\"> First we write a couple of helper functions that check that a given file or path exists. These provide simple error handling for some of our os library function calls:</font>"
   ]
  },
  {
   "cell_type": "code",
   "execution_count": 6,
   "metadata": {},
   "outputs": [],
   "source": [
    "def fileExists(filename):\n",
    "    if os.path.isfile(filename):\n",
    "        return True\n",
    "    else:\n",
    "        print(\"The file \" + filename + \" is missing.\")\n",
    "        return False"
   ]
  },
  {
   "cell_type": "code",
   "execution_count": 7,
   "metadata": {},
   "outputs": [],
   "source": [
    "def pathExists(path):\n",
    "    if os.path.exists(path):\n",
    "        return True\n",
    "    else:\n",
    "        print(\"Invalid Path.\")\n",
    "        return False"
   ]
  },
  {
   "cell_type": "markdown",
   "metadata": {},
   "source": [
    "<font size=\"3\"> We now move to the data directory:</font>"
   ]
  },
  {
   "cell_type": "code",
   "execution_count": 8,
   "metadata": {},
   "outputs": [],
   "source": [
    "if pathExists(datadirectory):\n",
    "    os.chdir(datadirectory)"
   ]
  },
  {
   "cell_type": "code",
   "execution_count": 9,
   "metadata": {},
   "outputs": [
    {
     "data": {
      "text/plain": [
       "'/home/jovyan/notebooks/ASF/GEOS_657_Labs/time_series/S32644X696260Y3052060sS1-EBD'"
      ]
     },
     "execution_count": 9,
     "metadata": {},
     "output_type": "execute_result"
    }
   ],
   "source": [
    "#os.getcwd()  # Uncomment this line to display the present working directory"
   ]
  },
  {
   "cell_type": "code",
   "execution_count": 11,
   "metadata": {},
   "outputs": [
    {
     "name": "stdout",
     "output_type": "stream",
     "text": [
      "S32644X696260Y3052060sS1_A_vh_0158_A_mtfil.vrt\r\n",
      "S32644X696260Y3052060sS1_A_vh_0158_mtfil.vrt\r\n",
      "S32644X696260Y3052060sS1_A_vh_mtfil_tsmetrics.vrt\r\n",
      "S32644X696260Y3052060sS1_A_vh_mtfil.vrt\r\n",
      "S32644X696260Y3052060sS1_A_vv_0158_A_mtfil.vrt\r\n",
      "S32644X696260Y3052060sS1_A_vv_0158_mtfil.vrt\r\n",
      "S32644X696260Y3052060sS1_A_vv_mtfil_tsmetrics.vrt\r\n",
      "S32644X696260Y3052060sS1_A_vv_mtfil.vrt\r\n",
      "S32644X696260Y3052060sS1_D_vh_0092_A_mtfil.vrt\r\n",
      "S32644X696260Y3052060sS1_D_vh_0092_mtfil.vrt\r\n",
      "S32644X696260Y3052060sS1_D_vh_mtfil_tsmetrics.vrt\r\n",
      "S32644X696260Y3052060sS1_D_vh_mtfil.vrt\r\n",
      "S32644X696260Y3052060sS1_D_vv_0092_A_mtfil.vrt\r\n",
      "S32644X696260Y3052060sS1_D_vv_0092_B_mtfil.vrt\r\n",
      "S32644X696260Y3052060sS1_D_vv_0092_mtfil_tsmetrics2.vrt\r\n",
      "S32644X696260Y3052060sS1_D_vv_0092_mtfil.vrt\r\n",
      "S32644X696260Y3052060sS1_D_vv_mtfil_tsmetrics.vrt\r\n",
      "S32644X696260Y3052060sS1_D_vv_mtfil.vrt\r\n"
     ]
    }
   ],
   "source": [
    "#!ls *.vrt #Uncomment this line to see a List of the files "
   ]
  },
  {
   "cell_type": "markdown",
   "metadata": {},
   "source": [
    "<br>\n",
    "<hr>\n",
    "<font face=\"Calibri\" size=\"5\"> <b> 3. Assess Image Acquisition Dates </b> </font> \n",
    "\n",
    "<font face=\"Calibri\" size=\"3\"> Before we start analyzing the available image data, we want to examine the content of our data stack. <b>First, we read the image acquisition dates for all files in the time series and create a *pandas* date index.</b> </font>"
   ]
  },
  {
   "cell_type": "code",
   "execution_count": 12,
   "metadata": {},
   "outputs": [],
   "source": [
    "if fileExists(datefile):\n",
    "    dates=open(datefile).readlines()\n",
    "    tindex=pd.DatetimeIndex(dates)"
   ]
  },
  {
   "cell_type": "markdown",
   "metadata": {},
   "source": [
    "<font face=\"Calibri\" size=\"3\"> From the date index we <b>make and print a lookup table for band numbers and dates:</b> </font>"
   ]
  },
  {
   "cell_type": "code",
   "execution_count": 13,
   "metadata": {},
   "outputs": [
    {
     "name": "stdout",
     "output_type": "stream",
     "text": [
      "Bands and dates for S32644X696260Y3052060sS1_D_vv_0092_mtfil.vrt\n",
      "   1 2014-10-24    2 2014-11-17    3 2014-12-11    4 2015-01-04    5 2015-02-21 \n",
      "   6 2015-03-05    7 2015-03-29    8 2015-04-22    9 2015-05-04   10 2015-05-16 \n",
      "  11 2015-05-28   12 2015-06-09   13 2015-07-03   14 2015-07-27   15 2015-08-20 \n",
      "  16 2015-09-13   17 2015-10-19   18 2015-11-12   19 2016-01-23   20 2016-02-16 \n",
      "  21 2016-03-11   22 2016-04-04   23 2016-04-28   24 2016-05-22   25 2016-06-15 \n",
      "  26 2016-08-02   27 2016-08-26   28 2016-09-19   29 2016-10-01   30 2016-10-07 \n",
      "  31 2016-10-13   32 2016-10-25   33 2016-10-31   34 2016-11-06   35 2016-11-18 \n",
      "  36 2016-11-24   37 2016-11-30   38 2016-12-12   39 2016-12-18   40 2016-12-24 \n",
      "  41 2017-01-05   42 2017-01-11   43 2017-01-17   44 2017-01-29   45 2017-02-04 \n",
      "  46 2017-02-10   47 2017-02-22   48 2017-03-06   49 2017-03-18   50 2017-03-30 \n",
      "  51 2017-04-11   52 2017-05-05   53 2017-05-17   54 2017-05-29   55 2017-06-10 \n",
      "  56 2017-06-22   57 2017-07-04   58 2017-07-16   59 2017-07-28   60 2017-08-09 \n",
      "  61 2017-08-21   62 2017-09-02   63 2017-09-14   64 2017-09-26   65 2017-10-08 \n",
      "  66 2017-10-20   67 2017-11-01   68 2017-11-13   69 2017-11-25   70 2017-12-07 \n"
     ]
    }
   ],
   "source": [
    "if fileExists(imagefile):\n",
    "    j=1\n",
    "    print('Bands and dates for',imagefile)\n",
    "    for i in tindex:\n",
    "        print(\"{:4d} {}\".format(j, i.date()),end=' ')\n",
    "        j+=1\n",
    "        if j%5==1: print()"
   ]
  },
  {
   "cell_type": "markdown",
   "metadata": {},
   "source": [
    "<br>\n",
    "<hr>\n",
    "<font face=\"Calibri\" size=\"5\"> <b> 4. Explore the Available Image Data </b> </font> \n",
    "\n",
    "<font face=\"Calibri\" size=\"3\"> To **open** an image file and make it readable we use the gdal.Open() function. This generates an image handle that can be used for further interactions with the file: </font>"
   ]
  },
  {
   "cell_type": "code",
   "execution_count": 15,
   "metadata": {},
   "outputs": [],
   "source": [
    "img=gdal.Open(imagefile)"
   ]
  },
  {
   "cell_type": "markdown",
   "metadata": {},
   "source": [
    "<font face=\"Calibri\" size=\"3\"> <b>To explore the image, e.g. number of bands, pixels, lines</b> you can use several functions associated with the openend image object, e.g.: </font>"
   ]
  },
  {
   "cell_type": "code",
   "execution_count": 16,
   "metadata": {},
   "outputs": [
    {
     "name": "stdout",
     "output_type": "stream",
     "text": [
      "70\n",
      "1547\n",
      "1270\n"
     ]
    }
   ],
   "source": [
    "print(img.RasterCount) # Number of Bands\n",
    "print(img.RasterXSize) # Number of Pixels\n",
    "print(img.RasterYSize) # Number of Lines"
   ]
  },
  {
   "cell_type": "markdown",
   "metadata": {},
   "source": [
    "<br>\n",
    "<font face=\"Calibri\" size=\"4\"> <b> 4.1 Reading Data from an Image Band </b> </font> \n",
    "\n",
    "<font face=\"Calibri\" size=\"3\"> <b>To access any band in the image</b>, use the *img.GetRasterBand(x)* function. E.g. to access the first band x=1, the last band: x=70. </font>"
   ]
  },
  {
   "cell_type": "code",
   "execution_count": 17,
   "metadata": {},
   "outputs": [],
   "source": [
    "band=img.GetRasterBand(70)"
   ]
  },
  {
   "cell_type": "markdown",
   "metadata": {},
   "source": [
    "<font face=\"Calibri\" size=\"3\"> Once a band is seleted, several functions associated with the band are available for further processing, e.g., <i>band.ReadAsArray(xoff=0,yoff=0,xsize=None,ysize=None)</i>\n",
    "\n",
    "So, <b>to read the entire raster layer for the band:</b> </font>"
   ]
  },
  {
   "cell_type": "code",
   "execution_count": 18,
   "metadata": {},
   "outputs": [],
   "source": [
    "raster=band.ReadAsArray()"
   ]
  },
  {
   "cell_type": "markdown",
   "metadata": {},
   "source": [
    "<br>\n",
    "<font face=\"Calibri\" size=\"4\"> <b> 4.2 Extracting Subsets from a Larger Image Frame </b> </font>\n",
    "\n",
    "<font face=\"Calibri\" size=\"3\"> Because of the potentially large data volume when dealing with time series data stacks, it may be prudent to read only a subset of data. \n",
    "\n",
    "With the <i>gdal .ReadAsArray()</i> function, subsets can be requested by defining pixel offsets and subset size:\n",
    "\n",
    "**img.ReadAsArray(xoff=0, yoff=0, xsize=None, ysize=None)**\n",
    "\n",
    "- <i>xoff, yoff</i> are the offsets from the upper left corner in pixel/line coordinates. \n",
    "- <i>xsize, ysize</i> specify the size of the subset in x-direction (left to right) and y-direction (top to bottom).\n",
    "\n",
    "E.g., to read only a **subset of 5x5 pixels with an offset of 5 pixels and 20 lines**: </font>"
   ]
  },
  {
   "cell_type": "code",
   "execution_count": null,
   "metadata": {},
   "outputs": [],
   "source": [
    "raster_sub=band.ReadAsArray(5,20,50,50)"
   ]
  },
  {
   "cell_type": "markdown",
   "metadata": {},
   "source": [
    "<font face=\"Calibri\" size=\"3\"> The result is a two dimensional numpy array in the datatpye the data were stored in. **We can inspect these data in python by typing the array name on the commandline**: </font>"
   ]
  },
  {
   "cell_type": "code",
   "execution_count": null,
   "metadata": {},
   "outputs": [],
   "source": [
    "raster_sub"
   ]
  },
  {
   "cell_type": "markdown",
   "metadata": {},
   "source": [
    "<br>\n",
    "<font face=\"Calibri\" size=\"4\"> <b> 4.3 Displaying Bands in the Time Series of SAR Data </b> </font>\n",
    "\n",
    "<font face=\"Calibri\" size=\"3\"> From the lookup table we know that bands 20 and 27 in the Nepal data stack are from late February and late August. **Let's take look at these images**. </font>"
   ]
  },
  {
   "cell_type": "code",
   "execution_count": null,
   "metadata": {},
   "outputs": [],
   "source": [
    "raster_1 = img.GetRasterBand(20).ReadAsArray()\n",
    "raster_2 = img.GetRasterBand(27).ReadAsArray()"
   ]
  },
  {
   "cell_type": "markdown",
   "metadata": {},
   "source": [
    "<br>\n",
    "<font face=\"Calibri\" size=\"3\"> <b> <i>4.4.1 Plotting in Python to Visualize the Image Bands </i></b> </font>\n",
    "\n",
    "<font face=\"Calibri\" size=\"3\"> Matplotlib's plotting functions allow for powerful options to display imagery. We are following some standard approaches for setting up figures.\n",
    "First we are looking at a **raster band** and it's associated **histogram**. </font>"
   ]
  },
  {
   "cell_type": "code",
   "execution_count": null,
   "metadata": {},
   "outputs": [],
   "source": [
    "fig = plt.figure(figsize=(16,8)) # Initialize figure with a size\n",
    "ax1 = fig.add_subplot(121)  # 121 determines: 1 row, 2 plots, first plot\n",
    "ax2 = fig.add_subplot(122)  # 122 determines: 1 row, 2 plots, second plot\n",
    "\n",
    "# First plot: Image\n",
    "bandnbr=20\n",
    "ax1.imshow(raster_1,cmap='gray',vmin=2000,vmax=10000)\n",
    "ax1.set_title('Image Band {} {}'.format(bandnbr,\n",
    "                                    tindex[bandnbr-1].date()))\n",
    "\n",
    "# Second plot: Histogram\n",
    "# IMPORTANT: To get a histogram, we first need to *flatten* \n",
    "# the two-dimensional image into a one-dimensional vector.\n",
    "h = ax2.hist(raster_1.flatten(),bins=200,range=(0,10000))\n",
    "ax2.xaxis.set_label_text('Amplitude (Uncalibrated DN Values)')\n",
    "ax2.set_title('Histogram Band {} {}'.format(bandnbr,\n",
    "                                    tindex[bandnbr-1].date()))"
   ]
  },
  {
   "cell_type": "markdown",
   "metadata": {},
   "source": [
    "<br>\n",
    "<font face=\"Calibri\" size=\"3\"> <b> <i>4.3.2 Writing a Plotting Function for the Task </i></b> </font>\n",
    "\n",
    "<font face=\"Calibri\" size=\"3\"> In the following, we use the plotting commands from the previous code cell to **define** a function named *showImage*. Several parameters can be passed to the function, some with default values listed at the end:\n",
    "- raster = a numpy two dimensional array \n",
    "- tindex = a panda index array for dates\n",
    "- bandnbr = the band number the corresponds to the raster \n",
    "- vmin = minimim value to display \n",
    "- vmax = maximum value to display\n",
    "\n",
    "Note: By default, data will be linearly stretched between vmin and vmax. </font>"
   ]
  },
  {
   "cell_type": "code",
   "execution_count": null,
   "metadata": {},
   "outputs": [],
   "source": [
    "def showImage(raster,tindex,bandnbr,vmin=None,vmax=None):\n",
    "    fig = plt.figure(figsize=(16,8))\n",
    "    ax1 = fig.add_subplot(121)\n",
    "    ax2 = fig.add_subplot(122)\n",
    "\n",
    "    ax1.imshow(raster,cmap='gray',vmin=vmin,vmax=vmax)\n",
    "    ax1.set_title('Image Band {} {}'.format(bandnbr,\n",
    "                                tindex[bandnbr-1].date()))\n",
    "    vmin=np.percentile(raster,2) if vmin==None else vmin\n",
    "    vmax=np.percentile(raster,98) if vmax==None else vmax\n",
    "    ax1.xaxis.set_label_text(\n",
    "        'Linear stretch Min={} Max={}'.format(vmin,vmax))\n",
    "    \n",
    "    \n",
    "    h = ax2.hist(raster.flatten(),bins=100,range=(0,11000))\n",
    "    ax2.xaxis.set_label_text('Amplitude (Uncalibrated DN Values)')\n",
    "    ax2.set_title('Histogram Band {} {}'.format(bandnbr,\n",
    "                                tindex[bandnbr-1].date()))"
   ]
  },
  {
   "cell_type": "markdown",
   "metadata": {},
   "source": [
    "<br>\n",
    "<hr>\n",
    "<div class=\"alert alert-success\">\n",
    "<font face=\"Calibri\" size=\"5\"> <b> <font color='rgba(200,0,0,0.2)'> <u>ASSIGNMENT #1</u>:  </font> Read Two Different Bands and Display them Using <i>showImage()</i> </b> <font color='rgba(200,0,0,0.2)'> -- [4 Points] </font> </font>\n",
    "\n",
    "<font face=\"Calibri\" size=\"3\"> <b>This assignment includes four steps:</b> (1) Use the acquisition date information to select two new bands to display; (1) use <i>bandnbr</i> as the variable name to identify your bands of interest in the data stack; (3) use the already open image handle <i>img</i> to obtain the raster data from a band; (4) visualize the band using *showImage()*. </font>\n",
    "</div>\n",
    "<hr>"
   ]
  },
  {
   "cell_type": "code",
   "execution_count": null,
   "metadata": {},
   "outputs": [],
   "source": [
    "# ENTER YOUR CODE FOR LOADING AND DISPLAYING YOUR FIRST IMAGE HERE:"
   ]
  },
  {
   "cell_type": "markdown",
   "metadata": {},
   "source": [
    "<hr>"
   ]
  },
  {
   "cell_type": "code",
   "execution_count": null,
   "metadata": {},
   "outputs": [],
   "source": [
    "# ENTER YOUR CODE FOR LOADING AND DISPLAYING YOUR SECOND IMAGE HERE:"
   ]
  },
  {
   "cell_type": "markdown",
   "metadata": {},
   "source": [
    "<hr>"
   ]
  },
  {
   "cell_type": "markdown",
   "metadata": {},
   "source": [
    "<br>\n",
    "<div class=\"alert alert-success\">\n",
    "<font face=\"Calibri\" size=\"5\"> <b> <font color='rgba(200,0,0,0.2)'> <u>ASSIGNMENT #2</u>:  </font> Analyze Pairs of Image Bands by Displaying them Side-by-Side </b> <font color='rgba(200,0,0,0.2)'> -- [6 Points] </font> </font>\n",
    "\n",
    "<font face=\"Calibri\" size=\"3\"> <u>For this exercise please complete the following activities</u>:\n",
    "<ol type=\"1\">\n",
    "    <li><b>Write a function to display two different image bands side-by-side</b>. Make sure that the sub-figure titles disclose the acquisition dates of the images and that the images are scaled the same to the identical DN range (by specifying (vmin,vmax)). You can steal code elements from function <i>showImage()</i> for this exercise. <font color='rgba(200,0,0,0.2)'> -- [2 Points] </font></li>\n",
    "    <br>\n",
    "    <li><b>Create a figure that compares two images</b> from the <b>winter vs. the summer</b> season.<font color='rgba(200,0,0,0.2)'> -- [1 Point] </font></li>\n",
    "    <br>\n",
    "    <li><b>Describe the differences you see between these images</b> and make a suggestion what may have caused these differences.<font color='rgba(200,0,0,0.2)'> -- [1 Points] </font></li>   \n",
    "    <br>\n",
    "    <li><b>Create a figure that compares two images from different years</b> (e.g., 2014 vs 2017).<font color='rgba(200,0,0,0.2)'> -- [1 Point] </font></li>\n",
    "    <br>\n",
    "    <li><b>Describe the differences you see between these images</b> and make a suggestion what may have caused these differences.<font color='rgba(200,0,0,0.2)'> -- [1 Points] </font></li> \n",
    "</ol> \n",
    "</font>\n",
    "</div>\n",
    "<hr>"
   ]
  },
  {
   "cell_type": "code",
   "execution_count": null,
   "metadata": {},
   "outputs": [],
   "source": [
    "# Step 1: Write function for side-by-side image display\n",
    "# ENTER YOUR CODE HERE"
   ]
  },
  {
   "cell_type": "markdown",
   "metadata": {},
   "source": [
    "<hr>"
   ]
  },
  {
   "cell_type": "code",
   "execution_count": null,
   "metadata": {},
   "outputs": [],
   "source": [
    "# Step 2: Pick images from winter and summer and display them side-by-side\n",
    "# ENTER YOUR CODE HERE"
   ]
  },
  {
   "cell_type": "markdown",
   "metadata": {},
   "source": [
    "<hr>\n",
    "<div class=\"alert alert-success\">\n",
    "<font face=\"Calibri\" size=\"3\"> <i><font color='rgba(200,0,0,0.2)'> Step 3: </font>Describe the differences you see between these image and suggest what may have caused these differences. </i> \n",
    "\n",
    "PROVIDE YOUR DESCRIPTION HERE!\n",
    "</font>\n",
    "</div>\n",
    "<hr>"
   ]
  },
  {
   "cell_type": "code",
   "execution_count": null,
   "metadata": {},
   "outputs": [],
   "source": [
    "# Step 4: Pick images from different years and display them side-by-side\n",
    "# ENTER YOUR CODE HERE"
   ]
  },
  {
   "cell_type": "markdown",
   "metadata": {},
   "source": [
    "<hr>\n",
    "<div class=\"alert alert-success\">\n",
    "<font face=\"Calibri\" size=\"3\"> <i><font color='rgba(200,0,0,0.2)'> Step 5: </font>Describe the differences you see between these image and suggest what may have caused these differences.\n",
    "\n",
    "PROVIDE YOUR DESCRIPTION HERE!\n",
    "</font>\n",
    "</div>\n",
    "<hr>"
   ]
  },
  {
   "cell_type": "markdown",
   "metadata": {},
   "source": [
    "<br>\n",
    "<hr>\n",
    "<font face=\"Calibri\" size=\"5\"> <b> 5. SAR Time Series Visualization, Animation, and Analysis </b> </font> \n",
    "\n",
    "<font face=\"Calibri\" size=\"3\"> This section introduces you to the handling and analysis of SAR time series stacks. A focus will be put on time series visualization, which allow us to inspect time series in more depth. Note that html animations are not exported into the pdf file, but will display interactively. </font>"
   ]
  },
  {
   "cell_type": "markdown",
   "metadata": {},
   "source": [
    "<br>\n",
    "<font face=\"Calibri\" size=\"4\"> <b> 5.1 Reading the SAR Time Series Subset </b> </font>\n",
    "\n",
    "<font face=\"Calibri\" size=\"3\"> Let's read an image subset (offset 400, 400 /  size 600, 600) of the entire time series data stack. The data are linearly scaled amplitudes represented as unsigned 16 bit integer.\n",
    "\n",
    "We use the gdal *ReadAsArray(xoff,yoff,xsize,ysize)* function where *xoff* is the offset in pixels from upper left; *yoff* is the offset in lines from upper left; *xsize* is the number of pixels and *ysize* is the number of lines of the subset.\n",
    "\n",
    "If *ReadAsArray()* is called without any parameters, the entire image data stack is read. \n",
    "\n",
    "<b>Let's first define a subset and make sure it is in the right geographic location</b>. </font> "
   ]
  },
  {
   "cell_type": "code",
   "execution_count": null,
   "metadata": {},
   "outputs": [],
   "source": [
    "# Open the image and read the first raster band\n",
    "band = img.GetRasterBand(1)\n",
    "\n",
    "# Define the subset\n",
    "subset=(400,400,600,600)\n",
    "if subset==None:\n",
    "    subset=(0,0,img.RasterXSize,img.RasterYSize)"
   ]
  },
  {
   "cell_type": "code",
   "execution_count": null,
   "metadata": {},
   "outputs": [],
   "source": [
    "# Plot one band together with the outline of the selected subset to verify its geographic location.\n",
    "raster=band.ReadAsArray()\n",
    "vmin=np.percentile(raster.flatten(),5)\n",
    "vmax=np.percentile(raster.flatten(),95)\n",
    "fig=plt.figure(figsize=(10,10))\n",
    "ax=fig.add_subplot(111)\n",
    "ax.imshow(raster,cmap='gray',vmin=vmin,vmax=vmax)\n",
    "# plot the subset as rectangle\n",
    "_=ax.add_patch(patches.Rectangle((subset[0],subset[1]),subset[2],subset[3],\n",
    "                                 fill=False,edgecolor='red'))"
   ]
  },
  {
   "cell_type": "markdown",
   "metadata": {},
   "source": [
    "<font face=\"Calibri\" size=\"3\"> Now we are ready to <b>extract this subset from all slices of the data stack</b>. </font>"
   ]
  },
  {
   "cell_type": "code",
   "execution_count": null,
   "metadata": {},
   "outputs": [],
   "source": [
    "raster0 = band.ReadAsArray(*subset)\n",
    "bandnbr=0 # Needed for updates\n",
    "rasterstack=img.ReadAsArray(*subset)"
   ]
  },
  {
   "cell_type": "markdown",
   "metadata": {},
   "source": [
    "<br>\n",
    "<font face=\"Calibri\" size=\"4\"> <b> 5.2 Calibration and Data Conversion between dB and Power Scales </b> </font>\n",
    "\n",
    "<font face=\"Calibri\" size=\"3\"> Focused SAR image data natively come in uncalibrated digital numbers (DN) and need to be calibrated to correspond to proper radar cross section information. \n",
    "\n",
    "Calibration coefficients for SAR data are often defined in the decibel (dB) scale due to the high dynamic range of the imaging system. For the L-band ALOS PALSAR data at hand, the conversion from uncalibrated DN values to calibrated radar cross section values in dB scale is performed by applying a standard **calibration factor of -83 dB**. \n",
    "<br> <br>\n",
    "$\\gamma^0_{dB} = 20 \\cdot log10(DN) -83$\n",
    "\n",
    "The data at hand are radiometrically terrain corrected images, which are often expressed as terrain flattened $\\gamma^0$ backscattering coefficients. For forest and land cover monitoring applications $\\gamma^o$ is the preferred metric.\n",
    "\n",
    "<b>Let's apply the calibration constant for our data and export in *dB* scale</b>: </font> "
   ]
  },
  {
   "cell_type": "code",
   "execution_count": null,
   "metadata": {},
   "outputs": [],
   "source": [
    "caldB=20*np.log10(rasterstack)-83"
   ]
  },
  {
   "cell_type": "markdown",
   "metadata": {},
   "source": [
    "<font face=\"Calibri\" size=\"3\"> While **dB**-scaled images are often \"visually pleasing\", they are often not a good basis for mathematical operations on data. For instance, when we compute the mean of observations, it makes a difference whether we do that in power or dB scale. Since dB scale is a logarithmic scale, we cannot simply average data in that scale. \n",
    "    \n",
    "Please note that the **correct scale** in which operations need to be performed **is the power scale.** This is critical, e.g. when speckle filters are applied, spatial operations like block averaging are performed, or time series are analyzed.\n",
    "\n",
    "To **convert from dB to power**, apply: $\\gamma^o_{pwr} = 10^{\\frac{\\gamma^o_{dB}}{10}}$ </font>"
   ]
  },
  {
   "cell_type": "code",
   "execution_count": null,
   "metadata": {},
   "outputs": [],
   "source": [
    "calPwr=np.power(10.,caldB/10.)"
   ]
  },
  {
   "cell_type": "markdown",
   "metadata": {},
   "source": [
    "<br>\n",
    "<font face=\"Calibri\" size=\"4\"> <b> 5.3 Create a Time Series Animation </b> </font>\n",
    "\n",
    "<font face=\"Calibri\" size=\"3\"> Now we are ready to <b>create a time series animation</b> from the calibrated SAR data. </font> "
   ]
  },
  {
   "cell_type": "code",
   "execution_count": null,
   "metadata": {},
   "outputs": [],
   "source": [
    "%%capture \n",
    "import matplotlib.pyplot as plt\n",
    "import matplotlib.animation\n",
    "import numpy as np\n",
    "\n",
    "fig=plt.figure(figsize=(10,10))\n",
    "ax = fig.add_subplot(111)\n",
    "ax.axis('off')\n",
    "vmin=np.percentile(caldB.flatten(),5)\n",
    "vmax=np.percentile(caldB.flatten(),95)\n",
    "\n",
    "r0dB=20*np.log10(raster0)-83\n",
    "\n",
    "im = ax.imshow(r0dB,cmap='gray',vmin=vmin,vmax=vmax)\n",
    "ax.set_title(\"{}\".format(tindex[0].date()))\n",
    "\n",
    "def animate(i):\n",
    "    ax.set_title(\"{}\".format(tindex[i].date()))\n",
    "    im.set_data(caldB[i])\n",
    "\n",
    "# Interval is given in milliseconds\n",
    "ani = matplotlib.animation.FuncAnimation(fig, animate, \n",
    "                                         frames=rasterstack.shape[0],\n",
    "                                        interval=400)"
   ]
  },
  {
   "cell_type": "code",
   "execution_count": null,
   "metadata": {},
   "outputs": [],
   "source": [
    "rc('animation',embed_limit=40971520.0)  # We need to increase the \n",
    "            # limit maybe to show the entire animation"
   ]
  },
  {
   "cell_type": "code",
   "execution_count": null,
   "metadata": {},
   "outputs": [],
   "source": [
    "from IPython.display import HTML\n",
    "HTML(ani.to_jshtml())"
   ]
  },
  {
   "cell_type": "markdown",
   "metadata": {},
   "source": [
    "<br>\n",
    "<font face=\"Calibri\" size=\"4\"> <b> 5.3 Plot the Time Series of Means Calculated Across the Subset </b> </font>\n",
    "\n",
    "<font face=\"Calibri\" size=\"3\"> To create the time series of means, we will go through the following steps:\n",
    "1. Ensure that you use the data in **power scale** ($\\gamma^o_{pwr}$) for your mean calculations.\n",
    "2. compute means.\n",
    "3. convert the resulting mean values into dB scale for visualization.\n",
    "4. plot time series of means. </font> "
   ]
  },
  {
   "cell_type": "code",
   "execution_count": null,
   "metadata": {},
   "outputs": [],
   "source": [
    "# 2. Compute Means using variable calPwr\n",
    "rs_means_pwr = np.mean(calPwr,axis=(1,2))\n",
    "# 3. Convert resulting mean value time-series to dB scale for visualization\n",
    "rs_means_dB = 10.*np.log10(rs_means_pwr)"
   ]
  },
  {
   "cell_type": "code",
   "execution_count": null,
   "metadata": {},
   "outputs": [],
   "source": [
    "rs_means_pwr.shape # Check that we got the means over time"
   ]
  },
  {
   "cell_type": "code",
   "execution_count": null,
   "metadata": {},
   "outputs": [],
   "source": [
    "# 4. Now let's plot the time series of means\n",
    "fig=plt.figure(figsize=(16,4))\n",
    "ax1=fig.add_subplot(111)\n",
    "ax1.plot(tindex,rs_means_pwr)\n",
    "ax1.set_xlabel('Date')\n",
    "ax1.set_ylabel('$\\overline{\\gamma^o}$ [power]')\n",
    "\n",
    "\n",
    "ax2=ax1.twinx()\n",
    "ax2.plot(tindex,rs_means_dB,color='red')\n",
    "ax2.set_ylabel('$\\overline{\\gamma^o}$ [dB]')\n",
    "fig.legend(['power','dB'],loc=1)\n",
    "plt.title('Time series profile of average band backscatter $\\gamma^o$ ')"
   ]
  },
  {
   "cell_type": "markdown",
   "metadata": {},
   "source": [
    "<br>\n",
    "<font face=\"Calibri\" size=\"4\"> <b> 5.4 Create Two-Panel Figure with Animated Global Mean $\\mu_{\\gamma^0_{dB}}$ </b> </font>\n",
    "\n",
    "<font face=\"Calibri\" size=\"3\"> We use a few Matplotlib functions to create a side-by-side animation of the dB-scaled imagery and the respective global means $\\mu_{\\gamma^0_{dB}}$. </font> "
   ]
  },
  {
   "cell_type": "code",
   "execution_count": null,
   "metadata": {},
   "outputs": [],
   "source": [
    "%%capture \n",
    "import matplotlib.pyplot as plt\n",
    "import matplotlib.animation\n",
    "import numpy as np\n",
    "\n",
    "fig, (ax1,ax2) = plt.subplots(1,2,figsize=(16,4),gridspec_kw = {'width_ratios':[1, 3]})\n",
    "\n",
    "vmin=np.percentile(rasterstack.flatten(),5)\n",
    "vmax=np.percentile(rasterstack.flatten(),95)\n",
    "im = ax1.imshow(raster0,cmap='gray',vmin=vmin,vmax=vmax)\n",
    "ax1.set_title(\"{}\".format(tindex[0].date()))\n",
    "ax1.set_axis_off()\n",
    "\n",
    "ax2.axis([tindex[0],tindex[-1],rs_means_dB.min(),rs_means_dB.max()])\n",
    "ax2.set_ylabel('$\\overline{\\gamma^o}$ [dB]')\n",
    "ax2.set_xlabel('Date')\n",
    "ax2.set_ylim((-10,-5))\n",
    "l, = ax2.plot([],[])\n",
    "\n",
    "\n",
    "def animate(i):\n",
    "    ax1.set_title(\"{}\".format(tindex[i].date()))\n",
    "    im.set_data(rasterstack[i])\n",
    "    ax2.set_title(\"{}\".format(tindex[i].date()))\n",
    "    l.set_data(tindex[:(i+1)],rs_means_dB[:(i+1)])\n",
    "\n",
    "# Interval is given in milliseconds\n",
    "ani = matplotlib.animation.FuncAnimation(fig, animate, \n",
    "                                         frames=rasterstack.shape[0],\n",
    "                                        interval=400)"
   ]
  },
  {
   "cell_type": "code",
   "execution_count": null,
   "metadata": {},
   "outputs": [],
   "source": [
    "from IPython.display import HTML\n",
    "HTML(ani.to_jshtml())"
   ]
  },
  {
   "cell_type": "markdown",
   "metadata": {},
   "source": [
    "<br>\n",
    "<hr>\n",
    "<div class=\"alert alert-success\">\n",
    "<font face=\"Calibri\" size=\"5\"> <b> <font color='rgba(200,0,0,0.2)'> <u>ASSIGNMENT #3</u>:  </font> Discuss the Global Mean Time-Series Plot </b> <font color='rgba(200,0,0,0.2)'> -- [4 Points] </font> </font>\n",
    "\n",
    "<font face=\"Calibri\" size=\"3\"> <u>For this exercise please answer the following questions</u>:\n",
    "<ol type=\"1\">\n",
    "    <li>What kind of temporal patterns do you see in the time series for this subset. <font color='rgba(200,0,0,0.2)'> -- [2 Points] </font></li>\n",
    "    <br>\n",
    "    <li>What may explain the temporal patterns you observed? Relate your answer to Section 1 of this Notebook and to the information about what drives radar brighness from the class lectures.<font color='rgba(200,0,0,0.2)'> -- [2 Point] </font></li> \n",
    "</ol> \n",
    "</font>\n",
    "</div>"
   ]
  },
  {
   "cell_type": "markdown",
   "metadata": {},
   "source": [
    "<hr>\n",
    "<div class=\"alert alert-success\">\n",
    "<font face=\"Calibri\" size=\"3\"> <i><font color='rgba(200,0,0,0.2)'> Step 1: </font> What temporal patterns do you see in the global mean time series for your subset? </i> \n",
    "\n",
    "PROVIDE YOUR ANSWER HERE!\n",
    "</font>\n",
    "</div>\n",
    "<hr>"
   ]
  },
  {
   "cell_type": "markdown",
   "metadata": {},
   "source": [
    "<div class=\"alert alert-success\"><font face=\"Calibri\" size=\"3\"> <i><font color='rgba(200,0,0,0.2)'> Step 2: </font> What may explain the temporal patterns you observed? </i> \n",
    "\n",
    "PROVIDE YOUR ANSWER HERE!\n",
    "</font>\n",
    "</div>\n",
    "<hr>"
   ]
  },
  {
   "cell_type": "markdown",
   "metadata": {},
   "source": [
    "<br>\n",
    "<div class=\"alert alert-success\">\n",
    "<font face=\"Calibri\" size=\"5\"> <b> <font color='rgba(200,0,0,0.2)'> <u>ASSIGNMENT #4</u>:  </font> Select a Different (non-overlapping) Subset and Redo Analysis</b> <font color='rgba(200,0,0,0.2)'> -- [6 Points] </font> </font>\n",
    "\n",
    "<font face=\"Calibri\" size=\"3\"> <u>For this exercise please complete the following tasks</u>:\n",
    "<ol type=\"1\">\n",
    "    <li>Define a second subset stack. <font color='rgba(200,0,0,0.2)'> -- [1 Point] </font></li>\n",
    "    <br>\n",
    "    <li>Compute the means (use power data for this step)<font color='rgba(200,0,0,0.2)'> -- [1 Points] </font></li>\n",
    "    <br>\n",
    "    <li>Convert to dB for visualization<font color='rgba(200,0,0,0.2)'> -- [1 Points] </font></li>\n",
    "    <br>\n",
    "    <li>Create two panel figure with Animated Global Mean $\\mu_{\\gamma^0_{dB}}$<font color='rgba(200,0,0,0.2)'> -- [1 Point]\n",
    "    </font></li>\n",
    "    <br>\n",
    "    <li>Discuss the time series plot. Discuss differences to the previous time series should there be any. <font color='rgba(200,0,0,0.2)'> -- [2 Point]\n",
    "    </font></li>\n",
    "</ol> \n",
    "</font>\n",
    "</div>\n",
    "<hr>"
   ]
  },
  {
   "cell_type": "code",
   "execution_count": null,
   "metadata": {},
   "outputs": [],
   "source": [
    "# Step 1: Extract second (non-overlapping) subset\n",
    "# ENTER YOUR CODE HERE"
   ]
  },
  {
   "cell_type": "markdown",
   "metadata": {},
   "source": [
    "<hr>"
   ]
  },
  {
   "cell_type": "code",
   "execution_count": null,
   "metadata": {},
   "outputs": [],
   "source": [
    "# Steps 2 - 3: Compute means and convert to dB\n",
    "# ENTER YOUR CODE HERE"
   ]
  },
  {
   "cell_type": "markdown",
   "metadata": {},
   "source": [
    "<hr>"
   ]
  },
  {
   "cell_type": "code",
   "execution_count": null,
   "metadata": {},
   "outputs": [],
   "source": [
    "# Step 4: Create two panel figure with animated global means\n",
    "# ENTER YOUR CODE HERE"
   ]
  },
  {
   "cell_type": "markdown",
   "metadata": {},
   "source": [
    "<hr>\n",
    "<div class=\"alert alert-success\">\n",
    "<font face=\"Calibri\" size=\"3\"> <i><font color='rgba(200,0,0,0.2)'> Step 5: </font> Discuss time series plot.\n",
    "\n",
    "PROVIDE YOUR ANSWER HERE!\n",
    "</font>\n",
    "</div>\n",
    "<hr>"
   ]
  },
  {
   "cell_type": "markdown",
   "metadata": {},
   "source": [
    "<font face=\"Calibri\" size=\"2\"> <i>GEOS 657 Microwave Remote Sensing - Version 1.0 - Feb 2019 </i>\n",
    "</font>"
   ]
  }
 ],
 "metadata": {
  "kernelspec": {
   "display_name": "Python 3",
   "language": "python",
   "name": "python3"
  },
  "language_info": {
   "codemirror_mode": {
    "name": "ipython",
    "version": 3
   },
   "file_extension": ".py",
   "mimetype": "text/x-python",
   "name": "python",
   "nbconvert_exporter": "python",
   "pygments_lexer": "ipython3",
   "version": "3.7.1"
  }
 },
 "nbformat": 4,
 "nbformat_minor": 2
}
