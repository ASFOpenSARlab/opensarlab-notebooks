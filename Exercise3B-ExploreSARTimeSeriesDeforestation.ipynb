{
 "cells": [
  {
   "cell_type": "markdown",
   "metadata": {},
   "source": [
    "<img src=\"NotebookAddons/blackboard-banner.jpg\" width=\"100%\" />\n",
    "<font face=\"Calibri\">\n",
    "<br>\n",
    "<font size=\"5\"> <b>Exploring SAR Time Series Data over Ecosystems and Deforestation Sites</b></font>\n",
    "\n",
    "<br>\n",
    "<font size=\"4\"> <b> Franz J Meyer; University of Alaska Fairbanks & Josef Kellndorfer, <a href=\"http://earthbigdata.com/\" target=\"_blank\">Earth Big Data, LLC</a> </b> <br>\n",
    "<img style=\"padding:7px;\" src=\"NotebookAddons/UAFLogo_A_647.png\" width=\"170\" align=\"right\" /></font>\n",
    "\n",
    "<font size=\"3\">This notebook introduces you to the time series signatures over forested sites and sites affected by deforestation. The data analysis is done in the framework of *Jupyter Notebooks*. The Jupyter Notebook environment is easy to launch in any web browser for interactive data exploration with provided or new training data. Notebooks are comprised of text written in a combination of executable python code and markdown formatting including latex style mathematical equations. Another advantage of Jupyter Notebooks is that they can easily be expanded, changed, and shared with new data sets or newly available time series steps. Therefore, they provide an excellent basis for collaborative and repeatable data analysis. <br>\n",
    "\n",
    "<b>This notebook covers the following data analysis concepts:</b>\n",
    "\n",
    "- How to load time series stacks into Jupyter Notebooks and how to explore image content using basic functions such as mean value calculation and histogram analysis.\n",
    "- How to extract time series information for individual pixels of an image.\n",
    "- Typical time series signatures over forests and deforestation sites.\n",
    "</font>\n",
    "\n",
    "\n",
    "</font>"
   ]
  },
  {
   "cell_type": "markdown",
   "metadata": {},
   "source": [
    "<hr>\n",
    "<font face=\"Calibri\" size=\"5\" color='rgba(200,0,0,0.2)'> <b>Important Notes about JupyterHub</b> </font>\n",
    "<br><br>\n",
    "<font face=\"Calibri\" size=\"3\"> <b>Your JupyterHub server will automatically shutdown when left idle for more than 1 hour. Your notebooks will not be lost but you will have to restart their kernels and re-run them from the beginning. You will not be able to seamlessly continue running a partially run notebook.</b> </font>\n",
    "<br><br>\n",
    "</font>\n"
   ]
  },
  {
   "cell_type": "markdown",
   "metadata": {},
   "source": [
    "<hr>\n",
    "<font face=\"Calibri\">\n",
    "\n",
    "<font size=\"5\"> <b> 0. Importing Relevant Python Packages </b> </font>\n",
    "\n",
    "<font size=\"3\">In this notebook we will use the following scientific libraries:\n",
    "\n",
    "<ol type=\"1\">\n",
    "    <li> <b><a href=\"https://pandas.pydata.org/\" target=\"_blank\">Pandas</a></b> is a Python library that provides high-level data structures and a vast variety of tools for analysis. The great feature of this package is the ability to translate rather complex operations with data into one or two commands. Pandas contains many built-in methods for filtering and combining data, as well as the time-series functionality. </li>\n",
    "    <li> <b><a href=\"https://www.gdal.org/\" target=\"_blank\">GDAL</a></b> is a software library for reading and writing raster and vector geospatial data formats. It includes a collection of programs tailored for geospatial data processing. Most modern GIS systems (such as ArcGIS or QGIS) use GDAL in the background.</li>\n",
    "    <li> <b><a href=\"http://www.numpy.org/\" target=\"_blank\">NumPy</a></b> is one of the principal packages for scientific applications of Python. It is intended for processing large multidimensional arrays and matrices, and an extensive collection of high-level mathematical functions and implemented methods makes it possible to perform various operations with these objects. </li>\n",
    "    <li> <b><a href=\"https://matplotlib.org/index.html\" target=\"_blank\">Matplotlib</a></b> is a low-level library for creating two-dimensional diagrams and graphs. With its help, you can build diverse charts, from histograms and scatterplots to non-Cartesian coordinates graphs. Moreover, many popular plotting libraries are designed to work in conjunction with matplotlib. </li>\n",
    "</font>"
   ]
  },
  {
   "cell_type": "code",
   "execution_count": null,
   "metadata": {},
   "outputs": [],
   "source": [
    "import os # for chdir, getcwd, path.basename, path.exists\n",
    "from math import ceil\n",
    "import zipfile\n",
    "\n",
    "import pandas as pd # for DatetimeIndex\n",
    "import numpy as np #for log10, mean, percentile, power\n",
    "import gdal # for GetRasterBand, Open, ReadAsArray\n",
    "\n",
    "import matplotlib.patches as patches  # for Rectangle\n",
    "import matplotlib.pyplot as plt # for add_subplot, axis, figure, imshow, legend, plot, set_axis_off, set_data,\n",
    "                                # set_title, set_xlabel, set_ylabel, set_ylim, subplots, title, twinx\n",
    "plt.rcParams.update({'font.size': 12})"
   ]
  },
  {
   "cell_type": "markdown",
   "metadata": {},
   "source": [
    "<font face=\"Calibri\" size=\"3\"><b>Setup matplotlib plotting inside the notebook:</b></font>"
   ]
  },
  {
   "cell_type": "code",
   "execution_count": null,
   "metadata": {},
   "outputs": [],
   "source": [
    "%matplotlib notebook"
   ]
  },
  {
   "cell_type": "markdown",
   "metadata": {},
   "source": [
    "<hr>\n",
    "<font face=\"Calibri\">\n",
    "\n",
    "<font size=\"5\"> <b> 1. Load Data Stack</b> </font> <img src=\"NotebookAddons/Deforest-MadreDeDios.jpg\" width=\"350\" style=\"padding:5px;\" align=\"right\" /> \n",
    "\n",
    "<font size=\"3\"> This notebook will be using a 78-image deep dual-polarization C-band SAR data stack over Madre de Dios in Peru to analyze time series signatures of vegetation covers, water bodies, and areas affected by deforestation. The C-band data were acquired by ESA's Sentinel-1 SAR sensor constellation and are available to you through the services of the <a href=\"https://www.asf.alaska.edu/\" target=\"_blank\">Alaska Satellite Facility</a>. \n",
    "\n",
    "The site in question is interesting as it has experienced extensive logging over the last 10 years (see image to the right; <a href=\"https://blog.globalforestwatch.org/\" target=\"_blank\">Monitoring of the Andean Amazon Project</a>). Since the 1980s, people have been clearing forests in this area for farming, cattle ranching, logging, and (recently) gold mining. Creating RGB color composites is an easy way to visualize ongoing changes in the landscape.\n",
    "</font></font>\n",
    "<br><br>\n",
    "<font face=\"Calibri\" size=\"3\">Before we get started, let's first <b>create a working directory for this analysis and change into it:</b> </font>"
   ]
  },
  {
   "cell_type": "code",
   "execution_count": null,
   "metadata": {},
   "outputs": [],
   "source": [
    "path = \"f\"/home/jovyan/data_Ex2-4_S1-MadreDeDios\"\n",
    "if not os.path.exists(path):\n",
    "    os.mkdir(path)\n",
    "os.chdir(path)\n",
    "print(f\"Current working directory: {os.getcwd()}\")"
   ]
  },
  {
   "cell_type": "markdown",
   "metadata": {},
   "source": [
    "<font face=\"Calibri\" size=\"3\">We will <b>retrieve the relevant data</b> from an <a href=\"https://aws.amazon.com/\" target=\"_blank\">Amazon Web Service (AWS)</a> cloud storage bucket <b>using the following command</b>:</font></font>"
   ]
  },
  {
   "cell_type": "code",
   "execution_count": null,
   "metadata": {},
   "outputs": [],
   "source": [
    "time_series_path = 's3://asf-jupyter-data/MadreDeDios.zip'\n",
    "time_series = os.path.basename(time_series_path)\n",
    "!aws --no-sign-request --region us-east-1 s3 cp $time_series_path $time_series"
   ]
  },
  {
   "cell_type": "markdown",
   "metadata": {},
   "source": [
    "<font face=\"Calibri\" size=\"3\"> Now, let's <b>unzip the file (overwriting previous extractions) and clean up after ourselves:</b> </font>"
   ]
  },
  {
   "cell_type": "code",
   "execution_count": null,
   "metadata": {},
   "outputs": [],
   "source": [
    "if os.path.exists(time_series):\n",
    "    try:\n",
    "        zipfile.ZipFile(time_series).extractall(os.getcwd())\n",
    "    except zipfile.BadZipFile:\n",
    "        print(f\"Zipfile Error.\")\n",
    "    os.remove(time_series)"
   ]
  },
  {
   "cell_type": "markdown",
   "metadata": {},
   "source": [
    "<br>\n",
    "<font face=\"Calibri\" size=\"5\"> <b> 2. Define Data Directory and Path to VRT </b> </font> \n",
    "<br><br>\n",
    "<font face=\"Calibri\" size=\"3\"><b>Create a variable containing the VRT filename and the image acquisition dates:</b></font>"
   ]
  },
  {
   "cell_type": "code",
   "execution_count": null,
   "metadata": {},
   "outputs": [],
   "source": [
    "!gdalbuildvrt -separate raster_stack.vrt tiffs/*_VV.tiff\n",
    "image_file_VV = \"raster_stack.vrt\"\n",
    "!gdalbuildvrt -separate raster_stack_VH.vrt tiffs/*_VH.tiff\n",
    "image_file_VH = \"raster_stack_VH.vrt\""
   ]
  },
  {
   "cell_type": "markdown",
   "metadata": {},
   "source": [
    "<font face=\"Calibri\" size=\"3\"><b>Create an index of timedelta64 data with Pandas:</b></font>"
   ]
  },
  {
   "cell_type": "code",
   "execution_count": null,
   "metadata": {},
   "outputs": [],
   "source": [
    "!ls tiffs/*_VV.tiff | sort | cut -c 7-21 > raster_stack_VV.dates\n",
    "datefile_VV = 'raster_stack_VV.dates'\n",
    "dates_VV = open(datefile_VV).readlines()\n",
    "tindex_VV = pd.DatetimeIndex(dates_VV)\n",
    "\n",
    "!ls tiffs/*_VH.tiff | sort | cut -c 7-21 > raster_stack_VH.dates\n",
    "datefile_VH = 'raster_stack_VH.dates'\n",
    "dates_VH = open(datefile_VH).readlines()\n",
    "tindex_VH = pd.DatetimeIndex(dates_VH)"
   ]
  },
  {
   "cell_type": "markdown",
   "metadata": {},
   "source": [
    "<br>\n",
    "<hr>\n",
    "<font face=\"Calibri\" size=\"5\"> <b> 3. Assess Image Acquisition Dates </b> </font> \n",
    "\n",
    "<font face=\"Calibri\" size=\"3\"> Before we start analyzing the available image data, we want to examine the content of our data stack. From the date index, we <b>make and print a lookup table for band numbers and dates:</b></font>"
   ]
  },
  {
   "cell_type": "code",
   "execution_count": null,
   "metadata": {},
   "outputs": [],
   "source": [
    "stindex=[]\n",
    "for i in [datefile_VV,datefile_VH]:\n",
    "    sdates=open(i).readlines()\n",
    "    stindex.append(pd.DatetimeIndex(sdates))\n",
    "    j=1\n",
    "    print('\\nBands and dates for',i.strip('.dates'))\n",
    "    for k in stindex[-1]:\n",
    "        print(\"{:4d} {}\".format(j, k.date()),end=' ')\n",
    "        j+=1\n",
    "        if j%5==1: print()"
   ]
  },
  {
   "cell_type": "markdown",
   "metadata": {},
   "source": [
    "<hr>\n",
    "<br>\n",
    "<font face=\"Calibri\" size=\"5\"> <b> 4. Create Minimum Image to Identify Likely Areas of Deforestation </b> </font>\n",
    "\n",
    "<font face=\"Calibri\" size=\"4\"> <b> 4.1 Load Time Series Stack </b> </font>\n",
    "\n",
    "<b>First, we load the raster stack into memory and calculate the minimum backscatter in the time series:</b>\n",
    "</font> "
   ]
  },
  {
   "cell_type": "code",
   "execution_count": null,
   "metadata": {},
   "outputs": [],
   "source": [
    "img = gdal.Open(image_file_VV)\n",
    "band = img.GetRasterBand(1)\n",
    "raster0 = band.ReadAsArray()\n",
    "band_number = 0 # Needed for updates\n",
    "rasterstack_VV = img.ReadAsArray()"
   ]
  },
  {
   "cell_type": "markdown",
   "metadata": {},
   "source": [
    "<font face=\"Calibri\" size=\"3\"> To <b>explore the image (number of bands, pixels, lines),</b> you can use several functions associated with the image object (img) created in the last code cell: </font>"
   ]
  },
  {
   "cell_type": "code",
   "execution_count": null,
   "metadata": {},
   "outputs": [],
   "source": [
    "print(img.RasterCount) # Number of Bands\n",
    "print(img.RasterXSize) # Number of Pixels\n",
    "print(img.RasterYSize) # Number of Lines"
   ]
  },
  {
   "cell_type": "markdown",
   "metadata": {},
   "source": [
    "<font face=\"Calibri\" size=\"3\"> The following line <b>calculates the minimum backscatter per pixel</b> across the time series: </font>"
   ]
  },
  {
   "cell_type": "code",
   "execution_count": null,
   "metadata": {},
   "outputs": [],
   "source": [
    "db_mean = np.min(rasterstack_VV, axis=0)"
   ]
  },
  {
   "cell_type": "markdown",
   "metadata": {},
   "source": [
    "<br>\n",
    "<font face=\"Calibri\" size=\"4\"> <b> 4.2 Visualize the Minimum Image and Select a Coordinate for a Time Series</b> </font>\n",
    "\n",
    "<font face=\"Calibri\" size=\"3\"> <b>Write a class to create an interactive plot from which we can select interesting image locations for a time series.</b></font>"
   ]
  },
  {
   "cell_type": "code",
   "execution_count": null,
   "metadata": {},
   "outputs": [],
   "source": [
    "class pixelPicker:\n",
    "    def __init__(self, image, width, height):\n",
    "        self.x = None\n",
    "        self.y = None\n",
    "        self.fig = plt.figure(figsize=(width, height))\n",
    "        self.ax = self.fig.add_subplot(111, visible=False)\n",
    "        self.rect = patches.Rectangle(\n",
    "            (0.0, 0.0), width, height, \n",
    "            fill=False, clip_on=False, visible=False\n",
    "        )\n",
    "       \n",
    "        self.rect_patch = self.ax.add_patch(self.rect)\n",
    "        self.cid = self.rect_patch.figure.canvas.mpl_connect('button_press_event', \n",
    "                                                             self)\n",
    "        self.image = image\n",
    "        self.plot = self.gray_plot(self.image, fig=self.fig, return_ax=True)\n",
    "        self.plot.set_title('Select a Point of Interest')\n",
    "        \n",
    "        \n",
    "    def gray_plot(self, image, vmin=None, vmax=None, fig=None, return_ax=False):\n",
    "        '''\n",
    "        Plots an image in grayscale.\n",
    "        Parameters:\n",
    "        - image: 2D array of raster values\n",
    "        - vmin: Minimum value for colormap\n",
    "        - vmax: Maximum value for colormap\n",
    "        - return_ax: Option to return plot axis\n",
    "        '''\n",
    "        if vmin is None:\n",
    "            vmin = np.nanpercentile(self.image, 1)\n",
    "        if vmax is None:\n",
    "            vmax = np.nanpercentile(self.image, 99)\n",
    "        #if fig is None:\n",
    "        #   my_fig = plt.figure() \n",
    "        ax = fig.add_axes([0.1,0.1,0.8,0.8])\n",
    "        ax.imshow(image, cmap=plt.cm.gist_gray, vmin=vmin, vmax=vmax)\n",
    "        if return_ax:\n",
    "            return(ax)\n",
    "        \n",
    "    \n",
    "    def __call__(self, event):\n",
    "        print('click', event)\n",
    "        self.x = event.xdata\n",
    "        self.y = event.ydata\n",
    "        for pnt in self.plot.get_lines():\n",
    "            pnt.remove()\n",
    "        plt.plot(self.x, self.y, 'ro')"
   ]
  },
  {
   "cell_type": "markdown",
   "metadata": {},
   "source": [
    "<font face=\"Calibri\" size=\"3\"> Now we are ready to plot the minimum image. <b>Click a point interest for which you want to analyze radar brightness over time</b>: </font>"
   ]
  },
  {
   "cell_type": "code",
   "execution_count": null,
   "metadata": {},
   "outputs": [],
   "source": [
    "# Large plot of multi-temporal average of VV values to inspect pixel values\n",
    "fig_xsize = 7.5\n",
    "fig_ysize = 7.5\n",
    "my_plot = pixelPicker(db_mean, fig_xsize, fig_ysize)"
   ]
  },
  {
   "cell_type": "markdown",
   "metadata": {},
   "source": [
    "<font face=\"Calibri\" size=\"3\"><b>Save the selected coordinates</b>: </font>"
   ]
  },
  {
   "cell_type": "code",
   "execution_count": null,
   "metadata": {},
   "outputs": [],
   "source": [
    "sarloc = (ceil(my_plot.x), ceil(my_plot.y))\n",
    "print(sarloc)"
   ]
  },
  {
   "cell_type": "markdown",
   "metadata": {},
   "source": [
    "<br>\n",
    "<font face=\"Calibri\" size=\"5\"> <b> 5. Plot SAR Brightness Time Series at Point Locations </b> </font>\n",
    "\n",
    "<font face=\"Calibri\" size=\"4\"> <b> 5.1 SAR Brightness Time Series at Point Locations </b> </font>\n",
    "\n",
    "<font face=\"Calibri\" size=\"3\"> We will pick a pixel location identified in the SAR image above and plot the time series for this identified point. By focusing on image locations undergoing deforestation, we should see the changes in the radar cross section related to the deforestation event.\n",
    "    \n",
    "First, for processing of the imagery in this notebook we <b>generate a list of image handles and retrieve projection and georeferencing information.</b></font> "
   ]
  },
  {
   "cell_type": "code",
   "execution_count": null,
   "metadata": {},
   "outputs": [],
   "source": [
    "imagelist=[image_file_VV, image_file_VH]\n",
    "geotrans=[]\n",
    "proj=[]\n",
    "img_handle=[]\n",
    "xsize=[]\n",
    "ysize=[]\n",
    "bands=[]\n",
    "for i in imagelist:\n",
    "    img_handle.append(gdal.Open(i))\n",
    "    geotrans.append(img_handle[-1].GetGeoTransform())\n",
    "    proj.append(img_handle[-1].GetProjection())\n",
    "    xsize.append(img_handle[-1].RasterXSize)\n",
    "    ysize.append(img_handle[-1].RasterYSize)\n",
    "    bands.append(img_handle[-1].RasterCount)\n",
    "# for i in proj:\n",
    "#     print(i)\n",
    "# for i in geotrans:\n",
    "#     print(i)\n",
    "# for i in zip(['C-VV','C-VH','NDVI','B3','B4','B5'],bands,ysize,xsize):\n",
    "#     print(i)"
   ]
  },
  {
   "cell_type": "markdown",
   "metadata": {},
   "source": [
    "<font face=\"Calibri\" size=\"3\"> Now, let's <b>pick a 5x5 image area around a center pixel defined in variable <i>sarloc</i></b>...</font>"
   ]
  },
  {
   "cell_type": "code",
   "execution_count": null,
   "metadata": {},
   "outputs": [],
   "source": [
    "ref_x=geotrans[0][0]+sarloc[0]*geotrans[0][1]\n",
    "ref_y=geotrans[0][3]+sarloc[1]*geotrans[0][5]\n",
    "print('UTM Coordinates      ',ref_x, ref_y)\n",
    "print('SAR pixel/line       ',sarloc[0], sarloc[1])\n",
    "subset_sentinel=(sarloc[0], sarloc[1], 5, 5)"
   ]
  },
  {
   "cell_type": "markdown",
   "metadata": {},
   "source": [
    "<font face=\"Calibri\" size=\"3\">... and <b>extract the time series</b> for this small area around the selected center pixel:</font> "
   ]
  },
  {
   "cell_type": "code",
   "execution_count": null,
   "metadata": {},
   "outputs": [],
   "source": [
    "s_ts=[]\n",
    "for idx in (0, 1):\n",
    "    means=[]\n",
    "    for i in range(bands[idx]):\n",
    "        rs=img_handle[idx].GetRasterBand(i+1).ReadAsArray(*subset_sentinel)\n",
    "        rs_means_pwr = np.mean(rs)\n",
    "        rs_means_dB = 10.*np.log10(rs_means_pwr)\n",
    "        means.append(rs_means_dB)\n",
    "    s_ts.append(pd.Series(means,index=stindex[idx]))\n",
    "        \n",
    "means = []"
   ]
  },
  {
   "cell_type": "markdown",
   "metadata": {},
   "source": [
    "<font face=\"Calibri\" size=\"3\"><b>Plot the extracted time series</b> for VV and VH polarizations:</font> "
   ]
  },
  {
   "cell_type": "code",
   "execution_count": null,
   "metadata": {},
   "outputs": [],
   "source": [
    "fig, ax = plt.subplots(1, 1, figsize=(8, 4))\n",
    "\n",
    "s_ts[0].plot(ax=ax, color='red', label='C-VV')#,xlim=(min(min(stindex),min(stindex[0])),\n",
    "                                             #     max(max(stindex),max(stindex[0]))))\n",
    "s_ts[1].plot(ax=ax, color='blue', label='C-VH')\n",
    "ax.set_xlabel('Date')\n",
    "ax.set_ylabel('Sentinel-1 $\\gamma^o$ [dB]')\n",
    "\n",
    "ax.set_title('Sentinel-1 Backscatter')\n",
    "plt.grid()\n",
    "_ = ax.legend(loc='best')\n",
    "_ = fig.suptitle('Time Series Profiles of Sentinel-1 SAR Backscatter')\n",
    "figname = f\"RCSTimeSeries-{ref_x:.0f}_{ref_y:.0f}.png\"\n",
    "plt.savefig(figname, dpi=300, transparent='true')"
   ]
  },
  {
   "cell_type": "markdown",
   "metadata": {},
   "source": [
    "<br>\n",
    "<div class=\"alert alert-success\">\n",
    "<font face=\"Calibri\" size=\"5\"> <b> <font color='rgba(200,0,0,0.2)'> <u>EXERCISE</u>:  </font> Explore Time Series at Different Point Locations </b> </font>\n",
    "\n",
    "<font face=\"Calibri\" size=\"3\"> Explore this data set some more by picking different point coordinates to explore. Use the time series animation together with the minimum plot to identify interesting areas and explore the radar brightness history. Discuss with your colleagues what you find.\n",
    "</font>\n",
    "</div>\n",
    "<br>\n",
    "<hr>"
   ]
  },
  {
   "cell_type": "markdown",
   "metadata": {},
   "source": [
    "<font face=\"Calibri\" size=\"2\"> <i>Exercise3B-ExploreSARTimeSeriesDeforestation-Copy1.ipynb - Version 1.2.1 - Sep 2020 </i>\n",
    "    <br>\n",
    "        <i>Version Changes:</i>\n",
    "    <br>\n",
    "    <i>- remove unecessary reliances on asf_notebook, use os functions</i>\n",
    "        <br>\n",
    "    <i>- add \"--no-sign-request --region us-east-1\" to aws s3 cp from public bucket</i>\n",
    "    \n",
    "</font>\n",
    "</font>"
   ]
  },
  {
   "cell_type": "code",
   "execution_count": null,
   "metadata": {},
   "outputs": [],
   "source": []
  }
 ],
 "metadata": {
  "kernelspec": {
   "display_name": "Python 3",
   "language": "python",
   "name": "python3"
  },
  "language_info": {
   "codemirror_mode": {
    "name": "ipython",
    "version": 3
   },
   "file_extension": ".py",
   "mimetype": "text/x-python",
   "name": "python",
   "nbconvert_exporter": "python",
   "pygments_lexer": "ipython3",
   "version": "3.7.6"
  }
 },
 "nbformat": 4,
 "nbformat_minor": 2
}
